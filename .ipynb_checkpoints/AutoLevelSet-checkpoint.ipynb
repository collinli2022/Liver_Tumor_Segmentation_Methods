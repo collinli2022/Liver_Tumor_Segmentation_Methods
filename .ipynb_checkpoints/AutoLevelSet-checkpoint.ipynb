{
 "cells": [
  {
   "cell_type": "markdown",
   "metadata": {},
   "source": [
    "# Auto Level Set Liver Tumor Segmentation"
   ]
  },
  {
   "cell_type": "code",
   "execution_count": 1,
   "metadata": {},
   "outputs": [],
   "source": [
    "import math\n",
    "import os\n",
    "import sys\n",
    "\n",
    "import cv2\n",
    "import matplotlib.pyplot as plt\n",
    "import nibabel as nib\n",
    "import numpy as np\n",
    "import pandas as pd\n",
    "from tqdm.notebook import tqdm"
   ]
  },
  {
   "cell_type": "code",
   "execution_count": 10,
   "metadata": {},
   "outputs": [],
   "source": [
    "# Main Folder Dir\n",
    "fp = '/data/Collin/Liver_Tumor_Segmentation_Methods/ISMRM_AutoLevelSet/'\n",
    "#     C:\\\\Users\\\\colli\\\\Desktop\\\\lesionInterfaces\\\\\\ISMRM_AutoLevelSet\\\\WC-IRB1308014251_008\n",
    "\n",
    "# Utility variables\n",
    "splitter = '/'\n",
    "\n",
    "# Pandas dataframe to store everything\n",
    "\"\"\"\n",
    "Shorthand meanings\n",
    "    - 'vol' = original image volume\n",
    "    - 'GT' = ground truth segmentation\n",
    "    - 'MS' = Manual Segmentation\n",
    "    - 'SC' = Smart Click Segmentation\n",
    "    - 'LS' = Level Set Segmentation\n",
    "\"\"\"\n",
    "\n",
    "# Maping file names to respective categories\n",
    "file_map = {\n",
    "    'vol' : 'dicom_vol',\n",
    "    'LM' : 'pred_vol',\n",
    "    'GT' : 'GT_liver_cyst_vol',\n",
    "    'MS' : 'DR_liver_cyst_vol',\n",
    "    'LS' : 'CL_liver_cyst_level_set_vol'} # DR_liver_cyst_smart_click_vol\n",
    "\n",
    "inv_file_map = {v: k for k, v in file_map.items()}"
   ]
  },
  {
   "cell_type": "markdown",
   "metadata": {},
   "source": [
    "### Utils"
   ]
  },
  {
   "cell_type": "code",
   "execution_count": 11,
   "metadata": {},
   "outputs": [],
   "source": [
    "def openImage(fp):\n",
    "    \"\"\"\n",
    "    Open up nifty image and convert to numpy arrays\n",
    "\n",
    "    Paramaters\n",
    "    ----------\n",
    "    fp: string\n",
    "        The file path to the nifty image\n",
    "\n",
    "    Returns\n",
    "    ----------\n",
    "    nii: nibabel image object\n",
    "    img: numpy array\n",
    "    vol: volume of image in cm³\n",
    "    \"\"\"\n",
    "    \n",
    "    if (not fp) or ('nii' not in fp):\n",
    "        return\n",
    "\n",
    "    nii = nib.load(fp)\n",
    "    sx, sy, sz = nii.header.get_zooms()\n",
    "    \n",
    "    return nii, nii.get_fdata(), sx*sy*sz/10\n",
    "\n",
    "def organizeFiles(fp):\n",
    "    \"\"\"\n",
    "    Organize nifty files into array\n",
    "    \n",
    "    Parameters\n",
    "    ----------\n",
    "    fp: string\n",
    "        The file path to the folder containing nifty images\n",
    "\n",
    "    Returns\n",
    "    ----------\n",
    "    arr: array of file paths to numpy images\n",
    "    \"\"\"\n",
    "\n",
    "    arr = []\n",
    "    for f in os.listdir(fp):\n",
    "        if 'nii' in f:\n",
    "            arr.append(os.path.join(fp, f))\n",
    "    return arr\n",
    "\n",
    "def organizeFolders(fp):\n",
    "    \"\"\"\n",
    "    Organize folders into array\n",
    "    \n",
    "    Paramaters\n",
    "    ----------\n",
    "    fp: string\n",
    "        The file path to the folder containing nifty images\n",
    "\n",
    "    Returns\n",
    "    ----------\n",
    "    arr: array of file paths to folders\n",
    "    \"\"\"\n",
    "\n",
    "    print('DEBUG: list directories -', os.listdir(fp))\n",
    "\n",
    "    arr = []\n",
    "    for f in os.listdir(fp):\n",
    "        if os.path.isdir(os.path.join(fp, f)):\n",
    "            arr.append(os.path.join(fp, f))\n",
    "    return arr\n"
   ]
  },
  {
   "cell_type": "markdown",
   "metadata": {},
   "source": [
    "### [Chan-Vese Segmentation](https://scikit-image.org/docs/dev/api/skimage.segmentation.html#skimage.segmentation.chan_vese) method - This version is written by Hang Zhang."
   ]
  },
  {
   "cell_type": "code",
   "execution_count": 12,
   "metadata": {},
   "outputs": [],
   "source": [
    "# Initial values: mu, nu, max_iter, epison, step = 1, 0.2, 30, 0.1, 0.1\n",
    "\n",
    "def normMinMax(img, msk=None, p_val=None, ll=0, rr=255):\n",
    "    \"\"\"\n",
    "    Min-Max Normalization\n",
    "\n",
    "    Parameters\n",
    "    ----------\n",
    "    img: numpy array\n",
    "    msk: numpy array\n",
    "    p_val: float\n",
    "    ll: float\n",
    "    rr: float\n",
    "\n",
    "    Returns\n",
    "    ----------\n",
    "    img: numpy array\n",
    "    \"\"\"\n",
    "\n",
    "    new_img = np.zeros(img.shape)\n",
    "    if msk is not None:\n",
    "        min_val = np.min(img[msk > 0])\n",
    "        max_val = np.max(img[msk > 0])\n",
    "        new_img = (img - min_val) / (max_val - min_val) * (rr-ll) + ll\n",
    "    else:\n",
    "        min_val = np.min(img)\n",
    "        max_val = np.max(img)\n",
    "        new_img = ( (img - min_val) / (max_val - min_val) ) * (rr-ll) + ll\n",
    "\n",
    "    if p_val is not None:\n",
    "        p_val = (p_val - min_val) / (max_val - min_val) * (rr-ll) + ll\n",
    "\n",
    "        return new_img, p_val\n",
    "\n",
    "    return new_img\n",
    "\n",
    "def argwhere_app(a): # @Jörn Hees's soln: https://stackoverflow.com/questions/48987774/how-to-crop-a-numpy-2d-array-to-non-zero-values\n",
    "    coords = np.argwhere(a)\n",
    "    x_min, y_min = coords.min(axis=0)\n",
    "    x_max, y_max = coords.max(axis=0)\n",
    "    return x_min, x_max+1, y_min, y_max+1\n",
    "\n",
    "def iterateChanVese(lsf, img, mu, nu, epison, step):\n",
    "    \"\"\"\n",
    "    Iterate Chan-Vese algorithm\n",
    "    \n",
    "    Parameters\n",
    "    ----------\n",
    "    lsf: numpy array\n",
    "    img: numpy array\n",
    "    mu: float\n",
    "    nu: float\n",
    "    epison: float\n",
    "    step: float\n",
    "\n",
    "    Returns\n",
    "    ----------\n",
    "    lsf: numpy array segmentation\n",
    "    \"\"\"\n",
    "\n",
    "    Drc = (epison / math.pi) / (epison*epison + lsf*lsf)\n",
    "    Hea = 0.5*(1 + (2 / math.pi) * np.arctan(lsf/epison))\n",
    "    Iy, Ix = np.gradient(lsf)\n",
    "    s = np.sqrt(Ix*Ix+Iy*Iy)\n",
    "    Nx = Ix / (s+1e-6)\n",
    "    Ny = Iy / (s+1e-6)\n",
    "    Mxx, Nxx = np.gradient(Nx)\n",
    "    Nyy, Myy = np.gradient(Ny)\n",
    "    cur = Nxx + Nyy\n",
    "    Length = nu*Drc*cur\n",
    "\n",
    "    Lap = cv2.Laplacian(lsf, -1)\n",
    "    Penalty = mu*(Lap - cur)\n",
    "\n",
    "    s1 = Hea*img\n",
    "    s2 = (1-Hea)*img\n",
    "    s3 = (1-Hea)\n",
    "    C1 = (s1).sum() / (Hea).sum()\n",
    "    C2 = (s2).sum() / (s3).sum()\n",
    "    CVterm = Drc*(-1 * (img - C1)*(img - C1) + 1 * (img - C2)*(img - C2))\n",
    "\n",
    "    lsf = lsf + step*(Length + Penalty + CVterm)\n",
    "\n",
    "    return lsf\n",
    "\n",
    "def runChanVese2D(img, lsf, mu=1, nu=0.2, max_iter=30, epison=0.1, step=0.1):\n",
    "    \"\"\"\"\n",
    "    Parameters\n",
    "    ----------\n",
    "    img: numpy array\n",
    "    lsf: numpy array\n",
    "    mu: float\n",
    "    nu: float\n",
    "    max_iter: int\n",
    "    epison: float\n",
    "    step: float\n",
    "\n",
    "    Returns\n",
    "    ----------\n",
    "    lsf: numpy array segmentation\n",
    "    \"\"\"\n",
    "\n",
    "    for _ in range(1, max_iter):\n",
    "        lsf = iterateChanVese(lsf, img, mu, nu, epison, step)\n",
    "        # showImgContour(lsf, img)\n",
    "\n",
    "    return lsf\n",
    "\n",
    "def runChanVerse(img, msk):\n",
    "    \"\"\"\n",
    "    Run Chan-Vese algorithm on 3D image\n",
    "\n",
    "    Parameters\n",
    "    ----------\n",
    "    img: numpy array\n",
    "        3D image\n",
    "        saggital, coronal, *axial*\n",
    "        CRUCIAL TO HAVE Axial as last dimension\n",
    "\n",
    "    Returns\n",
    "    ----------\n",
    "    lsf: numpy array segmentation\n",
    "    \"\"\"\n",
    "\n",
    "    # TODO: THIS CAN BE OPTIMIZED TO BE MORE EFFICIENT\n",
    "    sb_x, sb_y, sb_w, sb_h = 0, 0, img.shape[1]*2, img.shape[0]*2 # target segmentation shape\n",
    "    ss_x, ss_y, ss_w, ss_h = 0, 0, 4, 4 # initial lsf section\n",
    "\n",
    "    # Initialize segmentation mask\n",
    "    new_msk = np.zeros(img.shape)\n",
    "\n",
    "    # Initialize inital lsf\n",
    "    lsf = np.ones((img.shape[0], img.shape[1]), img.dtype)\n",
    "    lsf[ss_x:ss_x+ss_w, ss_y:ss_y+ss_h] = -1\n",
    "    lsf = -lsf\n",
    "    lsf = lsf[sb_x:sb_x+sb_w, sb_y:sb_y+sb_h]\n",
    "\n",
    "    # Run Chan-Vese algorithm on each axial slice\n",
    "    for i in tqdm(range(0, img.shape[2])):\n",
    "\n",
    "        axial_img = img[:, :, i]\n",
    "        axial_msk = msk[:, :, i]\n",
    "\n",
    "        # Check if liver exists on this slide\n",
    "        if (axial_msk > 0).sum() < 1:\n",
    "            continue\n",
    "\n",
    "        norm_img = normMinMax(axial_img)\n",
    "\n",
    "        temp_msk = runChanVese2D(norm_img, lsf)\n",
    "\n",
    "        new_msk[:, :, i] = (temp_msk >= 0).astype(float)\n",
    "\n",
    "    return new_msk"
   ]
  },
  {
   "cell_type": "markdown",
   "metadata": {},
   "source": [
    "### Iterate through files in a directory"
   ]
  },
  {
   "cell_type": "code",
   "execution_count": 13,
   "metadata": {},
   "outputs": [
    {
     "name": "stdout",
     "output_type": "stream",
     "text": [
      "DEBUG: list directories - ['WC-IRB1308014251_031', 'WC-IRB1308014251_026', 'WC-IRB1308014251_033', 'WC-IRB1308014251_082_Visit1', 'WC-IRB1308014251_025', 'WC-IRB1308014251_020', 'WC-IRB1308014251_001', 'WC-IRB1308014251_004', 'WC-IRB1308014251_011', 'WC-IRB1308014251_057', 'WC-IRB1308014251_005', 'WC-IRB1308014251_039_Visit1', 'WC-IRB1308014251_034', 'WC-IRB1308014251_030', 'WC-IRB1308014251_044', 'WC-IRB1308014251_042', 'WC-IRB1308014251_066_Visit2', 'WC-IRB1308014251_015', 'WC-IRB1308014251_006', 'WC-IRB1308014251_059', 'WC-IRB1308014251_066_Visit1', 'WC-IRB1308014251_040', 'WC-IRB1308014251_039_Visit2', 'WC-IRB1308014251_046', 'WC-IRB1308014251_016', 'WC-IRB1308014251_083_Visit2', 'WC-IRB1308014251_058', 'WC-IRB1308014251_024_Visit2', 'WC-IRB1308014251_008', 'WC-IRB1308014251_018', 'WC-IRB1308014251_032', 'WC-IRB1308014251_003', 'WC-IRB1308014251_055', 'WC-IRB1308014251_007', 'WC-IRB1308014251_061', 'WC-IRB1308014251_071', 'WC-IRB1308014251_017', 'WC-IRB1308014251_035', 'WC-IRB1308014251_051', 'WC-IRB1308014251_082_Visit2']\n",
      "DEBUG: patient id - /data2/collin_data/inference_output/WC-IRB1308014251_031\tDEBUG: Segmenting /data2/collin_data/inference_output/WC-IRB1308014251_031\n"
     ]
    },
    {
     "data": {
      "application/vnd.jupyter.widget-view+json": {
       "model_id": "9fc1c08ec14e418eb3228f975fd2a83e",
       "version_major": 2,
       "version_minor": 0
      },
      "text/plain": [
       "  0%|          | 0/64 [00:00<?, ?it/s]"
      ]
     },
     "metadata": {},
     "output_type": "display_data"
    },
    {
     "ename": "PermissionError",
     "evalue": "[Errno 13] Permission denied: '/data2/collin_data/inference_output/WC-IRB1308014251_031/CL_liver_cyst_level_set_vol.nii.gz'",
     "output_type": "error",
     "traceback": [
      "\u001b[0;31m---------------------------------------------------------------------------\u001b[0m",
      "\u001b[0;31mPermissionError\u001b[0m                           Traceback (most recent call last)",
      "\u001b[0;32m<ipython-input-13-c552c3646cfe>\u001b[0m in \u001b[0;36m<module>\u001b[0;34m()\u001b[0m\n\u001b[1;32m     38\u001b[0m         \u001b[0mnew_msk_fp\u001b[0m \u001b[0;34m=\u001b[0m \u001b[0mos\u001b[0m\u001b[0;34m.\u001b[0m\u001b[0mpath\u001b[0m\u001b[0;34m.\u001b[0m\u001b[0mjoin\u001b[0m\u001b[0;34m(\u001b[0m\u001b[0mi\u001b[0m\u001b[0;34m,\u001b[0m \u001b[0mfile_map\u001b[0m\u001b[0;34m[\u001b[0m\u001b[0;34m'LS'\u001b[0m\u001b[0;34m]\u001b[0m \u001b[0;34m+\u001b[0m \u001b[0;34m'.nii.gz'\u001b[0m\u001b[0;34m)\u001b[0m\u001b[0;34m\u001b[0m\u001b[0;34m\u001b[0m\u001b[0m\n\u001b[1;32m     39\u001b[0m         \u001b[0mnew_msk_img\u001b[0m \u001b[0;34m=\u001b[0m \u001b[0mnib\u001b[0m\u001b[0;34m.\u001b[0m\u001b[0mNifti1Image\u001b[0m\u001b[0;34m(\u001b[0m\u001b[0mnew_msk\u001b[0m\u001b[0;34m,\u001b[0m \u001b[0mimg\u001b[0m\u001b[0;34m[\u001b[0m\u001b[0;36m0\u001b[0m\u001b[0;34m]\u001b[0m\u001b[0;34m.\u001b[0m\u001b[0maffine\u001b[0m\u001b[0;34m)\u001b[0m\u001b[0;34m\u001b[0m\u001b[0;34m\u001b[0m\u001b[0m\n\u001b[0;32m---> 40\u001b[0;31m         \u001b[0mnib\u001b[0m\u001b[0;34m.\u001b[0m\u001b[0msave\u001b[0m\u001b[0;34m(\u001b[0m\u001b[0mnew_msk_img\u001b[0m\u001b[0;34m,\u001b[0m \u001b[0mnew_msk_fp\u001b[0m\u001b[0;34m)\u001b[0m\u001b[0;34m\u001b[0m\u001b[0;34m\u001b[0m\u001b[0m\n\u001b[0m\u001b[1;32m     41\u001b[0m     \u001b[0;32melse\u001b[0m\u001b[0;34m:\u001b[0m\u001b[0;34m\u001b[0m\u001b[0;34m\u001b[0m\u001b[0m\n\u001b[1;32m     42\u001b[0m         \u001b[0mprint\u001b[0m\u001b[0;34m(\u001b[0m\u001b[0;34m'ERROR: image or mask not found for'\u001b[0m\u001b[0;34m,\u001b[0m \u001b[0mpatient_id\u001b[0m\u001b[0;34m)\u001b[0m\u001b[0;34m\u001b[0m\u001b[0;34m\u001b[0m\u001b[0m\n",
      "\u001b[0;32m/usr/local/lib/python3.6/dist-packages/nibabel/loadsave.py\u001b[0m in \u001b[0;36msave\u001b[0;34m(img, filename)\u001b[0m\n\u001b[1;32m     97\u001b[0m     \u001b[0;31m# Save the type as expected\u001b[0m\u001b[0;34m\u001b[0m\u001b[0;34m\u001b[0m\u001b[0;34m\u001b[0m\u001b[0m\n\u001b[1;32m     98\u001b[0m     \u001b[0;32mtry\u001b[0m\u001b[0;34m:\u001b[0m\u001b[0;34m\u001b[0m\u001b[0;34m\u001b[0m\u001b[0m\n\u001b[0;32m---> 99\u001b[0;31m         \u001b[0mimg\u001b[0m\u001b[0;34m.\u001b[0m\u001b[0mto_filename\u001b[0m\u001b[0;34m(\u001b[0m\u001b[0mfilename\u001b[0m\u001b[0;34m)\u001b[0m\u001b[0;34m\u001b[0m\u001b[0;34m\u001b[0m\u001b[0m\n\u001b[0m\u001b[1;32m    100\u001b[0m     \u001b[0;32mexcept\u001b[0m \u001b[0mImageFileError\u001b[0m\u001b[0;34m:\u001b[0m\u001b[0;34m\u001b[0m\u001b[0;34m\u001b[0m\u001b[0m\n\u001b[1;32m    101\u001b[0m         \u001b[0;32mpass\u001b[0m\u001b[0;34m\u001b[0m\u001b[0;34m\u001b[0m\u001b[0m\n",
      "\u001b[0;32m/usr/local/lib/python3.6/dist-packages/nibabel/filebasedimages.py\u001b[0m in \u001b[0;36mto_filename\u001b[0;34m(self, filename)\u001b[0m\n\u001b[1;32m    332\u001b[0m         '''\n\u001b[1;32m    333\u001b[0m         \u001b[0mself\u001b[0m\u001b[0;34m.\u001b[0m\u001b[0mfile_map\u001b[0m \u001b[0;34m=\u001b[0m \u001b[0mself\u001b[0m\u001b[0;34m.\u001b[0m\u001b[0mfilespec_to_file_map\u001b[0m\u001b[0;34m(\u001b[0m\u001b[0mfilename\u001b[0m\u001b[0;34m)\u001b[0m\u001b[0;34m\u001b[0m\u001b[0;34m\u001b[0m\u001b[0m\n\u001b[0;32m--> 334\u001b[0;31m         \u001b[0mself\u001b[0m\u001b[0;34m.\u001b[0m\u001b[0mto_file_map\u001b[0m\u001b[0;34m(\u001b[0m\u001b[0;34m)\u001b[0m\u001b[0;34m\u001b[0m\u001b[0;34m\u001b[0m\u001b[0m\n\u001b[0m\u001b[1;32m    335\u001b[0m \u001b[0;34m\u001b[0m\u001b[0m\n\u001b[1;32m    336\u001b[0m     @deprecate_with_version('to_filespec method is deprecated.\\n'\n",
      "\u001b[0;32m/usr/local/lib/python3.6/dist-packages/nibabel/analyze.py\u001b[0m in \u001b[0;36mto_file_map\u001b[0;34m(self, file_map)\u001b[0m\n\u001b[1;32m   1074\u001b[0m         \u001b[0;31m# file\u001b[0m\u001b[0;34m\u001b[0m\u001b[0;34m\u001b[0m\u001b[0;34m\u001b[0m\u001b[0m\n\u001b[1;32m   1075\u001b[0m         \u001b[0mhdr_img_same\u001b[0m \u001b[0;34m=\u001b[0m \u001b[0mhdr_fh\u001b[0m\u001b[0;34m.\u001b[0m\u001b[0msame_file_as\u001b[0m\u001b[0;34m(\u001b[0m\u001b[0mimg_fh\u001b[0m\u001b[0;34m)\u001b[0m\u001b[0;34m\u001b[0m\u001b[0;34m\u001b[0m\u001b[0m\n\u001b[0;32m-> 1076\u001b[0;31m         \u001b[0mhdrf\u001b[0m \u001b[0;34m=\u001b[0m \u001b[0mhdr_fh\u001b[0m\u001b[0;34m.\u001b[0m\u001b[0mget_prepare_fileobj\u001b[0m\u001b[0;34m(\u001b[0m\u001b[0mmode\u001b[0m\u001b[0;34m=\u001b[0m\u001b[0;34m'wb'\u001b[0m\u001b[0;34m)\u001b[0m\u001b[0;34m\u001b[0m\u001b[0;34m\u001b[0m\u001b[0m\n\u001b[0m\u001b[1;32m   1077\u001b[0m         \u001b[0;32mif\u001b[0m \u001b[0mhdr_img_same\u001b[0m\u001b[0;34m:\u001b[0m\u001b[0;34m\u001b[0m\u001b[0;34m\u001b[0m\u001b[0m\n\u001b[1;32m   1078\u001b[0m             \u001b[0mimgf\u001b[0m \u001b[0;34m=\u001b[0m \u001b[0mhdrf\u001b[0m\u001b[0;34m\u001b[0m\u001b[0;34m\u001b[0m\u001b[0m\n",
      "\u001b[0;32m/usr/local/lib/python3.6/dist-packages/nibabel/fileholders.py\u001b[0m in \u001b[0;36mget_prepare_fileobj\u001b[0;34m(self, *args, **kwargs)\u001b[0m\n\u001b[1;32m     68\u001b[0m             \u001b[0mobj\u001b[0m\u001b[0;34m.\u001b[0m\u001b[0mseek\u001b[0m\u001b[0;34m(\u001b[0m\u001b[0mself\u001b[0m\u001b[0;34m.\u001b[0m\u001b[0mpos\u001b[0m\u001b[0;34m)\u001b[0m\u001b[0;34m\u001b[0m\u001b[0;34m\u001b[0m\u001b[0m\n\u001b[1;32m     69\u001b[0m         \u001b[0;32melif\u001b[0m \u001b[0mself\u001b[0m\u001b[0;34m.\u001b[0m\u001b[0mfilename\u001b[0m \u001b[0;32mis\u001b[0m \u001b[0;32mnot\u001b[0m \u001b[0;32mNone\u001b[0m\u001b[0;34m:\u001b[0m\u001b[0;34m\u001b[0m\u001b[0;34m\u001b[0m\u001b[0m\n\u001b[0;32m---> 70\u001b[0;31m             \u001b[0mobj\u001b[0m \u001b[0;34m=\u001b[0m \u001b[0mImageOpener\u001b[0m\u001b[0;34m(\u001b[0m\u001b[0mself\u001b[0m\u001b[0;34m.\u001b[0m\u001b[0mfilename\u001b[0m\u001b[0;34m,\u001b[0m \u001b[0;34m*\u001b[0m\u001b[0margs\u001b[0m\u001b[0;34m,\u001b[0m \u001b[0;34m**\u001b[0m\u001b[0mkwargs\u001b[0m\u001b[0;34m)\u001b[0m\u001b[0;34m\u001b[0m\u001b[0;34m\u001b[0m\u001b[0m\n\u001b[0m\u001b[1;32m     71\u001b[0m             \u001b[0;32mif\u001b[0m \u001b[0mself\u001b[0m\u001b[0;34m.\u001b[0m\u001b[0mpos\u001b[0m \u001b[0;34m!=\u001b[0m \u001b[0;36m0\u001b[0m\u001b[0;34m:\u001b[0m\u001b[0;34m\u001b[0m\u001b[0;34m\u001b[0m\u001b[0m\n\u001b[1;32m     72\u001b[0m                 \u001b[0mobj\u001b[0m\u001b[0;34m.\u001b[0m\u001b[0mseek\u001b[0m\u001b[0;34m(\u001b[0m\u001b[0mself\u001b[0m\u001b[0;34m.\u001b[0m\u001b[0mpos\u001b[0m\u001b[0;34m)\u001b[0m\u001b[0;34m\u001b[0m\u001b[0;34m\u001b[0m\u001b[0m\n",
      "\u001b[0;32m/usr/local/lib/python3.6/dist-packages/nibabel/openers.py\u001b[0m in \u001b[0;36m__init__\u001b[0;34m(self, fileish, *args, **kwargs)\u001b[0m\n\u001b[1;32m    166\u001b[0m         \u001b[0;32melse\u001b[0m\u001b[0;34m:\u001b[0m\u001b[0;34m\u001b[0m\u001b[0;34m\u001b[0m\u001b[0m\n\u001b[1;32m    167\u001b[0m             \u001b[0mkwargs\u001b[0m\u001b[0;34m.\u001b[0m\u001b[0mpop\u001b[0m\u001b[0;34m(\u001b[0m\u001b[0;34m'keep_open'\u001b[0m\u001b[0;34m,\u001b[0m \u001b[0;32mNone\u001b[0m\u001b[0;34m)\u001b[0m\u001b[0;34m\u001b[0m\u001b[0;34m\u001b[0m\u001b[0m\n\u001b[0;32m--> 168\u001b[0;31m         \u001b[0mself\u001b[0m\u001b[0;34m.\u001b[0m\u001b[0mfobj\u001b[0m \u001b[0;34m=\u001b[0m \u001b[0mopener\u001b[0m\u001b[0;34m(\u001b[0m\u001b[0mfileish\u001b[0m\u001b[0;34m,\u001b[0m \u001b[0;34m*\u001b[0m\u001b[0margs\u001b[0m\u001b[0;34m,\u001b[0m \u001b[0;34m**\u001b[0m\u001b[0mkwargs\u001b[0m\u001b[0;34m)\u001b[0m\u001b[0;34m\u001b[0m\u001b[0;34m\u001b[0m\u001b[0m\n\u001b[0m\u001b[1;32m    169\u001b[0m         \u001b[0mself\u001b[0m\u001b[0;34m.\u001b[0m\u001b[0m_name\u001b[0m \u001b[0;34m=\u001b[0m \u001b[0mfileish\u001b[0m\u001b[0;34m\u001b[0m\u001b[0;34m\u001b[0m\u001b[0m\n\u001b[1;32m    170\u001b[0m         \u001b[0mself\u001b[0m\u001b[0;34m.\u001b[0m\u001b[0mme_opened\u001b[0m \u001b[0;34m=\u001b[0m \u001b[0;32mTrue\u001b[0m\u001b[0;34m\u001b[0m\u001b[0;34m\u001b[0m\u001b[0m\n",
      "\u001b[0;32m/usr/local/lib/python3.6/dist-packages/nibabel/openers.py\u001b[0m in \u001b[0;36m_gzip_open\u001b[0;34m(filename, mode, compresslevel, keep_open)\u001b[0m\n\u001b[1;32m    100\u001b[0m     \u001b[0;31m# defined above)\u001b[0m\u001b[0;34m\u001b[0m\u001b[0;34m\u001b[0m\u001b[0;34m\u001b[0m\u001b[0m\n\u001b[1;32m    101\u001b[0m     \u001b[0;32melse\u001b[0m\u001b[0;34m:\u001b[0m\u001b[0;34m\u001b[0m\u001b[0;34m\u001b[0m\u001b[0m\n\u001b[0;32m--> 102\u001b[0;31m         \u001b[0mgzip_file\u001b[0m \u001b[0;34m=\u001b[0m \u001b[0mBufferedGzipFile\u001b[0m\u001b[0;34m(\u001b[0m\u001b[0mfilename\u001b[0m\u001b[0;34m,\u001b[0m \u001b[0mmode\u001b[0m\u001b[0;34m,\u001b[0m \u001b[0mcompresslevel\u001b[0m\u001b[0;34m)\u001b[0m\u001b[0;34m\u001b[0m\u001b[0;34m\u001b[0m\u001b[0m\n\u001b[0m\u001b[1;32m    103\u001b[0m \u001b[0;34m\u001b[0m\u001b[0m\n\u001b[1;32m    104\u001b[0m     \u001b[0;31m# Speedup for #209, for versions of python < 3.5. Open gzip files with\u001b[0m\u001b[0;34m\u001b[0m\u001b[0;34m\u001b[0m\u001b[0;34m\u001b[0m\u001b[0m\n",
      "\u001b[0;32m/usr/lib/python3.6/gzip.py\u001b[0m in \u001b[0;36m__init__\u001b[0;34m(self, filename, mode, compresslevel, fileobj, mtime)\u001b[0m\n\u001b[1;32m    161\u001b[0m             \u001b[0mmode\u001b[0m \u001b[0;34m+=\u001b[0m \u001b[0;34m'b'\u001b[0m\u001b[0;34m\u001b[0m\u001b[0;34m\u001b[0m\u001b[0m\n\u001b[1;32m    162\u001b[0m         \u001b[0;32mif\u001b[0m \u001b[0mfileobj\u001b[0m \u001b[0;32mis\u001b[0m \u001b[0;32mNone\u001b[0m\u001b[0;34m:\u001b[0m\u001b[0;34m\u001b[0m\u001b[0;34m\u001b[0m\u001b[0m\n\u001b[0;32m--> 163\u001b[0;31m             \u001b[0mfileobj\u001b[0m \u001b[0;34m=\u001b[0m \u001b[0mself\u001b[0m\u001b[0;34m.\u001b[0m\u001b[0mmyfileobj\u001b[0m \u001b[0;34m=\u001b[0m \u001b[0mbuiltins\u001b[0m\u001b[0;34m.\u001b[0m\u001b[0mopen\u001b[0m\u001b[0;34m(\u001b[0m\u001b[0mfilename\u001b[0m\u001b[0;34m,\u001b[0m \u001b[0mmode\u001b[0m \u001b[0;32mor\u001b[0m \u001b[0;34m'rb'\u001b[0m\u001b[0;34m)\u001b[0m\u001b[0;34m\u001b[0m\u001b[0;34m\u001b[0m\u001b[0m\n\u001b[0m\u001b[1;32m    164\u001b[0m         \u001b[0;32mif\u001b[0m \u001b[0mfilename\u001b[0m \u001b[0;32mis\u001b[0m \u001b[0;32mNone\u001b[0m\u001b[0;34m:\u001b[0m\u001b[0;34m\u001b[0m\u001b[0;34m\u001b[0m\u001b[0m\n\u001b[1;32m    165\u001b[0m             \u001b[0mfilename\u001b[0m \u001b[0;34m=\u001b[0m \u001b[0mgetattr\u001b[0m\u001b[0;34m(\u001b[0m\u001b[0mfileobj\u001b[0m\u001b[0;34m,\u001b[0m \u001b[0;34m'name'\u001b[0m\u001b[0;34m,\u001b[0m \u001b[0;34m''\u001b[0m\u001b[0;34m)\u001b[0m\u001b[0;34m\u001b[0m\u001b[0;34m\u001b[0m\u001b[0m\n",
      "\u001b[0;31mPermissionError\u001b[0m: [Errno 13] Permission denied: '/data2/collin_data/inference_output/WC-IRB1308014251_031/CL_liver_cyst_level_set_vol.nii.gz'"
     ]
    }
   ],
   "source": [
    "# Dataframe to store time results\n",
    "df = pd.DataFrame()\n",
    "\n",
    "# Get folder paths\n",
    "folder_dir = organizeFolders(fp)\n",
    "\n",
    "# Get file paths and info\n",
    "for i in folder_dir:\n",
    "\n",
    "    # Get File Paths\n",
    "    file_dir = organizeFiles(i)\n",
    "    patient_id = i.split(splitter)[-1]\n",
    "    print('DEBUG: patient id -', patient_id, end = '\\t')\n",
    "\n",
    "    # Get Image and Mask File\n",
    "    img, msk = None, None\n",
    "    for j in file_dir:\n",
    "        if file_map['vol'] in j:\n",
    "            img = openImage(j)\n",
    "        elif file_map['LM'] in j:\n",
    "            msk = openImage(j)\n",
    "        else:\n",
    "            print('ERROR: file not declared', j)\n",
    "\n",
    "    # Perform Segmentation\n",
    "    if img is not None and msk is not None:\n",
    "        print('DEBUG: Segmenting', patient_id)\n",
    "        new_msk = runChanVerse(img[1], msk[1])\n",
    "\n",
    "        # Invert Mask\n",
    "        new_msk = 1 - new_msk\n",
    "\n",
    "        # Cut off not liver regions\n",
    "        new_msk = new_msk * msk[1]\n",
    "        new_msk = new_msk.astype(np.uint8)\n",
    "\n",
    "        # Save Segmentation\n",
    "        new_msk_fp = os.path.join(i, file_map['LS'] + '.nii.gz')\n",
    "        new_msk_img = nib.Nifti1Image(new_msk, img[0].affine)\n",
    "        nib.save(new_msk_img, new_msk_fp)\n",
    "    else:\n",
    "        print('ERROR: image or mask not found for', patient_id)\n",
    "        \n",
    "\n",
    "    break\n"
   ]
  },
  {
   "cell_type": "code",
   "execution_count": null,
   "metadata": {},
   "outputs": [],
   "source": []
  }
 ],
 "metadata": {
  "interpreter": {
   "hash": "10bf42d89f8aae170fd93da7f0d7b3833f78ec22ad90e9da4655cc663272c8c1"
  },
  "kernelspec": {
   "display_name": "Python 3",
   "language": "python",
   "name": "python3"
  },
  "language_info": {
   "codemirror_mode": {
    "name": "ipython",
    "version": 3
   },
   "file_extension": ".py",
   "mimetype": "text/x-python",
   "name": "python",
   "nbconvert_exporter": "python",
   "pygments_lexer": "ipython3",
   "version": "3.6.9"
  },
  "widgets": {
   "application/vnd.jupyter.widget-state+json": {
    "state": {
     "2c0e115a93e7422dbf08045f46d3d816": {
      "model_module": "@jupyter-widgets/base",
      "model_module_version": "1.2.0",
      "model_name": "LayoutModel",
      "state": {}
     },
     "35d1d56cefa64fd2a1709f7272510a30": {
      "model_module": "@jupyter-widgets/controls",
      "model_module_version": "1.5.0",
      "model_name": "DescriptionStyleModel",
      "state": {
       "description_width": ""
      }
     },
     "41594ffb21314128ad20619d3c405394": {
      "model_module": "@jupyter-widgets/controls",
      "model_module_version": "1.5.0",
      "model_name": "HTMLModel",
      "state": {
       "layout": "IPY_MODEL_544aab29d2bf47e886b0bf4f647e8c69",
       "style": "IPY_MODEL_35d1d56cefa64fd2a1709f7272510a30",
       "value": " 64/64 [00:04&lt;00:00,  8.41it/s]"
      }
     },
     "5038a752a353455ebe976ca3c4617929": {
      "model_module": "@jupyter-widgets/base",
      "model_module_version": "1.2.0",
      "model_name": "LayoutModel",
      "state": {}
     },
     "544aab29d2bf47e886b0bf4f647e8c69": {
      "model_module": "@jupyter-widgets/base",
      "model_module_version": "1.2.0",
      "model_name": "LayoutModel",
      "state": {}
     },
     "5c9bbe26643545c3837d8c86d3c7c548": {
      "model_module": "@jupyter-widgets/controls",
      "model_module_version": "1.5.0",
      "model_name": "DescriptionStyleModel",
      "state": {
       "description_width": ""
      }
     },
     "8b725736aa9149e2bdfd116ff93609ef": {
      "model_module": "@jupyter-widgets/base",
      "model_module_version": "1.2.0",
      "model_name": "LayoutModel",
      "state": {}
     },
     "9fc1c08ec14e418eb3228f975fd2a83e": {
      "model_module": "@jupyter-widgets/controls",
      "model_module_version": "1.5.0",
      "model_name": "HBoxModel",
      "state": {
       "children": [
        "IPY_MODEL_a352989c9ad7422ab18443fc39bad0ce",
        "IPY_MODEL_eeb0e375e39049908097c8df1efc1215",
        "IPY_MODEL_41594ffb21314128ad20619d3c405394"
       ],
       "layout": "IPY_MODEL_5038a752a353455ebe976ca3c4617929"
      }
     },
     "a352989c9ad7422ab18443fc39bad0ce": {
      "model_module": "@jupyter-widgets/controls",
      "model_module_version": "1.5.0",
      "model_name": "HTMLModel",
      "state": {
       "layout": "IPY_MODEL_8b725736aa9149e2bdfd116ff93609ef",
       "style": "IPY_MODEL_5c9bbe26643545c3837d8c86d3c7c548",
       "value": "100%"
      }
     },
     "cec49089b1ac4416bb7269216722918c": {
      "model_module": "@jupyter-widgets/controls",
      "model_module_version": "1.5.0",
      "model_name": "ProgressStyleModel",
      "state": {
       "description_width": ""
      }
     },
     "eeb0e375e39049908097c8df1efc1215": {
      "model_module": "@jupyter-widgets/controls",
      "model_module_version": "1.5.0",
      "model_name": "FloatProgressModel",
      "state": {
       "bar_style": "success",
       "layout": "IPY_MODEL_2c0e115a93e7422dbf08045f46d3d816",
       "max": 64,
       "style": "IPY_MODEL_cec49089b1ac4416bb7269216722918c",
       "value": 64
      }
     }
    },
    "version_major": 2,
    "version_minor": 0
   }
  }
 },
 "nbformat": 4,
 "nbformat_minor": 4
}
