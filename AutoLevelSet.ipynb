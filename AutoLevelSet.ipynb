{
 "cells": [
  {
   "cell_type": "markdown",
   "metadata": {},
   "source": [
    "# Auto Level Set Liver Tumor Segmentation"
   ]
  },
  {
   "cell_type": "code",
   "execution_count": 37,
   "metadata": {},
   "outputs": [],
   "source": [
    "import math\n",
    "import os\n",
    "import sys\n",
    "import time\n",
    "\n",
    "import cv2\n",
    "import matplotlib.pyplot as plt\n",
    "import nibabel as nib\n",
    "import numpy as np\n",
    "import pandas as pd\n",
    "from tqdm.notebook import tqdm"
   ]
  },
  {
   "cell_type": "code",
   "execution_count": 38,
   "metadata": {},
   "outputs": [],
   "source": [
    "# Main Folder Dir\n",
    "fp = '/data/Collin/Liver_Tumor_Segmentation_Methods/ISMRM_AutoLevelSet/'\n",
    "#     C:\\\\Users\\\\colli\\\\Desktop\\\\lesionInterfaces\\\\\\ISMRM_AutoLevelSet\\\\WC-IRB1308014251_008\n",
    "\n",
    "# Utility variables\n",
    "splitter = '/'\n",
    "\n",
    "# Pandas dataframe to store everything\n",
    "\"\"\"\n",
    "Shorthand meanings\n",
    "    - 'vol' = original image volume\n",
    "    - 'GT' = ground truth segmentation\n",
    "    - 'MS' = Manual Segmentation\n",
    "    - 'SC' = Smart Click Segmentation\n",
    "    - 'LS' = Level Set Segmentation\n",
    "\"\"\"\n",
    "\n",
    "# Maping file names to respective categories\n",
    "file_map = {\n",
    "    'vol' : 'dicom_vol',\n",
    "    'LM' : 'pred_vol',\n",
    "    'GT' : 'GT_liver_cyst_vol',\n",
    "    'MS' : 'DR_liver_cyst_vol',\n",
    "    'LS' : 'CL_liver_cyst_level_set_vol_iter10'} # DR_liver_cyst_smart_click_vol\n",
    "\n",
    "inv_file_map = {v: k for k, v in file_map.items()}"
   ]
  },
  {
   "cell_type": "markdown",
   "metadata": {},
   "source": [
    "### Utils"
   ]
  },
  {
   "cell_type": "code",
   "execution_count": 39,
   "metadata": {},
   "outputs": [],
   "source": [
    "def openImage(fp):\n",
    "    \"\"\"\n",
    "    Open up nifty image and convert to numpy arrays\n",
    "\n",
    "    Paramaters\n",
    "    ----------\n",
    "    fp: string\n",
    "        The file path to the nifty image\n",
    "\n",
    "    Returns\n",
    "    ----------\n",
    "    nii: nibabel image object\n",
    "    img: numpy array\n",
    "    vol: volume of image in cm³\n",
    "    \"\"\"\n",
    "    \n",
    "    if (not fp) or ('nii' not in fp):\n",
    "        return\n",
    "\n",
    "    nii = nib.load(fp)\n",
    "    sx, sy, sz = nii.header.get_zooms()\n",
    "    \n",
    "    return nii, nii.get_fdata(), sx*sy*sz/10\n",
    "\n",
    "def organizeFiles(fp):\n",
    "    \"\"\"\n",
    "    Organize nifty files into array\n",
    "    \n",
    "    Parameters\n",
    "    ----------\n",
    "    fp: string\n",
    "        The file path to the folder containing nifty images\n",
    "\n",
    "    Returns\n",
    "    ----------\n",
    "    arr: array of file paths to numpy images\n",
    "    \"\"\"\n",
    "\n",
    "    arr = []\n",
    "    for f in os.listdir(fp):\n",
    "        if 'nii' in f:\n",
    "            arr.append(os.path.join(fp, f))\n",
    "    return arr\n",
    "\n",
    "def organizeFolders(fp):\n",
    "    \"\"\"\n",
    "    Organize folders into array\n",
    "    \n",
    "    Paramaters\n",
    "    ----------\n",
    "    fp: string\n",
    "        The file path to the folder containing nifty images\n",
    "\n",
    "    Returns\n",
    "    ----------\n",
    "    arr: array of file paths to folders\n",
    "    \"\"\"\n",
    "\n",
    "    print('DEBUG: list directories -', os.listdir(fp))\n",
    "\n",
    "    arr = []\n",
    "    for f in os.listdir(fp):\n",
    "        if os.path.isdir(os.path.join(fp, f)):\n",
    "            arr.append(os.path.join(fp, f))\n",
    "    return arr\n"
   ]
  },
  {
   "cell_type": "markdown",
   "metadata": {},
   "source": [
    "### [Chan-Vese Segmentation](https://scikit-image.org/docs/dev/api/skimage.segmentation.html#skimage.segmentation.chan_vese) method - This version is written by Hang Zhang."
   ]
  },
  {
   "cell_type": "code",
   "execution_count": 40,
   "metadata": {},
   "outputs": [],
   "source": [
    "# Initial values: mu, nu, max_iter, epison, step = 1, 0.2, 30, 0.1, 0.1\n",
    "\n",
    "def normMinMax(img, msk=None, p_val=None, ll=0, rr=255):\n",
    "    \"\"\"\n",
    "    Min-Max Normalization\n",
    "\n",
    "    Parameters\n",
    "    ----------\n",
    "    img: numpy array\n",
    "    msk: numpy array\n",
    "    p_val: float\n",
    "    ll: float\n",
    "    rr: float\n",
    "\n",
    "    Returns\n",
    "    ----------\n",
    "    img: numpy array\n",
    "    \"\"\"\n",
    "\n",
    "    new_img = np.zeros(img.shape)\n",
    "    if msk is not None:\n",
    "        min_val = np.min(img[msk > 0])\n",
    "        max_val = np.max(img[msk > 0])\n",
    "        new_img = (img - min_val) / (max_val - min_val) * (rr-ll) + ll\n",
    "    else:\n",
    "        min_val = np.min(img)\n",
    "        max_val = np.max(img)\n",
    "        new_img = ( (img - min_val) / (max_val - min_val) ) * (rr-ll) + ll\n",
    "\n",
    "    if p_val is not None:\n",
    "        p_val = (p_val - min_val) / (max_val - min_val) * (rr-ll) + ll\n",
    "\n",
    "        return new_img, p_val\n",
    "\n",
    "    return new_img\n",
    "\n",
    "def argwhere_app(a): # @Jörn Hees's soln: https://stackoverflow.com/questions/48987774/how-to-crop-a-numpy-2d-array-to-non-zero-values\n",
    "    coords = np.argwhere(a)\n",
    "    x_min, y_min = coords.min(axis=0)\n",
    "    x_max, y_max = coords.max(axis=0)\n",
    "    return x_min, x_max+1, y_min, y_max+1\n",
    "\n",
    "def iterateChanVese(lsf, img, mu, nu, epison, step):\n",
    "    \"\"\"\n",
    "    Iterate Chan-Vese algorithm\n",
    "    \n",
    "    Parameters\n",
    "    ----------\n",
    "    lsf: numpy array\n",
    "    img: numpy array\n",
    "    mu: float\n",
    "    nu: float\n",
    "    epison: float\n",
    "    step: float\n",
    "\n",
    "    Returns\n",
    "    ----------\n",
    "    lsf: numpy array segmentation\n",
    "    \"\"\"\n",
    "\n",
    "    Drc = (epison / math.pi) / (epison*epison + lsf*lsf)\n",
    "    Hea = 0.5*(1 + (2 / math.pi) * np.arctan(lsf/epison))\n",
    "    Iy, Ix = np.gradient(lsf)\n",
    "    s = np.sqrt(Ix*Ix+Iy*Iy)\n",
    "    Nx = Ix / (s+1e-6)\n",
    "    Ny = Iy / (s+1e-6)\n",
    "    Mxx, Nxx = np.gradient(Nx)\n",
    "    Nyy, Myy = np.gradient(Ny)\n",
    "    cur = Nxx + Nyy\n",
    "    Length = nu*Drc*cur\n",
    "\n",
    "    Lap = cv2.Laplacian(lsf, -1)\n",
    "    Penalty = mu*(Lap - cur)\n",
    "\n",
    "    s1 = Hea*img\n",
    "    s2 = (1-Hea)*img\n",
    "    s3 = (1-Hea)\n",
    "    C1 = (s1).sum() / (Hea).sum()\n",
    "    C2 = (s2).sum() / (s3).sum()\n",
    "    CVterm = Drc*(-1 * (img - C1)*(img - C1) + 1 * (img - C2)*(img - C2))\n",
    "\n",
    "    lsf = lsf + step*(Length + Penalty + CVterm)\n",
    "\n",
    "    return lsf\n",
    "\n",
    "def runChanVese2D(img, lsf, mu=1, nu=0.2, max_iter=30, epison=0.1, step=0.1):\n",
    "    \"\"\"\"\n",
    "    Parameters\n",
    "    ----------\n",
    "    img: numpy array\n",
    "    lsf: numpy array\n",
    "    mu: float\n",
    "    nu: float\n",
    "    max_iter: int\n",
    "    epison: float\n",
    "    step: float\n",
    "\n",
    "    Returns\n",
    "    ----------\n",
    "    lsf: numpy array segmentation\n",
    "    \"\"\"\n",
    "\n",
    "    for _ in range(1, max_iter):\n",
    "        lsf = iterateChanVese(lsf, img, mu, nu, epison, step)\n",
    "        # showImgContour(lsf, img)\n",
    "\n",
    "    return lsf\n",
    "\n",
    "def runChanVerse(img, msk):\n",
    "    \"\"\"\n",
    "    Run Chan-Vese algorithm on 3D image\n",
    "\n",
    "    Parameters\n",
    "    ----------\n",
    "    img: numpy array\n",
    "        3D image\n",
    "        saggital, coronal, *axial*\n",
    "        CRUCIAL TO HAVE Axial as last dimension\n",
    "\n",
    "    Returns\n",
    "    ----------\n",
    "    lsf: numpy array segmentation\n",
    "    \"\"\"\n",
    "\n",
    "    # TODO: THIS CAN BE OPTIMIZED TO BE MORE EFFICIENT\n",
    "    sb_x, sb_y, sb_w, sb_h = 0, 0, img.shape[1]*2, img.shape[0]*2 # target segmentation shape\n",
    "    ss_x, ss_y, ss_w, ss_h = 0, 0, 4, 4 # initial lsf section\n",
    "\n",
    "    # Initialize segmentation mask\n",
    "    new_msk = np.zeros(img.shape)\n",
    "\n",
    "    # Initialize inital lsf\n",
    "    lsf = np.ones((img.shape[0], img.shape[1]), img.dtype)\n",
    "    lsf[ss_x:ss_x+ss_w, ss_y:ss_y+ss_h] = -1\n",
    "    lsf = -lsf\n",
    "    lsf = lsf[sb_x:sb_x+sb_w, sb_y:sb_y+sb_h]\n",
    "\n",
    "    # Run Chan-Vese algorithm on each axial slice\n",
    "    for i in tqdm(range(0, img.shape[2])):\n",
    "\n",
    "        axial_img = img[:, :, i]\n",
    "        axial_msk = msk[:, :, i]\n",
    "\n",
    "        # Check if liver exists on this slide\n",
    "        if (axial_msk > 0).sum() < 1:\n",
    "            continue\n",
    "\n",
    "        norm_img = normMinMax(axial_img)\n",
    "\n",
    "        temp_msk = runChanVese2D(norm_img, lsf)\n",
    "\n",
    "        new_msk[:, :, i] = (temp_msk >= 0).astype(float)\n",
    "\n",
    "    return new_msk"
   ]
  },
  {
   "cell_type": "markdown",
   "metadata": {},
   "source": [
    "### Iterate through files in a directory"
   ]
  },
  {
   "cell_type": "code",
   "execution_count": 41,
   "metadata": {},
   "outputs": [
    {
     "name": "stdout",
     "output_type": "stream",
     "text": [
      "DEBUG: list directories - ['WC-IRB1308014251_071', 'WC-IRB1308014251_059', 'WC-IRB1308014251_042', 'WC-IRB1308014251_004', 'WC-IRB1308014251_055', 'WC-IRB1308014251_001', 'WC-IRB1308014251_016', 'WC-IRB1308014251_039_Visit2', 'WC-IRB1308014251_003', 'WC-IRB1308014251_061', 'WC-IRB1308014251_040', 'WC-IRB1308014251_006', 'WC-IRB1308014251_032', 'WC-IRB1308014251_025', 'WC-IRB1308014251_066_Visit2', 'WC-IRB1308014251_015', 'WC-IRB1308014251_011', 'WC-IRB1308014251_031', 'WC-IRB1308014251_030', 'WC-IRB1308014251_018', 'WC-IRB1308014251_024_Visit2', 'WC-IRB1308014251_026', 'WC-IRB1308014251_082_Visit2', 'WC-IRB1308014251_034', 'WC-IRB1308014251_051', 'WC-IRB1308014251_005', 'WC-IRB1308014251_017', 'WC-IRB1308014251_039_Visit1', 'WC-IRB1308014251_020', 'WC-IRB1308014251_033', 'WC-IRB1308014251_066_Visit1', 'WC-IRB1308014251_058', 'WC-IRB1308014251_057', 'WC-IRB1308014251_007', 'WC-IRB1308014251_046', 'WC-IRB1308014251_083_Visit2', 'WC-IRB1308014251_035', 'WC-IRB1308014251_044', 'WC-IRB1308014251_008', 'WC-IRB1308014251_082_Visit1']\n",
      "DEBUG: patient id - WC-IRB1308014251_071\tERROR: file not declared /data/Collin/Liver_Tumor_Segmentation_Methods/ISMRM_AutoLevelSet/WC-IRB1308014251_071/CL_liver_cyst_level_set_vol.nii.gz\n",
      "DEBUG: Segmenting WC-IRB1308014251_071\n"
     ]
    },
    {
     "data": {
      "application/vnd.jupyter.widget-view+json": {
       "model_id": "66432d99fabb43f2b3e3b28e140f4388",
       "version_major": 2,
       "version_minor": 0
      },
      "text/plain": [
       "  0%|          | 0/80 [00:00<?, ?it/s]"
      ]
     },
     "metadata": {},
     "output_type": "display_data"
    },
    {
     "name": "stdout",
     "output_type": "stream",
     "text": [
      "DEBUG: patient id - WC-IRB1308014251_059\tERROR: file not declared /data/Collin/Liver_Tumor_Segmentation_Methods/ISMRM_AutoLevelSet/WC-IRB1308014251_059/CL_liver_cyst_level_set_vol.nii.gz\n",
      "DEBUG: Segmenting WC-IRB1308014251_059\n"
     ]
    },
    {
     "data": {
      "application/vnd.jupyter.widget-view+json": {
       "model_id": "13b3b22f5a4144b19cc573da5c538caa",
       "version_major": 2,
       "version_minor": 0
      },
      "text/plain": [
       "  0%|          | 0/76 [00:00<?, ?it/s]"
      ]
     },
     "metadata": {},
     "output_type": "display_data"
    },
    {
     "name": "stdout",
     "output_type": "stream",
     "text": [
      "DEBUG: patient id - WC-IRB1308014251_042\tERROR: file not declared /data/Collin/Liver_Tumor_Segmentation_Methods/ISMRM_AutoLevelSet/WC-IRB1308014251_042/CL_liver_cyst_level_set_vol.nii.gz\n",
      "DEBUG: Segmenting WC-IRB1308014251_042\n"
     ]
    },
    {
     "data": {
      "application/vnd.jupyter.widget-view+json": {
       "model_id": "007ac55661c142c393a3edac5e0f764c",
       "version_major": 2,
       "version_minor": 0
      },
      "text/plain": [
       "  0%|          | 0/86 [00:00<?, ?it/s]"
      ]
     },
     "metadata": {},
     "output_type": "display_data"
    },
    {
     "name": "stdout",
     "output_type": "stream",
     "text": [
      "DEBUG: patient id - WC-IRB1308014251_004\tERROR: file not declared /data/Collin/Liver_Tumor_Segmentation_Methods/ISMRM_AutoLevelSet/WC-IRB1308014251_004/CL_liver_cyst_level_set_vol.nii.gz\n",
      "DEBUG: Segmenting WC-IRB1308014251_004\n"
     ]
    },
    {
     "data": {
      "application/vnd.jupyter.widget-view+json": {
       "model_id": "830bf9a2eb224b6e9e9d41129298c715",
       "version_major": 2,
       "version_minor": 0
      },
      "text/plain": [
       "  0%|          | 0/74 [00:00<?, ?it/s]"
      ]
     },
     "metadata": {},
     "output_type": "display_data"
    },
    {
     "name": "stdout",
     "output_type": "stream",
     "text": [
      "DEBUG: patient id - WC-IRB1308014251_055\tERROR: image or mask not found for WC-IRB1308014251_055\n",
      "DEBUG: patient id - WC-IRB1308014251_001\tERROR: file not declared /data/Collin/Liver_Tumor_Segmentation_Methods/ISMRM_AutoLevelSet/WC-IRB1308014251_001/CL_liver_cyst_level_set_vol.nii.gz\n",
      "DEBUG: Segmenting WC-IRB1308014251_001\n"
     ]
    },
    {
     "data": {
      "application/vnd.jupyter.widget-view+json": {
       "model_id": "7cf7c89c829e4a829e537daf4b7ebd9c",
       "version_major": 2,
       "version_minor": 0
      },
      "text/plain": [
       "  0%|          | 0/94 [00:00<?, ?it/s]"
      ]
     },
     "metadata": {},
     "output_type": "display_data"
    },
    {
     "name": "stdout",
     "output_type": "stream",
     "text": [
      "DEBUG: patient id - WC-IRB1308014251_016\tERROR: file not declared /data/Collin/Liver_Tumor_Segmentation_Methods/ISMRM_AutoLevelSet/WC-IRB1308014251_016/CL_liver_cyst_level_set_vol.nii.gz\n",
      "DEBUG: Segmenting WC-IRB1308014251_016\n"
     ]
    },
    {
     "data": {
      "application/vnd.jupyter.widget-view+json": {
       "model_id": "83894874c48f4c42a1de50e23ee49c30",
       "version_major": 2,
       "version_minor": 0
      },
      "text/plain": [
       "  0%|          | 0/80 [00:00<?, ?it/s]"
      ]
     },
     "metadata": {},
     "output_type": "display_data"
    },
    {
     "name": "stdout",
     "output_type": "stream",
     "text": [
      "DEBUG: patient id - WC-IRB1308014251_039_Visit2\tERROR: file not declared /data/Collin/Liver_Tumor_Segmentation_Methods/ISMRM_AutoLevelSet/WC-IRB1308014251_039_Visit2/CL_liver_cyst_level_set_vol.nii.gz\n",
      "DEBUG: Segmenting WC-IRB1308014251_039_Visit2\n"
     ]
    },
    {
     "data": {
      "application/vnd.jupyter.widget-view+json": {
       "model_id": "a25927c1916f4e5db3aa375dff598d7c",
       "version_major": 2,
       "version_minor": 0
      },
      "text/plain": [
       "  0%|          | 0/80 [00:00<?, ?it/s]"
      ]
     },
     "metadata": {},
     "output_type": "display_data"
    },
    {
     "name": "stdout",
     "output_type": "stream",
     "text": [
      "DEBUG: patient id - WC-IRB1308014251_003\tERROR: file not declared /data/Collin/Liver_Tumor_Segmentation_Methods/ISMRM_AutoLevelSet/WC-IRB1308014251_003/DR_liver_cyst_smart_click_vol.nii\n",
      "ERROR: file not declared /data/Collin/Liver_Tumor_Segmentation_Methods/ISMRM_AutoLevelSet/WC-IRB1308014251_003/DR_liver_cyst_vol.nii\n",
      "ERROR: file not declared /data/Collin/Liver_Tumor_Segmentation_Methods/ISMRM_AutoLevelSet/WC-IRB1308014251_003/CL_liver_cyst_level_set_vol.nii.gz\n",
      "DEBUG: Segmenting WC-IRB1308014251_003\n"
     ]
    },
    {
     "data": {
      "application/vnd.jupyter.widget-view+json": {
       "model_id": "3d49cb691c6f43a6b2dc96ec9cda9da6",
       "version_major": 2,
       "version_minor": 0
      },
      "text/plain": [
       "  0%|          | 0/76 [00:00<?, ?it/s]"
      ]
     },
     "metadata": {},
     "output_type": "display_data"
    },
    {
     "name": "stdout",
     "output_type": "stream",
     "text": [
      "DEBUG: patient id - WC-IRB1308014251_061\tERROR: image or mask not found for WC-IRB1308014251_061\n",
      "DEBUG: patient id - WC-IRB1308014251_040\tERROR: file not declared /data/Collin/Liver_Tumor_Segmentation_Methods/ISMRM_AutoLevelSet/WC-IRB1308014251_040/CL_liver_cyst_level_set_vol.nii.gz\n",
      "DEBUG: Segmenting WC-IRB1308014251_040\n"
     ]
    },
    {
     "data": {
      "application/vnd.jupyter.widget-view+json": {
       "model_id": "857d657fc9eb45ee9e0d49ff0e4b067c",
       "version_major": 2,
       "version_minor": 0
      },
      "text/plain": [
       "  0%|          | 0/72 [00:00<?, ?it/s]"
      ]
     },
     "metadata": {},
     "output_type": "display_data"
    },
    {
     "name": "stdout",
     "output_type": "stream",
     "text": [
      "DEBUG: patient id - WC-IRB1308014251_006\tERROR: image or mask not found for WC-IRB1308014251_006\n",
      "DEBUG: patient id - WC-IRB1308014251_032\tERROR: file not declared /data/Collin/Liver_Tumor_Segmentation_Methods/ISMRM_AutoLevelSet/WC-IRB1308014251_032/DR_liver_cyst_smart_click_vol.nii\n",
      "ERROR: file not declared /data/Collin/Liver_Tumor_Segmentation_Methods/ISMRM_AutoLevelSet/WC-IRB1308014251_032/DR_liver_cyst_vol.nii\n",
      "ERROR: file not declared /data/Collin/Liver_Tumor_Segmentation_Methods/ISMRM_AutoLevelSet/WC-IRB1308014251_032/CL_liver_cyst_level_set_vol.nii.gz\n",
      "DEBUG: Segmenting WC-IRB1308014251_032\n"
     ]
    },
    {
     "data": {
      "application/vnd.jupyter.widget-view+json": {
       "model_id": "bdc3c6da16494151ae423ce1ee59d951",
       "version_major": 2,
       "version_minor": 0
      },
      "text/plain": [
       "  0%|          | 0/100 [00:00<?, ?it/s]"
      ]
     },
     "metadata": {},
     "output_type": "display_data"
    },
    {
     "name": "stdout",
     "output_type": "stream",
     "text": [
      "DEBUG: patient id - WC-IRB1308014251_025\tERROR: file not declared /data/Collin/Liver_Tumor_Segmentation_Methods/ISMRM_AutoLevelSet/WC-IRB1308014251_025/DR_liver_cyst_smart_click_vol.nii\n",
      "ERROR: file not declared /data/Collin/Liver_Tumor_Segmentation_Methods/ISMRM_AutoLevelSet/WC-IRB1308014251_025/DR_liver_cyst_vol.nii\n",
      "ERROR: file not declared /data/Collin/Liver_Tumor_Segmentation_Methods/ISMRM_AutoLevelSet/WC-IRB1308014251_025/25.nii.gz\n",
      "ERROR: file not declared /data/Collin/Liver_Tumor_Segmentation_Methods/ISMRM_AutoLevelSet/WC-IRB1308014251_025/CL_liver_cyst_level_set_vol.nii.gz\n",
      "DEBUG: Segmenting WC-IRB1308014251_025\n"
     ]
    },
    {
     "data": {
      "application/vnd.jupyter.widget-view+json": {
       "model_id": "626162ca23cc40f7a7ed0d881599ee35",
       "version_major": 2,
       "version_minor": 0
      },
      "text/plain": [
       "  0%|          | 0/31 [00:00<?, ?it/s]"
      ]
     },
     "metadata": {},
     "output_type": "display_data"
    },
    {
     "name": "stdout",
     "output_type": "stream",
     "text": [
      "DEBUG: patient id - WC-IRB1308014251_066_Visit2\tERROR: file not declared /data/Collin/Liver_Tumor_Segmentation_Methods/ISMRM_AutoLevelSet/WC-IRB1308014251_066_Visit2/CL_liver_cyst_level_set_vol.nii.gz\n",
      "DEBUG: Segmenting WC-IRB1308014251_066_Visit2\n"
     ]
    },
    {
     "data": {
      "application/vnd.jupyter.widget-view+json": {
       "model_id": "672b0471f95141ffacbb45c49c2c7025",
       "version_major": 2,
       "version_minor": 0
      },
      "text/plain": [
       "  0%|          | 0/44 [00:00<?, ?it/s]"
      ]
     },
     "metadata": {},
     "output_type": "display_data"
    },
    {
     "name": "stdout",
     "output_type": "stream",
     "text": [
      "DEBUG: patient id - WC-IRB1308014251_015\tERROR: file not declared /data/Collin/Liver_Tumor_Segmentation_Methods/ISMRM_AutoLevelSet/WC-IRB1308014251_015/CL_liver_cyst_level_set_vol.nii.gz\n",
      "DEBUG: Segmenting WC-IRB1308014251_015\n"
     ]
    },
    {
     "data": {
      "application/vnd.jupyter.widget-view+json": {
       "model_id": "809a31a551d5421cbc4a06410fadbf47",
       "version_major": 2,
       "version_minor": 0
      },
      "text/plain": [
       "  0%|          | 0/76 [00:00<?, ?it/s]"
      ]
     },
     "metadata": {},
     "output_type": "display_data"
    },
    {
     "name": "stdout",
     "output_type": "stream",
     "text": [
      "DEBUG: patient id - WC-IRB1308014251_011\tERROR: file not declared /data/Collin/Liver_Tumor_Segmentation_Methods/ISMRM_AutoLevelSet/WC-IRB1308014251_011/DR_liver_cyst_smart_click_vol.nii\n",
      "ERROR: file not declared /data/Collin/Liver_Tumor_Segmentation_Methods/ISMRM_AutoLevelSet/WC-IRB1308014251_011/roughLiverSeg.nii\n",
      "ERROR: file not declared /data/Collin/Liver_Tumor_Segmentation_Methods/ISMRM_AutoLevelSet/WC-IRB1308014251_011/DR_liver_cyst_vol.nii\n",
      "ERROR: file not declared /data/Collin/Liver_Tumor_Segmentation_Methods/ISMRM_AutoLevelSet/WC-IRB1308014251_011/roughtLiverLesionSeg.nii\n",
      "ERROR: file not declared /data/Collin/Liver_Tumor_Segmentation_Methods/ISMRM_AutoLevelSet/WC-IRB1308014251_011/CL_liver_cyst_level_set_vol.nii.gz\n",
      "DEBUG: Segmenting WC-IRB1308014251_011\n"
     ]
    },
    {
     "data": {
      "application/vnd.jupyter.widget-view+json": {
       "model_id": "68b2bfd3c21f4b7ab2dcc5c862d4374d",
       "version_major": 2,
       "version_minor": 0
      },
      "text/plain": [
       "  0%|          | 0/68 [00:00<?, ?it/s]"
      ]
     },
     "metadata": {},
     "output_type": "display_data"
    },
    {
     "name": "stdout",
     "output_type": "stream",
     "text": [
      "DEBUG: patient id - WC-IRB1308014251_031\tERROR: file not declared /data/Collin/Liver_Tumor_Segmentation_Methods/ISMRM_AutoLevelSet/WC-IRB1308014251_031/CL_liver_cyst_level_set_vol.nii.gz\n",
      "DEBUG: Segmenting WC-IRB1308014251_031\n"
     ]
    },
    {
     "data": {
      "application/vnd.jupyter.widget-view+json": {
       "model_id": "7d56fcc4d2a142908cdf747596cbc273",
       "version_major": 2,
       "version_minor": 0
      },
      "text/plain": [
       "  0%|          | 0/64 [00:00<?, ?it/s]"
      ]
     },
     "metadata": {},
     "output_type": "display_data"
    },
    {
     "name": "stdout",
     "output_type": "stream",
     "text": [
      "DEBUG: patient id - WC-IRB1308014251_030\tERROR: file not declared /data/Collin/Liver_Tumor_Segmentation_Methods/ISMRM_AutoLevelSet/WC-IRB1308014251_030/DR_liver_cyst_smart_click_vol.nii\n",
      "ERROR: file not declared /data/Collin/Liver_Tumor_Segmentation_Methods/ISMRM_AutoLevelSet/WC-IRB1308014251_030/DR_liver_cyst_vol.nii\n",
      "ERROR: file not declared /data/Collin/Liver_Tumor_Segmentation_Methods/ISMRM_AutoLevelSet/WC-IRB1308014251_030/DR_liver_lesion_hang_click_vol.nii.gz\n",
      "ERROR: file not declared /data/Collin/Liver_Tumor_Segmentation_Methods/ISMRM_AutoLevelSet/WC-IRB1308014251_030/CL_liver_cyst_level_set_vol.nii.gz\n",
      "DEBUG: Segmenting WC-IRB1308014251_030\n"
     ]
    },
    {
     "data": {
      "application/vnd.jupyter.widget-view+json": {
       "model_id": "f0aa7b442b014e269ed8d246ae4b0a01",
       "version_major": 2,
       "version_minor": 0
      },
      "text/plain": [
       "  0%|          | 0/72 [00:00<?, ?it/s]"
      ]
     },
     "metadata": {},
     "output_type": "display_data"
    },
    {
     "name": "stdout",
     "output_type": "stream",
     "text": [
      "DEBUG: patient id - WC-IRB1308014251_018\tERROR: file not declared /data/Collin/Liver_Tumor_Segmentation_Methods/ISMRM_AutoLevelSet/WC-IRB1308014251_018/CL_liver_cyst_level_set_vol.nii.gz\n",
      "DEBUG: Segmenting WC-IRB1308014251_018\n"
     ]
    },
    {
     "data": {
      "application/vnd.jupyter.widget-view+json": {
       "model_id": "64bb455631a64dab89204d79ea157ecf",
       "version_major": 2,
       "version_minor": 0
      },
      "text/plain": [
       "  0%|          | 0/82 [00:00<?, ?it/s]"
      ]
     },
     "metadata": {},
     "output_type": "display_data"
    },
    {
     "name": "stdout",
     "output_type": "stream",
     "text": [
      "DEBUG: patient id - WC-IRB1308014251_024_Visit2\tERROR: file not declared /data/Collin/Liver_Tumor_Segmentation_Methods/ISMRM_AutoLevelSet/WC-IRB1308014251_024_Visit2/DR_liver_cyst_smart_click_vol.nii.gz\n",
      "ERROR: file not declared /data/Collin/Liver_Tumor_Segmentation_Methods/ISMRM_AutoLevelSet/WC-IRB1308014251_024_Visit2/DR_liver_cyst_vol.nii\n",
      "ERROR: file not declared /data/Collin/Liver_Tumor_Segmentation_Methods/ISMRM_AutoLevelSet/WC-IRB1308014251_024_Visit2/CL_liver_cyst_level_set_vol.nii.gz\n",
      "DEBUG: Segmenting WC-IRB1308014251_024_Visit2\n"
     ]
    },
    {
     "data": {
      "application/vnd.jupyter.widget-view+json": {
       "model_id": "d6673f06e8184a80940e5d7f30ee2aed",
       "version_major": 2,
       "version_minor": 0
      },
      "text/plain": [
       "  0%|          | 0/70 [00:00<?, ?it/s]"
      ]
     },
     "metadata": {},
     "output_type": "display_data"
    },
    {
     "name": "stdout",
     "output_type": "stream",
     "text": [
      "DEBUG: patient id - WC-IRB1308014251_026\tERROR: file not declared /data/Collin/Liver_Tumor_Segmentation_Methods/ISMRM_AutoLevelSet/WC-IRB1308014251_026/CL_liver_cyst_level_set_vol.nii.gz\n",
      "DEBUG: Segmenting WC-IRB1308014251_026\n"
     ]
    },
    {
     "data": {
      "application/vnd.jupyter.widget-view+json": {
       "model_id": "3c41a38001f144878e857bdcc5bb0436",
       "version_major": 2,
       "version_minor": 0
      },
      "text/plain": [
       "  0%|          | 0/72 [00:00<?, ?it/s]"
      ]
     },
     "metadata": {},
     "output_type": "display_data"
    },
    {
     "name": "stdout",
     "output_type": "stream",
     "text": [
      "DEBUG: patient id - WC-IRB1308014251_082_Visit2\tERROR: file not declared /data/Collin/Liver_Tumor_Segmentation_Methods/ISMRM_AutoLevelSet/WC-IRB1308014251_082_Visit2/CL_liver_cyst_level_set_vol.nii.gz\n",
      "DEBUG: Segmenting WC-IRB1308014251_082_Visit2\n"
     ]
    },
    {
     "data": {
      "application/vnd.jupyter.widget-view+json": {
       "model_id": "77c034e2b2f64ff0a1b9e481b99f812c",
       "version_major": 2,
       "version_minor": 0
      },
      "text/plain": [
       "  0%|          | 0/74 [00:00<?, ?it/s]"
      ]
     },
     "metadata": {},
     "output_type": "display_data"
    },
    {
     "name": "stdout",
     "output_type": "stream",
     "text": [
      "DEBUG: patient id - WC-IRB1308014251_034\tERROR: file not declared /data/Collin/Liver_Tumor_Segmentation_Methods/ISMRM_AutoLevelSet/WC-IRB1308014251_034/DR_liver_cyst_smart_click_vol.nii.gz\n",
      "ERROR: file not declared /data/Collin/Liver_Tumor_Segmentation_Methods/ISMRM_AutoLevelSet/WC-IRB1308014251_034/DR_liver_cyst_vol.nii\n",
      "ERROR: file not declared /data/Collin/Liver_Tumor_Segmentation_Methods/ISMRM_AutoLevelSet/WC-IRB1308014251_034/CL_liver_cyst_level_set_vol.nii.gz\n",
      "DEBUG: Segmenting WC-IRB1308014251_034\n"
     ]
    },
    {
     "data": {
      "application/vnd.jupyter.widget-view+json": {
       "model_id": "f33b2cbc9426452bbaac62e326591dbb",
       "version_major": 2,
       "version_minor": 0
      },
      "text/plain": [
       "  0%|          | 0/84 [00:00<?, ?it/s]"
      ]
     },
     "metadata": {},
     "output_type": "display_data"
    },
    {
     "name": "stdout",
     "output_type": "stream",
     "text": [
      "DEBUG: patient id - WC-IRB1308014251_051\tERROR: file not declared /data/Collin/Liver_Tumor_Segmentation_Methods/ISMRM_AutoLevelSet/WC-IRB1308014251_051/CL_liver_cyst_level_set_vol.nii.gz\n",
      "DEBUG: Segmenting WC-IRB1308014251_051\n"
     ]
    },
    {
     "data": {
      "application/vnd.jupyter.widget-view+json": {
       "model_id": "9a5e45bbe6bc424a8afd08225ce2cdaf",
       "version_major": 2,
       "version_minor": 0
      },
      "text/plain": [
       "  0%|          | 0/70 [00:00<?, ?it/s]"
      ]
     },
     "metadata": {},
     "output_type": "display_data"
    },
    {
     "name": "stdout",
     "output_type": "stream",
     "text": [
      "DEBUG: patient id - WC-IRB1308014251_005\tERROR: file not declared /data/Collin/Liver_Tumor_Segmentation_Methods/ISMRM_AutoLevelSet/WC-IRB1308014251_005/CL_liver_cyst_level_set_vol.nii.gz\n",
      "DEBUG: Segmenting WC-IRB1308014251_005\n"
     ]
    },
    {
     "data": {
      "application/vnd.jupyter.widget-view+json": {
       "model_id": "6093461df7b3429dae09da8983198f6d",
       "version_major": 2,
       "version_minor": 0
      },
      "text/plain": [
       "  0%|          | 0/82 [00:00<?, ?it/s]"
      ]
     },
     "metadata": {},
     "output_type": "display_data"
    },
    {
     "name": "stdout",
     "output_type": "stream",
     "text": [
      "DEBUG: patient id - WC-IRB1308014251_017\tERROR: file not declared /data/Collin/Liver_Tumor_Segmentation_Methods/ISMRM_AutoLevelSet/WC-IRB1308014251_017/CL_liver_cyst_level_set_vol.nii.gz\n",
      "DEBUG: Segmenting WC-IRB1308014251_017\n"
     ]
    },
    {
     "data": {
      "application/vnd.jupyter.widget-view+json": {
       "model_id": "4d0c9673f0a64e4ea41798b1aeb731e6",
       "version_major": 2,
       "version_minor": 0
      },
      "text/plain": [
       "  0%|          | 0/72 [00:00<?, ?it/s]"
      ]
     },
     "metadata": {},
     "output_type": "display_data"
    },
    {
     "name": "stdout",
     "output_type": "stream",
     "text": [
      "DEBUG: patient id - WC-IRB1308014251_039_Visit1\tERROR: file not declared /data/Collin/Liver_Tumor_Segmentation_Methods/ISMRM_AutoLevelSet/WC-IRB1308014251_039_Visit1/DR_liver_cyst_vol.nii.gz\n",
      "ERROR: file not declared /data/Collin/Liver_Tumor_Segmentation_Methods/ISMRM_AutoLevelSet/WC-IRB1308014251_039_Visit1/DR_liver_cyst_smart_click1.nii\n",
      "ERROR: file not declared /data/Collin/Liver_Tumor_Segmentation_Methods/ISMRM_AutoLevelSet/WC-IRB1308014251_039_Visit1/DR_liver_cyst_smart_click_vol.nii.nii\n",
      "ERROR: file not declared /data/Collin/Liver_Tumor_Segmentation_Methods/ISMRM_AutoLevelSet/WC-IRB1308014251_039_Visit1/CL_liver_cyst_level_set_vol.nii.gz\n",
      "DEBUG: Segmenting WC-IRB1308014251_039_Visit1\n"
     ]
    },
    {
     "data": {
      "application/vnd.jupyter.widget-view+json": {
       "model_id": "0bd2a94a1b4546a582c500c01a6a83ef",
       "version_major": 2,
       "version_minor": 0
      },
      "text/plain": [
       "  0%|          | 0/54 [00:00<?, ?it/s]"
      ]
     },
     "metadata": {},
     "output_type": "display_data"
    },
    {
     "name": "stdout",
     "output_type": "stream",
     "text": [
      "DEBUG: patient id - WC-IRB1308014251_020\tERROR: file not declared /data/Collin/Liver_Tumor_Segmentation_Methods/ISMRM_AutoLevelSet/WC-IRB1308014251_020/DR_liver_cyst_smart_click_vol.nii\n",
      "ERROR: file not declared /data/Collin/Liver_Tumor_Segmentation_Methods/ISMRM_AutoLevelSet/WC-IRB1308014251_020/DR_liver_cyst_vol.nii\n",
      "ERROR: file not declared /data/Collin/Liver_Tumor_Segmentation_Methods/ISMRM_AutoLevelSet/WC-IRB1308014251_020/CL_liver_cyst_level_set_vol.nii.gz\n",
      "DEBUG: Segmenting WC-IRB1308014251_020\n"
     ]
    },
    {
     "data": {
      "application/vnd.jupyter.widget-view+json": {
       "model_id": "e5ba5151053b4a5583aefdaef5fe06fa",
       "version_major": 2,
       "version_minor": 0
      },
      "text/plain": [
       "  0%|          | 0/72 [00:00<?, ?it/s]"
      ]
     },
     "metadata": {},
     "output_type": "display_data"
    },
    {
     "name": "stdout",
     "output_type": "stream",
     "text": [
      "DEBUG: patient id - WC-IRB1308014251_033\tERROR: image or mask not found for WC-IRB1308014251_033\n",
      "DEBUG: patient id - WC-IRB1308014251_066_Visit1\tERROR: file not declared /data/Collin/Liver_Tumor_Segmentation_Methods/ISMRM_AutoLevelSet/WC-IRB1308014251_066_Visit1/CL_liver_cyst_level_set_vol.nii.gz\n",
      "DEBUG: Segmenting WC-IRB1308014251_066_Visit1\n"
     ]
    },
    {
     "data": {
      "application/vnd.jupyter.widget-view+json": {
       "model_id": "e5a075a25b2d493c90ba8e07e12cb7ae",
       "version_major": 2,
       "version_minor": 0
      },
      "text/plain": [
       "  0%|          | 0/55 [00:00<?, ?it/s]"
      ]
     },
     "metadata": {},
     "output_type": "display_data"
    },
    {
     "name": "stdout",
     "output_type": "stream",
     "text": [
      "DEBUG: patient id - WC-IRB1308014251_058\tERROR: file not declared /data/Collin/Liver_Tumor_Segmentation_Methods/ISMRM_AutoLevelSet/WC-IRB1308014251_058/CL_liver_cyst_level_set_vol.nii.gz\n",
      "DEBUG: Segmenting WC-IRB1308014251_058\n"
     ]
    },
    {
     "data": {
      "application/vnd.jupyter.widget-view+json": {
       "model_id": "a6e18774c23643c7b3c34cd54cae5fed",
       "version_major": 2,
       "version_minor": 0
      },
      "text/plain": [
       "  0%|          | 0/48 [00:00<?, ?it/s]"
      ]
     },
     "metadata": {},
     "output_type": "display_data"
    },
    {
     "name": "stdout",
     "output_type": "stream",
     "text": [
      "DEBUG: patient id - WC-IRB1308014251_057\tERROR: file not declared /data/Collin/Liver_Tumor_Segmentation_Methods/ISMRM_AutoLevelSet/WC-IRB1308014251_057/CL_liver_cyst_level_set_vol.nii.gz\n",
      "DEBUG: Segmenting WC-IRB1308014251_057\n"
     ]
    },
    {
     "data": {
      "application/vnd.jupyter.widget-view+json": {
       "model_id": "26db9eb2c2894a48bd4c48104d398bd3",
       "version_major": 2,
       "version_minor": 0
      },
      "text/plain": [
       "  0%|          | 0/82 [00:00<?, ?it/s]"
      ]
     },
     "metadata": {},
     "output_type": "display_data"
    },
    {
     "name": "stdout",
     "output_type": "stream",
     "text": [
      "DEBUG: patient id - WC-IRB1308014251_007\tERROR: image or mask not found for WC-IRB1308014251_007\n",
      "DEBUG: patient id - WC-IRB1308014251_046\tERROR: file not declared /data/Collin/Liver_Tumor_Segmentation_Methods/ISMRM_AutoLevelSet/WC-IRB1308014251_046/CL_liver_cyst_level_set_vol.nii.gz\n",
      "DEBUG: Segmenting WC-IRB1308014251_046\n"
     ]
    },
    {
     "data": {
      "application/vnd.jupyter.widget-view+json": {
       "model_id": "9f45cfddb37d4f968d86f50beaa191c7",
       "version_major": 2,
       "version_minor": 0
      },
      "text/plain": [
       "  0%|          | 0/84 [00:00<?, ?it/s]"
      ]
     },
     "metadata": {},
     "output_type": "display_data"
    },
    {
     "name": "stdout",
     "output_type": "stream",
     "text": [
      "DEBUG: patient id - WC-IRB1308014251_083_Visit2\tERROR: file not declared /data/Collin/Liver_Tumor_Segmentation_Methods/ISMRM_AutoLevelSet/WC-IRB1308014251_083_Visit2/CL_liver_cyst_level_set_vol.nii.gz\n",
      "DEBUG: Segmenting WC-IRB1308014251_083_Visit2\n"
     ]
    },
    {
     "data": {
      "application/vnd.jupyter.widget-view+json": {
       "model_id": "2d5d5cb206dd49a8b2b5d37ef26b5079",
       "version_major": 2,
       "version_minor": 0
      },
      "text/plain": [
       "  0%|          | 0/74 [00:00<?, ?it/s]"
      ]
     },
     "metadata": {},
     "output_type": "display_data"
    },
    {
     "name": "stdout",
     "output_type": "stream",
     "text": [
      "DEBUG: patient id - WC-IRB1308014251_035\tERROR: file not declared /data/Collin/Liver_Tumor_Segmentation_Methods/ISMRM_AutoLevelSet/WC-IRB1308014251_035/CL_liver_cyst_level_set_vol.nii.gz\n",
      "DEBUG: Segmenting WC-IRB1308014251_035\n"
     ]
    },
    {
     "data": {
      "application/vnd.jupyter.widget-view+json": {
       "model_id": "11d215d173a04afdbed681a033296dce",
       "version_major": 2,
       "version_minor": 0
      },
      "text/plain": [
       "  0%|          | 0/72 [00:00<?, ?it/s]"
      ]
     },
     "metadata": {},
     "output_type": "display_data"
    },
    {
     "name": "stdout",
     "output_type": "stream",
     "text": [
      "DEBUG: patient id - WC-IRB1308014251_044\tERROR: file not declared /data/Collin/Liver_Tumor_Segmentation_Methods/ISMRM_AutoLevelSet/WC-IRB1308014251_044/CL_liver_cyst_level_set_vol.nii.gz\n",
      "DEBUG: Segmenting WC-IRB1308014251_044\n"
     ]
    },
    {
     "data": {
      "application/vnd.jupyter.widget-view+json": {
       "model_id": "7204ae051fbe4c5d858029b9e115478a",
       "version_major": 2,
       "version_minor": 0
      },
      "text/plain": [
       "  0%|          | 0/88 [00:00<?, ?it/s]"
      ]
     },
     "metadata": {},
     "output_type": "display_data"
    },
    {
     "name": "stdout",
     "output_type": "stream",
     "text": [
      "DEBUG: patient id - WC-IRB1308014251_008\tERROR: file not declared /data/Collin/Liver_Tumor_Segmentation_Methods/ISMRM_AutoLevelSet/WC-IRB1308014251_008/DR_liver_cyst_smart_click_vol.nii\n",
      "ERROR: file not declared /data/Collin/Liver_Tumor_Segmentation_Methods/ISMRM_AutoLevelSet/WC-IRB1308014251_008/DR_liver_cyst_vol.nii\n",
      "ERROR: file not declared /data/Collin/Liver_Tumor_Segmentation_Methods/ISMRM_AutoLevelSet/WC-IRB1308014251_008/CL_liver_cyst_level_set_vol.nii.gz\n",
      "DEBUG: Segmenting WC-IRB1308014251_008\n"
     ]
    },
    {
     "data": {
      "application/vnd.jupyter.widget-view+json": {
       "model_id": "52159e704db04ed39ec273ad085d0954",
       "version_major": 2,
       "version_minor": 0
      },
      "text/plain": [
       "  0%|          | 0/72 [00:00<?, ?it/s]"
      ]
     },
     "metadata": {},
     "output_type": "display_data"
    },
    {
     "name": "stdout",
     "output_type": "stream",
     "text": [
      "DEBUG: patient id - WC-IRB1308014251_082_Visit1\tERROR: file not declared /data/Collin/Liver_Tumor_Segmentation_Methods/ISMRM_AutoLevelSet/WC-IRB1308014251_082_Visit1/CL_liver_cyst_level_set_vol.nii.gz\n",
      "DEBUG: Segmenting WC-IRB1308014251_082_Visit1\n"
     ]
    },
    {
     "data": {
      "application/vnd.jupyter.widget-view+json": {
       "model_id": "17b669e2a25e44aebdfacc786bdce21f",
       "version_major": 2,
       "version_minor": 0
      },
      "text/plain": [
       "  0%|          | 0/44 [00:00<?, ?it/s]"
      ]
     },
     "metadata": {},
     "output_type": "display_data"
    }
   ],
   "source": [
    "# Dictionary to Store Times\n",
    "times = []\n",
    "\n",
    "# Get folder paths\n",
    "folder_dir = organizeFolders(fp)\n",
    "\n",
    "# Get file paths and info\n",
    "for i in folder_dir:\n",
    "\n",
    "    # Get File Paths\n",
    "    file_dir = organizeFiles(i)\n",
    "    patient_id = i.split(splitter)[-1]\n",
    "    print('DEBUG: patient id -', patient_id, end = '\\t')\n",
    "\n",
    "    # Get Image and Mask File\n",
    "    img, msk = None, None\n",
    "    for j in file_dir:\n",
    "        if file_map['vol'] in j:\n",
    "            img = openImage(j)\n",
    "        elif file_map['LM'] in j:\n",
    "            msk = openImage(j)\n",
    "        else:\n",
    "            print('ERROR: file not declared', j)\n",
    "\n",
    "    # Perform Segmentation\n",
    "    if img is not None and msk is not None:\n",
    "        print('DEBUG: Segmenting', patient_id)\n",
    "        start_time = time.time()\n",
    "        new_msk = runChanVerse(img[1], msk[1], )\n",
    "\n",
    "        # Invert Mask\n",
    "        new_msk = 1 - new_msk\n",
    "\n",
    "        # Cut off not liver regions\n",
    "        new_msk = new_msk * msk[1]\n",
    "        new_msk = new_msk.astype(np.uint8)\n",
    "\n",
    "        # Record Time\n",
    "        end_time = time.time()\n",
    "        \n",
    "        # 'patient_id', 'time (sec)', 'liver mask voxCnt', 'liver lesion mask voxCnt', 'voxel volume'\n",
    "        times.append([patient_id, end_time - start_time, msk[1].sum(), new_msk.sum(), img[2]])\n",
    "        \n",
    "        # Save Segmentation\n",
    "        new_msk_fp = os.path.join(i, file_map['LS'] + '.nii.gz')\n",
    "        new_msk_img = nib.Nifti1Image(new_msk, img[0].affine)\n",
    "        nib.save(new_msk_img, new_msk_fp)\n",
    "    else:\n",
    "        print('ERROR: image or mask not found for', patient_id)"
   ]
  },
  {
   "cell_type": "code",
   "execution_count": 34,
   "metadata": {},
   "outputs": [
    {
     "data": {
      "text/html": [
       "<div>\n",
       "<style scoped>\n",
       "    .dataframe tbody tr th:only-of-type {\n",
       "        vertical-align: middle;\n",
       "    }\n",
       "\n",
       "    .dataframe tbody tr th {\n",
       "        vertical-align: top;\n",
       "    }\n",
       "\n",
       "    .dataframe thead th {\n",
       "        text-align: right;\n",
       "    }\n",
       "</style>\n",
       "<table border=\"1\" class=\"dataframe\">\n",
       "  <thead>\n",
       "    <tr style=\"text-align: right;\">\n",
       "      <th></th>\n",
       "      <th>patient_id</th>\n",
       "      <th>time (sec)</th>\n",
       "      <th>liver mask voxCnt</th>\n",
       "      <th>liver lesion mask voxCnt</th>\n",
       "      <th>voxel volume</th>\n",
       "    </tr>\n",
       "  </thead>\n",
       "  <tbody>\n",
       "    <tr>\n",
       "      <th>0</th>\n",
       "      <td>WC-IRB1308014251_071</td>\n",
       "      <td>9.768352</td>\n",
       "      <td>853229.0</td>\n",
       "      <td>349691</td>\n",
       "      <td>0.677344</td>\n",
       "    </tr>\n",
       "    <tr>\n",
       "      <th>1</th>\n",
       "      <td>WC-IRB1308014251_059</td>\n",
       "      <td>7.220535</td>\n",
       "      <td>179320.0</td>\n",
       "      <td>44229</td>\n",
       "      <td>0.846107</td>\n",
       "    </tr>\n",
       "    <tr>\n",
       "      <th>2</th>\n",
       "      <td>WC-IRB1308014251_042</td>\n",
       "      <td>6.207568</td>\n",
       "      <td>293118.0</td>\n",
       "      <td>61252</td>\n",
       "      <td>0.937500</td>\n",
       "    </tr>\n",
       "    <tr>\n",
       "      <th>3</th>\n",
       "      <td>WC-IRB1308014251_004</td>\n",
       "      <td>3.202643</td>\n",
       "      <td>91230.0</td>\n",
       "      <td>4661</td>\n",
       "      <td>1.953159</td>\n",
       "    </tr>\n",
       "    <tr>\n",
       "      <th>4</th>\n",
       "      <td>WC-IRB1308014251_001</td>\n",
       "      <td>36.986026</td>\n",
       "      <td>719775.0</td>\n",
       "      <td>126316</td>\n",
       "      <td>0.305215</td>\n",
       "    </tr>\n",
       "  </tbody>\n",
       "</table>\n",
       "</div>"
      ],
      "text/plain": [
       "             patient_id  time (sec)  liver mask voxCnt  \\\n",
       "0  WC-IRB1308014251_071    9.768352           853229.0   \n",
       "1  WC-IRB1308014251_059    7.220535           179320.0   \n",
       "2  WC-IRB1308014251_042    6.207568           293118.0   \n",
       "3  WC-IRB1308014251_004    3.202643            91230.0   \n",
       "4  WC-IRB1308014251_001   36.986026           719775.0   \n",
       "\n",
       "   liver lesion mask voxCnt  voxel volume  \n",
       "0                    349691      0.677344  \n",
       "1                     44229      0.846107  \n",
       "2                     61252      0.937500  \n",
       "3                      4661      1.953159  \n",
       "4                    126316      0.305215  "
      ]
     },
     "execution_count": 34,
     "metadata": {},
     "output_type": "execute_result"
    }
   ],
   "source": [
    "# Dataframe to store time results\n",
    "df = pd.DataFrame(times, columns=['patient_id', 'time (sec)', 'liver mask voxCnt', 'liver lesion mask voxCnt', 'voxel volume'])\n",
    "df.head()"
   ]
  },
  {
   "cell_type": "code",
   "execution_count": 35,
   "metadata": {},
   "outputs": [],
   "source": [
    "df.to_csv('AutoLevelSetTimes.csv')"
   ]
  },
  {
   "cell_type": "code",
   "execution_count": null,
   "metadata": {},
   "outputs": [],
   "source": []
  }
 ],
 "metadata": {
  "interpreter": {
   "hash": "10bf42d89f8aae170fd93da7f0d7b3833f78ec22ad90e9da4655cc663272c8c1"
  },
  "kernelspec": {
   "display_name": "Python 3",
   "language": "python",
   "name": "python3"
  },
  "language_info": {
   "codemirror_mode": {
    "name": "ipython",
    "version": 3
   },
   "file_extension": ".py",
   "mimetype": "text/x-python",
   "name": "python",
   "nbconvert_exporter": "python",
   "pygments_lexer": "ipython3",
   "version": "3.6.9"
  },
  "widgets": {
   "application/vnd.jupyter.widget-state+json": {
    "state": {
     "003002c750434da89d1065d3649974f1": {
      "model_module": "@jupyter-widgets/controls",
      "model_module_version": "1.5.0",
      "model_name": "DescriptionStyleModel",
      "state": {
       "description_width": ""
      }
     },
     "004e1e0a8ce64e9ea7c7134f58b3d20c": {
      "model_module": "@jupyter-widgets/controls",
      "model_module_version": "1.5.0",
      "model_name": "HTMLModel",
      "state": {
       "layout": "IPY_MODEL_c8239a8d12504756be48dedf947cf65d",
       "style": "IPY_MODEL_10ac9909f0504ad6a42b65bf6070cfed",
       "value": "100%"
      }
     },
     "007ac55661c142c393a3edac5e0f764c": {
      "model_module": "@jupyter-widgets/controls",
      "model_module_version": "1.5.0",
      "model_name": "HBoxModel",
      "state": {
       "children": [
        "IPY_MODEL_8fec49d228994fb186b37a35ebd32fdb",
        "IPY_MODEL_2587d1e2af57428e8e492a1d22c30cf7",
        "IPY_MODEL_cb7b00990cd74aa7bd88fe8f0d9f31bf"
       ],
       "layout": "IPY_MODEL_e49238d967974ec88fd10fa3b0d171b2"
      }
     },
     "0089b84183a74fc9946a80bc57173587": {
      "model_module": "@jupyter-widgets/controls",
      "model_module_version": "1.5.0",
      "model_name": "FloatProgressModel",
      "state": {
       "bar_style": "success",
       "layout": "IPY_MODEL_e92b5d7383394510bf6785525ba9fe53",
       "max": 74,
       "style": "IPY_MODEL_98dbee689f7445fda3514c19721b24cf",
       "value": 74
      }
     },
     "00acc240953f4f54af5254a4b37f1aa9": {
      "model_module": "@jupyter-widgets/controls",
      "model_module_version": "1.5.0",
      "model_name": "ProgressStyleModel",
      "state": {
       "description_width": ""
      }
     },
     "013af416582f4eb180d17725147c150a": {
      "model_module": "@jupyter-widgets/controls",
      "model_module_version": "1.5.0",
      "model_name": "HTMLModel",
      "state": {
       "layout": "IPY_MODEL_3272e6efd90646cabf613296818fca99",
       "style": "IPY_MODEL_6667d3e4304a493c87f202b26ac11340",
       "value": " 70/70 [00:04&lt;00:00,  7.83it/s]"
      }
     },
     "015a1d3868504ada905957fcc0110c3a": {
      "model_module": "@jupyter-widgets/controls",
      "model_module_version": "1.5.0",
      "model_name": "FloatProgressModel",
      "state": {
       "bar_style": "success",
       "layout": "IPY_MODEL_8dbd4a4d00b24b71ab2a29bd4323e2ff",
       "max": 31,
       "style": "IPY_MODEL_d3e0358ba6a547fca02433486158a9f6",
       "value": 31
      }
     },
     "01c66dc2c1a44b9da7da45c292cff682": {
      "model_module": "@jupyter-widgets/base",
      "model_module_version": "1.2.0",
      "model_name": "LayoutModel",
      "state": {}
     },
     "01fafaf288fb451ba475639854e40a42": {
      "model_module": "@jupyter-widgets/base",
      "model_module_version": "1.2.0",
      "model_name": "LayoutModel",
      "state": {}
     },
     "023d05ab399944f38e1dc81d504a84fa": {
      "model_module": "@jupyter-widgets/controls",
      "model_module_version": "1.5.0",
      "model_name": "ProgressStyleModel",
      "state": {
       "description_width": ""
      }
     },
     "0267836c5eab4a7ca912edd1e1d54e7a": {
      "model_module": "@jupyter-widgets/controls",
      "model_module_version": "1.5.0",
      "model_name": "ProgressStyleModel",
      "state": {
       "description_width": ""
      }
     },
     "02b6b49612fe446e91ab1b9f4fc4eb57": {
      "model_module": "@jupyter-widgets/controls",
      "model_module_version": "1.5.0",
      "model_name": "FloatProgressModel",
      "state": {
       "bar_style": "success",
       "layout": "IPY_MODEL_26e6c676b4da477ea7adf3fb472d5a27",
       "max": 74,
       "style": "IPY_MODEL_fa6c243eeb3b4a1685b4b22b2846f8cc",
       "value": 74
      }
     },
     "03100f10252542748c6397b5490d372a": {
      "model_module": "@jupyter-widgets/base",
      "model_module_version": "1.2.0",
      "model_name": "LayoutModel",
      "state": {}
     },
     "03122ceeb7824a0da7d492da1afbf073": {
      "model_module": "@jupyter-widgets/controls",
      "model_module_version": "1.5.0",
      "model_name": "HTMLModel",
      "state": {
       "layout": "IPY_MODEL_7cc1331253024a418ea5b7219f359f6f",
       "style": "IPY_MODEL_fe89bff98adc499696c9194505f854db",
       "value": "100%"
      }
     },
     "0346baa579a84e81887928e4a433ab18": {
      "model_module": "@jupyter-widgets/base",
      "model_module_version": "1.2.0",
      "model_name": "LayoutModel",
      "state": {}
     },
     "03d9b6d2701c47ed88b6fd0d5c36e0fc": {
      "model_module": "@jupyter-widgets/controls",
      "model_module_version": "1.5.0",
      "model_name": "DescriptionStyleModel",
      "state": {
       "description_width": ""
      }
     },
     "03fcc5fa373e4042986439f786ea9b38": {
      "model_module": "@jupyter-widgets/controls",
      "model_module_version": "1.5.0",
      "model_name": "ProgressStyleModel",
      "state": {
       "description_width": ""
      }
     },
     "0433583f2e2444a98e6110b805aa1d98": {
      "model_module": "@jupyter-widgets/base",
      "model_module_version": "1.2.0",
      "model_name": "LayoutModel",
      "state": {}
     },
     "046ad47554f84af8bff0adc9d6a89cca": {
      "model_module": "@jupyter-widgets/base",
      "model_module_version": "1.2.0",
      "model_name": "LayoutModel",
      "state": {}
     },
     "04d05515091544319682b91be468ddcf": {
      "model_module": "@jupyter-widgets/base",
      "model_module_version": "1.2.0",
      "model_name": "LayoutModel",
      "state": {}
     },
     "051ac19a79134a6281be8805f2adf533": {
      "model_module": "@jupyter-widgets/controls",
      "model_module_version": "1.5.0",
      "model_name": "DescriptionStyleModel",
      "state": {
       "description_width": ""
      }
     },
     "0579e7c9ef5c44f4b05fc81151d6db21": {
      "model_module": "@jupyter-widgets/base",
      "model_module_version": "1.2.0",
      "model_name": "LayoutModel",
      "state": {}
     },
     "06113ca323294ef8a0d04921546ab961": {
      "model_module": "@jupyter-widgets/controls",
      "model_module_version": "1.5.0",
      "model_name": "HTMLModel",
      "state": {
       "layout": "IPY_MODEL_1dbbb7368e2647e8bd453934ac93a228",
       "style": "IPY_MODEL_ab37d87ef4b44c13b085b8d27b219707",
       "value": " 82/82 [00:05&lt;00:00,  6.74it/s]"
      }
     },
     "0659901f93f1435fa2292a471aaa9e86": {
      "model_module": "@jupyter-widgets/controls",
      "model_module_version": "1.5.0",
      "model_name": "DescriptionStyleModel",
      "state": {
       "description_width": ""
      }
     },
     "0675b02e073e4fc3b64d3f96615e0df0": {
      "model_module": "@jupyter-widgets/base",
      "model_module_version": "1.2.0",
      "model_name": "LayoutModel",
      "state": {}
     },
     "0677ba8f4f65437e98e6af94b7ed616f": {
      "model_module": "@jupyter-widgets/controls",
      "model_module_version": "1.5.0",
      "model_name": "ProgressStyleModel",
      "state": {
       "description_width": ""
      }
     },
     "06abef7173134b7a97c0b9103310dfc9": {
      "model_module": "@jupyter-widgets/controls",
      "model_module_version": "1.5.0",
      "model_name": "ProgressStyleModel",
      "state": {
       "description_width": ""
      }
     },
     "074805a7dea648a1af74853ca85cf1c4": {
      "model_module": "@jupyter-widgets/base",
      "model_module_version": "1.2.0",
      "model_name": "LayoutModel",
      "state": {}
     },
     "075d7ed57e7a40baae20a43935615879": {
      "model_module": "@jupyter-widgets/base",
      "model_module_version": "1.2.0",
      "model_name": "LayoutModel",
      "state": {}
     },
     "07cecd4a5bf54993845062e8aa6133ca": {
      "model_module": "@jupyter-widgets/controls",
      "model_module_version": "1.5.0",
      "model_name": "ProgressStyleModel",
      "state": {
       "description_width": ""
      }
     },
     "07da14fd6243452a9d57b6f5962842d7": {
      "model_module": "@jupyter-widgets/base",
      "model_module_version": "1.2.0",
      "model_name": "LayoutModel",
      "state": {}
     },
     "0892944699da4474837ce21c4d1cb4c1": {
      "model_module": "@jupyter-widgets/base",
      "model_module_version": "1.2.0",
      "model_name": "LayoutModel",
      "state": {}
     },
     "08e580f06a5348768ccf2bacf3402cbc": {
      "model_module": "@jupyter-widgets/controls",
      "model_module_version": "1.5.0",
      "model_name": "FloatProgressModel",
      "state": {
       "bar_style": "success",
       "layout": "IPY_MODEL_a96b259118c84b91aeb4568d5d291836",
       "max": 44,
       "style": "IPY_MODEL_467245fb5b7a4ab0aa3285e275c96d38",
       "value": 44
      }
     },
     "092ce31fa8884c03bb3346033c287a17": {
      "model_module": "@jupyter-widgets/controls",
      "model_module_version": "1.5.0",
      "model_name": "HBoxModel",
      "state": {
       "children": [
        "IPY_MODEL_be61783695034724aacc091124f84b71",
        "IPY_MODEL_893e41bfa1154ecba1d43caa6ecb7645",
        "IPY_MODEL_5ffb71d301a44287a1ebef6c98275c36"
       ],
       "layout": "IPY_MODEL_3bfa77e910b94ae49afdb349b020a1fa"
      }
     },
     "09d7e46482554a3daa4766472fe73f5a": {
      "model_module": "@jupyter-widgets/base",
      "model_module_version": "1.2.0",
      "model_name": "LayoutModel",
      "state": {}
     },
     "0a1c56e858f84e2ba457d02edbab53cf": {
      "model_module": "@jupyter-widgets/controls",
      "model_module_version": "1.5.0",
      "model_name": "DescriptionStyleModel",
      "state": {
       "description_width": ""
      }
     },
     "0a5873c3418b46f08ee2cdc9d65ab6b5": {
      "model_module": "@jupyter-widgets/base",
      "model_module_version": "1.2.0",
      "model_name": "LayoutModel",
      "state": {}
     },
     "0a5ca7df5bc440af824ca0d6afb0aa6f": {
      "model_module": "@jupyter-widgets/base",
      "model_module_version": "1.2.0",
      "model_name": "LayoutModel",
      "state": {}
     },
     "0a7d2e81eb894619901c30df4857ac44": {
      "model_module": "@jupyter-widgets/controls",
      "model_module_version": "1.5.0",
      "model_name": "HBoxModel",
      "state": {
       "children": [
        "IPY_MODEL_b90e842cfa9f4841b6f67a591b0b8442",
        "IPY_MODEL_4efccf7e9c794e42a3f21b5f7729aeea",
        "IPY_MODEL_e0d4426864734db681de4cbe2abcc054"
       ],
       "layout": "IPY_MODEL_7287440f3dd94e3285d9336e856df10a"
      }
     },
     "0a85942020454bdebd142611c3ae964a": {
      "model_module": "@jupyter-widgets/base",
      "model_module_version": "1.2.0",
      "model_name": "LayoutModel",
      "state": {}
     },
     "0aaa7d8fb4944f7496e393448559376c": {
      "model_module": "@jupyter-widgets/base",
      "model_module_version": "1.2.0",
      "model_name": "LayoutModel",
      "state": {}
     },
     "0b32e7b9d782490e8285f35781d41307": {
      "model_module": "@jupyter-widgets/controls",
      "model_module_version": "1.5.0",
      "model_name": "FloatProgressModel",
      "state": {
       "bar_style": "success",
       "layout": "IPY_MODEL_0ff24c224ea34e7cb8c3e2fec4a08de3",
       "max": 72,
       "style": "IPY_MODEL_1658a89b9fbf4f298590c8928e96620c",
       "value": 72
      }
     },
     "0b73311f54a54fcf89622d88edc91f92": {
      "model_module": "@jupyter-widgets/base",
      "model_module_version": "1.2.0",
      "model_name": "LayoutModel",
      "state": {}
     },
     "0bd2a94a1b4546a582c500c01a6a83ef": {
      "model_module": "@jupyter-widgets/controls",
      "model_module_version": "1.5.0",
      "model_name": "HBoxModel",
      "state": {
       "children": [
        "IPY_MODEL_fa039e1ef5a24f5d8187ea3c50e462c9",
        "IPY_MODEL_4609bc01b2e94ee89712f2168c44e10c",
        "IPY_MODEL_6c65053b931147c7be1eddb29b7cc462"
       ],
       "layout": "IPY_MODEL_a56ed423ccc24e5f941d0e706d8fa20c"
      }
     },
     "0c157481dbe241ea94cf039bf2d75ca4": {
      "model_module": "@jupyter-widgets/controls",
      "model_module_version": "1.5.0",
      "model_name": "DescriptionStyleModel",
      "state": {
       "description_width": ""
      }
     },
     "0c63c19857414852afd8fdc318b1bb38": {
      "model_module": "@jupyter-widgets/controls",
      "model_module_version": "1.5.0",
      "model_name": "HTMLModel",
      "state": {
       "layout": "IPY_MODEL_393d5189be2545688eabd70c01ab830a",
       "style": "IPY_MODEL_4b527d550e3a435586ce6d1d9eb4581b",
       "value": " 84/84 [00:06&lt;00:00,  9.74it/s]"
      }
     },
     "0c75690f01d64289be1dd46b786bdb7b": {
      "model_module": "@jupyter-widgets/base",
      "model_module_version": "1.2.0",
      "model_name": "LayoutModel",
      "state": {}
     },
     "0cbae4375a994774a0cf94ec2b564294": {
      "model_module": "@jupyter-widgets/base",
      "model_module_version": "1.2.0",
      "model_name": "LayoutModel",
      "state": {}
     },
     "0cbbb541d631411c863133b2b0ade579": {
      "model_module": "@jupyter-widgets/controls",
      "model_module_version": "1.5.0",
      "model_name": "ProgressStyleModel",
      "state": {
       "description_width": ""
      }
     },
     "0cce4d07a59d428195c355255b8d23d8": {
      "model_module": "@jupyter-widgets/controls",
      "model_module_version": "1.5.0",
      "model_name": "HBoxModel",
      "state": {
       "children": [
        "IPY_MODEL_892cb8c1d03c438f8055ff7ecbce05be",
        "IPY_MODEL_ed9d62eb6610427294d8b86ed3c14bbc",
        "IPY_MODEL_f9b65d161ac0402ba463f266bc7b4710"
       ],
       "layout": "IPY_MODEL_2bb55fbc6d294c18972927eac20a683b"
      }
     },
     "0ce8b832d8834716a0355457b15050db": {
      "model_module": "@jupyter-widgets/controls",
      "model_module_version": "1.5.0",
      "model_name": "DescriptionStyleModel",
      "state": {
       "description_width": ""
      }
     },
     "0d057459a8a2451d93894b91b4df5b7c": {
      "model_module": "@jupyter-widgets/controls",
      "model_module_version": "1.5.0",
      "model_name": "DescriptionStyleModel",
      "state": {
       "description_width": ""
      }
     },
     "0d1f81b49f4d441fac58573b24e85441": {
      "model_module": "@jupyter-widgets/controls",
      "model_module_version": "1.5.0",
      "model_name": "ProgressStyleModel",
      "state": {
       "description_width": ""
      }
     },
     "0d1fb0c2d8614e0bbe3ab82e3c2354c7": {
      "model_module": "@jupyter-widgets/controls",
      "model_module_version": "1.5.0",
      "model_name": "HTMLModel",
      "state": {
       "layout": "IPY_MODEL_481b2d12f64e4612937b8bc9131fa286",
       "style": "IPY_MODEL_6a6439d0d2d6448b82ca9823c964816e",
       "value": " 100/100 [00:28&lt;00:00,  1.75it/s]"
      }
     },
     "0d8a61761a894450b37ae2733488afd9": {
      "model_module": "@jupyter-widgets/base",
      "model_module_version": "1.2.0",
      "model_name": "LayoutModel",
      "state": {}
     },
     "0da32272f8404bf48014df2079c8237c": {
      "model_module": "@jupyter-widgets/controls",
      "model_module_version": "1.5.0",
      "model_name": "DescriptionStyleModel",
      "state": {
       "description_width": ""
      }
     },
     "0db6bd5570244af7898ce57e9188c76d": {
      "model_module": "@jupyter-widgets/controls",
      "model_module_version": "1.5.0",
      "model_name": "ProgressStyleModel",
      "state": {
       "description_width": ""
      }
     },
     "0de61858aab24bef9a3a9cef91d50af3": {
      "model_module": "@jupyter-widgets/controls",
      "model_module_version": "1.5.0",
      "model_name": "ProgressStyleModel",
      "state": {
       "description_width": ""
      }
     },
     "0df77a5f9c594fb181ae1e90eadbc638": {
      "model_module": "@jupyter-widgets/controls",
      "model_module_version": "1.5.0",
      "model_name": "ProgressStyleModel",
      "state": {
       "description_width": ""
      }
     },
     "0e0a111ad59e484881f159e850a96117": {
      "model_module": "@jupyter-widgets/base",
      "model_module_version": "1.2.0",
      "model_name": "LayoutModel",
      "state": {}
     },
     "0e354c3a68f54b9d96b4ebe4b303e442": {
      "model_module": "@jupyter-widgets/controls",
      "model_module_version": "1.5.0",
      "model_name": "HTMLModel",
      "state": {
       "layout": "IPY_MODEL_2f50d3134e4d4a8db80c9ce6e5578114",
       "style": "IPY_MODEL_7596f32b29c04edbad4567d335dab7d4",
       "value": "100%"
      }
     },
     "0e5658a4215247fca27d63f65c19323e": {
      "model_module": "@jupyter-widgets/base",
      "model_module_version": "1.2.0",
      "model_name": "LayoutModel",
      "state": {}
     },
     "0e7b4a49ffa84d66800f4a9f4346103b": {
      "model_module": "@jupyter-widgets/controls",
      "model_module_version": "1.5.0",
      "model_name": "HBoxModel",
      "state": {
       "children": [
        "IPY_MODEL_2fd991ab693b4b4ab09e07187c90af8d",
        "IPY_MODEL_0b32e7b9d782490e8285f35781d41307",
        "IPY_MODEL_2409debf08c647f3a9a761ed832da517"
       ],
       "layout": "IPY_MODEL_963e619a226745fd81fc771a91b0b83d"
      }
     },
     "0ed14717bf1e4373a0de5f3dd88b1a8d": {
      "model_module": "@jupyter-widgets/controls",
      "model_module_version": "1.5.0",
      "model_name": "DescriptionStyleModel",
      "state": {
       "description_width": ""
      }
     },
     "0ee89f51b6994ebb96f41f6701e8dc2a": {
      "model_module": "@jupyter-widgets/controls",
      "model_module_version": "1.5.0",
      "model_name": "DescriptionStyleModel",
      "state": {
       "description_width": ""
      }
     },
     "0f3ea8f55b0f40e19b19397e7fca1635": {
      "model_module": "@jupyter-widgets/controls",
      "model_module_version": "1.5.0",
      "model_name": "DescriptionStyleModel",
      "state": {
       "description_width": ""
      }
     },
     "0f90e261fee94a8cb8d09b325d6a18f8": {
      "model_module": "@jupyter-widgets/controls",
      "model_module_version": "1.5.0",
      "model_name": "ProgressStyleModel",
      "state": {
       "description_width": ""
      }
     },
     "0fa5902eae8646b18a372296fd09cfbc": {
      "model_module": "@jupyter-widgets/controls",
      "model_module_version": "1.5.0",
      "model_name": "HBoxModel",
      "state": {
       "children": [
        "IPY_MODEL_d23f53285f354a80ba04c0e127c9792b",
        "IPY_MODEL_3fa356dbce544038a18b148541394985",
        "IPY_MODEL_54392ff5fcb04ac1af1e6de377637e3b"
       ],
       "layout": "IPY_MODEL_77065d3e2d46472fbc8d5e7da37b3bcc"
      }
     },
     "0fb99f1b5bdd4eaab15f89236c69b390": {
      "model_module": "@jupyter-widgets/base",
      "model_module_version": "1.2.0",
      "model_name": "LayoutModel",
      "state": {}
     },
     "0fc991ea7b7449bdb2356194e4c9dfd8": {
      "model_module": "@jupyter-widgets/controls",
      "model_module_version": "1.5.0",
      "model_name": "HTMLModel",
      "state": {
       "layout": "IPY_MODEL_3cfe3991a17e42a3993a7dab3f484b14",
       "style": "IPY_MODEL_bb37757b850a4438b4d98e8933b5fef3",
       "value": " 80/80 [00:04&lt;00:00, 10.17it/s]"
      }
     },
     "0fd17592b32f4d708d44287fd41e7dda": {
      "model_module": "@jupyter-widgets/controls",
      "model_module_version": "1.5.0",
      "model_name": "HTMLModel",
      "state": {
       "layout": "IPY_MODEL_994f5305c09e4f038f4a803a14bb6812",
       "style": "IPY_MODEL_5ea7f660b8094f71bb4e87ced16e9567",
       "value": " 76/76 [00:04&lt;00:00, 12.32it/s]"
      }
     },
     "0ff24c224ea34e7cb8c3e2fec4a08de3": {
      "model_module": "@jupyter-widgets/base",
      "model_module_version": "1.2.0",
      "model_name": "LayoutModel",
      "state": {}
     },
     "10ac9909f0504ad6a42b65bf6070cfed": {
      "model_module": "@jupyter-widgets/controls",
      "model_module_version": "1.5.0",
      "model_name": "DescriptionStyleModel",
      "state": {
       "description_width": ""
      }
     },
     "10c9d45878e24c4aac9ceef06241e86a": {
      "model_module": "@jupyter-widgets/base",
      "model_module_version": "1.2.0",
      "model_name": "LayoutModel",
      "state": {}
     },
     "10ca76cf122742979724630e57d5293a": {
      "model_module": "@jupyter-widgets/controls",
      "model_module_version": "1.5.0",
      "model_name": "HTMLModel",
      "state": {
       "layout": "IPY_MODEL_3c7b225a13584feb8447d9b3b8c79508",
       "style": "IPY_MODEL_b030ea7c1a0f41b3b895904ff4d38c00",
       "value": " 72/72 [00:04&lt;00:00, 14.41it/s]"
      }
     },
     "11255505d59845e4913e017621ca5ba7": {
      "model_module": "@jupyter-widgets/controls",
      "model_module_version": "1.5.0",
      "model_name": "FloatProgressModel",
      "state": {
       "bar_style": "success",
       "layout": "IPY_MODEL_faa95207c2944ed8acac527e6b541868",
       "max": 72,
       "style": "IPY_MODEL_0de61858aab24bef9a3a9cef91d50af3",
       "value": 72
      }
     },
     "112d99f76a8d416cb02670ca1a0d08c5": {
      "model_module": "@jupyter-widgets/base",
      "model_module_version": "1.2.0",
      "model_name": "LayoutModel",
      "state": {}
     },
     "119432c46e9a4767861ad0f8f11d5a3a": {
      "model_module": "@jupyter-widgets/controls",
      "model_module_version": "1.5.0",
      "model_name": "DescriptionStyleModel",
      "state": {
       "description_width": ""
      }
     },
     "1196130a451d45149cb75cbaa6a4d043": {
      "model_module": "@jupyter-widgets/controls",
      "model_module_version": "1.5.0",
      "model_name": "HTMLModel",
      "state": {
       "layout": "IPY_MODEL_d61a62e1bfda46f393fdbdfb49b034f9",
       "style": "IPY_MODEL_75eb7fe2e4d342b29fa5443cd250c75a",
       "value": "100%"
      }
     },
     "11968ee3d9e740fbae4c28161bf4a9da": {
      "model_module": "@jupyter-widgets/controls",
      "model_module_version": "1.5.0",
      "model_name": "HTMLModel",
      "state": {
       "layout": "IPY_MODEL_e39777b0fcd5460aab2eb08c06bfbf0f",
       "style": "IPY_MODEL_b35fc421e9d34854bfa9c4925b2dba5e",
       "value": "100%"
      }
     },
     "11b305024f5e45bd8e6a0f1067aac43e": {
      "model_module": "@jupyter-widgets/base",
      "model_module_version": "1.2.0",
      "model_name": "LayoutModel",
      "state": {}
     },
     "11c8b49eacb14868b0068574a6bcb1be": {
      "model_module": "@jupyter-widgets/base",
      "model_module_version": "1.2.0",
      "model_name": "LayoutModel",
      "state": {}
     },
     "11d215d173a04afdbed681a033296dce": {
      "model_module": "@jupyter-widgets/controls",
      "model_module_version": "1.5.0",
      "model_name": "HBoxModel",
      "state": {
       "children": [
        "IPY_MODEL_e28f6febdac644f98752bcbbdc6c218e",
        "IPY_MODEL_deed69e189f4451abe9a0fd75647e3ed",
        "IPY_MODEL_7012c5af13da4032a12bca6722d850ee"
       ],
       "layout": "IPY_MODEL_be7fa1f53eb64f88acf856fa9804038a"
      }
     },
     "1229599288d8484e9bc8a1bb6953d68b": {
      "model_module": "@jupyter-widgets/controls",
      "model_module_version": "1.5.0",
      "model_name": "DescriptionStyleModel",
      "state": {
       "description_width": ""
      }
     },
     "12b7367e469447ccbe4e1ee850876e57": {
      "model_module": "@jupyter-widgets/controls",
      "model_module_version": "1.5.0",
      "model_name": "HTMLModel",
      "state": {
       "layout": "IPY_MODEL_ec90bf6617e844a6bf09eb65cd097003",
       "style": "IPY_MODEL_365cb27c6506405a95d1f6edb3bee682",
       "value": " 68/68 [00:04&lt;00:00, 10.68it/s]"
      }
     },
     "12cc1aae662d467a9f4da77354289df4": {
      "model_module": "@jupyter-widgets/base",
      "model_module_version": "1.2.0",
      "model_name": "LayoutModel",
      "state": {}
     },
     "12e6cb1fa8e941fd8df48a09d80f803e": {
      "model_module": "@jupyter-widgets/controls",
      "model_module_version": "1.5.0",
      "model_name": "ProgressStyleModel",
      "state": {
       "description_width": ""
      }
     },
     "133da0b1b3b242149eefc32bcd5acdb6": {
      "model_module": "@jupyter-widgets/controls",
      "model_module_version": "1.5.0",
      "model_name": "FloatProgressModel",
      "state": {
       "bar_style": "success",
       "layout": "IPY_MODEL_0b73311f54a54fcf89622d88edc91f92",
       "max": 72,
       "style": "IPY_MODEL_c5b01b4c50054ca6a074a0322116ae6a",
       "value": 72
      }
     },
     "1353955adfb24e109136563edba55729": {
      "model_module": "@jupyter-widgets/controls",
      "model_module_version": "1.5.0",
      "model_name": "FloatProgressModel",
      "state": {
       "bar_style": "success",
       "layout": "IPY_MODEL_7f365eddcee44943bb4355cd475dff44",
       "max": 80,
       "style": "IPY_MODEL_07cecd4a5bf54993845062e8aa6133ca",
       "value": 80
      }
     },
     "1375f7ecd6e24b799ae724f24aecaf8b": {
      "model_module": "@jupyter-widgets/base",
      "model_module_version": "1.2.0",
      "model_name": "LayoutModel",
      "state": {}
     },
     "137b3cc0bfb24f01b9e52c988140738d": {
      "model_module": "@jupyter-widgets/controls",
      "model_module_version": "1.5.0",
      "model_name": "DescriptionStyleModel",
      "state": {
       "description_width": ""
      }
     },
     "13b3b22f5a4144b19cc573da5c538caa": {
      "model_module": "@jupyter-widgets/controls",
      "model_module_version": "1.5.0",
      "model_name": "HBoxModel",
      "state": {
       "children": [
        "IPY_MODEL_4a3bf2f3ad1448eeb2e5aa02571e6b88",
        "IPY_MODEL_ba127a478f9f4039b993720569788be7",
        "IPY_MODEL_2e67ddc441474439b9b52d8ceacfd22e"
       ],
       "layout": "IPY_MODEL_892d19e057284eb582f68621e33ce676"
      }
     },
     "144745330bf14e4eb5482eb4b5b45c5a": {
      "model_module": "@jupyter-widgets/controls",
      "model_module_version": "1.5.0",
      "model_name": "FloatProgressModel",
      "state": {
       "bar_style": "success",
       "layout": "IPY_MODEL_4597de519aa945f98259a69576273154",
       "max": 76,
       "style": "IPY_MODEL_a9f093850ca045abac1f103fd38e72fb",
       "value": 76
      }
     },
     "147a1bdf3baf44449992006cef818a4f": {
      "model_module": "@jupyter-widgets/controls",
      "model_module_version": "1.5.0",
      "model_name": "ProgressStyleModel",
      "state": {
       "description_width": ""
      }
     },
     "149949d2e1a84bbe80e10d7ab7997c0d": {
      "model_module": "@jupyter-widgets/controls",
      "model_module_version": "1.5.0",
      "model_name": "DescriptionStyleModel",
      "state": {
       "description_width": ""
      }
     },
     "14a34aed450048eb8a9af45b9573f265": {
      "model_module": "@jupyter-widgets/controls",
      "model_module_version": "1.5.0",
      "model_name": "FloatProgressModel",
      "state": {
       "bar_style": "success",
       "layout": "IPY_MODEL_737e0bb4bca6404fa3aa792b6809827e",
       "max": 82,
       "style": "IPY_MODEL_5f534a865eba4a219bfc386a7e3a48cd",
       "value": 82
      }
     },
     "14ac13a100cc4b21bdcd559594bcf622": {
      "model_module": "@jupyter-widgets/base",
      "model_module_version": "1.2.0",
      "model_name": "LayoutModel",
      "state": {}
     },
     "14b0799ebace45a78f443fc175bca0a7": {
      "model_module": "@jupyter-widgets/controls",
      "model_module_version": "1.5.0",
      "model_name": "HBoxModel",
      "state": {
       "children": [
        "IPY_MODEL_2351051d15f34bc2a51c9476a084a23d",
        "IPY_MODEL_5bf33cfbf7334ae28176f08adac14297",
        "IPY_MODEL_17d6f7905dc0497cb7a06e9c82079ff7"
       ],
       "layout": "IPY_MODEL_4705de7e49f440d587c8deee1c72b6dd"
      }
     },
     "1565eb2b1085449eb1dd3e6eaef9ec56": {
      "model_module": "@jupyter-widgets/controls",
      "model_module_version": "1.5.0",
      "model_name": "HBoxModel",
      "state": {
       "children": [
        "IPY_MODEL_a838bd4b716842fba4edcfdfbc8b2fe2",
        "IPY_MODEL_9a82f1d5fd5c4375a02d2369ca894fad",
        "IPY_MODEL_ba29319e270e41068a15fd625fa7de50"
       ],
       "layout": "IPY_MODEL_1bf2d8785b8c4ab4b89dd432fb685bfc"
      }
     },
     "16135a78cd5e4fc7913ec2168e0ee72e": {
      "model_module": "@jupyter-widgets/controls",
      "model_module_version": "1.5.0",
      "model_name": "HTMLModel",
      "state": {
       "layout": "IPY_MODEL_5063ebb7a2d340328c3cd4d7c6bf8164",
       "style": "IPY_MODEL_6881af0fb77648398acc349b36caecff",
       "value": "100%"
      }
     },
     "1622e668190d4692aacc5f920cf005dc": {
      "model_module": "@jupyter-widgets/controls",
      "model_module_version": "1.5.0",
      "model_name": "ProgressStyleModel",
      "state": {
       "description_width": ""
      }
     },
     "163cef1a4471482397079118a7a97e68": {
      "model_module": "@jupyter-widgets/base",
      "model_module_version": "1.2.0",
      "model_name": "LayoutModel",
      "state": {}
     },
     "1658a89b9fbf4f298590c8928e96620c": {
      "model_module": "@jupyter-widgets/controls",
      "model_module_version": "1.5.0",
      "model_name": "ProgressStyleModel",
      "state": {
       "description_width": ""
      }
     },
     "1662a47bfe2e43538c7584b843c7e1f2": {
      "model_module": "@jupyter-widgets/controls",
      "model_module_version": "1.5.0",
      "model_name": "HBoxModel",
      "state": {
       "children": [
        "IPY_MODEL_513925e6d3b14adab66984f0465c1169",
        "IPY_MODEL_015a1d3868504ada905957fcc0110c3a",
        "IPY_MODEL_5eee5340944b44b585f5fea0306005f1"
       ],
       "layout": "IPY_MODEL_3d29e94f4a5742b996eef559ce5a59fd"
      }
     },
     "16783a52dd1a4417b3cadb7c6a548567": {
      "model_module": "@jupyter-widgets/controls",
      "model_module_version": "1.5.0",
      "model_name": "FloatProgressModel",
      "state": {
       "bar_style": "success",
       "layout": "IPY_MODEL_68ac2d7c3ea245a0990b276bcaa00058",
       "max": 44,
       "style": "IPY_MODEL_a8299ed302fe4885864ee51ad5d42cfd",
       "value": 44
      }
     },
     "16d14c2bab4c4560801ea94e7d3b10ea": {
      "model_module": "@jupyter-widgets/base",
      "model_module_version": "1.2.0",
      "model_name": "LayoutModel",
      "state": {}
     },
     "1711c03b3e3944d5ba71eb3476607f0b": {
      "model_module": "@jupyter-widgets/controls",
      "model_module_version": "1.5.0",
      "model_name": "HTMLModel",
      "state": {
       "layout": "IPY_MODEL_39aa74e6390844ca82848c4a464d8183",
       "style": "IPY_MODEL_0659901f93f1435fa2292a471aaa9e86",
       "value": " 64/64 [00:03&lt;00:00,  8.73it/s]"
      }
     },
     "172c1b384cac464691b71de524df3f76": {
      "model_module": "@jupyter-widgets/base",
      "model_module_version": "1.2.0",
      "model_name": "LayoutModel",
      "state": {}
     },
     "17b669e2a25e44aebdfacc786bdce21f": {
      "model_module": "@jupyter-widgets/controls",
      "model_module_version": "1.5.0",
      "model_name": "HBoxModel",
      "state": {
       "children": [
        "IPY_MODEL_5ff4ccd332cc4185976a9fa29e9bc6b6",
        "IPY_MODEL_d415e63d75554a28af5856fca83c73d8",
        "IPY_MODEL_432f2ead12444b4094d262ac636a8d38"
       ],
       "layout": "IPY_MODEL_f23bdcf365864e7283374a7effa6bb59"
      }
     },
     "17bc7b480d5b42359e0d7877482c4d3b": {
      "model_module": "@jupyter-widgets/base",
      "model_module_version": "1.2.0",
      "model_name": "LayoutModel",
      "state": {}
     },
     "17d6f7905dc0497cb7a06e9c82079ff7": {
      "model_module": "@jupyter-widgets/controls",
      "model_module_version": "1.5.0",
      "model_name": "HTMLModel",
      "state": {
       "layout": "IPY_MODEL_10c9d45878e24c4aac9ceef06241e86a",
       "style": "IPY_MODEL_03d9b6d2701c47ed88b6fd0d5c36e0fc",
       "value": " 54/54 [00:02&lt;00:00, 22.44it/s]"
      }
     },
     "18276c85489b459e850d3cfa5cc37065": {
      "model_module": "@jupyter-widgets/controls",
      "model_module_version": "1.5.0",
      "model_name": "HTMLModel",
      "state": {
       "layout": "IPY_MODEL_d19eae58cd87416d9cad05d3d61d1c69",
       "style": "IPY_MODEL_a1adfd7b8dc64ee1b0756639fa3fda14",
       "value": " 82/82 [00:04&lt;00:00, 14.47it/s]"
      }
     },
     "18f0ab8a80304d0cbed33a86461aef3d": {
      "model_module": "@jupyter-widgets/controls",
      "model_module_version": "1.5.0",
      "model_name": "DescriptionStyleModel",
      "state": {
       "description_width": ""
      }
     },
     "196b85d52a33442988629a6bd32cf072": {
      "model_module": "@jupyter-widgets/base",
      "model_module_version": "1.2.0",
      "model_name": "LayoutModel",
      "state": {}
     },
     "19d7c9a1a2c34906ac541fc50098b5ab": {
      "model_module": "@jupyter-widgets/controls",
      "model_module_version": "1.5.0",
      "model_name": "HTMLModel",
      "state": {
       "layout": "IPY_MODEL_aa399732e043435aabcab50588ceead1",
       "style": "IPY_MODEL_f11a8f6d8d5e44d6a8d1ee301d77904a",
       "value": " 84/84 [00:04&lt;00:00, 12.39it/s]"
      }
     },
     "1a5d8c5a06e04be9a882aff531cfd644": {
      "model_module": "@jupyter-widgets/controls",
      "model_module_version": "1.5.0",
      "model_name": "DescriptionStyleModel",
      "state": {
       "description_width": ""
      }
     },
     "1aa4ea8f4633430ba3dc5e578ce296f9": {
      "model_module": "@jupyter-widgets/controls",
      "model_module_version": "1.5.0",
      "model_name": "HTMLModel",
      "state": {
       "layout": "IPY_MODEL_40360cf32c3e45cf96298453efadfc07",
       "style": "IPY_MODEL_1affd18507da430ba7fd70247b905bf6",
       "value": "100%"
      }
     },
     "1afa7dbb83a740d39434f20ddfdff546": {
      "model_module": "@jupyter-widgets/base",
      "model_module_version": "1.2.0",
      "model_name": "LayoutModel",
      "state": {}
     },
     "1affd18507da430ba7fd70247b905bf6": {
      "model_module": "@jupyter-widgets/controls",
      "model_module_version": "1.5.0",
      "model_name": "DescriptionStyleModel",
      "state": {
       "description_width": ""
      }
     },
     "1b05c213bb0843aca275d1e8038ea9a3": {
      "model_module": "@jupyter-widgets/controls",
      "model_module_version": "1.5.0",
      "model_name": "HTMLModel",
      "state": {
       "layout": "IPY_MODEL_4163b4e15e164519b2e99f029b561650",
       "style": "IPY_MODEL_54580992cd004004b69b201f0b387eb1",
       "value": " 88/88 [00:20&lt;00:00,  1.64it/s]"
      }
     },
     "1b28ad3ea5244bc5a3b3de1e08782961": {
      "model_module": "@jupyter-widgets/base",
      "model_module_version": "1.2.0",
      "model_name": "LayoutModel",
      "state": {}
     },
     "1b2d42a257e148fab54cef45760b22d9": {
      "model_module": "@jupyter-widgets/controls",
      "model_module_version": "1.5.0",
      "model_name": "DescriptionStyleModel",
      "state": {
       "description_width": ""
      }
     },
     "1b4edaf5c82a4be2bce08fe491b7f27b": {
      "model_module": "@jupyter-widgets/controls",
      "model_module_version": "1.5.0",
      "model_name": "ProgressStyleModel",
      "state": {
       "description_width": ""
      }
     },
     "1b71a4ee3921413883eabd5a587c4344": {
      "model_module": "@jupyter-widgets/base",
      "model_module_version": "1.2.0",
      "model_name": "LayoutModel",
      "state": {}
     },
     "1b896f2f8352471b8a78b8af4e3ac485": {
      "model_module": "@jupyter-widgets/controls",
      "model_module_version": "1.5.0",
      "model_name": "HTMLModel",
      "state": {
       "layout": "IPY_MODEL_66f0c0f5385d4baf8888c4827f05af9b",
       "style": "IPY_MODEL_7759a00465e24494879222ff04eab0f8",
       "value": "100%"
      }
     },
     "1bbcb68df9c649c6b1ccf93070f5c384": {
      "model_module": "@jupyter-widgets/base",
      "model_module_version": "1.2.0",
      "model_name": "LayoutModel",
      "state": {}
     },
     "1bf2d8785b8c4ab4b89dd432fb685bfc": {
      "model_module": "@jupyter-widgets/base",
      "model_module_version": "1.2.0",
      "model_name": "LayoutModel",
      "state": {}
     },
     "1c09d42281c34d30a92f0d7742dc0a76": {
      "model_module": "@jupyter-widgets/controls",
      "model_module_version": "1.5.0",
      "model_name": "HBoxModel",
      "state": {
       "children": [
        "IPY_MODEL_71d0c2ccdc494d4d877a16635c872de4",
        "IPY_MODEL_ffff83af3bdc409a84c334d2083623cf",
        "IPY_MODEL_66e7355d2fa84352a93c5b229393ff61"
       ],
       "layout": "IPY_MODEL_af96df8333874f25a5a284c1b21f5dc2"
      }
     },
     "1c3573d242694dec9837d2c0d80c1111": {
      "model_module": "@jupyter-widgets/base",
      "model_module_version": "1.2.0",
      "model_name": "LayoutModel",
      "state": {}
     },
     "1c4c17dc1ba64a14bc4ca1f561b14b2c": {
      "model_module": "@jupyter-widgets/base",
      "model_module_version": "1.2.0",
      "model_name": "LayoutModel",
      "state": {}
     },
     "1c629ce2746d4835b5d3294ae462e84d": {
      "model_module": "@jupyter-widgets/controls",
      "model_module_version": "1.5.0",
      "model_name": "FloatProgressModel",
      "state": {
       "bar_style": "success",
       "layout": "IPY_MODEL_f70cd80ea4a846809016aa9cbc724313",
       "max": 82,
       "style": "IPY_MODEL_0f90e261fee94a8cb8d09b325d6a18f8",
       "value": 82
      }
     },
     "1c75922f0757490abb542d479f5918a5": {
      "model_module": "@jupyter-widgets/controls",
      "model_module_version": "1.5.0",
      "model_name": "ProgressStyleModel",
      "state": {
       "description_width": ""
      }
     },
     "1cdc12061b1c45e7b8a3a03a124473f4": {
      "model_module": "@jupyter-widgets/controls",
      "model_module_version": "1.5.0",
      "model_name": "FloatProgressModel",
      "state": {
       "bar_style": "success",
       "layout": "IPY_MODEL_84f5641fd9c54154a5370048bafd7376",
       "max": 64,
       "style": "IPY_MODEL_4afa032d328b4ce1ac412da5d72d955f",
       "value": 64
      }
     },
     "1ce27eece55d4aa7aeb4d19ccb01aa21": {
      "model_module": "@jupyter-widgets/controls",
      "model_module_version": "1.5.0",
      "model_name": "HTMLModel",
      "state": {
       "layout": "IPY_MODEL_e446fad8faf643dcb72bda98e18eafdb",
       "style": "IPY_MODEL_7df04e38b4fc4d1ba822e1929cf9b38a",
       "value": " 76/76 [00:05&lt;00:00,  6.14it/s]"
      }
     },
     "1d87e463fbad41b98a5c170dc7a4df47": {
      "model_module": "@jupyter-widgets/controls",
      "model_module_version": "1.5.0",
      "model_name": "ProgressStyleModel",
      "state": {
       "description_width": ""
      }
     },
     "1d8dc201b74a4f5cb7b9af7bae397066": {
      "model_module": "@jupyter-widgets/controls",
      "model_module_version": "1.5.0",
      "model_name": "HBoxModel",
      "state": {
       "children": [
        "IPY_MODEL_6d92a2893cc24201bfbfcdae376955a1",
        "IPY_MODEL_a633b0af6104452980e85a41a31f274e",
        "IPY_MODEL_6c34f12df3394e9b8255045aab932012"
       ],
       "layout": "IPY_MODEL_7b64e305fa8746bda3e1d4d6a8d48b49"
      }
     },
     "1dbbb7368e2647e8bd453934ac93a228": {
      "model_module": "@jupyter-widgets/base",
      "model_module_version": "1.2.0",
      "model_name": "LayoutModel",
      "state": {}
     },
     "1e51ca94d09d4a5c908cd715fe94de06": {
      "model_module": "@jupyter-widgets/controls",
      "model_module_version": "1.5.0",
      "model_name": "HTMLModel",
      "state": {
       "layout": "IPY_MODEL_837b34016f894fc3989db726d213ea18",
       "style": "IPY_MODEL_7a95552162884da99ef718937e0aaf80",
       "value": " 76/76 [00:04&lt;00:00, 14.28it/s]"
      }
     },
     "1e9108498e9c439bbd4c4f23d32332ec": {
      "model_module": "@jupyter-widgets/controls",
      "model_module_version": "1.5.0",
      "model_name": "DescriptionStyleModel",
      "state": {
       "description_width": ""
      }
     },
     "1faf8d8b14f54adc9b5bbd370e2fd1bc": {
      "model_module": "@jupyter-widgets/base",
      "model_module_version": "1.2.0",
      "model_name": "LayoutModel",
      "state": {}
     },
     "209c809645254aff9353f8d29e1b79c4": {
      "model_module": "@jupyter-widgets/controls",
      "model_module_version": "1.5.0",
      "model_name": "FloatProgressModel",
      "state": {
       "bar_style": "success",
       "layout": "IPY_MODEL_0a85942020454bdebd142611c3ae964a",
       "max": 82,
       "style": "IPY_MODEL_bb31bca0f3c244df85b0c939e89fd74d",
       "value": 82
      }
     },
     "210c3562f39c43b5b96d5cd2c6fb1afa": {
      "model_module": "@jupyter-widgets/base",
      "model_module_version": "1.2.0",
      "model_name": "LayoutModel",
      "state": {}
     },
     "217b0574d160423e8fa902adc5922686": {
      "model_module": "@jupyter-widgets/controls",
      "model_module_version": "1.5.0",
      "model_name": "DescriptionStyleModel",
      "state": {
       "description_width": ""
      }
     },
     "2188bf80665c4382bd3df091b9f21c7d": {
      "model_module": "@jupyter-widgets/base",
      "model_module_version": "1.2.0",
      "model_name": "LayoutModel",
      "state": {}
     },
     "2195298df40444d184ed93ff270de98a": {
      "model_module": "@jupyter-widgets/controls",
      "model_module_version": "1.5.0",
      "model_name": "HTMLModel",
      "state": {
       "layout": "IPY_MODEL_605492a9d36f439eb77e8d63afcf6cba",
       "style": "IPY_MODEL_266790bb2edd485e84a337d1d4d751e6",
       "value": " 68/68 [00:04&lt;00:00, 10.74it/s]"
      }
     },
     "21eb1bae288746e691d43a92c11da683": {
      "model_module": "@jupyter-widgets/controls",
      "model_module_version": "1.5.0",
      "model_name": "HTMLModel",
      "state": {
       "layout": "IPY_MODEL_50465d81c36e46549013e5b9df72f752",
       "style": "IPY_MODEL_63a057e53c8940738e9a008f03c28614",
       "value": " 76/76 [00:05&lt;00:00,  6.62it/s]"
      }
     },
     "21fd497340b04876b76d9c08fdaf1900": {
      "model_module": "@jupyter-widgets/controls",
      "model_module_version": "1.5.0",
      "model_name": "DescriptionStyleModel",
      "state": {
       "description_width": ""
      }
     },
     "21ffade8fed34507931781ab7131e93e": {
      "model_module": "@jupyter-widgets/controls",
      "model_module_version": "1.5.0",
      "model_name": "FloatProgressModel",
      "state": {
       "bar_style": "success",
       "layout": "IPY_MODEL_92f260d21b484b929de52e7258a23d8c",
       "max": 48,
       "style": "IPY_MODEL_dedebc3e64224f6b956b637f491f9c9b",
       "value": 48
      }
     },
     "229308bc465743edb30bd4dc5ca20ba1": {
      "model_module": "@jupyter-widgets/controls",
      "model_module_version": "1.5.0",
      "model_name": "FloatProgressModel",
      "state": {
       "bar_style": "success",
       "layout": "IPY_MODEL_31108f0bdb9d4c7484510cd573def452",
       "max": 70,
       "style": "IPY_MODEL_b903e2eed8164868ab8b1970db3dbb57",
       "value": 70
      }
     },
     "22ce688032664bbc81f61ad79e16f1f4": {
      "model_module": "@jupyter-widgets/base",
      "model_module_version": "1.2.0",
      "model_name": "LayoutModel",
      "state": {}
     },
     "23055cd422ef4fb98c4f7fdf98c1bbc0": {
      "model_module": "@jupyter-widgets/controls",
      "model_module_version": "1.5.0",
      "model_name": "ProgressStyleModel",
      "state": {
       "description_width": ""
      }
     },
     "231434ff69e14231b675d18f27901467": {
      "model_module": "@jupyter-widgets/controls",
      "model_module_version": "1.5.0",
      "model_name": "HTMLModel",
      "state": {
       "layout": "IPY_MODEL_0346baa579a84e81887928e4a433ab18",
       "style": "IPY_MODEL_4bb324fd3184471fa1ad5cc2368c9003",
       "value": "100%"
      }
     },
     "2320685ba4b048dd8f8e5a67814b9684": {
      "model_module": "@jupyter-widgets/base",
      "model_module_version": "1.2.0",
      "model_name": "LayoutModel",
      "state": {}
     },
     "2351051d15f34bc2a51c9476a084a23d": {
      "model_module": "@jupyter-widgets/controls",
      "model_module_version": "1.5.0",
      "model_name": "HTMLModel",
      "state": {
       "layout": "IPY_MODEL_56017f7a1cbe41248aa3acafaf74e60f",
       "style": "IPY_MODEL_4c56e9b87f844f8b84c80648b89d46b8",
       "value": "100%"
      }
     },
     "2409debf08c647f3a9a761ed832da517": {
      "model_module": "@jupyter-widgets/controls",
      "model_module_version": "1.5.0",
      "model_name": "HTMLModel",
      "state": {
       "layout": "IPY_MODEL_c025db36496c4729a17bb353eff6f55c",
       "style": "IPY_MODEL_3f9f7a84a7554aec817cfbffca65c750",
       "value": " 72/72 [00:02&lt;00:00, 280.12it/s]"
      }
     },
     "2442a7b7524846ac9c0432e9942b807d": {
      "model_module": "@jupyter-widgets/base",
      "model_module_version": "1.2.0",
      "model_name": "LayoutModel",
      "state": {}
     },
     "24548e8581594d359721ac72f7fff782": {
      "model_module": "@jupyter-widgets/controls",
      "model_module_version": "1.5.0",
      "model_name": "ProgressStyleModel",
      "state": {
       "description_width": ""
      }
     },
     "24b804e072a248719cddedb7162f83c6": {
      "model_module": "@jupyter-widgets/controls",
      "model_module_version": "1.5.0",
      "model_name": "ProgressStyleModel",
      "state": {
       "description_width": ""
      }
     },
     "25227a748f5242cd91e0a93e6c045500": {
      "model_module": "@jupyter-widgets/controls",
      "model_module_version": "1.5.0",
      "model_name": "HBoxModel",
      "state": {
       "children": [
        "IPY_MODEL_25892597c5f64214a1664643b61ae67e",
        "IPY_MODEL_02b6b49612fe446e91ab1b9f4fc4eb57",
        "IPY_MODEL_a0bb5a09fb9b46a08d65ba3db6449bd9"
       ],
       "layout": "IPY_MODEL_2ddce20c767c4e1282f2229fb4b6bc16"
      }
     },
     "2566db42dbf74ab588b1d6ae339533fa": {
      "model_module": "@jupyter-widgets/controls",
      "model_module_version": "1.5.0",
      "model_name": "HTMLModel",
      "state": {
       "layout": "IPY_MODEL_31f9063fc5f149569a8f9afcca8c45c9",
       "style": "IPY_MODEL_a2d3cc2c0ac84d60bbce92b504bed75f",
       "value": " 74/74 [00:03&lt;00:00, 16.72it/s]"
      }
     },
     "258320c69b774adf9c50bd4c61f48dcf": {
      "model_module": "@jupyter-widgets/controls",
      "model_module_version": "1.5.0",
      "model_name": "DescriptionStyleModel",
      "state": {
       "description_width": ""
      }
     },
     "2587d1e2af57428e8e492a1d22c30cf7": {
      "model_module": "@jupyter-widgets/controls",
      "model_module_version": "1.5.0",
      "model_name": "FloatProgressModel",
      "state": {
       "bar_style": "success",
       "layout": "IPY_MODEL_01fafaf288fb451ba475639854e40a42",
       "max": 86,
       "style": "IPY_MODEL_91babac551be43be9ad1e0be1d28ebdb",
       "value": 86
      }
     },
     "25892597c5f64214a1664643b61ae67e": {
      "model_module": "@jupyter-widgets/controls",
      "model_module_version": "1.5.0",
      "model_name": "HTMLModel",
      "state": {
       "layout": "IPY_MODEL_af1ff78bea8147c8ab530e6bed895c41",
       "style": "IPY_MODEL_cef8c7697ceb4072834906a9aa04a4be",
       "value": "100%"
      }
     },
     "25aef93cecbf458999b1e04db7798347": {
      "model_module": "@jupyter-widgets/base",
      "model_module_version": "1.2.0",
      "model_name": "LayoutModel",
      "state": {}
     },
     "25b9be95efb849f088e54b70fcc6ad99": {
      "model_module": "@jupyter-widgets/base",
      "model_module_version": "1.2.0",
      "model_name": "LayoutModel",
      "state": {}
     },
     "25e4c5c14f7e444fb0ab8942796ae5ec": {
      "model_module": "@jupyter-widgets/controls",
      "model_module_version": "1.5.0",
      "model_name": "HTMLModel",
      "state": {
       "layout": "IPY_MODEL_30b9e933bc2b44edad13fbacd5562b80",
       "style": "IPY_MODEL_5354851f5a6049a68362d57ea4442598",
       "value": "100%"
      }
     },
     "25e7880a937a47d59a28ed1394d1ed27": {
      "model_module": "@jupyter-widgets/controls",
      "model_module_version": "1.5.0",
      "model_name": "HTMLModel",
      "state": {
       "layout": "IPY_MODEL_c18b3f74742c4a8cb1a9f9f2f3a1ce28",
       "style": "IPY_MODEL_91c60f0128cf41e2ab2ec7fa49174adb",
       "value": " 82/82 [00:07&lt;00:00,  6.36it/s]"
      }
     },
     "266790bb2edd485e84a337d1d4d751e6": {
      "model_module": "@jupyter-widgets/controls",
      "model_module_version": "1.5.0",
      "model_name": "DescriptionStyleModel",
      "state": {
       "description_width": ""
      }
     },
     "266998a2f5734e7f83b5a5c794bc1487": {
      "model_module": "@jupyter-widgets/controls",
      "model_module_version": "1.5.0",
      "model_name": "DescriptionStyleModel",
      "state": {
       "description_width": ""
      }
     },
     "26a0c03d5ccc41a794434ef62487f4b3": {
      "model_module": "@jupyter-widgets/controls",
      "model_module_version": "1.5.0",
      "model_name": "DescriptionStyleModel",
      "state": {
       "description_width": ""
      }
     },
     "26cd7af7cdb043a0af8d53662118a200": {
      "model_module": "@jupyter-widgets/base",
      "model_module_version": "1.2.0",
      "model_name": "LayoutModel",
      "state": {}
     },
     "26db9eb2c2894a48bd4c48104d398bd3": {
      "model_module": "@jupyter-widgets/controls",
      "model_module_version": "1.5.0",
      "model_name": "HBoxModel",
      "state": {
       "children": [
        "IPY_MODEL_8b686de905a245fe8aa1786926a1260f",
        "IPY_MODEL_1c629ce2746d4835b5d3294ae462e84d",
        "IPY_MODEL_9dd4e15db29649c280b772082de0f81c"
       ],
       "layout": "IPY_MODEL_ea05e46fa16148a7851c4dc167a881ab"
      }
     },
     "26e6c676b4da477ea7adf3fb472d5a27": {
      "model_module": "@jupyter-widgets/base",
      "model_module_version": "1.2.0",
      "model_name": "LayoutModel",
      "state": {}
     },
     "276bf5dfe10d48278265b43b4189566f": {
      "model_module": "@jupyter-widgets/controls",
      "model_module_version": "1.5.0",
      "model_name": "FloatProgressModel",
      "state": {
       "bar_style": "success",
       "layout": "IPY_MODEL_a0a09c3b5ede4b4b9da1d4fd392be507",
       "max": 72,
       "style": "IPY_MODEL_ca814608a8ad46c1a158e4b80fb95dde",
       "value": 72
      }
     },
     "2791da9504aa4d0e953181ad94fbc8e0": {
      "model_module": "@jupyter-widgets/controls",
      "model_module_version": "1.5.0",
      "model_name": "DescriptionStyleModel",
      "state": {
       "description_width": ""
      }
     },
     "281cfa6abc644134a1a3b9f575ceda47": {
      "model_module": "@jupyter-widgets/base",
      "model_module_version": "1.2.0",
      "model_name": "LayoutModel",
      "state": {}
     },
     "282448c8aa17449e9e20f7c2a32fc1f2": {
      "model_module": "@jupyter-widgets/controls",
      "model_module_version": "1.5.0",
      "model_name": "FloatProgressModel",
      "state": {
       "bar_style": "success",
       "layout": "IPY_MODEL_66e1b97727b84aae898beef89b663b1d",
       "max": 72,
       "style": "IPY_MODEL_dde94addc4d74862af7650e1cbad8187",
       "value": 72
      }
     },
     "282b50407d40426cb12c76351e516d73": {
      "model_module": "@jupyter-widgets/controls",
      "model_module_version": "1.5.0",
      "model_name": "HTMLModel",
      "state": {
       "layout": "IPY_MODEL_281cfa6abc644134a1a3b9f575ceda47",
       "style": "IPY_MODEL_4706b06a3c8d41ef9a31bb89b6eb68b2",
       "value": "100%"
      }
     },
     "285dd1eba22948a5a08a419c6127b2d0": {
      "model_module": "@jupyter-widgets/base",
      "model_module_version": "1.2.0",
      "model_name": "LayoutModel",
      "state": {}
     },
     "28834f956e504707b90cee5b0a72e392": {
      "model_module": "@jupyter-widgets/base",
      "model_module_version": "1.2.0",
      "model_name": "LayoutModel",
      "state": {}
     },
     "28b18556fb7a4606a6a08832940a10e3": {
      "model_module": "@jupyter-widgets/controls",
      "model_module_version": "1.5.0",
      "model_name": "HTMLModel",
      "state": {
       "layout": "IPY_MODEL_cc2397ac75e7471e92e09c67ef9047c4",
       "style": "IPY_MODEL_6b31be7f76154662b1c34b9262ce671f",
       "value": " 72/72 [00:05&lt;00:00, 10.07it/s]"
      }
     },
     "290ac2732ee54130a35699569f07dac6": {
      "model_module": "@jupyter-widgets/controls",
      "model_module_version": "1.5.0",
      "model_name": "HTMLModel",
      "state": {
       "layout": "IPY_MODEL_79911a2ef7fa44fa8ce2927140759a9a",
       "style": "IPY_MODEL_6b733d062e4d4cd6a68ec252b0ff9702",
       "value": "100%"
      }
     },
     "295daf85c4cd43ceb7b9aa31d754b4fc": {
      "model_module": "@jupyter-widgets/base",
      "model_module_version": "1.2.0",
      "model_name": "LayoutModel",
      "state": {}
     },
     "29aae152832e4ea7a106d21bc1fcfee1": {
      "model_module": "@jupyter-widgets/controls",
      "model_module_version": "1.5.0",
      "model_name": "ProgressStyleModel",
      "state": {
       "description_width": ""
      }
     },
     "29bb32dd971040abbc8f89f0f324ef34": {
      "model_module": "@jupyter-widgets/controls",
      "model_module_version": "1.5.0",
      "model_name": "FloatProgressModel",
      "state": {
       "bar_style": "success",
       "layout": "IPY_MODEL_d0c1b3f346e94cbfb4372fe771ab6bef",
       "max": 76,
       "style": "IPY_MODEL_69abe47fbc5a4a2d9b1108ade379c3f1",
       "value": 76
      }
     },
     "2ad6428f06234639bb978f4e6a7bc21f": {
      "model_module": "@jupyter-widgets/controls",
      "model_module_version": "1.5.0",
      "model_name": "DescriptionStyleModel",
      "state": {
       "description_width": ""
      }
     },
     "2ad8815b62904159b7c818151ad29662": {
      "model_module": "@jupyter-widgets/controls",
      "model_module_version": "1.5.0",
      "model_name": "HTMLModel",
      "state": {
       "layout": "IPY_MODEL_f49d57b7187e4172ab3d92fdf839fe68",
       "style": "IPY_MODEL_8f15bfdd6e154e32b8fdeb3e6e68d32d",
       "value": " 72/72 [00:03&lt;00:00, 11.43it/s]"
      }
     },
     "2add138378ef4639b31c3c731db55106": {
      "model_module": "@jupyter-widgets/controls",
      "model_module_version": "1.5.0",
      "model_name": "ProgressStyleModel",
      "state": {
       "description_width": ""
      }
     },
     "2aee28cc2e5341dba7ce255062213796": {
      "model_module": "@jupyter-widgets/controls",
      "model_module_version": "1.5.0",
      "model_name": "HBoxModel",
      "state": {
       "children": [
        "IPY_MODEL_b630350e5d194190bfc8105d30643d29",
        "IPY_MODEL_3ffff8944a474d8fae56aa75446378c3",
        "IPY_MODEL_9646ae429f3840b99ab1188bc2c66878"
       ],
       "layout": "IPY_MODEL_cc1e34dcd59a44cab18ffc32b6f480f1"
      }
     },
     "2b21dd3a4b7c450f80cecb812539fcd3": {
      "model_module": "@jupyter-widgets/controls",
      "model_module_version": "1.5.0",
      "model_name": "DescriptionStyleModel",
      "state": {
       "description_width": ""
      }
     },
     "2b3f30addfb24ee18d6c8381a2cc2bd3": {
      "model_module": "@jupyter-widgets/controls",
      "model_module_version": "1.5.0",
      "model_name": "HTMLModel",
      "state": {
       "layout": "IPY_MODEL_a823b83169f049d79e78a4de1543e5ba",
       "style": "IPY_MODEL_d99a7ac3d44f442dac0519cefe79383a",
       "value": "100%"
      }
     },
     "2b66d5c2c70e4103884b87a99ebfced4": {
      "model_module": "@jupyter-widgets/base",
      "model_module_version": "1.2.0",
      "model_name": "LayoutModel",
      "state": {}
     },
     "2b7de9af6f78488c9f937ce318285853": {
      "model_module": "@jupyter-widgets/base",
      "model_module_version": "1.2.0",
      "model_name": "LayoutModel",
      "state": {}
     },
     "2b80e069563443b7b1d898c87f5dd4c3": {
      "model_module": "@jupyter-widgets/controls",
      "model_module_version": "1.5.0",
      "model_name": "DescriptionStyleModel",
      "state": {
       "description_width": ""
      }
     },
     "2bb55fbc6d294c18972927eac20a683b": {
      "model_module": "@jupyter-widgets/base",
      "model_module_version": "1.2.0",
      "model_name": "LayoutModel",
      "state": {}
     },
     "2bb815a7a990491c9599a14fd08a4052": {
      "model_module": "@jupyter-widgets/controls",
      "model_module_version": "1.5.0",
      "model_name": "ProgressStyleModel",
      "state": {
       "description_width": ""
      }
     },
     "2c0e115a93e7422dbf08045f46d3d816": {
      "model_module": "@jupyter-widgets/base",
      "model_module_version": "1.2.0",
      "model_name": "LayoutModel",
      "state": {}
     },
     "2ca446b0fcc64e9b8e474c16b2ece351": {
      "model_module": "@jupyter-widgets/controls",
      "model_module_version": "1.5.0",
      "model_name": "DescriptionStyleModel",
      "state": {
       "description_width": ""
      }
     },
     "2cad7bb23c7a4d04977a69bf22d33782": {
      "model_module": "@jupyter-widgets/controls",
      "model_module_version": "1.5.0",
      "model_name": "HTMLModel",
      "state": {
       "layout": "IPY_MODEL_44519e5aff9848f4ac485ff1be2649da",
       "style": "IPY_MODEL_327e1b1ef3e14e1a82bd4342bb33320d",
       "value": "100%"
      }
     },
     "2d40d157804441c3a45f3cd732005b75": {
      "model_module": "@jupyter-widgets/controls",
      "model_module_version": "1.5.0",
      "model_name": "HBoxModel",
      "state": {
       "children": [
        "IPY_MODEL_4e1f41cebee54dc9a492aeb5cf866d6f",
        "IPY_MODEL_cdd0a4cac02a42329976299a4fc7c0d7",
        "IPY_MODEL_59769a1895b94947ae5f75850171f65b"
       ],
       "layout": "IPY_MODEL_8563c56a2ab94b9ba15723349dd3f444"
      }
     },
     "2d5672047618437f9fae4ec7fd6aadf1": {
      "model_module": "@jupyter-widgets/base",
      "model_module_version": "1.2.0",
      "model_name": "LayoutModel",
      "state": {}
     },
     "2d5d5cb206dd49a8b2b5d37ef26b5079": {
      "model_module": "@jupyter-widgets/controls",
      "model_module_version": "1.5.0",
      "model_name": "HBoxModel",
      "state": {
       "children": [
        "IPY_MODEL_cd13dc3b55164aec842707a92b92f33e",
        "IPY_MODEL_406a59c361714706a301c29b034af086",
        "IPY_MODEL_2566db42dbf74ab588b1d6ae339533fa"
       ],
       "layout": "IPY_MODEL_a98b54c80ad3452bbbca90eeb58f8716"
      }
     },
     "2dad42fa8d8d4c4d8f569f2666733dd9": {
      "model_module": "@jupyter-widgets/controls",
      "model_module_version": "1.5.0",
      "model_name": "HBoxModel",
      "state": {
       "children": [
        "IPY_MODEL_6ce5aa4999a047309b400bdd870edb7e",
        "IPY_MODEL_fe35f8c85edc47f79481f81440a94f4c",
        "IPY_MODEL_61a63d2eeb304bb38e352c99124d06fd"
       ],
       "layout": "IPY_MODEL_295daf85c4cd43ceb7b9aa31d754b4fc"
      }
     },
     "2dba14a1ff504f3282cee0433d2fe4fb": {
      "model_module": "@jupyter-widgets/base",
      "model_module_version": "1.2.0",
      "model_name": "LayoutModel",
      "state": {}
     },
     "2dbd7ef3252748b59ac393c60303a817": {
      "model_module": "@jupyter-widgets/controls",
      "model_module_version": "1.5.0",
      "model_name": "DescriptionStyleModel",
      "state": {
       "description_width": ""
      }
     },
     "2ddce20c767c4e1282f2229fb4b6bc16": {
      "model_module": "@jupyter-widgets/base",
      "model_module_version": "1.2.0",
      "model_name": "LayoutModel",
      "state": {}
     },
     "2e258f7e15c94c7e85e778c3fca4b7af": {
      "model_module": "@jupyter-widgets/base",
      "model_module_version": "1.2.0",
      "model_name": "LayoutModel",
      "state": {}
     },
     "2e67ddc441474439b9b52d8ceacfd22e": {
      "model_module": "@jupyter-widgets/controls",
      "model_module_version": "1.5.0",
      "model_name": "HTMLModel",
      "state": {
       "layout": "IPY_MODEL_73c76547e43e40eda0bf554ffc001305",
       "style": "IPY_MODEL_96c58543db0044a3850867a7811a18f3",
       "value": " 76/76 [00:06&lt;00:00,  7.13it/s]"
      }
     },
     "2e8c3a120af94fcbb59422c16c3e21f3": {
      "model_module": "@jupyter-widgets/base",
      "model_module_version": "1.2.0",
      "model_name": "LayoutModel",
      "state": {}
     },
     "2eac4c7bddf2491ca4f5c4a25e805b4b": {
      "model_module": "@jupyter-widgets/controls",
      "model_module_version": "1.5.0",
      "model_name": "HTMLModel",
      "state": {
       "layout": "IPY_MODEL_a14831ec3f534d89b1f32b6854bfdc48",
       "style": "IPY_MODEL_548d5bfbddba4313997d8dcc124286ec",
       "value": " 74/74 [00:02&lt;00:00, 14.65it/s]"
      }
     },
     "2ec268e39a634afdbebbc41497e8f681": {
      "model_module": "@jupyter-widgets/controls",
      "model_module_version": "1.5.0",
      "model_name": "DescriptionStyleModel",
      "state": {
       "description_width": ""
      }
     },
     "2ef2ce452451414b9befda5e4eefa5f7": {
      "model_module": "@jupyter-widgets/controls",
      "model_module_version": "1.5.0",
      "model_name": "HBoxModel",
      "state": {
       "children": [
        "IPY_MODEL_ef7ae3121c10456880391f558aa64033",
        "IPY_MODEL_3f1e108eacb640378525c517147b9a5a",
        "IPY_MODEL_ca1e7bd85ed14d01bbb685c0affe4601"
       ],
       "layout": "IPY_MODEL_e7340073efb64267a76bbfd691e69f8b"
      }
     },
     "2f179b081f6d4e69b5d6d37559562d91": {
      "model_module": "@jupyter-widgets/controls",
      "model_module_version": "1.5.0",
      "model_name": "DescriptionStyleModel",
      "state": {
       "description_width": ""
      }
     },
     "2f2341bb73fe4db29a5f5fe126981c2d": {
      "model_module": "@jupyter-widgets/controls",
      "model_module_version": "1.5.0",
      "model_name": "DescriptionStyleModel",
      "state": {
       "description_width": ""
      }
     },
     "2f300306ca5b4b2e8cb433aeb492c137": {
      "model_module": "@jupyter-widgets/controls",
      "model_module_version": "1.5.0",
      "model_name": "DescriptionStyleModel",
      "state": {
       "description_width": ""
      }
     },
     "2f50d3134e4d4a8db80c9ce6e5578114": {
      "model_module": "@jupyter-widgets/base",
      "model_module_version": "1.2.0",
      "model_name": "LayoutModel",
      "state": {}
     },
     "2f8c1f551dc2417ead127a6c53e3d479": {
      "model_module": "@jupyter-widgets/controls",
      "model_module_version": "1.5.0",
      "model_name": "HBoxModel",
      "state": {
       "children": [
        "IPY_MODEL_590cbfba2f794ed7b109c8db7adc2161",
        "IPY_MODEL_dce322958ec943c589b53a23261783bf",
        "IPY_MODEL_30d128bbf55e423ba90247e92faf5ea5"
       ],
       "layout": "IPY_MODEL_44c7af804ea64c2c8696f141a82f59e2"
      }
     },
     "2f9d32c67c71474db1bf6b76325313b2": {
      "model_module": "@jupyter-widgets/controls",
      "model_module_version": "1.5.0",
      "model_name": "DescriptionStyleModel",
      "state": {
       "description_width": ""
      }
     },
     "2faf7d2213a3405ea09f84d75b4102d3": {
      "model_module": "@jupyter-widgets/controls",
      "model_module_version": "1.5.0",
      "model_name": "HTMLModel",
      "state": {
       "layout": "IPY_MODEL_e314e58bf7a548bba829442db6165743",
       "style": "IPY_MODEL_3b0150c1265d4396a2fba6123003191f",
       "value": " 74/74 [00:03&lt;00:00, 13.57it/s]"
      }
     },
     "2fb4a581f10c4911ad2e60fb8ffde847": {
      "model_module": "@jupyter-widgets/base",
      "model_module_version": "1.2.0",
      "model_name": "LayoutModel",
      "state": {}
     },
     "2fbd31d3dffd4ab2832d0b10ccde4d7c": {
      "model_module": "@jupyter-widgets/base",
      "model_module_version": "1.2.0",
      "model_name": "LayoutModel",
      "state": {}
     },
     "2fd991ab693b4b4ab09e07187c90af8d": {
      "model_module": "@jupyter-widgets/controls",
      "model_module_version": "1.5.0",
      "model_name": "HTMLModel",
      "state": {
       "layout": "IPY_MODEL_17bc7b480d5b42359e0d7877482c4d3b",
       "style": "IPY_MODEL_341d194b7e2244c598569c56a5471d72",
       "value": "100%"
      }
     },
     "3011e9825f114ca6811f7cf4edf59d5d": {
      "model_module": "@jupyter-widgets/base",
      "model_module_version": "1.2.0",
      "model_name": "LayoutModel",
      "state": {}
     },
     "309b5f4d2cbf4ab0a7f2f2d5e627c2f9": {
      "model_module": "@jupyter-widgets/base",
      "model_module_version": "1.2.0",
      "model_name": "LayoutModel",
      "state": {}
     },
     "30b9e933bc2b44edad13fbacd5562b80": {
      "model_module": "@jupyter-widgets/base",
      "model_module_version": "1.2.0",
      "model_name": "LayoutModel",
      "state": {}
     },
     "30cb6378a2f1472489743e5b59fe18ba": {
      "model_module": "@jupyter-widgets/controls",
      "model_module_version": "1.5.0",
      "model_name": "FloatProgressModel",
      "state": {
       "bar_style": "success",
       "layout": "IPY_MODEL_bbfeb2961eee4ef7880bc4b54c965a90",
       "max": 55,
       "style": "IPY_MODEL_cf01386d86ca49d385d423fbf4b92770",
       "value": 55
      }
     },
     "30d128bbf55e423ba90247e92faf5ea5": {
      "model_module": "@jupyter-widgets/controls",
      "model_module_version": "1.5.0",
      "model_name": "HTMLModel",
      "state": {
       "layout": "IPY_MODEL_2b7de9af6f78488c9f937ce318285853",
       "style": "IPY_MODEL_acd4d8f73a17421fa988d82a8a32988f",
       "value": " 80/80 [00:09&lt;00:00,  6.01it/s]"
      }
     },
     "30d1333c089b440f998e94a9a6d59e18": {
      "model_module": "@jupyter-widgets/controls",
      "model_module_version": "1.5.0",
      "model_name": "HTMLModel",
      "state": {
       "layout": "IPY_MODEL_f733071d2db84138af888c572f8d732a",
       "style": "IPY_MODEL_873b731e121846b8908005c83fe66439",
       "value": "100%"
      }
     },
     "31108f0bdb9d4c7484510cd573def452": {
      "model_module": "@jupyter-widgets/base",
      "model_module_version": "1.2.0",
      "model_name": "LayoutModel",
      "state": {}
     },
     "3111b2a15fd947749e15b70fbaffa2d1": {
      "model_module": "@jupyter-widgets/controls",
      "model_module_version": "1.5.0",
      "model_name": "HTMLModel",
      "state": {
       "layout": "IPY_MODEL_1375f7ecd6e24b799ae724f24aecaf8b",
       "style": "IPY_MODEL_fb4d85b773a9484b87e45a43037366fa",
       "value": " 48/48 [00:05&lt;00:00,  6.98it/s]"
      }
     },
     "311e610ecb604c908c4dde1e8ed25a0b": {
      "model_module": "@jupyter-widgets/controls",
      "model_module_version": "1.5.0",
      "model_name": "HTMLModel",
      "state": {
       "layout": "IPY_MODEL_87084d48e21f4c8889e065bc293b93b1",
       "style": "IPY_MODEL_f2669b4906524140aee78ff67562b7f7",
       "value": "100%"
      }
     },
     "312cf74ecfe24b0eacad086a1bf65375": {
      "model_module": "@jupyter-widgets/base",
      "model_module_version": "1.2.0",
      "model_name": "LayoutModel",
      "state": {}
     },
     "31f9063fc5f149569a8f9afcca8c45c9": {
      "model_module": "@jupyter-widgets/base",
      "model_module_version": "1.2.0",
      "model_name": "LayoutModel",
      "state": {}
     },
     "32668e7823ef4843bbb9a15d92883d8b": {
      "model_module": "@jupyter-widgets/base",
      "model_module_version": "1.2.0",
      "model_name": "LayoutModel",
      "state": {}
     },
     "3272e6efd90646cabf613296818fca99": {
      "model_module": "@jupyter-widgets/base",
      "model_module_version": "1.2.0",
      "model_name": "LayoutModel",
      "state": {}
     },
     "327e1b1ef3e14e1a82bd4342bb33320d": {
      "model_module": "@jupyter-widgets/controls",
      "model_module_version": "1.5.0",
      "model_name": "DescriptionStyleModel",
      "state": {
       "description_width": ""
      }
     },
     "32db5014208b4a58975ffad747cbc3f4": {
      "model_module": "@jupyter-widgets/controls",
      "model_module_version": "1.5.0",
      "model_name": "HBoxModel",
      "state": {
       "children": [
        "IPY_MODEL_daf49e98c4484fbda2015638f218ca74",
        "IPY_MODEL_afcb51042f244c76a9c966aa590d6a78",
        "IPY_MODEL_c216dfef6bd544d9a3712a466c6cb05b"
       ],
       "layout": "IPY_MODEL_af4032790c2d42f3a0fe4f0da726c271"
      }
     },
     "331043017a1d4ca689d6a53d01b7cf7d": {
      "model_module": "@jupyter-widgets/base",
      "model_module_version": "1.2.0",
      "model_name": "LayoutModel",
      "state": {}
     },
     "33a0f00c9587454aac3118012573e125": {
      "model_module": "@jupyter-widgets/controls",
      "model_module_version": "1.5.0",
      "model_name": "HBoxModel",
      "state": {
       "children": [
        "IPY_MODEL_1b896f2f8352471b8a78b8af4e3ac485",
        "IPY_MODEL_133da0b1b3b242149eefc32bcd5acdb6",
        "IPY_MODEL_28b18556fb7a4606a6a08832940a10e3"
       ],
       "layout": "IPY_MODEL_5850ec67ee374eac82b6c497e7a9b6fb"
      }
     },
     "33c215b0e7fb4ea19f4af102e5cd8377": {
      "model_module": "@jupyter-widgets/controls",
      "model_module_version": "1.5.0",
      "model_name": "FloatProgressModel",
      "state": {
       "bar_style": "success",
       "layout": "IPY_MODEL_8a587efa794e490faab0253c765e836e",
       "max": 72,
       "style": "IPY_MODEL_a5b9b41a5b874cb8abd432e8487b786f",
       "value": 72
      }
     },
     "3417a97d01c149178a65aa0a3069435c": {
      "model_module": "@jupyter-widgets/controls",
      "model_module_version": "1.5.0",
      "model_name": "DescriptionStyleModel",
      "state": {
       "description_width": ""
      }
     },
     "341d194b7e2244c598569c56a5471d72": {
      "model_module": "@jupyter-widgets/controls",
      "model_module_version": "1.5.0",
      "model_name": "DescriptionStyleModel",
      "state": {
       "description_width": ""
      }
     },
     "34239340c5804d2f937267f79d260072": {
      "model_module": "@jupyter-widgets/controls",
      "model_module_version": "1.5.0",
      "model_name": "HBoxModel",
      "state": {
       "children": [
        "IPY_MODEL_0e354c3a68f54b9d96b4ebe4b303e442",
        "IPY_MODEL_b51856ffc5a84d039ec948eef66817fd",
        "IPY_MODEL_12b7367e469447ccbe4e1ee850876e57"
       ],
       "layout": "IPY_MODEL_a0b25ede1e9f4ab8801f9c7a6f832c39"
      }
     },
     "3485bcc88df046fd86ad18f03dd2ebef": {
      "model_module": "@jupyter-widgets/base",
      "model_module_version": "1.2.0",
      "model_name": "LayoutModel",
      "state": {}
     },
     "348cefbd77e2490a89203052a4f0bbf8": {
      "model_module": "@jupyter-widgets/controls",
      "model_module_version": "1.5.0",
      "model_name": "DescriptionStyleModel",
      "state": {
       "description_width": ""
      }
     },
     "3496ff1fbbc844ff88e453bcd25336c2": {
      "model_module": "@jupyter-widgets/base",
      "model_module_version": "1.2.0",
      "model_name": "LayoutModel",
      "state": {}
     },
     "358d8cf69d104803b737983e46fd3b3d": {
      "model_module": "@jupyter-widgets/base",
      "model_module_version": "1.2.0",
      "model_name": "LayoutModel",
      "state": {}
     },
     "35ca2bf61f93489c98bbcd3c2b7b2ced": {
      "model_module": "@jupyter-widgets/controls",
      "model_module_version": "1.5.0",
      "model_name": "FloatProgressModel",
      "state": {
       "bar_style": "success",
       "layout": "IPY_MODEL_c37a4709525043ae868351289b72b4e0",
       "max": 72,
       "style": "IPY_MODEL_d96206ca69ed45c09d909c2b99c5da99",
       "value": 72
      }
     },
     "35d1d56cefa64fd2a1709f7272510a30": {
      "model_module": "@jupyter-widgets/controls",
      "model_module_version": "1.5.0",
      "model_name": "DescriptionStyleModel",
      "state": {
       "description_width": ""
      }
     },
     "3627f670362748cea31ca3e7729c99dc": {
      "model_module": "@jupyter-widgets/controls",
      "model_module_version": "1.5.0",
      "model_name": "HTMLModel",
      "state": {
       "layout": "IPY_MODEL_a34e58511e2f4ed2ae7d5a169bdd3157",
       "style": "IPY_MODEL_508272aac5eb4cc9b6c0080bc282b334",
       "value": "100%"
      }
     },
     "365cb27c6506405a95d1f6edb3bee682": {
      "model_module": "@jupyter-widgets/controls",
      "model_module_version": "1.5.0",
      "model_name": "DescriptionStyleModel",
      "state": {
       "description_width": ""
      }
     },
     "368898b7a1af4c3fb23da36ab2b955a6": {
      "model_module": "@jupyter-widgets/controls",
      "model_module_version": "1.5.0",
      "model_name": "ProgressStyleModel",
      "state": {
       "description_width": ""
      }
     },
     "3690e656f520437db03621c465792b7a": {
      "model_module": "@jupyter-widgets/base",
      "model_module_version": "1.2.0",
      "model_name": "LayoutModel",
      "state": {}
     },
     "36d544c836da40999f72bc644398b8a0": {
      "model_module": "@jupyter-widgets/base",
      "model_module_version": "1.2.0",
      "model_name": "LayoutModel",
      "state": {}
     },
     "3772a6881efd439a8d4dc890aa6ed48d": {
      "model_module": "@jupyter-widgets/base",
      "model_module_version": "1.2.0",
      "model_name": "LayoutModel",
      "state": {}
     },
     "37b3230df1ec4273901a2d525e4be366": {
      "model_module": "@jupyter-widgets/base",
      "model_module_version": "1.2.0",
      "model_name": "LayoutModel",
      "state": {}
     },
     "385aef7686bc40ff9df18550bc5b47b8": {
      "model_module": "@jupyter-widgets/controls",
      "model_module_version": "1.5.0",
      "model_name": "FloatProgressModel",
      "state": {
       "bar_style": "success",
       "layout": "IPY_MODEL_0fb99f1b5bdd4eaab15f89236c69b390",
       "max": 72,
       "style": "IPY_MODEL_b620f03c31e94b6aabc419dc2d06f96e",
       "value": 72
      }
     },
     "386300bc9b714f61afe562e5e4911c1e": {
      "model_module": "@jupyter-widgets/base",
      "model_module_version": "1.2.0",
      "model_name": "LayoutModel",
      "state": {}
     },
     "387945e7ae7a46c9ae54a008695f4871": {
      "model_module": "@jupyter-widgets/controls",
      "model_module_version": "1.5.0",
      "model_name": "DescriptionStyleModel",
      "state": {
       "description_width": ""
      }
     },
     "393d5189be2545688eabd70c01ab830a": {
      "model_module": "@jupyter-widgets/base",
      "model_module_version": "1.2.0",
      "model_name": "LayoutModel",
      "state": {}
     },
     "39aa74e6390844ca82848c4a464d8183": {
      "model_module": "@jupyter-widgets/base",
      "model_module_version": "1.2.0",
      "model_name": "LayoutModel",
      "state": {}
     },
     "39d7a57136084a6db356b725d8fc376f": {
      "model_module": "@jupyter-widgets/controls",
      "model_module_version": "1.5.0",
      "model_name": "HBoxModel",
      "state": {
       "children": [
        "IPY_MODEL_aed3654e378f45d6896a09e738b63b36",
        "IPY_MODEL_97ad5d0954fb4a65a5391ac323ef2e4f",
        "IPY_MODEL_702eeec51b3f47809f8eaa863394ad0e"
       ],
       "layout": "IPY_MODEL_c9780b70d8f242a3add717da30af83cd"
      }
     },
     "3a36fadae72a47a09e5958915585a7cf": {
      "model_module": "@jupyter-widgets/controls",
      "model_module_version": "1.5.0",
      "model_name": "HBoxModel",
      "state": {
       "children": [
        "IPY_MODEL_e357c89268cf4271ad506496e17e1376",
        "IPY_MODEL_691ceee34f434f50b7b9d6bc6b1bc081",
        "IPY_MODEL_10ca76cf122742979724630e57d5293a"
       ],
       "layout": "IPY_MODEL_63e841de8bcd46e9981c8f686107c24e"
      }
     },
     "3a7b76823bd344a382167208be30bee1": {
      "model_module": "@jupyter-widgets/base",
      "model_module_version": "1.2.0",
      "model_name": "LayoutModel",
      "state": {}
     },
     "3af0b719084b4d17bd4aa89d6b6440a2": {
      "model_module": "@jupyter-widgets/controls",
      "model_module_version": "1.5.0",
      "model_name": "FloatProgressModel",
      "state": {
       "bar_style": "success",
       "layout": "IPY_MODEL_eec4a880f34545d794cf69f0fff1539a",
       "max": 80,
       "style": "IPY_MODEL_464d8898517b4cce9e6af6abdc47d068",
       "value": 80
      }
     },
     "3b0150c1265d4396a2fba6123003191f": {
      "model_module": "@jupyter-widgets/controls",
      "model_module_version": "1.5.0",
      "model_name": "DescriptionStyleModel",
      "state": {
       "description_width": ""
      }
     },
     "3b04ca6b97cf466da5f9fee0efb5bee6": {
      "model_module": "@jupyter-widgets/base",
      "model_module_version": "1.2.0",
      "model_name": "LayoutModel",
      "state": {}
     },
     "3b2ceb9f42834e34abccfd84076fe517": {
      "model_module": "@jupyter-widgets/controls",
      "model_module_version": "1.5.0",
      "model_name": "DescriptionStyleModel",
      "state": {
       "description_width": ""
      }
     },
     "3b4e14d5e2f94cc093d98b9db59b1f4c": {
      "model_module": "@jupyter-widgets/controls",
      "model_module_version": "1.5.0",
      "model_name": "DescriptionStyleModel",
      "state": {
       "description_width": ""
      }
     },
     "3b7fd8ac77fd490aa52bf818beace37d": {
      "model_module": "@jupyter-widgets/controls",
      "model_module_version": "1.5.0",
      "model_name": "HTMLModel",
      "state": {
       "layout": "IPY_MODEL_a3ab8258a23e42acb06ade838520b4de",
       "style": "IPY_MODEL_c7430aa406964a80b4fbe9aa84023a25",
       "value": " 82/82 [00:04&lt;00:00, 12.14it/s]"
      }
     },
     "3bfa77e910b94ae49afdb349b020a1fa": {
      "model_module": "@jupyter-widgets/base",
      "model_module_version": "1.2.0",
      "model_name": "LayoutModel",
      "state": {}
     },
     "3c41a38001f144878e857bdcc5bb0436": {
      "model_module": "@jupyter-widgets/controls",
      "model_module_version": "1.5.0",
      "model_name": "HBoxModel",
      "state": {
       "children": [
        "IPY_MODEL_61209257b081450dbb1b686f08213c37",
        "IPY_MODEL_bbca29bfb0c64258a66fc5ed3ddcd1e2",
        "IPY_MODEL_a65a8f0a8b734342b07b251f6a507ba5"
       ],
       "layout": "IPY_MODEL_5580aa7ddc8c4a8682cb7c0ba9ad2bf4"
      }
     },
     "3c41b76df24c49a0b05206e4c6223db9": {
      "model_module": "@jupyter-widgets/base",
      "model_module_version": "1.2.0",
      "model_name": "LayoutModel",
      "state": {}
     },
     "3c7b225a13584feb8447d9b3b8c79508": {
      "model_module": "@jupyter-widgets/base",
      "model_module_version": "1.2.0",
      "model_name": "LayoutModel",
      "state": {}
     },
     "3c909a03de9143b5aea7c271cc84e116": {
      "model_module": "@jupyter-widgets/controls",
      "model_module_version": "1.5.0",
      "model_name": "HTMLModel",
      "state": {
       "layout": "IPY_MODEL_7ce4451812574b158c57e6099820f254",
       "style": "IPY_MODEL_bb186549ff954f31a0e6ef9800fe1245",
       "value": "100%"
      }
     },
     "3cfe3991a17e42a3993a7dab3f484b14": {
      "model_module": "@jupyter-widgets/base",
      "model_module_version": "1.2.0",
      "model_name": "LayoutModel",
      "state": {}
     },
     "3d29e94f4a5742b996eef559ce5a59fd": {
      "model_module": "@jupyter-widgets/base",
      "model_module_version": "1.2.0",
      "model_name": "LayoutModel",
      "state": {}
     },
     "3d49cb691c6f43a6b2dc96ec9cda9da6": {
      "model_module": "@jupyter-widgets/controls",
      "model_module_version": "1.5.0",
      "model_name": "HBoxModel",
      "state": {
       "children": [
        "IPY_MODEL_6caec59a7564425098181f3b492d5f33",
        "IPY_MODEL_d1ca0bd6622141a3b7fedc6c1d755d01",
        "IPY_MODEL_21eb1bae288746e691d43a92c11da683"
       ],
       "layout": "IPY_MODEL_eeea15984adb4950babcbc26ef32dfd9"
      }
     },
     "3d699ee77a244bcb81a5710128fc16d4": {
      "model_module": "@jupyter-widgets/controls",
      "model_module_version": "1.5.0",
      "model_name": "ProgressStyleModel",
      "state": {
       "description_width": ""
      }
     },
     "3dd7c682215747d8b722746d864854bb": {
      "model_module": "@jupyter-widgets/controls",
      "model_module_version": "1.5.0",
      "model_name": "HTMLModel",
      "state": {
       "layout": "IPY_MODEL_ad908c3d98c4452a9652187f5e928e45",
       "style": "IPY_MODEL_99eee9b41cb847aa8a81c630507de4dd",
       "value": " 84/84 [00:06&lt;00:00, 10.25it/s]"
      }
     },
     "3dfaaf82cc2d4a5cba8bd87060bf2cdc": {
      "model_module": "@jupyter-widgets/controls",
      "model_module_version": "1.5.0",
      "model_name": "ProgressStyleModel",
      "state": {
       "description_width": ""
      }
     },
     "3e3bdbd72ee448919b957f44fe25d2f0": {
      "model_module": "@jupyter-widgets/controls",
      "model_module_version": "1.5.0",
      "model_name": "FloatProgressModel",
      "state": {
       "bar_style": "success",
       "layout": "IPY_MODEL_3772a6881efd439a8d4dc890aa6ed48d",
       "max": 31,
       "style": "IPY_MODEL_5d35009a6eb64e0cb67f446141827e91",
       "value": 31
      }
     },
     "3e4ca1e166d94fc1abc8a93eab9502da": {
      "model_module": "@jupyter-widgets/controls",
      "model_module_version": "1.5.0",
      "model_name": "HBoxModel",
      "state": {
       "children": [
        "IPY_MODEL_11968ee3d9e740fbae4c28161bf4a9da",
        "IPY_MODEL_f870287c0688405e8057428f49890ddf",
        "IPY_MODEL_5b072c0464944c9d9d50ebf83091b727"
       ],
       "layout": "IPY_MODEL_404142979d8348388e2d285a87ddd2bb"
      }
     },
     "3e54cc2803cb46d0a0abecd5c69e0b42": {
      "model_module": "@jupyter-widgets/controls",
      "model_module_version": "1.5.0",
      "model_name": "HBoxModel",
      "state": {
       "children": [
        "IPY_MODEL_b74f2daf8ea14bf1a9fc4318fcd4a827",
        "IPY_MODEL_a4d46ddbe9274f09aa88200de1b6580a",
        "IPY_MODEL_c92b0925cd6b4ef2a3223d6e8238dd19"
       ],
       "layout": "IPY_MODEL_6df2c18c46fd42dd991bf5b3302a905f"
      }
     },
     "3e5d0d18b81046439d3f4985dbcce84a": {
      "model_module": "@jupyter-widgets/controls",
      "model_module_version": "1.5.0",
      "model_name": "HTMLModel",
      "state": {
       "layout": "IPY_MODEL_2fb4a581f10c4911ad2e60fb8ffde847",
       "style": "IPY_MODEL_ebcb6862a69f49c1a0bbafcbb8185abb",
       "value": "100%"
      }
     },
     "3edac915dc3f479cb339210ce075d743": {
      "model_module": "@jupyter-widgets/base",
      "model_module_version": "1.2.0",
      "model_name": "LayoutModel",
      "state": {}
     },
     "3ef7746d6af24033b12141a61c5200af": {
      "model_module": "@jupyter-widgets/controls",
      "model_module_version": "1.5.0",
      "model_name": "HTMLModel",
      "state": {
       "layout": "IPY_MODEL_b15d8bba25814ad884181a081fbb05e4",
       "style": "IPY_MODEL_18f0ab8a80304d0cbed33a86461aef3d",
       "value": "100%"
      }
     },
     "3f1e108eacb640378525c517147b9a5a": {
      "model_module": "@jupyter-widgets/controls",
      "model_module_version": "1.5.0",
      "model_name": "FloatProgressModel",
      "state": {
       "bar_style": "success",
       "layout": "IPY_MODEL_76ec39d979c44a1892e7c23ef5c55d01",
       "max": 80,
       "style": "IPY_MODEL_147a1bdf3baf44449992006cef818a4f",
       "value": 80
      }
     },
     "3f5c71e0b9f1445caa7b344d4dbdcddc": {
      "model_module": "@jupyter-widgets/controls",
      "model_module_version": "1.5.0",
      "model_name": "HBoxModel",
      "state": {
       "children": [
        "IPY_MODEL_2cad7bb23c7a4d04977a69bf22d33782",
        "IPY_MODEL_9fa4b6ab979240f49e3adebbe555b0ed",
        "IPY_MODEL_b428e890e62e4ac3aaf4344f3ded449c"
       ],
       "layout": "IPY_MODEL_c48f0cce9dd647638479a0d7e28913c9"
      }
     },
     "3f9f7a84a7554aec817cfbffca65c750": {
      "model_module": "@jupyter-widgets/controls",
      "model_module_version": "1.5.0",
      "model_name": "DescriptionStyleModel",
      "state": {
       "description_width": ""
      }
     },
     "3fa356dbce544038a18b148541394985": {
      "model_module": "@jupyter-widgets/controls",
      "model_module_version": "1.5.0",
      "model_name": "FloatProgressModel",
      "state": {
       "bar_style": "success",
       "layout": "IPY_MODEL_ca3a59fe58e14c509011a75e91c5c587",
       "max": 86,
       "style": "IPY_MODEL_47e26787577149b1856f135d6acd59d6",
       "value": 86
      }
     },
     "3fc99a59bb9f4b4aaf39bdba93dea3e8": {
      "model_module": "@jupyter-widgets/controls",
      "model_module_version": "1.5.0",
      "model_name": "HBoxModel",
      "state": {
       "children": [
        "IPY_MODEL_85d7b0d4588842d6aa03710f5e75861e",
        "IPY_MODEL_6e6750a1066748478da1c6aa0ec25626",
        "IPY_MODEL_45a7182928084a56afeea0faaa67f52d"
       ],
       "layout": "IPY_MODEL_8a849c1319b64c889bc83ffae1173be9"
      }
     },
     "3fe5e1b860ea44feaab30ce3cfbc78aa": {
      "model_module": "@jupyter-widgets/controls",
      "model_module_version": "1.5.0",
      "model_name": "DescriptionStyleModel",
      "state": {
       "description_width": ""
      }
     },
     "3ffb6d187e8841468d8d01a3f4af700a": {
      "model_module": "@jupyter-widgets/controls",
      "model_module_version": "1.5.0",
      "model_name": "DescriptionStyleModel",
      "state": {
       "description_width": ""
      }
     },
     "3ffff8944a474d8fae56aa75446378c3": {
      "model_module": "@jupyter-widgets/controls",
      "model_module_version": "1.5.0",
      "model_name": "FloatProgressModel",
      "state": {
       "bar_style": "success",
       "layout": "IPY_MODEL_28834f956e504707b90cee5b0a72e392",
       "max": 94,
       "style": "IPY_MODEL_60e63379821d4a629b4397ab3475bdb0",
       "value": 94
      }
     },
     "40360cf32c3e45cf96298453efadfc07": {
      "model_module": "@jupyter-widgets/base",
      "model_module_version": "1.2.0",
      "model_name": "LayoutModel",
      "state": {}
     },
     "404142979d8348388e2d285a87ddd2bb": {
      "model_module": "@jupyter-widgets/base",
      "model_module_version": "1.2.0",
      "model_name": "LayoutModel",
      "state": {}
     },
     "406a59c361714706a301c29b034af086": {
      "model_module": "@jupyter-widgets/controls",
      "model_module_version": "1.5.0",
      "model_name": "FloatProgressModel",
      "state": {
       "bar_style": "success",
       "layout": "IPY_MODEL_d656dd6b72d84e65aa81dc2f32985e71",
       "max": 74,
       "style": "IPY_MODEL_f3c3a09ec32149049ae98dad18ba6535",
       "value": 74
      }
     },
     "40947a8d6e864d51a9c56bdbdc6f53bc": {
      "model_module": "@jupyter-widgets/base",
      "model_module_version": "1.2.0",
      "model_name": "LayoutModel",
      "state": {}
     },
     "41594ffb21314128ad20619d3c405394": {
      "model_module": "@jupyter-widgets/controls",
      "model_module_version": "1.5.0",
      "model_name": "HTMLModel",
      "state": {
       "layout": "IPY_MODEL_544aab29d2bf47e886b0bf4f647e8c69",
       "style": "IPY_MODEL_35d1d56cefa64fd2a1709f7272510a30",
       "value": " 64/64 [00:04&lt;00:00,  8.41it/s]"
      }
     },
     "4163b4e15e164519b2e99f029b561650": {
      "model_module": "@jupyter-widgets/base",
      "model_module_version": "1.2.0",
      "model_name": "LayoutModel",
      "state": {}
     },
     "416f6155b74340ffb2d0009d97b94524": {
      "model_module": "@jupyter-widgets/controls",
      "model_module_version": "1.5.0",
      "model_name": "HTMLModel",
      "state": {
       "layout": "IPY_MODEL_16d14c2bab4c4560801ea94e7d3b10ea",
       "style": "IPY_MODEL_96ca1c00e0154c748df1dd252f2f5e4e",
       "value": "100%"
      }
     },
     "417276f378214670a559ac5bab35dfd3": {
      "model_module": "@jupyter-widgets/controls",
      "model_module_version": "1.5.0",
      "model_name": "DescriptionStyleModel",
      "state": {
       "description_width": ""
      }
     },
     "417c56f881ae40efb7cda97be9b618ab": {
      "model_module": "@jupyter-widgets/base",
      "model_module_version": "1.2.0",
      "model_name": "LayoutModel",
      "state": {}
     },
     "41ac15c30920419da4207bc7587aa3f5": {
      "model_module": "@jupyter-widgets/base",
      "model_module_version": "1.2.0",
      "model_name": "LayoutModel",
      "state": {}
     },
     "41f8bcb1baa7425abf76dd098d1c7216": {
      "model_module": "@jupyter-widgets/controls",
      "model_module_version": "1.5.0",
      "model_name": "DescriptionStyleModel",
      "state": {
       "description_width": ""
      }
     },
     "42880926b5af4d0898056b084097ff9e": {
      "model_module": "@jupyter-widgets/controls",
      "model_module_version": "1.5.0",
      "model_name": "HTMLModel",
      "state": {
       "layout": "IPY_MODEL_210c3562f39c43b5b96d5cd2c6fb1afa",
       "style": "IPY_MODEL_0da32272f8404bf48014df2079c8237c",
       "value": " 72/72 [00:02&lt;00:00, 267.68it/s]"
      }
     },
     "432f2ead12444b4094d262ac636a8d38": {
      "model_module": "@jupyter-widgets/controls",
      "model_module_version": "1.5.0",
      "model_name": "HTMLModel",
      "state": {
       "layout": "IPY_MODEL_0a5ca7df5bc440af824ca0d6afb0aa6f",
       "style": "IPY_MODEL_8fc6f7b35fbd4969b670b3e24117ee07",
       "value": " 44/44 [00:03&lt;00:00,  8.00it/s]"
      }
     },
     "433bc120e28940f3bf3f916f0f734803": {
      "model_module": "@jupyter-widgets/controls",
      "model_module_version": "1.5.0",
      "model_name": "ProgressStyleModel",
      "state": {
       "description_width": ""
      }
     },
     "43e30b0a1a0844b9b14db1948017a323": {
      "model_module": "@jupyter-widgets/base",
      "model_module_version": "1.2.0",
      "model_name": "LayoutModel",
      "state": {}
     },
     "444832ab358c4efdbd624063970b5b00": {
      "model_module": "@jupyter-widgets/base",
      "model_module_version": "1.2.0",
      "model_name": "LayoutModel",
      "state": {}
     },
     "44519e5aff9848f4ac485ff1be2649da": {
      "model_module": "@jupyter-widgets/base",
      "model_module_version": "1.2.0",
      "model_name": "LayoutModel",
      "state": {}
     },
     "4488e7f088354e08b075b63e577fa730": {
      "model_module": "@jupyter-widgets/base",
      "model_module_version": "1.2.0",
      "model_name": "LayoutModel",
      "state": {}
     },
     "448b405c746d456da2e8517b24b09778": {
      "model_module": "@jupyter-widgets/base",
      "model_module_version": "1.2.0",
      "model_name": "LayoutModel",
      "state": {}
     },
     "44b875cbc1d945458db027102631db60": {
      "model_module": "@jupyter-widgets/base",
      "model_module_version": "1.2.0",
      "model_name": "LayoutModel",
      "state": {}
     },
     "44c7af804ea64c2c8696f141a82f59e2": {
      "model_module": "@jupyter-widgets/base",
      "model_module_version": "1.2.0",
      "model_name": "LayoutModel",
      "state": {}
     },
     "44d04533e6644fcd8c48416c68cc01ee": {
      "model_module": "@jupyter-widgets/controls",
      "model_module_version": "1.5.0",
      "model_name": "HTMLModel",
      "state": {
       "layout": "IPY_MODEL_01c66dc2c1a44b9da7da45c292cff682",
       "style": "IPY_MODEL_2791da9504aa4d0e953181ad94fbc8e0",
       "value": "100%"
      }
     },
     "44e5e9ae0f6a4526afd95200e27c28d6": {
      "model_module": "@jupyter-widgets/controls",
      "model_module_version": "1.5.0",
      "model_name": "HBoxModel",
      "state": {
       "children": [
        "IPY_MODEL_9441498ef03a4cb0bfd03133f7ddb1c4",
        "IPY_MODEL_facb46eaf74f49eaa364be7f1e03add4",
        "IPY_MODEL_673297973da643a8ad669e12d40d2605"
       ],
       "layout": "IPY_MODEL_d79c3fc106b746359a7f8c60095213b3"
      }
     },
     "451b52971028488484352fc41b616cbf": {
      "model_module": "@jupyter-widgets/controls",
      "model_module_version": "1.5.0",
      "model_name": "DescriptionStyleModel",
      "state": {
       "description_width": ""
      }
     },
     "453635f1eecc4626a0585f5da552f218": {
      "model_module": "@jupyter-widgets/base",
      "model_module_version": "1.2.0",
      "model_name": "LayoutModel",
      "state": {}
     },
     "456222a90c0d4f0d91808ff8ed50b75b": {
      "model_module": "@jupyter-widgets/base",
      "model_module_version": "1.2.0",
      "model_name": "LayoutModel",
      "state": {}
     },
     "4597de519aa945f98259a69576273154": {
      "model_module": "@jupyter-widgets/base",
      "model_module_version": "1.2.0",
      "model_name": "LayoutModel",
      "state": {}
     },
     "45a7182928084a56afeea0faaa67f52d": {
      "model_module": "@jupyter-widgets/controls",
      "model_module_version": "1.5.0",
      "model_name": "HTMLModel",
      "state": {
       "layout": "IPY_MODEL_5d2fcc3d7b9b486484db4c09f9d52413",
       "style": "IPY_MODEL_8e0a86fcc08645a285a2ff341bc5a3f6",
       "value": " 72/72 [00:05&lt;00:00, 10.87it/s]"
      }
     },
     "45ee0c2a29dc4f479b6bee0825d4aacf": {
      "model_module": "@jupyter-widgets/controls",
      "model_module_version": "1.5.0",
      "model_name": "FloatProgressModel",
      "state": {
       "bar_style": "success",
       "layout": "IPY_MODEL_e59fa388b98b4b3ca53dbc61464eb1c9",
       "max": 80,
       "style": "IPY_MODEL_368898b7a1af4c3fb23da36ab2b955a6",
       "value": 80
      }
     },
     "4609bc01b2e94ee89712f2168c44e10c": {
      "model_module": "@jupyter-widgets/controls",
      "model_module_version": "1.5.0",
      "model_name": "FloatProgressModel",
      "state": {
       "bar_style": "success",
       "layout": "IPY_MODEL_601aa101a2f14a2fb8a591e25e9e6b79",
       "max": 54,
       "style": "IPY_MODEL_dfec5eb100e3425cabfe2457c6e7bfd0",
       "value": 54
      }
     },
     "4615a4a17afc4d7ca91f60c027b76862": {
      "model_module": "@jupyter-widgets/controls",
      "model_module_version": "1.5.0",
      "model_name": "HTMLModel",
      "state": {
       "layout": "IPY_MODEL_a6e6929d42554244a577c486f1ab87a4",
       "style": "IPY_MODEL_417276f378214670a559ac5bab35dfd3",
       "value": " 76/76 [00:06&lt;00:00,  6.52it/s]"
      }
     },
     "464d8898517b4cce9e6af6abdc47d068": {
      "model_module": "@jupyter-widgets/controls",
      "model_module_version": "1.5.0",
      "model_name": "ProgressStyleModel",
      "state": {
       "description_width": ""
      }
     },
     "4669759a19fa45fa97e4341e4bc8c6ce": {
      "model_module": "@jupyter-widgets/base",
      "model_module_version": "1.2.0",
      "model_name": "LayoutModel",
      "state": {}
     },
     "467245fb5b7a4ab0aa3285e275c96d38": {
      "model_module": "@jupyter-widgets/controls",
      "model_module_version": "1.5.0",
      "model_name": "ProgressStyleModel",
      "state": {
       "description_width": ""
      }
     },
     "46751f9b6ea9495a9f7ff106a3c8683e": {
      "model_module": "@jupyter-widgets/controls",
      "model_module_version": "1.5.0",
      "model_name": "HTMLModel",
      "state": {
       "layout": "IPY_MODEL_fcf2a5fd77154a0fab4ffd5aad0b5fc6",
       "style": "IPY_MODEL_1a5d8c5a06e04be9a882aff531cfd644",
       "value": "100%"
      }
     },
     "467b3299d1f649dc9924bd7409e13df8": {
      "model_module": "@jupyter-widgets/controls",
      "model_module_version": "1.5.0",
      "model_name": "ProgressStyleModel",
      "state": {
       "description_width": ""
      }
     },
     "4698342da2d94144a587078ca0a4da18": {
      "model_module": "@jupyter-widgets/base",
      "model_module_version": "1.2.0",
      "model_name": "LayoutModel",
      "state": {}
     },
     "469cf411a0f64646a2d1167304c34e7a": {
      "model_module": "@jupyter-widgets/controls",
      "model_module_version": "1.5.0",
      "model_name": "DescriptionStyleModel",
      "state": {
       "description_width": ""
      }
     },
     "4705de7e49f440d587c8deee1c72b6dd": {
      "model_module": "@jupyter-widgets/base",
      "model_module_version": "1.2.0",
      "model_name": "LayoutModel",
      "state": {}
     },
     "4706b06a3c8d41ef9a31bb89b6eb68b2": {
      "model_module": "@jupyter-widgets/controls",
      "model_module_version": "1.5.0",
      "model_name": "DescriptionStyleModel",
      "state": {
       "description_width": ""
      }
     },
     "471f77f5727e4d979cfa7a641d1f91ba": {
      "model_module": "@jupyter-widgets/base",
      "model_module_version": "1.2.0",
      "model_name": "LayoutModel",
      "state": {}
     },
     "476d87eff4ab4343a9fb6ca447ec5557": {
      "model_module": "@jupyter-widgets/base",
      "model_module_version": "1.2.0",
      "model_name": "LayoutModel",
      "state": {}
     },
     "479232d412be47068e59fb192af01c67": {
      "model_module": "@jupyter-widgets/controls",
      "model_module_version": "1.5.0",
      "model_name": "HBoxModel",
      "state": {
       "children": [
        "IPY_MODEL_dd80e9ddfcfd4d4ca7cb4125c428b64b",
        "IPY_MODEL_35ca2bf61f93489c98bbcd3c2b7b2ced",
        "IPY_MODEL_bc8c28390dbf46b3b8fa86b7352d23bd"
       ],
       "layout": "IPY_MODEL_40947a8d6e864d51a9c56bdbdc6f53bc"
      }
     },
     "47a8cde5d91e4668986edb30e27a8e3b": {
      "model_module": "@jupyter-widgets/base",
      "model_module_version": "1.2.0",
      "model_name": "LayoutModel",
      "state": {}
     },
     "47c1e2edf6a74044b3b7c64e695f3af0": {
      "model_module": "@jupyter-widgets/base",
      "model_module_version": "1.2.0",
      "model_name": "LayoutModel",
      "state": {}
     },
     "47e26787577149b1856f135d6acd59d6": {
      "model_module": "@jupyter-widgets/controls",
      "model_module_version": "1.5.0",
      "model_name": "ProgressStyleModel",
      "state": {
       "description_width": ""
      }
     },
     "480713d77abd402a8f304770a60ab576": {
      "model_module": "@jupyter-widgets/controls",
      "model_module_version": "1.5.0",
      "model_name": "DescriptionStyleModel",
      "state": {
       "description_width": ""
      }
     },
     "481b2d12f64e4612937b8bc9131fa286": {
      "model_module": "@jupyter-widgets/base",
      "model_module_version": "1.2.0",
      "model_name": "LayoutModel",
      "state": {}
     },
     "48440fd9f7ee4295978a47ed2ed2fa61": {
      "model_module": "@jupyter-widgets/controls",
      "model_module_version": "1.5.0",
      "model_name": "HTMLModel",
      "state": {
       "layout": "IPY_MODEL_8127adcc68b44d7da1714a81716c7451",
       "style": "IPY_MODEL_b1f76518fc1345bcae176bb85c0a8f0f",
       "value": " 74/74 [00:03&lt;00:00, 15.76it/s]"
      }
     },
     "498c947634dc44169cb06ad0293bae1d": {
      "model_module": "@jupyter-widgets/base",
      "model_module_version": "1.2.0",
      "model_name": "LayoutModel",
      "state": {}
     },
     "49a3b56700f141e0841d8437a13d68c7": {
      "model_module": "@jupyter-widgets/controls",
      "model_module_version": "1.5.0",
      "model_name": "FloatProgressModel",
      "state": {
       "bar_style": "success",
       "layout": "IPY_MODEL_c954697c885f4388b402112acaa46332",
       "max": 74,
       "style": "IPY_MODEL_03fcc5fa373e4042986439f786ea9b38",
       "value": 74
      }
     },
     "49d0d3f8839a4aa6ba1612c53470f3cf": {
      "model_module": "@jupyter-widgets/controls",
      "model_module_version": "1.5.0",
      "model_name": "FloatProgressModel",
      "state": {
       "bar_style": "success",
       "layout": "IPY_MODEL_f9e054d0925f472e965544b107bdad2a",
       "max": 68,
       "style": "IPY_MODEL_00acc240953f4f54af5254a4b37f1aa9",
       "value": 68
      }
     },
     "49ddcc60cdc7420a86b5b9e0cc3c2100": {
      "model_module": "@jupyter-widgets/controls",
      "model_module_version": "1.5.0",
      "model_name": "FloatProgressModel",
      "state": {
       "bar_style": "success",
       "layout": "IPY_MODEL_870a98185804498ea97be599cf2e2276",
       "max": 86,
       "style": "IPY_MODEL_e514060659084eb4a892943d2746b094",
       "value": 86
      }
     },
     "49ec05ffd5ed449ba089e35f5dff19b3": {
      "model_module": "@jupyter-widgets/base",
      "model_module_version": "1.2.0",
      "model_name": "LayoutModel",
      "state": {}
     },
     "4a21ae6b5f284c989a3a5db1d4b8541f": {
      "model_module": "@jupyter-widgets/controls",
      "model_module_version": "1.5.0",
      "model_name": "DescriptionStyleModel",
      "state": {
       "description_width": ""
      }
     },
     "4a39cf803b494de8b9e854cfd63d5a45": {
      "model_module": "@jupyter-widgets/controls",
      "model_module_version": "1.5.0",
      "model_name": "FloatProgressModel",
      "state": {
       "bar_style": "success",
       "layout": "IPY_MODEL_7f8bac5aa72440bd8143158ac343523b",
       "max": 82,
       "style": "IPY_MODEL_6d3def4b8259402eba3310a72fef7d22",
       "value": 82
      }
     },
     "4a3bf2f3ad1448eeb2e5aa02571e6b88": {
      "model_module": "@jupyter-widgets/controls",
      "model_module_version": "1.5.0",
      "model_name": "HTMLModel",
      "state": {
       "layout": "IPY_MODEL_63eda07b3fd1439ba617aab278d94f87",
       "style": "IPY_MODEL_6653d34c8eb24158a7c410b2630aa83c",
       "value": "100%"
      }
     },
     "4a461cb44cfc47199daecfcff107ba98": {
      "model_module": "@jupyter-widgets/base",
      "model_module_version": "1.2.0",
      "model_name": "LayoutModel",
      "state": {}
     },
     "4a98e71d275a41d6a15bc7d714ceb126": {
      "model_module": "@jupyter-widgets/base",
      "model_module_version": "1.2.0",
      "model_name": "LayoutModel",
      "state": {}
     },
     "4aeffa6521b840af8463aab7603b9a0a": {
      "model_module": "@jupyter-widgets/base",
      "model_module_version": "1.2.0",
      "model_name": "LayoutModel",
      "state": {}
     },
     "4af5579883c74c3a987704391ad6124e": {
      "model_module": "@jupyter-widgets/controls",
      "model_module_version": "1.5.0",
      "model_name": "DescriptionStyleModel",
      "state": {
       "description_width": ""
      }
     },
     "4afa032d328b4ce1ac412da5d72d955f": {
      "model_module": "@jupyter-widgets/controls",
      "model_module_version": "1.5.0",
      "model_name": "ProgressStyleModel",
      "state": {
       "description_width": ""
      }
     },
     "4b2423c0be4b4eaea2c122df9e793979": {
      "model_module": "@jupyter-widgets/controls",
      "model_module_version": "1.5.0",
      "model_name": "DescriptionStyleModel",
      "state": {
       "description_width": ""
      }
     },
     "4b527d550e3a435586ce6d1d9eb4581b": {
      "model_module": "@jupyter-widgets/controls",
      "model_module_version": "1.5.0",
      "model_name": "DescriptionStyleModel",
      "state": {
       "description_width": ""
      }
     },
     "4b80c9feb6de4091b6e41a959a2f246d": {
      "model_module": "@jupyter-widgets/base",
      "model_module_version": "1.2.0",
      "model_name": "LayoutModel",
      "state": {}
     },
     "4bb324fd3184471fa1ad5cc2368c9003": {
      "model_module": "@jupyter-widgets/controls",
      "model_module_version": "1.5.0",
      "model_name": "DescriptionStyleModel",
      "state": {
       "description_width": ""
      }
     },
     "4bcd89fe380847479df39f07ae9b219e": {
      "model_module": "@jupyter-widgets/base",
      "model_module_version": "1.2.0",
      "model_name": "LayoutModel",
      "state": {}
     },
     "4c56e9b87f844f8b84c80648b89d46b8": {
      "model_module": "@jupyter-widgets/controls",
      "model_module_version": "1.5.0",
      "model_name": "DescriptionStyleModel",
      "state": {
       "description_width": ""
      }
     },
     "4c9841dd981a454eb70a56f84474cb5a": {
      "model_module": "@jupyter-widgets/controls",
      "model_module_version": "1.5.0",
      "model_name": "FloatProgressModel",
      "state": {
       "bar_style": "success",
       "layout": "IPY_MODEL_93cb9cbc9f2f40f6ba4951d9c85e23c1",
       "max": 44,
       "style": "IPY_MODEL_0cbbb541d631411c863133b2b0ade579",
       "value": 44
      }
     },
     "4ce2e1889f7248798ec39f28df41894c": {
      "model_module": "@jupyter-widgets/controls",
      "model_module_version": "1.5.0",
      "model_name": "HTMLModel",
      "state": {
       "layout": "IPY_MODEL_be4c570ed2ae46deb03cb07c1e165ef6",
       "style": "IPY_MODEL_5887c5888a7b4052a8d434dea80f9d96",
       "value": " 74/74 [00:03&lt;00:00, 15.32it/s]"
      }
     },
     "4d0c9673f0a64e4ea41798b1aeb731e6": {
      "model_module": "@jupyter-widgets/controls",
      "model_module_version": "1.5.0",
      "model_name": "HBoxModel",
      "state": {
       "children": [
        "IPY_MODEL_9dfdd8fbb482429d9a63400a2563de33",
        "IPY_MODEL_385aef7686bc40ff9df18550bc5b47b8",
        "IPY_MODEL_70f3a1a6a2a24c38b7f53b5dfd5085f4"
       ],
       "layout": "IPY_MODEL_e3c5211b220d4718b037d33c53649747"
      }
     },
     "4d2faf7861ad4d4f975343e1272c090f": {
      "model_module": "@jupyter-widgets/controls",
      "model_module_version": "1.5.0",
      "model_name": "DescriptionStyleModel",
      "state": {
       "description_width": ""
      }
     },
     "4d50efb8fadd4296aae8d393035174d9": {
      "model_module": "@jupyter-widgets/base",
      "model_module_version": "1.2.0",
      "model_name": "LayoutModel",
      "state": {}
     },
     "4dad0df8c9d34587a7b6f0cdc2afc156": {
      "model_module": "@jupyter-widgets/controls",
      "model_module_version": "1.5.0",
      "model_name": "DescriptionStyleModel",
      "state": {
       "description_width": ""
      }
     },
     "4e1f41cebee54dc9a492aeb5cf866d6f": {
      "model_module": "@jupyter-widgets/controls",
      "model_module_version": "1.5.0",
      "model_name": "HTMLModel",
      "state": {
       "layout": "IPY_MODEL_0e0a111ad59e484881f159e850a96117",
       "style": "IPY_MODEL_a131bfd609bf4b3585d550fac1aa2a34",
       "value": "100%"
      }
     },
     "4efae68ffdf8474b9534adb93dde8b6c": {
      "model_module": "@jupyter-widgets/controls",
      "model_module_version": "1.5.0",
      "model_name": "ProgressStyleModel",
      "state": {
       "description_width": ""
      }
     },
     "4efccf7e9c794e42a3f21b5f7729aeea": {
      "model_module": "@jupyter-widgets/controls",
      "model_module_version": "1.5.0",
      "model_name": "FloatProgressModel",
      "state": {
       "bar_style": "success",
       "layout": "IPY_MODEL_606b8bc3bf544ccd90c0bb111765fd31",
       "max": 84,
       "style": "IPY_MODEL_24548e8581594d359721ac72f7fff782",
       "value": 84
      }
     },
     "4f035f04070a4f1e96885c383bd06321": {
      "model_module": "@jupyter-widgets/controls",
      "model_module_version": "1.5.0",
      "model_name": "DescriptionStyleModel",
      "state": {
       "description_width": ""
      }
     },
     "4f2ab6036c54477882c2b430ea288e2e": {
      "model_module": "@jupyter-widgets/controls",
      "model_module_version": "1.5.0",
      "model_name": "DescriptionStyleModel",
      "state": {
       "description_width": ""
      }
     },
     "4f3a7127d449494aaad0568f59434237": {
      "model_module": "@jupyter-widgets/base",
      "model_module_version": "1.2.0",
      "model_name": "LayoutModel",
      "state": {}
     },
     "4f910445a16e478cbfa59446412c709e": {
      "model_module": "@jupyter-widgets/controls",
      "model_module_version": "1.5.0",
      "model_name": "DescriptionStyleModel",
      "state": {
       "description_width": ""
      }
     },
     "4f93ec2ef8ae42b3b2d328f1c7479c50": {
      "model_module": "@jupyter-widgets/controls",
      "model_module_version": "1.5.0",
      "model_name": "HTMLModel",
      "state": {
       "layout": "IPY_MODEL_7894096e870344b69b48e43c8d406deb",
       "style": "IPY_MODEL_567898b7090c47ebad38f9edf63b1eed",
       "value": "100%"
      }
     },
     "4fbeffd73abc4eabba94f994e1c9724e": {
      "model_module": "@jupyter-widgets/controls",
      "model_module_version": "1.5.0",
      "model_name": "HBoxModel",
      "state": {
       "children": [
        "IPY_MODEL_be125b56a48a4a409a88eda27b07882a",
        "IPY_MODEL_cbb9710ef32a4593996adb9193dde74d",
        "IPY_MODEL_5d5ec32021924983aa1e15e637f5f7bc"
       ],
       "layout": "IPY_MODEL_1c3573d242694dec9837d2c0d80c1111"
      }
     },
     "5001606e79884f688a2f8429d855589f": {
      "model_module": "@jupyter-widgets/controls",
      "model_module_version": "1.5.0",
      "model_name": "DescriptionStyleModel",
      "state": {
       "description_width": ""
      }
     },
     "5038a752a353455ebe976ca3c4617929": {
      "model_module": "@jupyter-widgets/base",
      "model_module_version": "1.2.0",
      "model_name": "LayoutModel",
      "state": {}
     },
     "50465d81c36e46549013e5b9df72f752": {
      "model_module": "@jupyter-widgets/base",
      "model_module_version": "1.2.0",
      "model_name": "LayoutModel",
      "state": {}
     },
     "5063ebb7a2d340328c3cd4d7c6bf8164": {
      "model_module": "@jupyter-widgets/base",
      "model_module_version": "1.2.0",
      "model_name": "LayoutModel",
      "state": {}
     },
     "508272aac5eb4cc9b6c0080bc282b334": {
      "model_module": "@jupyter-widgets/controls",
      "model_module_version": "1.5.0",
      "model_name": "DescriptionStyleModel",
      "state": {
       "description_width": ""
      }
     },
     "513925e6d3b14adab66984f0465c1169": {
      "model_module": "@jupyter-widgets/controls",
      "model_module_version": "1.5.0",
      "model_name": "HTMLModel",
      "state": {
       "layout": "IPY_MODEL_b6c73f6637864ad2b5b2781a203f4efd",
       "style": "IPY_MODEL_bf0ff87e54e64bb59f0740674e79f832",
       "value": "100%"
      }
     },
     "513d23a2e222408d9a14003e55889490": {
      "model_module": "@jupyter-widgets/base",
      "model_module_version": "1.2.0",
      "model_name": "LayoutModel",
      "state": {}
     },
     "516521f3ab8141b9bd5d36bc13836a74": {
      "model_module": "@jupyter-widgets/base",
      "model_module_version": "1.2.0",
      "model_name": "LayoutModel",
      "state": {}
     },
     "519a68fb366a4c9a91d7c29f2ecaf962": {
      "model_module": "@jupyter-widgets/controls",
      "model_module_version": "1.5.0",
      "model_name": "DescriptionStyleModel",
      "state": {
       "description_width": ""
      }
     },
     "51b40afd85db45a0906b51f70e570659": {
      "model_module": "@jupyter-widgets/controls",
      "model_module_version": "1.5.0",
      "model_name": "DescriptionStyleModel",
      "state": {
       "description_width": ""
      }
     },
     "52159e704db04ed39ec273ad085d0954": {
      "model_module": "@jupyter-widgets/controls",
      "model_module_version": "1.5.0",
      "model_name": "HBoxModel",
      "state": {
       "children": [
        "IPY_MODEL_ad38c7ca8d5f49f3bc32081037fad09f",
        "IPY_MODEL_96704e85a0da4cdc99e1dfdcedb200f6",
        "IPY_MODEL_63f05dda92c6449b9feca1bda12ab7c3"
       ],
       "layout": "IPY_MODEL_196b85d52a33442988629a6bd32cf072"
      }
     },
     "5232ce46910a43e1a444efd7a181a118": {
      "model_module": "@jupyter-widgets/controls",
      "model_module_version": "1.5.0",
      "model_name": "DescriptionStyleModel",
      "state": {
       "description_width": ""
      }
     },
     "5252fbd861644ff6a7d6cd0f14d99895": {
      "model_module": "@jupyter-widgets/controls",
      "model_module_version": "1.5.0",
      "model_name": "FloatProgressModel",
      "state": {
       "bar_style": "success",
       "layout": "IPY_MODEL_6dcb9a6d30a140f38563acd5f0b46e9b",
       "max": 80,
       "style": "IPY_MODEL_6e1b02cb9a15416c820f8f7b375d830e",
       "value": 80
      }
     },
     "527e9b77b02c448699b3791803d35ce4": {
      "model_module": "@jupyter-widgets/controls",
      "model_module_version": "1.5.0",
      "model_name": "ProgressStyleModel",
      "state": {
       "description_width": ""
      }
     },
     "528b2f8763a84bba8d066cdb818a8464": {
      "model_module": "@jupyter-widgets/base",
      "model_module_version": "1.2.0",
      "model_name": "LayoutModel",
      "state": {}
     },
     "52c41115766e4355bcbd1f3b7b74d167": {
      "model_module": "@jupyter-widgets/controls",
      "model_module_version": "1.5.0",
      "model_name": "HTMLModel",
      "state": {
       "layout": "IPY_MODEL_3011e9825f114ca6811f7cf4edf59d5d",
       "style": "IPY_MODEL_4a21ae6b5f284c989a3a5db1d4b8541f",
       "value": "100%"
      }
     },
     "53518ccc58154797b73861ffb51ff5d8": {
      "model_module": "@jupyter-widgets/base",
      "model_module_version": "1.2.0",
      "model_name": "LayoutModel",
      "state": {}
     },
     "5354851f5a6049a68362d57ea4442598": {
      "model_module": "@jupyter-widgets/controls",
      "model_module_version": "1.5.0",
      "model_name": "DescriptionStyleModel",
      "state": {
       "description_width": ""
      }
     },
     "536aee3e3a45481fb66f6895544295a7": {
      "model_module": "@jupyter-widgets/controls",
      "model_module_version": "1.5.0",
      "model_name": "FloatProgressModel",
      "state": {
       "bar_style": "success",
       "layout": "IPY_MODEL_bed7bb7fdf1c45f7a5fb0683af8da9a3",
       "max": 74,
       "style": "IPY_MODEL_fa16155a03cd4dc4ac8639e60e31b7f0",
       "value": 74
      }
     },
     "5396499775b94ab780c485e57d4d1e80": {
      "model_module": "@jupyter-widgets/base",
      "model_module_version": "1.2.0",
      "model_name": "LayoutModel",
      "state": {}
     },
     "53dd33cb6ee7405eb7a081faf85e67eb": {
      "model_module": "@jupyter-widgets/base",
      "model_module_version": "1.2.0",
      "model_name": "LayoutModel",
      "state": {}
     },
     "54392ff5fcb04ac1af1e6de377637e3b": {
      "model_module": "@jupyter-widgets/controls",
      "model_module_version": "1.5.0",
      "model_name": "HTMLModel",
      "state": {
       "layout": "IPY_MODEL_ae1e550fee8e4ce2b01d84d7e010f82a",
       "style": "IPY_MODEL_0d057459a8a2451d93894b91b4df5b7c",
       "value": " 86/86 [00:06&lt;00:00,  8.31it/s]"
      }
     },
     "544aab29d2bf47e886b0bf4f647e8c69": {
      "model_module": "@jupyter-widgets/base",
      "model_module_version": "1.2.0",
      "model_name": "LayoutModel",
      "state": {}
     },
     "54580992cd004004b69b201f0b387eb1": {
      "model_module": "@jupyter-widgets/controls",
      "model_module_version": "1.5.0",
      "model_name": "DescriptionStyleModel",
      "state": {
       "description_width": ""
      }
     },
     "545a95ac189e4b53b3204d2e222ee79e": {
      "model_module": "@jupyter-widgets/base",
      "model_module_version": "1.2.0",
      "model_name": "LayoutModel",
      "state": {}
     },
     "5470062e961e4f9897523001c29a5e12": {
      "model_module": "@jupyter-widgets/base",
      "model_module_version": "1.2.0",
      "model_name": "LayoutModel",
      "state": {}
     },
     "54733c4505904f1289cb89f31b14bb72": {
      "model_module": "@jupyter-widgets/base",
      "model_module_version": "1.2.0",
      "model_name": "LayoutModel",
      "state": {}
     },
     "548d5bfbddba4313997d8dcc124286ec": {
      "model_module": "@jupyter-widgets/controls",
      "model_module_version": "1.5.0",
      "model_name": "DescriptionStyleModel",
      "state": {
       "description_width": ""
      }
     },
     "549a36b70f8842028d16c25add4f0300": {
      "model_module": "@jupyter-widgets/base",
      "model_module_version": "1.2.0",
      "model_name": "LayoutModel",
      "state": {}
     },
     "54f71cd912404e78ada9a542d1bac633": {
      "model_module": "@jupyter-widgets/controls",
      "model_module_version": "1.5.0",
      "model_name": "FloatProgressModel",
      "state": {
       "bar_style": "success",
       "layout": "IPY_MODEL_c00a3b138a214cdea3f9dba0a6decbac",
       "max": 74,
       "style": "IPY_MODEL_0df77a5f9c594fb181ae1e90eadbc638",
       "value": 74
      }
     },
     "5525dd95edf442ceaeabb3cd72ae8ff2": {
      "model_module": "@jupyter-widgets/base",
      "model_module_version": "1.2.0",
      "model_name": "LayoutModel",
      "state": {}
     },
     "552fbff773f947e5a85d9107c4527e5a": {
      "model_module": "@jupyter-widgets/controls",
      "model_module_version": "1.5.0",
      "model_name": "HTMLModel",
      "state": {
       "layout": "IPY_MODEL_70f7854771d94dc992a2eb6a7b824bf8",
       "style": "IPY_MODEL_0a1c56e858f84e2ba457d02edbab53cf",
       "value": "100%"
      }
     },
     "5580aa7ddc8c4a8682cb7c0ba9ad2bf4": {
      "model_module": "@jupyter-widgets/base",
      "model_module_version": "1.2.0",
      "model_name": "LayoutModel",
      "state": {}
     },
     "55f120a340294ef2a0fb1b8691477b5e": {
      "model_module": "@jupyter-widgets/controls",
      "model_module_version": "1.5.0",
      "model_name": "DescriptionStyleModel",
      "state": {
       "description_width": ""
      }
     },
     "56017f7a1cbe41248aa3acafaf74e60f": {
      "model_module": "@jupyter-widgets/base",
      "model_module_version": "1.2.0",
      "model_name": "LayoutModel",
      "state": {}
     },
     "56032f174b5e4a21b6df107ad15bee0a": {
      "model_module": "@jupyter-widgets/controls",
      "model_module_version": "1.5.0",
      "model_name": "HTMLModel",
      "state": {
       "layout": "IPY_MODEL_4f3a7127d449494aaad0568f59434237",
       "style": "IPY_MODEL_0f3ea8f55b0f40e19b19397e7fca1635",
       "value": " 72/72 [00:04&lt;00:00, 11.33it/s]"
      }
     },
     "5606b0a04a8940f98508efa33d6aed97": {
      "model_module": "@jupyter-widgets/controls",
      "model_module_version": "1.5.0",
      "model_name": "HBoxModel",
      "state": {
       "children": [
        "IPY_MODEL_69ac99c58ba0423ba3a8db430a16b48f",
        "IPY_MODEL_5985c04276784586b8f3f07544505b1f",
        "IPY_MODEL_013af416582f4eb180d17725147c150a"
       ],
       "layout": "IPY_MODEL_417c56f881ae40efb7cda97be9b618ab"
      }
     },
     "567898b7090c47ebad38f9edf63b1eed": {
      "model_module": "@jupyter-widgets/controls",
      "model_module_version": "1.5.0",
      "model_name": "DescriptionStyleModel",
      "state": {
       "description_width": ""
      }
     },
     "568771adfdc54c978f42fd01e7fa7949": {
      "model_module": "@jupyter-widgets/controls",
      "model_module_version": "1.5.0",
      "model_name": "ProgressStyleModel",
      "state": {
       "description_width": ""
      }
     },
     "56dd5336d719499bb7dfd6f72b3ab53c": {
      "model_module": "@jupyter-widgets/controls",
      "model_module_version": "1.5.0",
      "model_name": "DescriptionStyleModel",
      "state": {
       "description_width": ""
      }
     },
     "5738a7582083466e9803660b6d8dd430": {
      "model_module": "@jupyter-widgets/controls",
      "model_module_version": "1.5.0",
      "model_name": "FloatProgressModel",
      "state": {
       "bar_style": "success",
       "layout": "IPY_MODEL_358d8cf69d104803b737983e46fd3b3d",
       "max": 80,
       "style": "IPY_MODEL_1d87e463fbad41b98a5c170dc7a4df47",
       "value": 80
      }
     },
     "5761e8f05f92485b9a6d9d643d720c48": {
      "model_module": "@jupyter-widgets/base",
      "model_module_version": "1.2.0",
      "model_name": "LayoutModel",
      "state": {}
     },
     "57c879c45a1141f39be50813fad966cf": {
      "model_module": "@jupyter-widgets/controls",
      "model_module_version": "1.5.0",
      "model_name": "FloatProgressModel",
      "state": {
       "bar_style": "success",
       "layout": "IPY_MODEL_71820cd210834103a212fa33eae9c5bd",
       "max": 72,
       "style": "IPY_MODEL_caff4b39f3184ab8aa77157a72efbae5",
       "value": 72
      }
     },
     "57f471a72ab048169c3a9813230a69e9": {
      "model_module": "@jupyter-widgets/controls",
      "model_module_version": "1.5.0",
      "model_name": "DescriptionStyleModel",
      "state": {
       "description_width": ""
      }
     },
     "5850ec67ee374eac82b6c497e7a9b6fb": {
      "model_module": "@jupyter-widgets/base",
      "model_module_version": "1.2.0",
      "model_name": "LayoutModel",
      "state": {}
     },
     "58876e6d6b064b6c88d55468bc344dd3": {
      "model_module": "@jupyter-widgets/base",
      "model_module_version": "1.2.0",
      "model_name": "LayoutModel",
      "state": {}
     },
     "5887c5888a7b4052a8d434dea80f9d96": {
      "model_module": "@jupyter-widgets/controls",
      "model_module_version": "1.5.0",
      "model_name": "DescriptionStyleModel",
      "state": {
       "description_width": ""
      }
     },
     "58edaa9af4d8418ebb05c645630aea69": {
      "model_module": "@jupyter-widgets/base",
      "model_module_version": "1.2.0",
      "model_name": "LayoutModel",
      "state": {}
     },
     "590cbfba2f794ed7b109c8db7adc2161": {
      "model_module": "@jupyter-widgets/controls",
      "model_module_version": "1.5.0",
      "model_name": "HTMLModel",
      "state": {
       "layout": "IPY_MODEL_e46e95f6fee14bacb6a87e519bf68125",
       "style": "IPY_MODEL_b80d2aa3ec0c4df2bfa50cfd87758bab",
       "value": "100%"
      }
     },
     "59769a1895b94947ae5f75850171f65b": {
      "model_module": "@jupyter-widgets/controls",
      "model_module_version": "1.5.0",
      "model_name": "HTMLModel",
      "state": {
       "layout": "IPY_MODEL_ba85c7867bd3464384598f125316140b",
       "style": "IPY_MODEL_0ee89f51b6994ebb96f41f6701e8dc2a",
       "value": " 72/72 [00:04&lt;00:00, 14.42it/s]"
      }
     },
     "5985c04276784586b8f3f07544505b1f": {
      "model_module": "@jupyter-widgets/controls",
      "model_module_version": "1.5.0",
      "model_name": "FloatProgressModel",
      "state": {
       "bar_style": "success",
       "layout": "IPY_MODEL_80a70bbd084d4e0ebce833030f5c5cf4",
       "max": 70,
       "style": "IPY_MODEL_64c57cfe3d254ba89222bcf0437b570a",
       "value": 70
      }
     },
     "59e563b42adb43cf925fa9123635c20c": {
      "model_module": "@jupyter-widgets/controls",
      "model_module_version": "1.5.0",
      "model_name": "HTMLModel",
      "state": {
       "layout": "IPY_MODEL_471f77f5727e4d979cfa7a641d1f91ba",
       "style": "IPY_MODEL_258320c69b774adf9c50bd4c61f48dcf",
       "value": "100%"
      }
     },
     "59e8a25c28bf45feba0753b65f018a97": {
      "model_module": "@jupyter-widgets/controls",
      "model_module_version": "1.5.0",
      "model_name": "DescriptionStyleModel",
      "state": {
       "description_width": ""
      }
     },
     "5a5f82170be441768163f0f4496eb7f1": {
      "model_module": "@jupyter-widgets/base",
      "model_module_version": "1.2.0",
      "model_name": "LayoutModel",
      "state": {}
     },
     "5a63a85be66344209aa53584b63546f9": {
      "model_module": "@jupyter-widgets/controls",
      "model_module_version": "1.5.0",
      "model_name": "DescriptionStyleModel",
      "state": {
       "description_width": ""
      }
     },
     "5a99dd61884b4612ba941d148551e09a": {
      "model_module": "@jupyter-widgets/base",
      "model_module_version": "1.2.0",
      "model_name": "LayoutModel",
      "state": {}
     },
     "5a9abaf94529449a87a87ab7f2b235c6": {
      "model_module": "@jupyter-widgets/controls",
      "model_module_version": "1.5.0",
      "model_name": "HTMLModel",
      "state": {
       "layout": "IPY_MODEL_0892944699da4474837ce21c4d1cb4c1",
       "style": "IPY_MODEL_c116456081954b98a514e85a3c699f38",
       "value": " 80/80 [00:04&lt;00:00, 11.86it/s]"
      }
     },
     "5aa25b79ddf14f818890850044f542ce": {
      "model_module": "@jupyter-widgets/controls",
      "model_module_version": "1.5.0",
      "model_name": "DescriptionStyleModel",
      "state": {
       "description_width": ""
      }
     },
     "5b072c0464944c9d9d50ebf83091b727": {
      "model_module": "@jupyter-widgets/controls",
      "model_module_version": "1.5.0",
      "model_name": "HTMLModel",
      "state": {
       "layout": "IPY_MODEL_dfa61b1afc8c4383b055969dcef4b41c",
       "style": "IPY_MODEL_55f120a340294ef2a0fb1b8691477b5e",
       "value": " 82/82 [00:05&lt;00:00,  6.76it/s]"
      }
     },
     "5b6c5391af9f43589d8e2053092d319c": {
      "model_module": "@jupyter-widgets/base",
      "model_module_version": "1.2.0",
      "model_name": "LayoutModel",
      "state": {}
     },
     "5baa887312fa49aba4d7f575b3365a2b": {
      "model_module": "@jupyter-widgets/controls",
      "model_module_version": "1.5.0",
      "model_name": "FloatProgressModel",
      "state": {
       "bar_style": "success",
       "layout": "IPY_MODEL_e875049c83f64c6b94c21c443e83d042",
       "max": 80,
       "style": "IPY_MODEL_1c75922f0757490abb542d479f5918a5",
       "value": 80
      }
     },
     "5bd2206bba644231bee512d7daedf132": {
      "model_module": "@jupyter-widgets/base",
      "model_module_version": "1.2.0",
      "model_name": "LayoutModel",
      "state": {}
     },
     "5bd5194d22234b008d10deef13566dff": {
      "model_module": "@jupyter-widgets/controls",
      "model_module_version": "1.5.0",
      "model_name": "DescriptionStyleModel",
      "state": {
       "description_width": ""
      }
     },
     "5bf33cfbf7334ae28176f08adac14297": {
      "model_module": "@jupyter-widgets/controls",
      "model_module_version": "1.5.0",
      "model_name": "FloatProgressModel",
      "state": {
       "bar_style": "success",
       "layout": "IPY_MODEL_80380a7f965a423fb53d5f1d2a239be4",
       "max": 54,
       "style": "IPY_MODEL_dd572a9ca8e34538a94d02ef082aa92f",
       "value": 54
      }
     },
     "5c4844b0dfe9467c8b998441c3c2a163": {
      "model_module": "@jupyter-widgets/controls",
      "model_module_version": "1.5.0",
      "model_name": "DescriptionStyleModel",
      "state": {
       "description_width": ""
      }
     },
     "5c57e46865d44022b95f0bf256da80ec": {
      "model_module": "@jupyter-widgets/controls",
      "model_module_version": "1.5.0",
      "model_name": "ProgressStyleModel",
      "state": {
       "description_width": ""
      }
     },
     "5c9bbe26643545c3837d8c86d3c7c548": {
      "model_module": "@jupyter-widgets/controls",
      "model_module_version": "1.5.0",
      "model_name": "DescriptionStyleModel",
      "state": {
       "description_width": ""
      }
     },
     "5ca357c3d3344b6392213683082c4bc6": {
      "model_module": "@jupyter-widgets/controls",
      "model_module_version": "1.5.0",
      "model_name": "HBoxModel",
      "state": {
       "children": [
        "IPY_MODEL_88d4d71c2d644193a882596ffa80ddb5",
        "IPY_MODEL_7b493a4b9ef5413d95418695060e4b0f",
        "IPY_MODEL_e2112454853d43b19295150319d89190"
       ],
       "layout": "IPY_MODEL_0a5873c3418b46f08ee2cdc9d65ab6b5"
      }
     },
     "5cac77cbab804592ab340628f7cea619": {
      "model_module": "@jupyter-widgets/controls",
      "model_module_version": "1.5.0",
      "model_name": "ProgressStyleModel",
      "state": {
       "description_width": ""
      }
     },
     "5d1b23a58fc44caab69cc3b2b2516562": {
      "model_module": "@jupyter-widgets/controls",
      "model_module_version": "1.5.0",
      "model_name": "HTMLModel",
      "state": {
       "layout": "IPY_MODEL_4488e7f088354e08b075b63e577fa730",
       "style": "IPY_MODEL_3417a97d01c149178a65aa0a3069435c",
       "value": "100%"
      }
     },
     "5d2fcc3d7b9b486484db4c09f9d52413": {
      "model_module": "@jupyter-widgets/base",
      "model_module_version": "1.2.0",
      "model_name": "LayoutModel",
      "state": {}
     },
     "5d35009a6eb64e0cb67f446141827e91": {
      "model_module": "@jupyter-widgets/controls",
      "model_module_version": "1.5.0",
      "model_name": "ProgressStyleModel",
      "state": {
       "description_width": ""
      }
     },
     "5d5ec32021924983aa1e15e637f5f7bc": {
      "model_module": "@jupyter-widgets/controls",
      "model_module_version": "1.5.0",
      "model_name": "HTMLModel",
      "state": {
       "layout": "IPY_MODEL_c78ec6f60b9240f0803c38d0ea933197",
       "style": "IPY_MODEL_a6e8e3fed35c4b27aa78e6ba8a48ab02",
       "value": " 55/55 [00:03&lt;00:00, 12.85it/s]"
      }
     },
     "5d606c34dc814627bac6014a3e2713cf": {
      "model_module": "@jupyter-widgets/controls",
      "model_module_version": "1.5.0",
      "model_name": "ProgressStyleModel",
      "state": {
       "description_width": ""
      }
     },
     "5dc4b20620194710b1b85b632c5ff560": {
      "model_module": "@jupyter-widgets/controls",
      "model_module_version": "1.5.0",
      "model_name": "HTMLModel",
      "state": {
       "layout": "IPY_MODEL_dab97f90c9cb43d1bdc7dfbc586850e5",
       "style": "IPY_MODEL_4b2423c0be4b4eaea2c122df9e793979",
       "value": " 72/72 [00:05&lt;00:00, 10.86it/s]"
      }
     },
     "5dede2f5a58944649b61e24dc72faae8": {
      "model_module": "@jupyter-widgets/controls",
      "model_module_version": "1.5.0",
      "model_name": "FloatProgressModel",
      "state": {
       "bar_style": "success",
       "layout": "IPY_MODEL_96359310d0114eec9134255e122d1169",
       "max": 76,
       "style": "IPY_MODEL_527e9b77b02c448699b3791803d35ce4",
       "value": 76
      }
     },
     "5e3acf14a4c44ddeaadee8529043bf37": {
      "model_module": "@jupyter-widgets/controls",
      "model_module_version": "1.5.0",
      "model_name": "DescriptionStyleModel",
      "state": {
       "description_width": ""
      }
     },
     "5e71a11ea41f48388b0a202e0c7a28b5": {
      "model_module": "@jupyter-widgets/controls",
      "model_module_version": "1.5.0",
      "model_name": "DescriptionStyleModel",
      "state": {
       "description_width": ""
      }
     },
     "5ea7f660b8094f71bb4e87ced16e9567": {
      "model_module": "@jupyter-widgets/controls",
      "model_module_version": "1.5.0",
      "model_name": "DescriptionStyleModel",
      "state": {
       "description_width": ""
      }
     },
     "5ebd6bb6875048d9865238c3189da342": {
      "model_module": "@jupyter-widgets/controls",
      "model_module_version": "1.5.0",
      "model_name": "HTMLModel",
      "state": {
       "layout": "IPY_MODEL_7d802fa600eb444a9cb459635a8876bd",
       "style": "IPY_MODEL_051ac19a79134a6281be8805f2adf533",
       "value": "100%"
      }
     },
     "5eee5340944b44b585f5fea0306005f1": {
      "model_module": "@jupyter-widgets/controls",
      "model_module_version": "1.5.0",
      "model_name": "HTMLModel",
      "state": {
       "layout": "IPY_MODEL_90ecbc03e8a74b55b36a3c407807f3c4",
       "style": "IPY_MODEL_ad3b0e7b82c7404093737e315f883b39",
       "value": " 31/31 [00:03&lt;00:00,  7.16it/s]"
      }
     },
     "5f534a865eba4a219bfc386a7e3a48cd": {
      "model_module": "@jupyter-widgets/controls",
      "model_module_version": "1.5.0",
      "model_name": "ProgressStyleModel",
      "state": {
       "description_width": ""
      }
     },
     "5f9f6997160143898744c7b7ebc07980": {
      "model_module": "@jupyter-widgets/controls",
      "model_module_version": "1.5.0",
      "model_name": "DescriptionStyleModel",
      "state": {
       "description_width": ""
      }
     },
     "5fb8fdb84a67425bbb83e5f195ca78ec": {
      "model_module": "@jupyter-widgets/controls",
      "model_module_version": "1.5.0",
      "model_name": "HTMLModel",
      "state": {
       "layout": "IPY_MODEL_d7258e25ea6c483da3e5d901c043082a",
       "style": "IPY_MODEL_606fdb2fed854b3c95bb7d42193d2b65",
       "value": " 82/82 [00:07&lt;00:00,  6.48it/s]"
      }
     },
     "5ff4ccd332cc4185976a9fa29e9bc6b6": {
      "model_module": "@jupyter-widgets/controls",
      "model_module_version": "1.5.0",
      "model_name": "HTMLModel",
      "state": {
       "layout": "IPY_MODEL_0aaa7d8fb4944f7496e393448559376c",
       "style": "IPY_MODEL_c9d3bedcf039437791ae0af96f050db9",
       "value": "100%"
      }
     },
     "5ffb71d301a44287a1ebef6c98275c36": {
      "model_module": "@jupyter-widgets/controls",
      "model_module_version": "1.5.0",
      "model_name": "HTMLModel",
      "state": {
       "layout": "IPY_MODEL_54733c4505904f1289cb89f31b14bb72",
       "style": "IPY_MODEL_faf2697440e84f38958e2495a1889248",
       "value": " 70/70 [00:05&lt;00:00,  8.05it/s]"
      }
     },
     "601aa101a2f14a2fb8a591e25e9e6b79": {
      "model_module": "@jupyter-widgets/base",
      "model_module_version": "1.2.0",
      "model_name": "LayoutModel",
      "state": {}
     },
     "605492a9d36f439eb77e8d63afcf6cba": {
      "model_module": "@jupyter-widgets/base",
      "model_module_version": "1.2.0",
      "model_name": "LayoutModel",
      "state": {}
     },
     "606b8bc3bf544ccd90c0bb111765fd31": {
      "model_module": "@jupyter-widgets/base",
      "model_module_version": "1.2.0",
      "model_name": "LayoutModel",
      "state": {}
     },
     "606fdb2fed854b3c95bb7d42193d2b65": {
      "model_module": "@jupyter-widgets/controls",
      "model_module_version": "1.5.0",
      "model_name": "DescriptionStyleModel",
      "state": {
       "description_width": ""
      }
     },
     "6093461df7b3429dae09da8983198f6d": {
      "model_module": "@jupyter-widgets/controls",
      "model_module_version": "1.5.0",
      "model_name": "HBoxModel",
      "state": {
       "children": [
        "IPY_MODEL_282b50407d40426cb12c76351e516d73",
        "IPY_MODEL_fb3008e8b4e842a983900ace66d583ac",
        "IPY_MODEL_d29b1916ec3d45eea372dbd1c032b2e4"
       ],
       "layout": "IPY_MODEL_613b96d3f4a04c308efa529518063971"
      }
     },
     "60e63379821d4a629b4397ab3475bdb0": {
      "model_module": "@jupyter-widgets/controls",
      "model_module_version": "1.5.0",
      "model_name": "ProgressStyleModel",
      "state": {
       "description_width": ""
      }
     },
     "61209257b081450dbb1b686f08213c37": {
      "model_module": "@jupyter-widgets/controls",
      "model_module_version": "1.5.0",
      "model_name": "HTMLModel",
      "state": {
       "layout": "IPY_MODEL_815675449adb44d7a986d7c7b9c4c88c",
       "style": "IPY_MODEL_2f9d32c67c71474db1bf6b76325313b2",
       "value": "100%"
      }
     },
     "613b96d3f4a04c308efa529518063971": {
      "model_module": "@jupyter-widgets/base",
      "model_module_version": "1.2.0",
      "model_name": "LayoutModel",
      "state": {}
     },
     "615890152b6f40a8a893999205d5d81c": {
      "model_module": "@jupyter-widgets/base",
      "model_module_version": "1.2.0",
      "model_name": "LayoutModel",
      "state": {}
     },
     "616b82f9364e4570a58f943af80bbcb4": {
      "model_module": "@jupyter-widgets/controls",
      "model_module_version": "1.5.0",
      "model_name": "HTMLModel",
      "state": {
       "layout": "IPY_MODEL_516521f3ab8141b9bd5d36bc13836a74",
       "style": "IPY_MODEL_2b21dd3a4b7c450f80cecb812539fcd3",
       "value": "100%"
      }
     },
     "61a63d2eeb304bb38e352c99124d06fd": {
      "model_module": "@jupyter-widgets/controls",
      "model_module_version": "1.5.0",
      "model_name": "HTMLModel",
      "state": {
       "layout": "IPY_MODEL_e157a2913e984a089ed731562b711e5f",
       "style": "IPY_MODEL_480713d77abd402a8f304770a60ab576",
       "value": " 72/72 [01:01&lt;00:00,  1.74s/it]"
      }
     },
     "61cc670fa0424ed586f055d990c3e8ff": {
      "model_module": "@jupyter-widgets/controls",
      "model_module_version": "1.5.0",
      "model_name": "HTMLModel",
      "state": {
       "layout": "IPY_MODEL_e2c616b027b243e885381c4bb95e07e8",
       "style": "IPY_MODEL_4f910445a16e478cbfa59446412c709e",
       "value": "100%"
      }
     },
     "61ebc1215cbf4430801b833a43c63ead": {
      "model_module": "@jupyter-widgets/controls",
      "model_module_version": "1.5.0",
      "model_name": "HTMLModel",
      "state": {
       "layout": "IPY_MODEL_a51f27b618084aff960e36014e2407ad",
       "style": "IPY_MODEL_e8f9919f46d44eaabc58765512813f9b",
       "value": " 31/31 [00:03&lt;00:00,  7.65it/s]"
      }
     },
     "6257403fa249438eb9f91eb1aa36a0a5": {
      "model_module": "@jupyter-widgets/controls",
      "model_module_version": "1.5.0",
      "model_name": "DescriptionStyleModel",
      "state": {
       "description_width": ""
      }
     },
     "626162ca23cc40f7a7ed0d881599ee35": {
      "model_module": "@jupyter-widgets/controls",
      "model_module_version": "1.5.0",
      "model_name": "HBoxModel",
      "state": {
       "children": [
        "IPY_MODEL_e77a975024bb40c6ada74d3ccb2b6499",
        "IPY_MODEL_3e3bdbd72ee448919b957f44fe25d2f0",
        "IPY_MODEL_61ebc1215cbf4430801b833a43c63ead"
       ],
       "layout": "IPY_MODEL_7fb4bfe117e64b69a45e2531310dcc07"
      }
     },
     "628343499ba24df28a37cc5cb155531f": {
      "model_module": "@jupyter-widgets/base",
      "model_module_version": "1.2.0",
      "model_name": "LayoutModel",
      "state": {}
     },
     "62f9860b21ae4c028b1d8616f4a580ff": {
      "model_module": "@jupyter-widgets/controls",
      "model_module_version": "1.5.0",
      "model_name": "HBoxModel",
      "state": {
       "children": [
        "IPY_MODEL_61cc670fa0424ed586f055d990c3e8ff",
        "IPY_MODEL_71f59c62bdbb4a9a83c3f6c8579b2a40",
        "IPY_MODEL_afb8038ad6474ceab92d92b8bb23643d"
       ],
       "layout": "IPY_MODEL_77fc1f1b269f49e4b149e00a7d42132f"
      }
     },
     "6326c54561ab4d799f460685f762bed2": {
      "model_module": "@jupyter-widgets/controls",
      "model_module_version": "1.5.0",
      "model_name": "HTMLModel",
      "state": {
       "layout": "IPY_MODEL_4a98e71d275a41d6a15bc7d714ceb126",
       "style": "IPY_MODEL_57f471a72ab048169c3a9813230a69e9",
       "value": " 88/88 [00:19&lt;00:00,  1.74it/s]"
      }
     },
     "63a057e53c8940738e9a008f03c28614": {
      "model_module": "@jupyter-widgets/controls",
      "model_module_version": "1.5.0",
      "model_name": "DescriptionStyleModel",
      "state": {
       "description_width": ""
      }
     },
     "63e841de8bcd46e9981c8f686107c24e": {
      "model_module": "@jupyter-widgets/base",
      "model_module_version": "1.2.0",
      "model_name": "LayoutModel",
      "state": {}
     },
     "63eda07b3fd1439ba617aab278d94f87": {
      "model_module": "@jupyter-widgets/base",
      "model_module_version": "1.2.0",
      "model_name": "LayoutModel",
      "state": {}
     },
     "63f05dda92c6449b9feca1bda12ab7c3": {
      "model_module": "@jupyter-widgets/controls",
      "model_module_version": "1.5.0",
      "model_name": "HTMLModel",
      "state": {
       "layout": "IPY_MODEL_dbe48814da38429ca5369d3f40c9c793",
       "style": "IPY_MODEL_519a68fb366a4c9a91d7c29f2ecaf962",
       "value": " 72/72 [00:05&lt;00:00, 10.91it/s]"
      }
     },
     "645631696d0549c6a2d93aabf08209e2": {
      "model_module": "@jupyter-widgets/base",
      "model_module_version": "1.2.0",
      "model_name": "LayoutModel",
      "state": {}
     },
     "64922c05f3d241489a9edf55d059d2d4": {
      "model_module": "@jupyter-widgets/controls",
      "model_module_version": "1.5.0",
      "model_name": "ProgressStyleModel",
      "state": {
       "description_width": ""
      }
     },
     "64a84b71acd341fcb274977d6e3947da": {
      "model_module": "@jupyter-widgets/controls",
      "model_module_version": "1.5.0",
      "model_name": "HTMLModel",
      "state": {
       "layout": "IPY_MODEL_7495b91b7fab4f029706f1817dea1324",
       "style": "IPY_MODEL_8c3f90de0a0a47b08485545587f86d03",
       "value": "100%"
      }
     },
     "64ad99efccbe4a44a9b1100c7c9f3197": {
      "model_module": "@jupyter-widgets/controls",
      "model_module_version": "1.5.0",
      "model_name": "DescriptionStyleModel",
      "state": {
       "description_width": ""
      }
     },
     "64bb455631a64dab89204d79ea157ecf": {
      "model_module": "@jupyter-widgets/controls",
      "model_module_version": "1.5.0",
      "model_name": "HBoxModel",
      "state": {
       "children": [
        "IPY_MODEL_d736015de6c04b8b89e7913fc7bb32c0",
        "IPY_MODEL_f21af42944614b89b7b8e6ec1993d756",
        "IPY_MODEL_18276c85489b459e850d3cfa5cc37065"
       ],
       "layout": "IPY_MODEL_baf7c35969db49e6a374ac2e29ae34d3"
      }
     },
     "64c57cfe3d254ba89222bcf0437b570a": {
      "model_module": "@jupyter-widgets/controls",
      "model_module_version": "1.5.0",
      "model_name": "ProgressStyleModel",
      "state": {
       "description_width": ""
      }
     },
     "6593b8b94a9349aea82ee4b0722392fb": {
      "model_module": "@jupyter-widgets/base",
      "model_module_version": "1.2.0",
      "model_name": "LayoutModel",
      "state": {}
     },
     "65ee6888e2ce4751846c0069ebe1310f": {
      "model_module": "@jupyter-widgets/base",
      "model_module_version": "1.2.0",
      "model_name": "LayoutModel",
      "state": {}
     },
     "6639e997b54f40cba1322145d5f56019": {
      "model_module": "@jupyter-widgets/base",
      "model_module_version": "1.2.0",
      "model_name": "LayoutModel",
      "state": {}
     },
     "66432d99fabb43f2b3e3b28e140f4388": {
      "model_module": "@jupyter-widgets/controls",
      "model_module_version": "1.5.0",
      "model_name": "HBoxModel",
      "state": {
       "children": [
        "IPY_MODEL_44d04533e6644fcd8c48416c68cc01ee",
        "IPY_MODEL_5baa887312fa49aba4d7f575b3365a2b",
        "IPY_MODEL_f428069d11c8482b940f53a89aeed269"
       ],
       "layout": "IPY_MODEL_85df63e46cfb4d0291f0cbb1559e0737"
      }
     },
     "6653d34c8eb24158a7c410b2630aa83c": {
      "model_module": "@jupyter-widgets/controls",
      "model_module_version": "1.5.0",
      "model_name": "DescriptionStyleModel",
      "state": {
       "description_width": ""
      }
     },
     "6667d3e4304a493c87f202b26ac11340": {
      "model_module": "@jupyter-widgets/controls",
      "model_module_version": "1.5.0",
      "model_name": "DescriptionStyleModel",
      "state": {
       "description_width": ""
      }
     },
     "66e1b97727b84aae898beef89b663b1d": {
      "model_module": "@jupyter-widgets/base",
      "model_module_version": "1.2.0",
      "model_name": "LayoutModel",
      "state": {}
     },
     "66e7355d2fa84352a93c5b229393ff61": {
      "model_module": "@jupyter-widgets/controls",
      "model_module_version": "1.5.0",
      "model_name": "HTMLModel",
      "state": {
       "layout": "IPY_MODEL_dae67cb29829419697febedbf8a3f70f",
       "style": "IPY_MODEL_217b0574d160423e8fa902adc5922686",
       "value": " 76/76 [00:07&lt;00:00,  6.30it/s]"
      }
     },
     "66f0c0f5385d4baf8888c4827f05af9b": {
      "model_module": "@jupyter-widgets/base",
      "model_module_version": "1.2.0",
      "model_name": "LayoutModel",
      "state": {}
     },
     "672b0471f95141ffacbb45c49c2c7025": {
      "model_module": "@jupyter-widgets/controls",
      "model_module_version": "1.5.0",
      "model_name": "HBoxModel",
      "state": {
       "children": [
        "IPY_MODEL_64a84b71acd341fcb274977d6e3947da",
        "IPY_MODEL_08e580f06a5348768ccf2bacf3402cbc",
        "IPY_MODEL_7913ad1e1fdf410883f587be26f6c44f"
       ],
       "layout": "IPY_MODEL_a9540761019b45e98cbebc165c55167e"
      }
     },
     "673297973da643a8ad669e12d40d2605": {
      "model_module": "@jupyter-widgets/controls",
      "model_module_version": "1.5.0",
      "model_name": "HTMLModel",
      "state": {
       "layout": "IPY_MODEL_49ec05ffd5ed449ba089e35f5dff19b3",
       "style": "IPY_MODEL_9c7828e260ec4608ade9701169e723a9",
       "value": " 100/100 [00:30&lt;00:00,  1.65it/s]"
      }
     },
     "674461e6b0b64e7eb70da7ec8d6445b7": {
      "model_module": "@jupyter-widgets/controls",
      "model_module_version": "1.5.0",
      "model_name": "DescriptionStyleModel",
      "state": {
       "description_width": ""
      }
     },
     "687d1a91e4f34c349193ef13efd1e81e": {
      "model_module": "@jupyter-widgets/controls",
      "model_module_version": "1.5.0",
      "model_name": "FloatProgressModel",
      "state": {
       "bar_style": "success",
       "layout": "IPY_MODEL_2fbd31d3dffd4ab2832d0b10ccde4d7c",
       "max": 55,
       "style": "IPY_MODEL_f17c6b1bc55241dbbbed76002b46e3b1",
       "value": 55
      }
     },
     "6881af0fb77648398acc349b36caecff": {
      "model_module": "@jupyter-widgets/controls",
      "model_module_version": "1.5.0",
      "model_name": "DescriptionStyleModel",
      "state": {
       "description_width": ""
      }
     },
     "68ac2d7c3ea245a0990b276bcaa00058": {
      "model_module": "@jupyter-widgets/base",
      "model_module_version": "1.2.0",
      "model_name": "LayoutModel",
      "state": {}
     },
     "68b2bfd3c21f4b7ab2dcc5c862d4374d": {
      "model_module": "@jupyter-widgets/controls",
      "model_module_version": "1.5.0",
      "model_name": "HBoxModel",
      "state": {
       "children": [
        "IPY_MODEL_78eef5a8781447dbaca1f8927e528b48",
        "IPY_MODEL_b06cda4042dd47858525a3ab05d1fcc6",
        "IPY_MODEL_edc4ed5663c747b9b55f70c26c27d6c0"
       ],
       "layout": "IPY_MODEL_6c9e4d748f574fef97fdfc0cf04d820c"
      }
     },
     "68bfe831ec36424bb9a46ebdbfff8f74": {
      "model_module": "@jupyter-widgets/controls",
      "model_module_version": "1.5.0",
      "model_name": "DescriptionStyleModel",
      "state": {
       "description_width": ""
      }
     },
     "691ceee34f434f50b7b9d6bc6b1bc081": {
      "model_module": "@jupyter-widgets/controls",
      "model_module_version": "1.5.0",
      "model_name": "FloatProgressModel",
      "state": {
       "bar_style": "success",
       "layout": "IPY_MODEL_98506623c45d4521a42efd9ecdd5d5fe",
       "max": 72,
       "style": "IPY_MODEL_fe434b0011bd4732b3cd8c6d2059069a",
       "value": 72
      }
     },
     "69284e2d016647ff857cd1a26116ff39": {
      "model_module": "@jupyter-widgets/base",
      "model_module_version": "1.2.0",
      "model_name": "LayoutModel",
      "state": {}
     },
     "69abe47fbc5a4a2d9b1108ade379c3f1": {
      "model_module": "@jupyter-widgets/controls",
      "model_module_version": "1.5.0",
      "model_name": "ProgressStyleModel",
      "state": {
       "description_width": ""
      }
     },
     "69ac99c58ba0423ba3a8db430a16b48f": {
      "model_module": "@jupyter-widgets/controls",
      "model_module_version": "1.5.0",
      "model_name": "HTMLModel",
      "state": {
       "layout": "IPY_MODEL_312cf74ecfe24b0eacad086a1bf65375",
       "style": "IPY_MODEL_2dbd7ef3252748b59ac393c60303a817",
       "value": "100%"
      }
     },
     "6a385b4aee984bae85b0d404b78f842d": {
      "model_module": "@jupyter-widgets/base",
      "model_module_version": "1.2.0",
      "model_name": "LayoutModel",
      "state": {}
     },
     "6a48b1bb98a945a5835bf7dcd992d811": {
      "model_module": "@jupyter-widgets/controls",
      "model_module_version": "1.5.0",
      "model_name": "DescriptionStyleModel",
      "state": {
       "description_width": ""
      }
     },
     "6a6439d0d2d6448b82ca9823c964816e": {
      "model_module": "@jupyter-widgets/controls",
      "model_module_version": "1.5.0",
      "model_name": "DescriptionStyleModel",
      "state": {
       "description_width": ""
      }
     },
     "6b31be7f76154662b1c34b9262ce671f": {
      "model_module": "@jupyter-widgets/controls",
      "model_module_version": "1.5.0",
      "model_name": "DescriptionStyleModel",
      "state": {
       "description_width": ""
      }
     },
     "6b47bd69182a404490b8d844978bca9d": {
      "model_module": "@jupyter-widgets/base",
      "model_module_version": "1.2.0",
      "model_name": "LayoutModel",
      "state": {}
     },
     "6b672e4b97074ec38761ddf86e865289": {
      "model_module": "@jupyter-widgets/base",
      "model_module_version": "1.2.0",
      "model_name": "LayoutModel",
      "state": {}
     },
     "6b733d062e4d4cd6a68ec252b0ff9702": {
      "model_module": "@jupyter-widgets/controls",
      "model_module_version": "1.5.0",
      "model_name": "DescriptionStyleModel",
      "state": {
       "description_width": ""
      }
     },
     "6b9f2dc8221f4515a618d578852d17ae": {
      "model_module": "@jupyter-widgets/base",
      "model_module_version": "1.2.0",
      "model_name": "LayoutModel",
      "state": {}
     },
     "6be40e3068484b49b47797669e17e62e": {
      "model_module": "@jupyter-widgets/base",
      "model_module_version": "1.2.0",
      "model_name": "LayoutModel",
      "state": {}
     },
     "6c34f12df3394e9b8255045aab932012": {
      "model_module": "@jupyter-widgets/controls",
      "model_module_version": "1.5.0",
      "model_name": "HTMLModel",
      "state": {
       "layout": "IPY_MODEL_9148b41dff96454992f26f7743763891",
       "style": "IPY_MODEL_73e9711d13b342d987adff9f81418bac",
       "value": " 74/74 [00:04&lt;00:00, 14.63it/s]"
      }
     },
     "6c65053b931147c7be1eddb29b7cc462": {
      "model_module": "@jupyter-widgets/controls",
      "model_module_version": "1.5.0",
      "model_name": "HTMLModel",
      "state": {
       "layout": "IPY_MODEL_dc2440fbcfbb41a09fea74f20b93dbc7",
       "style": "IPY_MODEL_6a48b1bb98a945a5835bf7dcd992d811",
       "value": " 54/54 [00:02&lt;00:00, 23.91it/s]"
      }
     },
     "6c9e4d748f574fef97fdfc0cf04d820c": {
      "model_module": "@jupyter-widgets/base",
      "model_module_version": "1.2.0",
      "model_name": "LayoutModel",
      "state": {}
     },
     "6caec59a7564425098181f3b492d5f33": {
      "model_module": "@jupyter-widgets/controls",
      "model_module_version": "1.5.0",
      "model_name": "HTMLModel",
      "state": {
       "layout": "IPY_MODEL_a71fe39982634486b6466f65e50b7f9b",
       "style": "IPY_MODEL_c8787042b5994323abb38649faf955e9",
       "value": "100%"
      }
     },
     "6cb6e234b59b43719b4e0ad94ac539fd": {
      "model_module": "@jupyter-widgets/controls",
      "model_module_version": "1.5.0",
      "model_name": "HTMLModel",
      "state": {
       "layout": "IPY_MODEL_0675b02e073e4fc3b64d3f96615e0df0",
       "style": "IPY_MODEL_26a0c03d5ccc41a794434ef62487f4b3",
       "value": "100%"
      }
     },
     "6ce5aa4999a047309b400bdd870edb7e": {
      "model_module": "@jupyter-widgets/controls",
      "model_module_version": "1.5.0",
      "model_name": "HTMLModel",
      "state": {
       "layout": "IPY_MODEL_8c675d7ff10345eea0b929ecb5688e58",
       "style": "IPY_MODEL_ad6c26699d7c4f7a89277a9a99da2cd7",
       "value": "100%"
      }
     },
     "6d3def4b8259402eba3310a72fef7d22": {
      "model_module": "@jupyter-widgets/controls",
      "model_module_version": "1.5.0",
      "model_name": "ProgressStyleModel",
      "state": {
       "description_width": ""
      }
     },
     "6d8d31e579b94c38b74155d7c898675e": {
      "model_module": "@jupyter-widgets/controls",
      "model_module_version": "1.5.0",
      "model_name": "FloatProgressModel",
      "state": {
       "bar_style": "success",
       "layout": "IPY_MODEL_a1f777de81164776a624cf0797264bc0",
       "max": 48,
       "style": "IPY_MODEL_023d05ab399944f38e1dc81d504a84fa",
       "value": 48
      }
     },
     "6d92a2893cc24201bfbfcdae376955a1": {
      "model_module": "@jupyter-widgets/controls",
      "model_module_version": "1.5.0",
      "model_name": "HTMLModel",
      "state": {
       "layout": "IPY_MODEL_5b6c5391af9f43589d8e2053092d319c",
       "style": "IPY_MODEL_2ca446b0fcc64e9b8e474c16b2ece351",
       "value": "100%"
      }
     },
     "6daaa557ba5a43e7a2a74a22800202ca": {
      "model_module": "@jupyter-widgets/base",
      "model_module_version": "1.2.0",
      "model_name": "LayoutModel",
      "state": {}
     },
     "6db630c2677c4320a4ac10d963cc7c5e": {
      "model_module": "@jupyter-widgets/base",
      "model_module_version": "1.2.0",
      "model_name": "LayoutModel",
      "state": {}
     },
     "6dcb9a6d30a140f38563acd5f0b46e9b": {
      "model_module": "@jupyter-widgets/base",
      "model_module_version": "1.2.0",
      "model_name": "LayoutModel",
      "state": {}
     },
     "6df2c18c46fd42dd991bf5b3302a905f": {
      "model_module": "@jupyter-widgets/base",
      "model_module_version": "1.2.0",
      "model_name": "LayoutModel",
      "state": {}
     },
     "6e08c25e95c845f198175c948926cef1": {
      "model_module": "@jupyter-widgets/base",
      "model_module_version": "1.2.0",
      "model_name": "LayoutModel",
      "state": {}
     },
     "6e1b02cb9a15416c820f8f7b375d830e": {
      "model_module": "@jupyter-widgets/controls",
      "model_module_version": "1.5.0",
      "model_name": "ProgressStyleModel",
      "state": {
       "description_width": ""
      }
     },
     "6e6750a1066748478da1c6aa0ec25626": {
      "model_module": "@jupyter-widgets/controls",
      "model_module_version": "1.5.0",
      "model_name": "FloatProgressModel",
      "state": {
       "bar_style": "success",
       "layout": "IPY_MODEL_db231e0f90f74d9c980bb3aa31e948c0",
       "max": 72,
       "style": "IPY_MODEL_832caa2d794f4e74b3bb9c1dd15801a7",
       "value": 72
      }
     },
     "6e6f83d6e8754878bc657fa0cfdf4f73": {
      "model_module": "@jupyter-widgets/controls",
      "model_module_version": "1.5.0",
      "model_name": "FloatProgressModel",
      "state": {
       "bar_style": "success",
       "layout": "IPY_MODEL_84e67177f40c47e6ba82ecc225b01dce",
       "max": 84,
       "style": "IPY_MODEL_737e6cae862442b59e8ca0ed70943370",
       "value": 84
      }
     },
     "6e88299afa1444ea8bbe886a775d72de": {
      "model_module": "@jupyter-widgets/controls",
      "model_module_version": "1.5.0",
      "model_name": "ProgressStyleModel",
      "state": {
       "description_width": ""
      }
     },
     "6e9ef415a9b14e49ab703cfa3fbc97fa": {
      "model_module": "@jupyter-widgets/controls",
      "model_module_version": "1.5.0",
      "model_name": "DescriptionStyleModel",
      "state": {
       "description_width": ""
      }
     },
     "6f3c80b083ab49bb86e843227d2e081c": {
      "model_module": "@jupyter-widgets/controls",
      "model_module_version": "1.5.0",
      "model_name": "HTMLModel",
      "state": {
       "layout": "IPY_MODEL_db0cda80d3fa4972834186c2494eaa0f",
       "style": "IPY_MODEL_d165cd71624243439ea50deb2cc7271a",
       "value": " 72/72 [00:03&lt;00:00, 11.45it/s]"
      }
     },
     "7012c5af13da4032a12bca6722d850ee": {
      "model_module": "@jupyter-widgets/controls",
      "model_module_version": "1.5.0",
      "model_name": "HTMLModel",
      "state": {
       "layout": "IPY_MODEL_7f7fa596fc18492da82e637d3bcba3eb",
       "style": "IPY_MODEL_822b97a4cfa74f678739a912cffe0e37",
       "value": " 72/72 [00:03&lt;00:00, 15.95it/s]"
      }
     },
     "702eeec51b3f47809f8eaa863394ad0e": {
      "model_module": "@jupyter-widgets/controls",
      "model_module_version": "1.5.0",
      "model_name": "HTMLModel",
      "state": {
       "layout": "IPY_MODEL_ba26fbad625f4a158552504ae9e7d657",
       "style": "IPY_MODEL_ca9f27db2d1042fea44ebead9cec9415",
       "value": " 80/80 [00:09&lt;00:00,  5.92it/s]"
      }
     },
     "704d2b22accc4c36b1601a6651f14b95": {
      "model_module": "@jupyter-widgets/controls",
      "model_module_version": "1.5.0",
      "model_name": "ProgressStyleModel",
      "state": {
       "description_width": ""
      }
     },
     "70918719333448f88c9a7559a0cf3ee5": {
      "model_module": "@jupyter-widgets/base",
      "model_module_version": "1.2.0",
      "model_name": "LayoutModel",
      "state": {}
     },
     "709fd0e450874b3980e68101acc496fb": {
      "model_module": "@jupyter-widgets/controls",
      "model_module_version": "1.5.0",
      "model_name": "DescriptionStyleModel",
      "state": {
       "description_width": ""
      }
     },
     "70d3a8ff07ab45d0a512159d90397806": {
      "model_module": "@jupyter-widgets/controls",
      "model_module_version": "1.5.0",
      "model_name": "HBoxModel",
      "state": {
       "children": [
        "IPY_MODEL_cfda69b98b5c4a9b8c5b9d7f4d1edd6d",
        "IPY_MODEL_49ddcc60cdc7420a86b5b9e0cc3c2100",
        "IPY_MODEL_e0657c8d7fe14c35a288187918109c64"
       ],
       "layout": "IPY_MODEL_1c4c17dc1ba64a14bc4ca1f561b14b2c"
      }
     },
     "70f3a1a6a2a24c38b7f53b5dfd5085f4": {
      "model_module": "@jupyter-widgets/controls",
      "model_module_version": "1.5.0",
      "model_name": "HTMLModel",
      "state": {
       "layout": "IPY_MODEL_d97d9b0517aa4d53a7d12fdc51c66d86",
       "style": "IPY_MODEL_51b40afd85db45a0906b51f70e570659",
       "value": " 72/72 [00:57&lt;00:00,  2.83s/it]"
      }
     },
     "70f7854771d94dc992a2eb6a7b824bf8": {
      "model_module": "@jupyter-widgets/base",
      "model_module_version": "1.2.0",
      "model_name": "LayoutModel",
      "state": {}
     },
     "710789b925954c6ebc382c6b8ae206a9": {
      "model_module": "@jupyter-widgets/controls",
      "model_module_version": "1.5.0",
      "model_name": "HTMLModel",
      "state": {
       "layout": "IPY_MODEL_902f661bc3d84aa7901d3c33b405f24b",
       "style": "IPY_MODEL_41f8bcb1baa7425abf76dd098d1c7216",
       "value": " 48/48 [00:05&lt;00:00,  6.35it/s]"
      }
     },
     "7136bb9d141f49ada84c4a1020ff8125": {
      "model_module": "@jupyter-widgets/controls",
      "model_module_version": "1.5.0",
      "model_name": "ProgressStyleModel",
      "state": {
       "description_width": ""
      }
     },
     "7138371779f14aaab41ae6e76b48ec21": {
      "model_module": "@jupyter-widgets/base",
      "model_module_version": "1.2.0",
      "model_name": "LayoutModel",
      "state": {}
     },
     "71820cd210834103a212fa33eae9c5bd": {
      "model_module": "@jupyter-widgets/base",
      "model_module_version": "1.2.0",
      "model_name": "LayoutModel",
      "state": {}
     },
     "71d0c2ccdc494d4d877a16635c872de4": {
      "model_module": "@jupyter-widgets/controls",
      "model_module_version": "1.5.0",
      "model_name": "HTMLModel",
      "state": {
       "layout": "IPY_MODEL_b45f508ed4234b21b743001b4615d60c",
       "style": "IPY_MODEL_709fd0e450874b3980e68101acc496fb",
       "value": "100%"
      }
     },
     "71f59c62bdbb4a9a83c3f6c8579b2a40": {
      "model_module": "@jupyter-widgets/controls",
      "model_module_version": "1.5.0",
      "model_name": "FloatProgressModel",
      "state": {
       "bar_style": "success",
       "layout": "IPY_MODEL_03100f10252542748c6397b5490d372a",
       "max": 80,
       "style": "IPY_MODEL_e907403ad3524797a0f17759420d5e00",
       "value": 80
      }
     },
     "7204ae051fbe4c5d858029b9e115478a": {
      "model_module": "@jupyter-widgets/controls",
      "model_module_version": "1.5.0",
      "model_name": "HBoxModel",
      "state": {
       "children": [
        "IPY_MODEL_8adeb69ce6bc47cc9f8578e3f2bfe887",
        "IPY_MODEL_b1cf1c0f7422478cbb0ef5297fe0af69",
        "IPY_MODEL_6326c54561ab4d799f460685f762bed2"
       ],
       "layout": "IPY_MODEL_2b66d5c2c70e4103884b87a99ebfced4"
      }
     },
     "7287440f3dd94e3285d9336e856df10a": {
      "model_module": "@jupyter-widgets/base",
      "model_module_version": "1.2.0",
      "model_name": "LayoutModel",
      "state": {}
     },
     "7301ddbfcb614dc78dd7e07539eef7c1": {
      "model_module": "@jupyter-widgets/controls",
      "model_module_version": "1.5.0",
      "model_name": "DescriptionStyleModel",
      "state": {
       "description_width": ""
      }
     },
     "732bb913de274f1384a9fae06159472a": {
      "model_module": "@jupyter-widgets/controls",
      "model_module_version": "1.5.0",
      "model_name": "DescriptionStyleModel",
      "state": {
       "description_width": ""
      }
     },
     "737e0bb4bca6404fa3aa792b6809827e": {
      "model_module": "@jupyter-widgets/base",
      "model_module_version": "1.2.0",
      "model_name": "LayoutModel",
      "state": {}
     },
     "737e6cae862442b59e8ca0ed70943370": {
      "model_module": "@jupyter-widgets/controls",
      "model_module_version": "1.5.0",
      "model_name": "ProgressStyleModel",
      "state": {
       "description_width": ""
      }
     },
     "73be959e803d465c8545be818f4e3251": {
      "model_module": "@jupyter-widgets/controls",
      "model_module_version": "1.5.0",
      "model_name": "HTMLModel",
      "state": {
       "layout": "IPY_MODEL_0579e7c9ef5c44f4b05fc81151d6db21",
       "style": "IPY_MODEL_7db12e34761d4a02bb72a8b5ff722a4d",
       "value": " 80/80 [00:05&lt;00:00, 51.08it/s]"
      }
     },
     "73c76547e43e40eda0bf554ffc001305": {
      "model_module": "@jupyter-widgets/base",
      "model_module_version": "1.2.0",
      "model_name": "LayoutModel",
      "state": {}
     },
     "73e9711d13b342d987adff9f81418bac": {
      "model_module": "@jupyter-widgets/controls",
      "model_module_version": "1.5.0",
      "model_name": "DescriptionStyleModel",
      "state": {
       "description_width": ""
      }
     },
     "7443151b99e14323a69a81b105409156": {
      "model_module": "@jupyter-widgets/controls",
      "model_module_version": "1.5.0",
      "model_name": "DescriptionStyleModel",
      "state": {
       "description_width": ""
      }
     },
     "7495b91b7fab4f029706f1817dea1324": {
      "model_module": "@jupyter-widgets/base",
      "model_module_version": "1.2.0",
      "model_name": "LayoutModel",
      "state": {}
     },
     "74b433d8d4b942d38673a09078f3232c": {
      "model_module": "@jupyter-widgets/controls",
      "model_module_version": "1.5.0",
      "model_name": "HBoxModel",
      "state": {
       "children": [
        "IPY_MODEL_004e1e0a8ce64e9ea7c7134f58b3d20c",
        "IPY_MODEL_c1194aa16e694aa99b823e3be02d9d67",
        "IPY_MODEL_d21218b8db624137bc1f711c7b7b8c44"
       ],
       "layout": "IPY_MODEL_e75afdd1d00d475a9b49a72dcbda292f"
      }
     },
     "751b998b0d4845dabe8c3c81fe9711ba": {
      "model_module": "@jupyter-widgets/controls",
      "model_module_version": "1.5.0",
      "model_name": "FloatProgressModel",
      "state": {
       "bar_style": "success",
       "layout": "IPY_MODEL_f7311c2cd6024224a0e332e93d0e9496",
       "max": 80,
       "style": "IPY_MODEL_b674ba200b7a49b7b51fcb60d7d8563e",
       "value": 80
      }
     },
     "752117aba89840dd81b92b7c0c162338": {
      "model_module": "@jupyter-widgets/base",
      "model_module_version": "1.2.0",
      "model_name": "LayoutModel",
      "state": {}
     },
     "7596f32b29c04edbad4567d335dab7d4": {
      "model_module": "@jupyter-widgets/controls",
      "model_module_version": "1.5.0",
      "model_name": "DescriptionStyleModel",
      "state": {
       "description_width": ""
      }
     },
     "759fe702140c4ff584e7bc8c64f05304": {
      "model_module": "@jupyter-widgets/controls",
      "model_module_version": "1.5.0",
      "model_name": "HTMLModel",
      "state": {
       "layout": "IPY_MODEL_046ad47554f84af8bff0adc9d6a89cca",
       "style": "IPY_MODEL_732bb913de274f1384a9fae06159472a",
       "value": "100%"
      }
     },
     "75eb7fe2e4d342b29fa5443cd250c75a": {
      "model_module": "@jupyter-widgets/controls",
      "model_module_version": "1.5.0",
      "model_name": "DescriptionStyleModel",
      "state": {
       "description_width": ""
      }
     },
     "76a6143972974dd6a5f3fab731900a9a": {
      "model_module": "@jupyter-widgets/controls",
      "model_module_version": "1.5.0",
      "model_name": "DescriptionStyleModel",
      "state": {
       "description_width": ""
      }
     },
     "76afa9f71db04e43ba8ffb32f40f0c08": {
      "model_module": "@jupyter-widgets/controls",
      "model_module_version": "1.5.0",
      "model_name": "HBoxModel",
      "state": {
       "children": [
        "IPY_MODEL_8f37a185ce3a46789dabf7b0274d12ed",
        "IPY_MODEL_fd33fedd1d4b4b63a86f001a8c6d5771",
        "IPY_MODEL_3b7fd8ac77fd490aa52bf818beace37d"
       ],
       "layout": "IPY_MODEL_94b37e790aed4a0c93049c7cbf4c2c6e"
      }
     },
     "76ba23dc2bfe499b92b5c207679935ed": {
      "model_module": "@jupyter-widgets/controls",
      "model_module_version": "1.5.0",
      "model_name": "HTMLModel",
      "state": {
       "layout": "IPY_MODEL_5a5f82170be441768163f0f4496eb7f1",
       "style": "IPY_MODEL_d647e541e37e4b9181450768dea9f452",
       "value": " 44/44 [00:03&lt;00:00,  7.14it/s]"
      }
     },
     "76bd0b97fc08457a880637d478715f35": {
      "model_module": "@jupyter-widgets/base",
      "model_module_version": "1.2.0",
      "model_name": "LayoutModel",
      "state": {}
     },
     "76ec39d979c44a1892e7c23ef5c55d01": {
      "model_module": "@jupyter-widgets/base",
      "model_module_version": "1.2.0",
      "model_name": "LayoutModel",
      "state": {}
     },
     "76edd806b4db44d2a9495c06dc81b70b": {
      "model_module": "@jupyter-widgets/controls",
      "model_module_version": "1.5.0",
      "model_name": "HBoxModel",
      "state": {
       "children": [
        "IPY_MODEL_3e5d0d18b81046439d3f4985dbcce84a",
        "IPY_MODEL_1353955adfb24e109136563edba55729",
        "IPY_MODEL_820b7f6f3c1f4813be7be32eeb6c372d"
       ],
       "layout": "IPY_MODEL_075d7ed57e7a40baae20a43935615879"
      }
     },
     "77065d3e2d46472fbc8d5e7da37b3bcc": {
      "model_module": "@jupyter-widgets/base",
      "model_module_version": "1.2.0",
      "model_name": "LayoutModel",
      "state": {}
     },
     "774c0ac19cc84e43a875876a73277e29": {
      "model_module": "@jupyter-widgets/controls",
      "model_module_version": "1.5.0",
      "model_name": "HTMLModel",
      "state": {
       "layout": "IPY_MODEL_8a3f952b6b1746a38ea31888cfd54e19",
       "style": "IPY_MODEL_e9b5da9c18f94e4ab8c07e6e5cd7484c",
       "value": "100%"
      }
     },
     "7759a00465e24494879222ff04eab0f8": {
      "model_module": "@jupyter-widgets/controls",
      "model_module_version": "1.5.0",
      "model_name": "DescriptionStyleModel",
      "state": {
       "description_width": ""
      }
     },
     "77c034e2b2f64ff0a1b9e481b99f812c": {
      "model_module": "@jupyter-widgets/controls",
      "model_module_version": "1.5.0",
      "model_name": "HBoxModel",
      "state": {
       "children": [
        "IPY_MODEL_a10378232fdf4de7ad2a8b6295c15f1f",
        "IPY_MODEL_cf06dd75a7a74bab9c5a612f90cd40bd",
        "IPY_MODEL_cf6297a1aa0e47dba9aebb85378f31c1"
       ],
       "layout": "IPY_MODEL_47a8cde5d91e4668986edb30e27a8e3b"
      }
     },
     "77e310b314264345ab64afac1e047c44": {
      "model_module": "@jupyter-widgets/controls",
      "model_module_version": "1.5.0",
      "model_name": "HTMLModel",
      "state": {
       "layout": "IPY_MODEL_dfe0c5aae86f4647acba5cfd26f83fb8",
       "style": "IPY_MODEL_266998a2f5734e7f83b5a5c794bc1487",
       "value": " 31/31 [00:03&lt;00:00,  7.11it/s]"
      }
     },
     "77fc1f1b269f49e4b149e00a7d42132f": {
      "model_module": "@jupyter-widgets/base",
      "model_module_version": "1.2.0",
      "model_name": "LayoutModel",
      "state": {}
     },
     "787b226203ef4def858cc0c6bb0bfa4f": {
      "model_module": "@jupyter-widgets/base",
      "model_module_version": "1.2.0",
      "model_name": "LayoutModel",
      "state": {}
     },
     "7894096e870344b69b48e43c8d406deb": {
      "model_module": "@jupyter-widgets/base",
      "model_module_version": "1.2.0",
      "model_name": "LayoutModel",
      "state": {}
     },
     "78e7721df3e649088b0a4a103cddc838": {
      "model_module": "@jupyter-widgets/base",
      "model_module_version": "1.2.0",
      "model_name": "LayoutModel",
      "state": {}
     },
     "78eef5a8781447dbaca1f8927e528b48": {
      "model_module": "@jupyter-widgets/controls",
      "model_module_version": "1.5.0",
      "model_name": "HTMLModel",
      "state": {
       "layout": "IPY_MODEL_97f4fef6e1404c35ab68be8dc57c8314",
       "style": "IPY_MODEL_21fd497340b04876b76d9c08fdaf1900",
       "value": "100%"
      }
     },
     "7913ad1e1fdf410883f587be26f6c44f": {
      "model_module": "@jupyter-widgets/controls",
      "model_module_version": "1.5.0",
      "model_name": "HTMLModel",
      "state": {
       "layout": "IPY_MODEL_f3a540e595f64c278f0273e705d79e3c",
       "style": "IPY_MODEL_7a137d677e634d138f8434f371df9345",
       "value": " 44/44 [00:15&lt;00:00,  1.75it/s]"
      }
     },
     "79176fad29704b7c9a79dc659a6d7dae": {
      "model_module": "@jupyter-widgets/controls",
      "model_module_version": "1.5.0",
      "model_name": "DescriptionStyleModel",
      "state": {
       "description_width": ""
      }
     },
     "7974ff75036a48119867b424d711bf04": {
      "model_module": "@jupyter-widgets/controls",
      "model_module_version": "1.5.0",
      "model_name": "DescriptionStyleModel",
      "state": {
       "description_width": ""
      }
     },
     "79911a2ef7fa44fa8ce2927140759a9a": {
      "model_module": "@jupyter-widgets/base",
      "model_module_version": "1.2.0",
      "model_name": "LayoutModel",
      "state": {}
     },
     "7a137d677e634d138f8434f371df9345": {
      "model_module": "@jupyter-widgets/controls",
      "model_module_version": "1.5.0",
      "model_name": "DescriptionStyleModel",
      "state": {
       "description_width": ""
      }
     },
     "7a1d47178e3449f0a2392321d1a2c4ac": {
      "model_module": "@jupyter-widgets/controls",
      "model_module_version": "1.5.0",
      "model_name": "ProgressStyleModel",
      "state": {
       "description_width": ""
      }
     },
     "7a34a14abe52475a9839567adaadd918": {
      "model_module": "@jupyter-widgets/controls",
      "model_module_version": "1.5.0",
      "model_name": "DescriptionStyleModel",
      "state": {
       "description_width": ""
      }
     },
     "7a6e460894b047cfbd7be46045050e71": {
      "model_module": "@jupyter-widgets/controls",
      "model_module_version": "1.5.0",
      "model_name": "FloatProgressModel",
      "state": {
       "bar_style": "success",
       "layout": "IPY_MODEL_4d50efb8fadd4296aae8d393035174d9",
       "max": 76,
       "style": "IPY_MODEL_06abef7173134b7a97c0b9103310dfc9",
       "value": 76
      }
     },
     "7a95552162884da99ef718937e0aaf80": {
      "model_module": "@jupyter-widgets/controls",
      "model_module_version": "1.5.0",
      "model_name": "DescriptionStyleModel",
      "state": {
       "description_width": ""
      }
     },
     "7b11ae4d618447e4b204ef9224ac4372": {
      "model_module": "@jupyter-widgets/controls",
      "model_module_version": "1.5.0",
      "model_name": "ProgressStyleModel",
      "state": {
       "description_width": ""
      }
     },
     "7b19f4512cc64633bf10c7c0b5ac3d0e": {
      "model_module": "@jupyter-widgets/controls",
      "model_module_version": "1.5.0",
      "model_name": "HTMLModel",
      "state": {
       "layout": "IPY_MODEL_2188bf80665c4382bd3df091b9f21c7d",
       "style": "IPY_MODEL_8a216a4afafb4ecd9ef764e63afbe29d",
       "value": " 54/54 [00:02&lt;00:00, 22.48it/s]"
      }
     },
     "7b493a4b9ef5413d95418695060e4b0f": {
      "model_module": "@jupyter-widgets/controls",
      "model_module_version": "1.5.0",
      "model_name": "FloatProgressModel",
      "state": {
       "bar_style": "success",
       "layout": "IPY_MODEL_6593b8b94a9349aea82ee4b0722392fb",
       "max": 94,
       "style": "IPY_MODEL_aed254244a3f416eaae2caef4cf4d80b",
       "value": 94
      }
     },
     "7b64e305fa8746bda3e1d4d6a8d48b49": {
      "model_module": "@jupyter-widgets/base",
      "model_module_version": "1.2.0",
      "model_name": "LayoutModel",
      "state": {}
     },
     "7c83030d3a5b42229ee5a8d84600d98a": {
      "model_module": "@jupyter-widgets/controls",
      "model_module_version": "1.5.0",
      "model_name": "HTMLModel",
      "state": {
       "layout": "IPY_MODEL_498c947634dc44169cb06ad0293bae1d",
       "style": "IPY_MODEL_c11d5ed1f610472ab6b77dd5c2229781",
       "value": "100%"
      }
     },
     "7c93bd10b9514da9b0b5a438d6c8f87f": {
      "model_module": "@jupyter-widgets/controls",
      "model_module_version": "1.5.0",
      "model_name": "HBoxModel",
      "state": {
       "children": [
        "IPY_MODEL_416f6155b74340ffb2d0009d97b94524",
        "IPY_MODEL_ae2fed7f6bf34e0baf1acff09ba444aa",
        "IPY_MODEL_0c63c19857414852afd8fdc318b1bb38"
       ],
       "layout": "IPY_MODEL_70918719333448f88c9a7559a0cf3ee5"
      }
     },
     "7cc1331253024a418ea5b7219f359f6f": {
      "model_module": "@jupyter-widgets/base",
      "model_module_version": "1.2.0",
      "model_name": "LayoutModel",
      "state": {}
     },
     "7cce2f6449364b37bab6b290e57439ad": {
      "model_module": "@jupyter-widgets/controls",
      "model_module_version": "1.5.0",
      "model_name": "HBoxModel",
      "state": {
       "children": [
        "IPY_MODEL_759fe702140c4ff584e7bc8c64f05304",
        "IPY_MODEL_209c809645254aff9353f8d29e1b79c4",
        "IPY_MODEL_06113ca323294ef8a0d04921546ab961"
       ],
       "layout": "IPY_MODEL_97290fba53ed415a8c36e0728a683a03"
      }
     },
     "7ce4451812574b158c57e6099820f254": {
      "model_module": "@jupyter-widgets/base",
      "model_module_version": "1.2.0",
      "model_name": "LayoutModel",
      "state": {}
     },
     "7cf7c89c829e4a829e537daf4b7ebd9c": {
      "model_module": "@jupyter-widgets/controls",
      "model_module_version": "1.5.0",
      "model_name": "HBoxModel",
      "state": {
       "children": [
        "IPY_MODEL_6cb6e234b59b43719b4e0ad94ac539fd",
        "IPY_MODEL_ecd2e2654e1c48aab0bbbdb3ec51f163",
        "IPY_MODEL_b855742b03cb4d2facd3ffe31f7226e8"
       ],
       "layout": "IPY_MODEL_37b3230df1ec4273901a2d525e4be366"
      }
     },
     "7d10ac483e2c469da76e9bb6402931eb": {
      "model_module": "@jupyter-widgets/base",
      "model_module_version": "1.2.0",
      "model_name": "LayoutModel",
      "state": {}
     },
     "7d56fcc4d2a142908cdf747596cbc273": {
      "model_module": "@jupyter-widgets/controls",
      "model_module_version": "1.5.0",
      "model_name": "HBoxModel",
      "state": {
       "children": [
        "IPY_MODEL_4f93ec2ef8ae42b3b2d328f1c7479c50",
        "IPY_MODEL_1cdc12061b1c45e7b8a3a03a124473f4",
        "IPY_MODEL_ebe8982a61b74db1801c427cea9c64e6"
       ],
       "layout": "IPY_MODEL_f8e97d934ee041caa4184e1b12c1afbd"
      }
     },
     "7d5b6962ca624adca052fd3581e2648a": {
      "model_module": "@jupyter-widgets/base",
      "model_module_version": "1.2.0",
      "model_name": "LayoutModel",
      "state": {}
     },
     "7d802fa600eb444a9cb459635a8876bd": {
      "model_module": "@jupyter-widgets/base",
      "model_module_version": "1.2.0",
      "model_name": "LayoutModel",
      "state": {}
     },
     "7dace3d9f20645f69c2d6c21ea760365": {
      "model_module": "@jupyter-widgets/controls",
      "model_module_version": "1.5.0",
      "model_name": "DescriptionStyleModel",
      "state": {
       "description_width": ""
      }
     },
     "7db12e34761d4a02bb72a8b5ff722a4d": {
      "model_module": "@jupyter-widgets/controls",
      "model_module_version": "1.5.0",
      "model_name": "DescriptionStyleModel",
      "state": {
       "description_width": ""
      }
     },
     "7df04e38b4fc4d1ba822e1929cf9b38a": {
      "model_module": "@jupyter-widgets/controls",
      "model_module_version": "1.5.0",
      "model_name": "DescriptionStyleModel",
      "state": {
       "description_width": ""
      }
     },
     "7df9bd7b68bd4fa593c1063aa57a6beb": {
      "model_module": "@jupyter-widgets/controls",
      "model_module_version": "1.5.0",
      "model_name": "HBoxModel",
      "state": {
       "children": [
        "IPY_MODEL_fa9463aa6259411e87ac0c4d4891debb",
        "IPY_MODEL_30cb6378a2f1472489743e5b59fe18ba",
        "IPY_MODEL_eaf62448f29e44fc9e773cedc82af2ce"
       ],
       "layout": "IPY_MODEL_84e8fa3a8754427787dce5d2f3fdae9e"
      }
     },
     "7e202b53a2954ce2b985f39b4cab6e7c": {
      "model_module": "@jupyter-widgets/base",
      "model_module_version": "1.2.0",
      "model_name": "LayoutModel",
      "state": {}
     },
     "7e3c798986cc445da0195b14322633ec": {
      "model_module": "@jupyter-widgets/controls",
      "model_module_version": "1.5.0",
      "model_name": "HTMLModel",
      "state": {
       "layout": "IPY_MODEL_513d23a2e222408d9a14003e55889490",
       "style": "IPY_MODEL_db466173d24f4a53a9990fd9cf1b5217",
       "value": " 72/72 [00:04&lt;00:00, 11.46it/s]"
      }
     },
     "7e7d94211f7c412c816454e36642b39e": {
      "model_module": "@jupyter-widgets/controls",
      "model_module_version": "1.5.0",
      "model_name": "HTMLModel",
      "state": {
       "layout": "IPY_MODEL_53dd33cb6ee7405eb7a081faf85e67eb",
       "style": "IPY_MODEL_3b2ceb9f42834e34abccfd84076fe517",
       "value": "100%"
      }
     },
     "7efb7c87419d4f338c96f072a407344b": {
      "model_module": "@jupyter-widgets/controls",
      "model_module_version": "1.5.0",
      "model_name": "ProgressStyleModel",
      "state": {
       "description_width": ""
      }
     },
     "7f365eddcee44943bb4355cd475dff44": {
      "model_module": "@jupyter-widgets/base",
      "model_module_version": "1.2.0",
      "model_name": "LayoutModel",
      "state": {}
     },
     "7f436e164cb243ee94eac9d1b429da19": {
      "model_module": "@jupyter-widgets/controls",
      "model_module_version": "1.5.0",
      "model_name": "HTMLModel",
      "state": {
       "layout": "IPY_MODEL_f22c35a2d6fd477b9823a905097fd668",
       "style": "IPY_MODEL_c2f91c431fd546a688d34e347a14f4a8",
       "value": " 72/72 [00:04&lt;00:00, 11.07it/s]"
      }
     },
     "7f596317cf1c493cafcfef23a147e5ee": {
      "model_module": "@jupyter-widgets/base",
      "model_module_version": "1.2.0",
      "model_name": "LayoutModel",
      "state": {}
     },
     "7f6828996dee490a88465e30e03b23dd": {
      "model_module": "@jupyter-widgets/base",
      "model_module_version": "1.2.0",
      "model_name": "LayoutModel",
      "state": {}
     },
     "7f7fa596fc18492da82e637d3bcba3eb": {
      "model_module": "@jupyter-widgets/base",
      "model_module_version": "1.2.0",
      "model_name": "LayoutModel",
      "state": {}
     },
     "7f8bac5aa72440bd8143158ac343523b": {
      "model_module": "@jupyter-widgets/base",
      "model_module_version": "1.2.0",
      "model_name": "LayoutModel",
      "state": {}
     },
     "7fab3a600194445ab257ae78139991b3": {
      "model_module": "@jupyter-widgets/controls",
      "model_module_version": "1.5.0",
      "model_name": "HTMLModel",
      "state": {
       "layout": "IPY_MODEL_2e8c3a120af94fcbb59422c16c3e21f3",
       "style": "IPY_MODEL_5a63a85be66344209aa53584b63546f9",
       "value": "100%"
      }
     },
     "7fb4bfe117e64b69a45e2531310dcc07": {
      "model_module": "@jupyter-widgets/base",
      "model_module_version": "1.2.0",
      "model_name": "LayoutModel",
      "state": {}
     },
     "80380a7f965a423fb53d5f1d2a239be4": {
      "model_module": "@jupyter-widgets/base",
      "model_module_version": "1.2.0",
      "model_name": "LayoutModel",
      "state": {}
     },
     "8093201949ee44679b2ce390deb25dbb": {
      "model_module": "@jupyter-widgets/controls",
      "model_module_version": "1.5.0",
      "model_name": "HTMLModel",
      "state": {
       "layout": "IPY_MODEL_d3149a557a3b4b19a777d5ce5683d217",
       "style": "IPY_MODEL_5232ce46910a43e1a444efd7a181a118",
       "value": " 76/76 [00:05&lt;00:00,  6.05it/s]"
      }
     },
     "809a31a551d5421cbc4a06410fadbf47": {
      "model_module": "@jupyter-widgets/controls",
      "model_module_version": "1.5.0",
      "model_name": "HBoxModel",
      "state": {
       "children": [
        "IPY_MODEL_d57122ae4f2b4271acab19d288c22ee2",
        "IPY_MODEL_e77077e217f244fb9428cee7e6dd63d9",
        "IPY_MODEL_1e51ca94d09d4a5c908cd715fe94de06"
       ],
       "layout": "IPY_MODEL_e104c4cccf9e47cdab004d169714c702"
      }
     },
     "80a70bbd084d4e0ebce833030f5c5cf4": {
      "model_module": "@jupyter-widgets/base",
      "model_module_version": "1.2.0",
      "model_name": "LayoutModel",
      "state": {}
     },
     "8127adcc68b44d7da1714a81716c7451": {
      "model_module": "@jupyter-widgets/base",
      "model_module_version": "1.2.0",
      "model_name": "LayoutModel",
      "state": {}
     },
     "815675449adb44d7a986d7c7b9c4c88c": {
      "model_module": "@jupyter-widgets/base",
      "model_module_version": "1.2.0",
      "model_name": "LayoutModel",
      "state": {}
     },
     "81f2faa60a934896a36d6dc6866d3a0a": {
      "model_module": "@jupyter-widgets/base",
      "model_module_version": "1.2.0",
      "model_name": "LayoutModel",
      "state": {}
     },
     "820b7f6f3c1f4813be7be32eeb6c372d": {
      "model_module": "@jupyter-widgets/controls",
      "model_module_version": "1.5.0",
      "model_name": "HTMLModel",
      "state": {
       "layout": "IPY_MODEL_e6e930854ea84b20b6333c8b5e87d29a",
       "style": "IPY_MODEL_5bd5194d22234b008d10deef13566dff",
       "value": " 80/80 [00:09&lt;00:00,  6.00it/s]"
      }
     },
     "822b97a4cfa74f678739a912cffe0e37": {
      "model_module": "@jupyter-widgets/controls",
      "model_module_version": "1.5.0",
      "model_name": "DescriptionStyleModel",
      "state": {
       "description_width": ""
      }
     },
     "82927b14da0c4591b8d3c46d1e9ca429": {
      "model_module": "@jupyter-widgets/controls",
      "model_module_version": "1.5.0",
      "model_name": "ProgressStyleModel",
      "state": {
       "description_width": ""
      }
     },
     "82ce1a51c67c4335a278d21e6deb9232": {
      "model_module": "@jupyter-widgets/controls",
      "model_module_version": "1.5.0",
      "model_name": "DescriptionStyleModel",
      "state": {
       "description_width": ""
      }
     },
     "830bf9a2eb224b6e9e9d41129298c715": {
      "model_module": "@jupyter-widgets/controls",
      "model_module_version": "1.5.0",
      "model_name": "HBoxModel",
      "state": {
       "children": [
        "IPY_MODEL_f3916ba5291a4004ba68f2f6b32edb13",
        "IPY_MODEL_536aee3e3a45481fb66f6895544295a7",
        "IPY_MODEL_2eac4c7bddf2491ca4f5c4a25e805b4b"
       ],
       "layout": "IPY_MODEL_22ce688032664bbc81f61ad79e16f1f4"
      }
     },
     "83291884fab4423688d7677c36be4a1a": {
      "model_module": "@jupyter-widgets/controls",
      "model_module_version": "1.5.0",
      "model_name": "ProgressStyleModel",
      "state": {
       "description_width": ""
      }
     },
     "832caa2d794f4e74b3bb9c1dd15801a7": {
      "model_module": "@jupyter-widgets/controls",
      "model_module_version": "1.5.0",
      "model_name": "ProgressStyleModel",
      "state": {
       "description_width": ""
      }
     },
     "837b34016f894fc3989db726d213ea18": {
      "model_module": "@jupyter-widgets/base",
      "model_module_version": "1.2.0",
      "model_name": "LayoutModel",
      "state": {}
     },
     "83894874c48f4c42a1de50e23ee49c30": {
      "model_module": "@jupyter-widgets/controls",
      "model_module_version": "1.5.0",
      "model_name": "HBoxModel",
      "state": {
       "children": [
        "IPY_MODEL_46751f9b6ea9495a9f7ff106a3c8683e",
        "IPY_MODEL_751b998b0d4845dabe8c3c81fe9711ba",
        "IPY_MODEL_5a9abaf94529449a87a87ab7f2b235c6"
       ],
       "layout": "IPY_MODEL_07da14fd6243452a9d57b6f5962842d7"
      }
     },
     "83a5cbb2bea9453cb5717b69627ac23d": {
      "model_module": "@jupyter-widgets/base",
      "model_module_version": "1.2.0",
      "model_name": "LayoutModel",
      "state": {}
     },
     "83b2c6d019d94c5c82af7066d4de1146": {
      "model_module": "@jupyter-widgets/base",
      "model_module_version": "1.2.0",
      "model_name": "LayoutModel",
      "state": {}
     },
     "846fe298a5c544cdb46d182107cfda67": {
      "model_module": "@jupyter-widgets/base",
      "model_module_version": "1.2.0",
      "model_name": "LayoutModel",
      "state": {}
     },
     "847579613c86424aa68514697bd67ed2": {
      "model_module": "@jupyter-widgets/controls",
      "model_module_version": "1.5.0",
      "model_name": "FloatProgressModel",
      "state": {
       "bar_style": "success",
       "layout": "IPY_MODEL_bc03ae5cecdb4ef690f5ab99428748ea",
       "max": 82,
       "style": "IPY_MODEL_5cac77cbab804592ab340628f7cea619",
       "value": 82
      }
     },
     "84c3aeaacf764ae5b7335f493c7beba4": {
      "model_module": "@jupyter-widgets/controls",
      "model_module_version": "1.5.0",
      "model_name": "ProgressStyleModel",
      "state": {
       "description_width": ""
      }
     },
     "84e67177f40c47e6ba82ecc225b01dce": {
      "model_module": "@jupyter-widgets/base",
      "model_module_version": "1.2.0",
      "model_name": "LayoutModel",
      "state": {}
     },
     "84e8fa3a8754427787dce5d2f3fdae9e": {
      "model_module": "@jupyter-widgets/base",
      "model_module_version": "1.2.0",
      "model_name": "LayoutModel",
      "state": {}
     },
     "84f5641fd9c54154a5370048bafd7376": {
      "model_module": "@jupyter-widgets/base",
      "model_module_version": "1.2.0",
      "model_name": "LayoutModel",
      "state": {}
     },
     "850dae0b2068498d969035fde966a014": {
      "model_module": "@jupyter-widgets/base",
      "model_module_version": "1.2.0",
      "model_name": "LayoutModel",
      "state": {}
     },
     "8563c56a2ab94b9ba15723349dd3f444": {
      "model_module": "@jupyter-widgets/base",
      "model_module_version": "1.2.0",
      "model_name": "LayoutModel",
      "state": {}
     },
     "857d657fc9eb45ee9e0d49ff0e4b067c": {
      "model_module": "@jupyter-widgets/controls",
      "model_module_version": "1.5.0",
      "model_name": "HBoxModel",
      "state": {
       "children": [
        "IPY_MODEL_afad137995b24fc4982bad7b1949e695",
        "IPY_MODEL_a8c3438dcd6d454f8163e20d690782f7",
        "IPY_MODEL_af6e0b04dada48ca96aae6ffcf36e157"
       ],
       "layout": "IPY_MODEL_7d10ac483e2c469da76e9bb6402931eb"
      }
     },
     "85d7b0d4588842d6aa03710f5e75861e": {
      "model_module": "@jupyter-widgets/controls",
      "model_module_version": "1.5.0",
      "model_name": "HTMLModel",
      "state": {
       "layout": "IPY_MODEL_f18cc39e9ae342dd8590b9ab9e9f9a4b",
       "style": "IPY_MODEL_f455c27c7d6a463bb7b02693b5612c2a",
       "value": "100%"
      }
     },
     "85df63e46cfb4d0291f0cbb1559e0737": {
      "model_module": "@jupyter-widgets/base",
      "model_module_version": "1.2.0",
      "model_name": "LayoutModel",
      "state": {}
     },
     "860e11df634042249507df74a8a9d4c1": {
      "model_module": "@jupyter-widgets/base",
      "model_module_version": "1.2.0",
      "model_name": "LayoutModel",
      "state": {}
     },
     "86553b139b3a41da8dfb985aff760482": {
      "model_module": "@jupyter-widgets/controls",
      "model_module_version": "1.5.0",
      "model_name": "FloatProgressModel",
      "state": {
       "bar_style": "success",
       "layout": "IPY_MODEL_d435e41030e748bd8443704657ad9855",
       "max": 31,
       "style": "IPY_MODEL_96ba22ac280441239f535b7a2a102695",
       "value": 31
      }
     },
     "87084d48e21f4c8889e065bc293b93b1": {
      "model_module": "@jupyter-widgets/base",
      "model_module_version": "1.2.0",
      "model_name": "LayoutModel",
      "state": {}
     },
     "870a98185804498ea97be599cf2e2276": {
      "model_module": "@jupyter-widgets/base",
      "model_module_version": "1.2.0",
      "model_name": "LayoutModel",
      "state": {}
     },
     "873b731e121846b8908005c83fe66439": {
      "model_module": "@jupyter-widgets/controls",
      "model_module_version": "1.5.0",
      "model_name": "DescriptionStyleModel",
      "state": {
       "description_width": ""
      }
     },
     "87460b1ba97c452cb064275852dea8a4": {
      "model_module": "@jupyter-widgets/controls",
      "model_module_version": "1.5.0",
      "model_name": "ProgressStyleModel",
      "state": {
       "description_width": ""
      }
     },
     "880e353e30c7429cab36400f4a95b006": {
      "model_module": "@jupyter-widgets/controls",
      "model_module_version": "1.5.0",
      "model_name": "HBoxModel",
      "state": {
       "children": [
        "IPY_MODEL_30d1333c089b440f998e94a9a6d59e18",
        "IPY_MODEL_282448c8aa17449e9e20f7c2a32fc1f2",
        "IPY_MODEL_2ad8815b62904159b7c818151ad29662"
       ],
       "layout": "IPY_MODEL_cad2d3b532544741a2020154dc5fb63b"
      }
     },
     "881019dabb4b4461abc15a57b385c9ff": {
      "model_module": "@jupyter-widgets/base",
      "model_module_version": "1.2.0",
      "model_name": "LayoutModel",
      "state": {}
     },
     "882383e9efa8402aad12aa7d4d260a2c": {
      "model_module": "@jupyter-widgets/base",
      "model_module_version": "1.2.0",
      "model_name": "LayoutModel",
      "state": {}
     },
     "88d4d71c2d644193a882596ffa80ddb5": {
      "model_module": "@jupyter-widgets/controls",
      "model_module_version": "1.5.0",
      "model_name": "HTMLModel",
      "state": {
       "layout": "IPY_MODEL_e98a357e8b334149b37fc40077ae7305",
       "style": "IPY_MODEL_c8efbe4238da4e558af18a39a38121fa",
       "value": "100%"
      }
     },
     "892cb8c1d03c438f8055ff7ecbce05be": {
      "model_module": "@jupyter-widgets/controls",
      "model_module_version": "1.5.0",
      "model_name": "HTMLModel",
      "state": {
       "layout": "IPY_MODEL_615890152b6f40a8a893999205d5d81c",
       "style": "IPY_MODEL_f0e88cf5e48a48628104c95ebd8eda51",
       "value": "100%"
      }
     },
     "892d19e057284eb582f68621e33ce676": {
      "model_module": "@jupyter-widgets/base",
      "model_module_version": "1.2.0",
      "model_name": "LayoutModel",
      "state": {}
     },
     "893e41bfa1154ecba1d43caa6ecb7645": {
      "model_module": "@jupyter-widgets/controls",
      "model_module_version": "1.5.0",
      "model_name": "FloatProgressModel",
      "state": {
       "bar_style": "success",
       "layout": "IPY_MODEL_b257d99def2d41119a3adebbba735d58",
       "max": 70,
       "style": "IPY_MODEL_704d2b22accc4c36b1601a6651f14b95",
       "value": 70
      }
     },
     "89eab3f5502f470ab4ecf75035cc2200": {
      "model_module": "@jupyter-widgets/controls",
      "model_module_version": "1.5.0",
      "model_name": "FloatProgressModel",
      "state": {
       "bar_style": "success",
       "layout": "IPY_MODEL_44b875cbc1d945458db027102631db60",
       "max": 84,
       "style": "IPY_MODEL_0267836c5eab4a7ca912edd1e1d54e7a",
       "value": 84
      }
     },
     "8a216a4afafb4ecd9ef764e63afbe29d": {
      "model_module": "@jupyter-widgets/controls",
      "model_module_version": "1.5.0",
      "model_name": "DescriptionStyleModel",
      "state": {
       "description_width": ""
      }
     },
     "8a2d6011533a42ecaad8891c375bf170": {
      "model_module": "@jupyter-widgets/base",
      "model_module_version": "1.2.0",
      "model_name": "LayoutModel",
      "state": {}
     },
     "8a3f952b6b1746a38ea31888cfd54e19": {
      "model_module": "@jupyter-widgets/base",
      "model_module_version": "1.2.0",
      "model_name": "LayoutModel",
      "state": {}
     },
     "8a438199ca14407480dd95d861efa1ae": {
      "model_module": "@jupyter-widgets/base",
      "model_module_version": "1.2.0",
      "model_name": "LayoutModel",
      "state": {}
     },
     "8a587efa794e490faab0253c765e836e": {
      "model_module": "@jupyter-widgets/base",
      "model_module_version": "1.2.0",
      "model_name": "LayoutModel",
      "state": {}
     },
     "8a8289d7e2704ca998e3fb9043d97138": {
      "model_module": "@jupyter-widgets/controls",
      "model_module_version": "1.5.0",
      "model_name": "DescriptionStyleModel",
      "state": {
       "description_width": ""
      }
     },
     "8a849c1319b64c889bc83ffae1173be9": {
      "model_module": "@jupyter-widgets/base",
      "model_module_version": "1.2.0",
      "model_name": "LayoutModel",
      "state": {}
     },
     "8ab17d38ae79422d984f3a105f6df793": {
      "model_module": "@jupyter-widgets/base",
      "model_module_version": "1.2.0",
      "model_name": "LayoutModel",
      "state": {}
     },
     "8adeb69ce6bc47cc9f8578e3f2bfe887": {
      "model_module": "@jupyter-widgets/controls",
      "model_module_version": "1.5.0",
      "model_name": "HTMLModel",
      "state": {
       "layout": "IPY_MODEL_3c41b76df24c49a0b05206e4c6223db9",
       "style": "IPY_MODEL_cb92bafb48744addb88a78a7bd0f4fcb",
       "value": "100%"
      }
     },
     "8b686de905a245fe8aa1786926a1260f": {
      "model_module": "@jupyter-widgets/controls",
      "model_module_version": "1.5.0",
      "model_name": "HTMLModel",
      "state": {
       "layout": "IPY_MODEL_285dd1eba22948a5a08a419c6127b2d0",
       "style": "IPY_MODEL_2ad6428f06234639bb978f4e6a7bc21f",
       "value": "100%"
      }
     },
     "8b725736aa9149e2bdfd116ff93609ef": {
      "model_module": "@jupyter-widgets/base",
      "model_module_version": "1.2.0",
      "model_name": "LayoutModel",
      "state": {}
     },
     "8bbea39c6c1341d79c833e76a34b6506": {
      "model_module": "@jupyter-widgets/controls",
      "model_module_version": "1.5.0",
      "model_name": "DescriptionStyleModel",
      "state": {
       "description_width": ""
      }
     },
     "8c3f90de0a0a47b08485545587f86d03": {
      "model_module": "@jupyter-widgets/controls",
      "model_module_version": "1.5.0",
      "model_name": "DescriptionStyleModel",
      "state": {
       "description_width": ""
      }
     },
     "8c52aecc9839406bbace694b01294f68": {
      "model_module": "@jupyter-widgets/base",
      "model_module_version": "1.2.0",
      "model_name": "LayoutModel",
      "state": {}
     },
     "8c675d7ff10345eea0b929ecb5688e58": {
      "model_module": "@jupyter-widgets/base",
      "model_module_version": "1.2.0",
      "model_name": "LayoutModel",
      "state": {}
     },
     "8cad739c01854488afa3e8cd69566c5c": {
      "model_module": "@jupyter-widgets/controls",
      "model_module_version": "1.5.0",
      "model_name": "FloatProgressModel",
      "state": {
       "bar_style": "success",
       "layout": "IPY_MODEL_58876e6d6b064b6c88d55468bc344dd3",
       "max": 76,
       "style": "IPY_MODEL_12e6cb1fa8e941fd8df48a09d80f803e",
       "value": 76
      }
     },
     "8cdc673c8ee0416ab69d30ae8e8c3fc5": {
      "model_module": "@jupyter-widgets/controls",
      "model_module_version": "1.5.0",
      "model_name": "HBoxModel",
      "state": {
       "children": [
        "IPY_MODEL_d9d922fd59a141fa90b05d4490263a3d",
        "IPY_MODEL_144745330bf14e4eb5482eb4b5b45c5a",
        "IPY_MODEL_1ce27eece55d4aa7aeb4d19ccb01aa21"
       ],
       "layout": "IPY_MODEL_e9fa30edb94e4a1fab78f6a95bd89943"
      }
     },
     "8d71719bc8864d52b8b5bfd7352d8d3b": {
      "model_module": "@jupyter-widgets/base",
      "model_module_version": "1.2.0",
      "model_name": "LayoutModel",
      "state": {}
     },
     "8dbd4a4d00b24b71ab2a29bd4323e2ff": {
      "model_module": "@jupyter-widgets/base",
      "model_module_version": "1.2.0",
      "model_name": "LayoutModel",
      "state": {}
     },
     "8df56cb48b0f4568ba16db4144f0f8c4": {
      "model_module": "@jupyter-widgets/controls",
      "model_module_version": "1.5.0",
      "model_name": "DescriptionStyleModel",
      "state": {
       "description_width": ""
      }
     },
     "8e0a86fcc08645a285a2ff341bc5a3f6": {
      "model_module": "@jupyter-widgets/controls",
      "model_module_version": "1.5.0",
      "model_name": "DescriptionStyleModel",
      "state": {
       "description_width": ""
      }
     },
     "8e790a0ac8c34254aa5c5400cb750a64": {
      "model_module": "@jupyter-widgets/controls",
      "model_module_version": "1.5.0",
      "model_name": "ProgressStyleModel",
      "state": {
       "description_width": ""
      }
     },
     "8e886d0afa854fd594b0f38043357ab7": {
      "model_module": "@jupyter-widgets/controls",
      "model_module_version": "1.5.0",
      "model_name": "HTMLModel",
      "state": {
       "layout": "IPY_MODEL_e5f2755b09b54f4889231782d10da6dc",
       "style": "IPY_MODEL_b3f96779e3d3442693068201e5bd3de2",
       "value": " 44/44 [00:16&lt;00:00,  1.66it/s]"
      }
     },
     "8f15bfdd6e154e32b8fdeb3e6e68d32d": {
      "model_module": "@jupyter-widgets/controls",
      "model_module_version": "1.5.0",
      "model_name": "DescriptionStyleModel",
      "state": {
       "description_width": ""
      }
     },
     "8f37a185ce3a46789dabf7b0274d12ed": {
      "model_module": "@jupyter-widgets/controls",
      "model_module_version": "1.5.0",
      "model_name": "HTMLModel",
      "state": {
       "layout": "IPY_MODEL_0cbae4375a994774a0cf94ec2b564294",
       "style": "IPY_MODEL_aedc592c8c7a4999bb96d908fba5faca",
       "value": "100%"
      }
     },
     "8fc6f7b35fbd4969b670b3e24117ee07": {
      "model_module": "@jupyter-widgets/controls",
      "model_module_version": "1.5.0",
      "model_name": "DescriptionStyleModel",
      "state": {
       "description_width": ""
      }
     },
     "8fec49d228994fb186b37a35ebd32fdb": {
      "model_module": "@jupyter-widgets/controls",
      "model_module_version": "1.5.0",
      "model_name": "HTMLModel",
      "state": {
       "layout": "IPY_MODEL_f17bc822ba4b404bb02751e56772d49c",
       "style": "IPY_MODEL_0c157481dbe241ea94cf039bf2d75ca4",
       "value": "100%"
      }
     },
     "902f661bc3d84aa7901d3c33b405f24b": {
      "model_module": "@jupyter-widgets/base",
      "model_module_version": "1.2.0",
      "model_name": "LayoutModel",
      "state": {}
     },
     "9066bfad3e8a434e99aa5c9d67bdff04": {
      "model_module": "@jupyter-widgets/controls",
      "model_module_version": "1.5.0",
      "model_name": "FloatProgressModel",
      "state": {
       "bar_style": "success",
       "layout": "IPY_MODEL_26cd7af7cdb043a0af8d53662118a200",
       "style": "IPY_MODEL_ad417db58d1e41a88b22b9269056bb6a",
       "value": 100
      }
     },
     "907b5a310de740f08bc1df8f022ad9ef": {
      "model_module": "@jupyter-widgets/controls",
      "model_module_version": "1.5.0",
      "model_name": "ProgressStyleModel",
      "state": {
       "description_width": ""
      }
     },
     "90e8672666a8424ca4486c974460073b": {
      "model_module": "@jupyter-widgets/base",
      "model_module_version": "1.2.0",
      "model_name": "LayoutModel",
      "state": {}
     },
     "90ecbc03e8a74b55b36a3c407807f3c4": {
      "model_module": "@jupyter-widgets/base",
      "model_module_version": "1.2.0",
      "model_name": "LayoutModel",
      "state": {}
     },
     "910334b92e3948b68414d652cc09bda6": {
      "model_module": "@jupyter-widgets/controls",
      "model_module_version": "1.5.0",
      "model_name": "DescriptionStyleModel",
      "state": {
       "description_width": ""
      }
     },
     "9148b41dff96454992f26f7743763891": {
      "model_module": "@jupyter-widgets/base",
      "model_module_version": "1.2.0",
      "model_name": "LayoutModel",
      "state": {}
     },
     "9151885313b14c8a922c469517fde01c": {
      "model_module": "@jupyter-widgets/controls",
      "model_module_version": "1.5.0",
      "model_name": "HBoxModel",
      "state": {
       "children": [
        "IPY_MODEL_b6b8cdddabd64319a31c3d0148688fdf",
        "IPY_MODEL_e7d75761ebf54b69940a6b4639974635",
        "IPY_MODEL_42880926b5af4d0898056b084097ff9e"
       ],
       "layout": "IPY_MODEL_c9ae86895723454292d7c2ade3f99ce2"
      }
     },
     "91babac551be43be9ad1e0be1d28ebdb": {
      "model_module": "@jupyter-widgets/controls",
      "model_module_version": "1.5.0",
      "model_name": "ProgressStyleModel",
      "state": {
       "description_width": ""
      }
     },
     "91c60f0128cf41e2ab2ec7fa49174adb": {
      "model_module": "@jupyter-widgets/controls",
      "model_module_version": "1.5.0",
      "model_name": "DescriptionStyleModel",
      "state": {
       "description_width": ""
      }
     },
     "91d635495eea4681aaa1c32df50fc61e": {
      "model_module": "@jupyter-widgets/base",
      "model_module_version": "1.2.0",
      "model_name": "LayoutModel",
      "state": {}
     },
     "91e83e787003498ea8e1ac3b08ab1a4f": {
      "model_module": "@jupyter-widgets/controls",
      "model_module_version": "1.5.0",
      "model_name": "HTMLModel",
      "state": {
       "layout": "IPY_MODEL_96d80953fdb640f291d6091027ab4fad",
       "style": "IPY_MODEL_b7a210cdf8a343b7b4cd2b96e7d355f7",
       "value": " 55/55 [00:03&lt;00:00, 13.88it/s]"
      }
     },
     "9215c6f6bd1847dbab6d1630b41b7f04": {
      "model_module": "@jupyter-widgets/controls",
      "model_module_version": "1.5.0",
      "model_name": "DescriptionStyleModel",
      "state": {
       "description_width": ""
      }
     },
     "92a0828e1856419abec25dba342973e7": {
      "model_module": "@jupyter-widgets/controls",
      "model_module_version": "1.5.0",
      "model_name": "HBoxModel",
      "state": {
       "children": [
        "IPY_MODEL_b6a9178bc15c4f94b815981741c399a9",
        "IPY_MODEL_29bb32dd971040abbc8f89f0f324ef34",
        "IPY_MODEL_0fd17592b32f4d708d44287fd41e7dda"
       ],
       "layout": "IPY_MODEL_2320685ba4b048dd8f8e5a67814b9684"
      }
     },
     "92ade1953ba74c5e85cfbbbc9e8b49e3": {
      "model_module": "@jupyter-widgets/base",
      "model_module_version": "1.2.0",
      "model_name": "LayoutModel",
      "state": {}
     },
     "92f260d21b484b929de52e7258a23d8c": {
      "model_module": "@jupyter-widgets/base",
      "model_module_version": "1.2.0",
      "model_name": "LayoutModel",
      "state": {}
     },
     "92fdc17671bd48988878ac634b585714": {
      "model_module": "@jupyter-widgets/base",
      "model_module_version": "1.2.0",
      "model_name": "LayoutModel",
      "state": {}
     },
     "938d2265d879413eb730315606f18ce9": {
      "model_module": "@jupyter-widgets/controls",
      "model_module_version": "1.5.0",
      "model_name": "HBoxModel",
      "state": {
       "children": [
        "IPY_MODEL_03122ceeb7824a0da7d492da1afbf073",
        "IPY_MODEL_adea53bc30cc4e828d80cecaeaf232a8",
        "IPY_MODEL_7b19f4512cc64633bf10c7c0b5ac3d0e"
       ],
       "layout": "IPY_MODEL_e27ff4597be34f1c8c5526402fe7ef71"
      }
     },
     "93cb9cbc9f2f40f6ba4951d9c85e23c1": {
      "model_module": "@jupyter-widgets/base",
      "model_module_version": "1.2.0",
      "model_name": "LayoutModel",
      "state": {}
     },
     "9405d085e6be4209bc452ebe7d00d742": {
      "model_module": "@jupyter-widgets/base",
      "model_module_version": "1.2.0",
      "model_name": "LayoutModel",
      "state": {}
     },
     "9441498ef03a4cb0bfd03133f7ddb1c4": {
      "model_module": "@jupyter-widgets/controls",
      "model_module_version": "1.5.0",
      "model_name": "HTMLModel",
      "state": {
       "layout": "IPY_MODEL_81f2faa60a934896a36d6dc6866d3a0a",
       "style": "IPY_MODEL_e3f9866538624e868c3214d73d09927c",
       "value": "100%"
      }
     },
     "94b37e790aed4a0c93049c7cbf4c2c6e": {
      "model_module": "@jupyter-widgets/base",
      "model_module_version": "1.2.0",
      "model_name": "LayoutModel",
      "state": {}
     },
     "94efa1bd272547c3947d361fa1e69417": {
      "model_module": "@jupyter-widgets/controls",
      "model_module_version": "1.5.0",
      "model_name": "HTMLModel",
      "state": {
       "layout": "IPY_MODEL_a840edb703e04097816c041385a067d5",
       "style": "IPY_MODEL_7443151b99e14323a69a81b105409156",
       "value": "100%"
      }
     },
     "95a45001142b44c9b37f0eee9d0f8a55": {
      "model_module": "@jupyter-widgets/base",
      "model_module_version": "1.2.0",
      "model_name": "LayoutModel",
      "state": {}
     },
     "96358cb8cce04eed98141cf7c1c19fe1": {
      "model_module": "@jupyter-widgets/controls",
      "model_module_version": "1.5.0",
      "model_name": "DescriptionStyleModel",
      "state": {
       "description_width": ""
      }
     },
     "96359310d0114eec9134255e122d1169": {
      "model_module": "@jupyter-widgets/base",
      "model_module_version": "1.2.0",
      "model_name": "LayoutModel",
      "state": {}
     },
     "963e619a226745fd81fc771a91b0b83d": {
      "model_module": "@jupyter-widgets/base",
      "model_module_version": "1.2.0",
      "model_name": "LayoutModel",
      "state": {}
     },
     "9646ae429f3840b99ab1188bc2c66878": {
      "model_module": "@jupyter-widgets/controls",
      "model_module_version": "1.5.0",
      "model_name": "HTMLModel",
      "state": {
       "layout": "IPY_MODEL_cb38e30f36df41d28c25f6cc7ee182ec",
       "style": "IPY_MODEL_0ce8b832d8834716a0355457b15050db",
       "value": " 94/94 [00:35&lt;00:00,  1.64it/s]"
      }
     },
     "96704e85a0da4cdc99e1dfdcedb200f6": {
      "model_module": "@jupyter-widgets/controls",
      "model_module_version": "1.5.0",
      "model_name": "FloatProgressModel",
      "state": {
       "bar_style": "success",
       "layout": "IPY_MODEL_1b28ad3ea5244bc5a3b3de1e08782961",
       "max": 72,
       "style": "IPY_MODEL_b7054051fdb44ba2ad8fd766005d2fc9",
       "value": 72
      }
     },
     "96ba22ac280441239f535b7a2a102695": {
      "model_module": "@jupyter-widgets/controls",
      "model_module_version": "1.5.0",
      "model_name": "ProgressStyleModel",
      "state": {
       "description_width": ""
      }
     },
     "96c58543db0044a3850867a7811a18f3": {
      "model_module": "@jupyter-widgets/controls",
      "model_module_version": "1.5.0",
      "model_name": "DescriptionStyleModel",
      "state": {
       "description_width": ""
      }
     },
     "96ca1c00e0154c748df1dd252f2f5e4e": {
      "model_module": "@jupyter-widgets/controls",
      "model_module_version": "1.5.0",
      "model_name": "DescriptionStyleModel",
      "state": {
       "description_width": ""
      }
     },
     "96d48a9927464c9bafcdd010d251a799": {
      "model_module": "@jupyter-widgets/base",
      "model_module_version": "1.2.0",
      "model_name": "LayoutModel",
      "state": {}
     },
     "96d80953fdb640f291d6091027ab4fad": {
      "model_module": "@jupyter-widgets/base",
      "model_module_version": "1.2.0",
      "model_name": "LayoutModel",
      "state": {}
     },
     "96ee6b2dfd2f47f782a9ff4906907e48": {
      "model_module": "@jupyter-widgets/controls",
      "model_module_version": "1.5.0",
      "model_name": "HTMLModel",
      "state": {
       "layout": "IPY_MODEL_9c6385f787e04d25bb2611d849f1aed6",
       "style": "IPY_MODEL_d5f85448555a4b2390fff93cee40c476",
       "value": " 84/84 [00:06&lt;00:00,  9.63it/s]"
      }
     },
     "96f3597a9c9048e28af93e52288125e2": {
      "model_module": "@jupyter-widgets/controls",
      "model_module_version": "1.5.0",
      "model_name": "HTMLModel",
      "state": {
       "layout": "IPY_MODEL_456222a90c0d4f0d91808ff8ed50b75b",
       "style": "IPY_MODEL_5c4844b0dfe9467c8b998441c3c2a163",
       "value": " 80/80 [00:09&lt;00:00,  5.93it/s]"
      }
     },
     "97290fba53ed415a8c36e0728a683a03": {
      "model_module": "@jupyter-widgets/base",
      "model_module_version": "1.2.0",
      "model_name": "LayoutModel",
      "state": {}
     },
     "975338a6754f464a826d5c980a18c283": {
      "model_module": "@jupyter-widgets/base",
      "model_module_version": "1.2.0",
      "model_name": "LayoutModel",
      "state": {}
     },
     "97542fb611f84a8688b4847d121dff43": {
      "model_module": "@jupyter-widgets/controls",
      "model_module_version": "1.5.0",
      "model_name": "HTMLModel",
      "state": {
       "layout": "IPY_MODEL_11b305024f5e45bd8e6a0f1067aac43e",
       "style": "IPY_MODEL_0ed14717bf1e4373a0de5f3dd88b1a8d",
       "value": "100%"
      }
     },
     "97696cd1f9a343c9a7b32ad2ccc3966c": {
      "model_module": "@jupyter-widgets/controls",
      "model_module_version": "1.5.0",
      "model_name": "HBoxModel",
      "state": {
       "children": [
        "IPY_MODEL_52c41115766e4355bcbd1f3b7b74d167",
        "IPY_MODEL_c5224fcc202c461987fe8ca124796eca",
        "IPY_MODEL_e5122a01c7c54b4bb18189d12ed002e1"
       ],
       "layout": "IPY_MODEL_92fdc17671bd48988878ac634b585714"
      }
     },
     "97ad5d0954fb4a65a5391ac323ef2e4f": {
      "model_module": "@jupyter-widgets/controls",
      "model_module_version": "1.5.0",
      "model_name": "FloatProgressModel",
      "state": {
       "bar_style": "success",
       "layout": "IPY_MODEL_453635f1eecc4626a0585f5da552f218",
       "max": 80,
       "style": "IPY_MODEL_568771adfdc54c978f42fd01e7fa7949",
       "value": 80
      }
     },
     "97f4fef6e1404c35ab68be8dc57c8314": {
      "model_module": "@jupyter-widgets/base",
      "model_module_version": "1.2.0",
      "model_name": "LayoutModel",
      "state": {}
     },
     "9812000dce2d4123b44be9f4ad89b49f": {
      "model_module": "@jupyter-widgets/base",
      "model_module_version": "1.2.0",
      "model_name": "LayoutModel",
      "state": {}
     },
     "98506623c45d4521a42efd9ecdd5d5fe": {
      "model_module": "@jupyter-widgets/base",
      "model_module_version": "1.2.0",
      "model_name": "LayoutModel",
      "state": {}
     },
     "989bc062b55c47799043ee5e15266480": {
      "model_module": "@jupyter-widgets/base",
      "model_module_version": "1.2.0",
      "model_name": "LayoutModel",
      "state": {}
     },
     "98c6469a1d65412a9efa1f8ced25f334": {
      "model_module": "@jupyter-widgets/base",
      "model_module_version": "1.2.0",
      "model_name": "LayoutModel",
      "state": {}
     },
     "98dbee689f7445fda3514c19721b24cf": {
      "model_module": "@jupyter-widgets/controls",
      "model_module_version": "1.5.0",
      "model_name": "ProgressStyleModel",
      "state": {
       "description_width": ""
      }
     },
     "994f5305c09e4f038f4a803a14bb6812": {
      "model_module": "@jupyter-widgets/base",
      "model_module_version": "1.2.0",
      "model_name": "LayoutModel",
      "state": {}
     },
     "99d54d473bd348879b6fc596b4602019": {
      "model_module": "@jupyter-widgets/controls",
      "model_module_version": "1.5.0",
      "model_name": "HTMLModel",
      "state": {
       "layout": "IPY_MODEL_1afa7dbb83a740d39434f20ddfdff546",
       "style": "IPY_MODEL_76a6143972974dd6a5f3fab731900a9a",
       "value": "100%"
      }
     },
     "99eee9b41cb847aa8a81c630507de4dd": {
      "model_module": "@jupyter-widgets/controls",
      "model_module_version": "1.5.0",
      "model_name": "DescriptionStyleModel",
      "state": {
       "description_width": ""
      }
     },
     "9a055712557b4da38f276a23a548a0d0": {
      "model_module": "@jupyter-widgets/base",
      "model_module_version": "1.2.0",
      "model_name": "LayoutModel",
      "state": {}
     },
     "9a5a6c0e3c4c45ae999f4566acc2ad63": {
      "model_module": "@jupyter-widgets/controls",
      "model_module_version": "1.5.0",
      "model_name": "ProgressStyleModel",
      "state": {
       "description_width": ""
      }
     },
     "9a5e45bbe6bc424a8afd08225ce2cdaf": {
      "model_module": "@jupyter-widgets/controls",
      "model_module_version": "1.5.0",
      "model_name": "HBoxModel",
      "state": {
       "children": [
        "IPY_MODEL_616b82f9364e4570a58f943af80bbcb4",
        "IPY_MODEL_c13f60e881ac4251971e446c9ff8ee3e",
        "IPY_MODEL_f7d772815a2d461588a88c4646a55bbc"
       ],
       "layout": "IPY_MODEL_2442a7b7524846ac9c0432e9942b807d"
      }
     },
     "9a618161335b4dc9a6f417f6ce9876da": {
      "model_module": "@jupyter-widgets/controls",
      "model_module_version": "1.5.0",
      "model_name": "DescriptionStyleModel",
      "state": {
       "description_width": ""
      }
     },
     "9a691b187f794818a9722e12e2104d45": {
      "model_module": "@jupyter-widgets/controls",
      "model_module_version": "1.5.0",
      "model_name": "DescriptionStyleModel",
      "state": {
       "description_width": ""
      }
     },
     "9a82f1d5fd5c4375a02d2369ca894fad": {
      "model_module": "@jupyter-widgets/controls",
      "model_module_version": "1.5.0",
      "model_name": "FloatProgressModel",
      "state": {
       "bar_style": "success",
       "layout": "IPY_MODEL_882383e9efa8402aad12aa7d4d260a2c",
       "max": 84,
       "style": "IPY_MODEL_83291884fab4423688d7677c36be4a1a",
       "value": 84
      }
     },
     "9bdfdc4a0dbc43419aa7d2fead89f7c2": {
      "model_module": "@jupyter-widgets/controls",
      "model_module_version": "1.5.0",
      "model_name": "ProgressStyleModel",
      "state": {
       "description_width": ""
      }
     },
     "9beccad7f12a49259996e2d22d024fb1": {
      "model_module": "@jupyter-widgets/controls",
      "model_module_version": "1.5.0",
      "model_name": "HBoxModel",
      "state": {
       "children": [
        "IPY_MODEL_7e7d94211f7c412c816454e36642b39e",
        "IPY_MODEL_d09c5aec548f4bbb857baccd56bad92e",
        "IPY_MODEL_deab7abba8fa47e4a935bdee91dfacc6"
       ],
       "layout": "IPY_MODEL_8ab17d38ae79422d984f3a105f6df793"
      }
     },
     "9c6385f787e04d25bb2611d849f1aed6": {
      "model_module": "@jupyter-widgets/base",
      "model_module_version": "1.2.0",
      "model_name": "LayoutModel",
      "state": {}
     },
     "9c7828e260ec4608ade9701169e723a9": {
      "model_module": "@jupyter-widgets/controls",
      "model_module_version": "1.5.0",
      "model_name": "DescriptionStyleModel",
      "state": {
       "description_width": ""
      }
     },
     "9c957a8ad7fa4ef9955082de04a809ff": {
      "model_module": "@jupyter-widgets/controls",
      "model_module_version": "1.5.0",
      "model_name": "DescriptionStyleModel",
      "state": {
       "description_width": ""
      }
     },
     "9daeec9202e9458ab2f03afb3a182f8c": {
      "model_module": "@jupyter-widgets/controls",
      "model_module_version": "1.5.0",
      "model_name": "HTMLModel",
      "state": {
       "layout": "IPY_MODEL_172c1b384cac464691b71de524df3f76",
       "style": "IPY_MODEL_e4a94cf56dc04888946900c8e005ea64",
       "value": " 80/80 [00:04&lt;00:00,  9.49it/s]"
      }
     },
     "9dd4e15db29649c280b772082de0f81c": {
      "model_module": "@jupyter-widgets/controls",
      "model_module_version": "1.5.0",
      "model_name": "HTMLModel",
      "state": {
       "layout": "IPY_MODEL_3690e656f520437db03621c465792b7a",
       "style": "IPY_MODEL_e8db9ae66888445c975371869c6f8102",
       "value": " 82/82 [00:05&lt;00:00,  6.74it/s]"
      }
     },
     "9dfdd8fbb482429d9a63400a2563de33": {
      "model_module": "@jupyter-widgets/controls",
      "model_module_version": "1.5.0",
      "model_name": "HTMLModel",
      "state": {
       "layout": "IPY_MODEL_65ee6888e2ce4751846c0069ebe1310f",
       "style": "IPY_MODEL_a13bfb931f104628b67649b7cb67c60d",
       "value": "100%"
      }
     },
     "9eb5efe2ff9f4aa0a2d81069ad0d015a": {
      "model_module": "@jupyter-widgets/controls",
      "model_module_version": "1.5.0",
      "model_name": "FloatProgressModel",
      "state": {
       "bar_style": "success",
       "layout": "IPY_MODEL_7138371779f14aaab41ae6e76b48ec21",
       "max": 80,
       "style": "IPY_MODEL_87460b1ba97c452cb064275852dea8a4",
       "value": 80
      }
     },
     "9f45cfddb37d4f968d86f50beaa191c7": {
      "model_module": "@jupyter-widgets/controls",
      "model_module_version": "1.5.0",
      "model_name": "HBoxModel",
      "state": {
       "children": [
        "IPY_MODEL_16135a78cd5e4fc7913ec2168e0ee72e",
        "IPY_MODEL_89eab3f5502f470ab4ecf75035cc2200",
        "IPY_MODEL_3dd7c682215747d8b722746d864854bb"
       ],
       "layout": "IPY_MODEL_c203374cc2b84e9189996eab3c268a10"
      }
     },
     "9f618fe36c84489095d68b3bd9c66b35": {
      "model_module": "@jupyter-widgets/controls",
      "model_module_version": "1.5.0",
      "model_name": "HBoxModel",
      "state": {
       "children": [
        "IPY_MODEL_5ebd6bb6875048d9865238c3189da342",
        "IPY_MODEL_a48cdda82cd24a1cb15ba8d1402c089c",
        "IPY_MODEL_e9af2a9915144785a85047b6882c6fd6"
       ],
       "layout": "IPY_MODEL_ffb05f7bb29243a9b73a95a307234e29"
      }
     },
     "9fa4b6ab979240f49e3adebbe555b0ed": {
      "model_module": "@jupyter-widgets/controls",
      "model_module_version": "1.5.0",
      "model_name": "FloatProgressModel",
      "state": {
       "bar_style": "success",
       "layout": "IPY_MODEL_a1fa0bd556204dc2a1e055705265b17f",
       "max": 64,
       "style": "IPY_MODEL_23055cd422ef4fb98c4f7fdf98c1bbc0",
       "value": 64
      }
     },
     "9fae7c3eb5934f2cb84ef822e21f953d": {
      "model_module": "@jupyter-widgets/controls",
      "model_module_version": "1.5.0",
      "model_name": "HTMLModel",
      "state": {
       "layout": "IPY_MODEL_7f6828996dee490a88465e30e03b23dd",
       "style": "IPY_MODEL_7974ff75036a48119867b424d711bf04",
       "value": "100%"
      }
     },
     "9fc1c08ec14e418eb3228f975fd2a83e": {
      "model_module": "@jupyter-widgets/controls",
      "model_module_version": "1.5.0",
      "model_name": "HBoxModel",
      "state": {
       "children": [
        "IPY_MODEL_a352989c9ad7422ab18443fc39bad0ce",
        "IPY_MODEL_eeb0e375e39049908097c8df1efc1215",
        "IPY_MODEL_41594ffb21314128ad20619d3c405394"
       ],
       "layout": "IPY_MODEL_5038a752a353455ebe976ca3c4617929"
      }
     },
     "9ffe0daf6e6047e582aaf7408158dc32": {
      "model_module": "@jupyter-widgets/base",
      "model_module_version": "1.2.0",
      "model_name": "LayoutModel",
      "state": {}
     },
     "a0550a0ed7d1434b85c4a806519a32b3": {
      "model_module": "@jupyter-widgets/controls",
      "model_module_version": "1.5.0",
      "model_name": "HTMLModel",
      "state": {
       "layout": "IPY_MODEL_cd40ad4b37904838a66be8e7812d1229",
       "style": "IPY_MODEL_348cefbd77e2490a89203052a4f0bbf8",
       "value": "100%"
      }
     },
     "a0a09c3b5ede4b4b9da1d4fd392be507": {
      "model_module": "@jupyter-widgets/base",
      "model_module_version": "1.2.0",
      "model_name": "LayoutModel",
      "state": {}
     },
     "a0b25ede1e9f4ab8801f9c7a6f832c39": {
      "model_module": "@jupyter-widgets/base",
      "model_module_version": "1.2.0",
      "model_name": "LayoutModel",
      "state": {}
     },
     "a0bb5a09fb9b46a08d65ba3db6449bd9": {
      "model_module": "@jupyter-widgets/controls",
      "model_module_version": "1.5.0",
      "model_name": "HTMLModel",
      "state": {
       "layout": "IPY_MODEL_fb1a088260974f1382d9b5c7fc04b585",
       "style": "IPY_MODEL_e7f46e51231b439ba4e902c4afea3a85",
       "value": " 74/74 [00:03&lt;00:00, 13.67it/s]"
      }
     },
     "a10378232fdf4de7ad2a8b6295c15f1f": {
      "model_module": "@jupyter-widgets/controls",
      "model_module_version": "1.5.0",
      "model_name": "HTMLModel",
      "state": {
       "layout": "IPY_MODEL_58edaa9af4d8418ebb05c645630aea69",
       "style": "IPY_MODEL_7a34a14abe52475a9839567adaadd918",
       "value": "100%"
      }
     },
     "a131bfd609bf4b3585d550fac1aa2a34": {
      "model_module": "@jupyter-widgets/controls",
      "model_module_version": "1.5.0",
      "model_name": "DescriptionStyleModel",
      "state": {
       "description_width": ""
      }
     },
     "a13bfb931f104628b67649b7cb67c60d": {
      "model_module": "@jupyter-widgets/controls",
      "model_module_version": "1.5.0",
      "model_name": "DescriptionStyleModel",
      "state": {
       "description_width": ""
      }
     },
     "a1463caae9954b9d9f72efe94d7b3d2d": {
      "model_module": "@jupyter-widgets/controls",
      "model_module_version": "1.5.0",
      "model_name": "HTMLModel",
      "state": {
       "layout": "IPY_MODEL_bdc7ba568295425d9b1fb4451c461801",
       "style": "IPY_MODEL_137b3cc0bfb24f01b9e52c988140738d",
       "value": " 74/74 [00:04&lt;00:00, 13.77it/s]"
      }
     },
     "a14831ec3f534d89b1f32b6854bfdc48": {
      "model_module": "@jupyter-widgets/base",
      "model_module_version": "1.2.0",
      "model_name": "LayoutModel",
      "state": {}
     },
     "a14b71807e8f4c7ebf34456036555003": {
      "model_module": "@jupyter-widgets/controls",
      "model_module_version": "1.5.0",
      "model_name": "HTMLModel",
      "state": {
       "layout": "IPY_MODEL_2dba14a1ff504f3282cee0433d2fe4fb",
       "style": "IPY_MODEL_7dace3d9f20645f69c2d6c21ea760365",
       "value": "100%"
      }
     },
     "a1adfd7b8dc64ee1b0756639fa3fda14": {
      "model_module": "@jupyter-widgets/controls",
      "model_module_version": "1.5.0",
      "model_name": "DescriptionStyleModel",
      "state": {
       "description_width": ""
      }
     },
     "a1b5c8bf15ce4691858dad362b822e0f": {
      "model_module": "@jupyter-widgets/controls",
      "model_module_version": "1.5.0",
      "model_name": "ProgressStyleModel",
      "state": {
       "description_width": ""
      }
     },
     "a1f777de81164776a624cf0797264bc0": {
      "model_module": "@jupyter-widgets/base",
      "model_module_version": "1.2.0",
      "model_name": "LayoutModel",
      "state": {}
     },
     "a1fa0bd556204dc2a1e055705265b17f": {
      "model_module": "@jupyter-widgets/base",
      "model_module_version": "1.2.0",
      "model_name": "LayoutModel",
      "state": {}
     },
     "a2232629f9b04bd3b3833291fefa401d": {
      "model_module": "@jupyter-widgets/base",
      "model_module_version": "1.2.0",
      "model_name": "LayoutModel",
      "state": {}
     },
     "a22ff1d624d945feb85cc0d8f998e3dc": {
      "model_module": "@jupyter-widgets/controls",
      "model_module_version": "1.5.0",
      "model_name": "DescriptionStyleModel",
      "state": {
       "description_width": ""
      }
     },
     "a25927c1916f4e5db3aa375dff598d7c": {
      "model_module": "@jupyter-widgets/controls",
      "model_module_version": "1.5.0",
      "model_name": "HBoxModel",
      "state": {
       "children": [
        "IPY_MODEL_59e563b42adb43cf925fa9123635c20c",
        "IPY_MODEL_5738a7582083466e9803660b6d8dd430",
        "IPY_MODEL_caae768821ca46febbca6f0670441266"
       ],
       "layout": "IPY_MODEL_6b47bd69182a404490b8d844978bca9d"
      }
     },
     "a28efd392b0a4922ba2009ffc871dde8": {
      "model_module": "@jupyter-widgets/base",
      "model_module_version": "1.2.0",
      "model_name": "LayoutModel",
      "state": {}
     },
     "a2d3cc2c0ac84d60bbce92b504bed75f": {
      "model_module": "@jupyter-widgets/controls",
      "model_module_version": "1.5.0",
      "model_name": "DescriptionStyleModel",
      "state": {
       "description_width": ""
      }
     },
     "a2ec4ca3de7840bda41182577506c4f9": {
      "model_module": "@jupyter-widgets/controls",
      "model_module_version": "1.5.0",
      "model_name": "DescriptionStyleModel",
      "state": {
       "description_width": ""
      }
     },
     "a2fb997dc62740cab6af66b8def0395b": {
      "model_module": "@jupyter-widgets/controls",
      "model_module_version": "1.5.0",
      "model_name": "DescriptionStyleModel",
      "state": {
       "description_width": ""
      }
     },
     "a34e58511e2f4ed2ae7d5a169bdd3157": {
      "model_module": "@jupyter-widgets/base",
      "model_module_version": "1.2.0",
      "model_name": "LayoutModel",
      "state": {}
     },
     "a352989c9ad7422ab18443fc39bad0ce": {
      "model_module": "@jupyter-widgets/controls",
      "model_module_version": "1.5.0",
      "model_name": "HTMLModel",
      "state": {
       "layout": "IPY_MODEL_8b725736aa9149e2bdfd116ff93609ef",
       "style": "IPY_MODEL_5c9bbe26643545c3837d8c86d3c7c548",
       "value": "100%"
      }
     },
     "a388fbfe3c6448379c70be1f1b24794f": {
      "model_module": "@jupyter-widgets/base",
      "model_module_version": "1.2.0",
      "model_name": "LayoutModel",
      "state": {}
     },
     "a3ab8258a23e42acb06ade838520b4de": {
      "model_module": "@jupyter-widgets/base",
      "model_module_version": "1.2.0",
      "model_name": "LayoutModel",
      "state": {}
     },
     "a3d612b45453489cb019bf125fcfd010": {
      "model_module": "@jupyter-widgets/controls",
      "model_module_version": "1.5.0",
      "model_name": "FloatProgressModel",
      "state": {
       "bar_style": "success",
       "layout": "IPY_MODEL_d15fc81ecfe44f028d30d983ed087197",
       "max": 48,
       "style": "IPY_MODEL_6e88299afa1444ea8bbe886a775d72de",
       "value": 48
      }
     },
     "a48cdda82cd24a1cb15ba8d1402c089c": {
      "model_module": "@jupyter-widgets/controls",
      "model_module_version": "1.5.0",
      "model_name": "FloatProgressModel",
      "state": {
       "bar_style": "success",
       "layout": "IPY_MODEL_5396499775b94ab780c485e57d4d1e80",
       "max": 44,
       "style": "IPY_MODEL_1622e668190d4692aacc5f920cf005dc",
       "value": 44
      }
     },
     "a4d46ddbe9274f09aa88200de1b6580a": {
      "model_module": "@jupyter-widgets/controls",
      "model_module_version": "1.5.0",
      "model_name": "FloatProgressModel",
      "state": {
       "bar_style": "success",
       "layout": "IPY_MODEL_5a99dd61884b4612ba941d148551e09a",
       "max": 80,
       "style": "IPY_MODEL_7b11ae4d618447e4b204ef9224ac4372",
       "value": 80
      }
     },
     "a51f27b618084aff960e36014e2407ad": {
      "model_module": "@jupyter-widgets/base",
      "model_module_version": "1.2.0",
      "model_name": "LayoutModel",
      "state": {}
     },
     "a56ed423ccc24e5f941d0e706d8fa20c": {
      "model_module": "@jupyter-widgets/base",
      "model_module_version": "1.2.0",
      "model_name": "LayoutModel",
      "state": {}
     },
     "a5b9b41a5b874cb8abd432e8487b786f": {
      "model_module": "@jupyter-widgets/controls",
      "model_module_version": "1.5.0",
      "model_name": "ProgressStyleModel",
      "state": {
       "description_width": ""
      }
     },
     "a633b0af6104452980e85a41a31f274e": {
      "model_module": "@jupyter-widgets/controls",
      "model_module_version": "1.5.0",
      "model_name": "FloatProgressModel",
      "state": {
       "bar_style": "success",
       "layout": "IPY_MODEL_4aeffa6521b840af8463aab7603b9a0a",
       "max": 74,
       "style": "IPY_MODEL_433bc120e28940f3bf3f916f0f734803",
       "value": 74
      }
     },
     "a65a8f0a8b734342b07b251f6a507ba5": {
      "model_module": "@jupyter-widgets/controls",
      "model_module_version": "1.5.0",
      "model_name": "HTMLModel",
      "state": {
       "layout": "IPY_MODEL_da8382626ed546b1a52b30e2d26b376a",
       "style": "IPY_MODEL_1e9108498e9c439bbd4c4f23d32332ec",
       "value": " 72/72 [00:02&lt;00:00, 286.47it/s]"
      }
     },
     "a69ca6f16dc64bb99cc5187e09273f0d": {
      "model_module": "@jupyter-widgets/controls",
      "model_module_version": "1.5.0",
      "model_name": "HBoxModel",
      "state": {
       "children": [
        "IPY_MODEL_d2a6168b715f4b04b6f3013e8442a7e6",
        "IPY_MODEL_9eb5efe2ff9f4aa0a2d81069ad0d015a",
        "IPY_MODEL_c5956e95023240c8906cc5d7aed040e6"
       ],
       "layout": "IPY_MODEL_e64eb3cf56f14e7e95e32e7bcf739b39"
      }
     },
     "a6e18774c23643c7b3c34cd54cae5fed": {
      "model_module": "@jupyter-widgets/controls",
      "model_module_version": "1.5.0",
      "model_name": "HBoxModel",
      "state": {
       "children": [
        "IPY_MODEL_c9bb13a0e55d4ab2b76d9ce271846e62",
        "IPY_MODEL_6d8d31e579b94c38b74155d7c898675e",
        "IPY_MODEL_3111b2a15fd947749e15b70fbaffa2d1"
       ],
       "layout": "IPY_MODEL_f1aaf318ec464087b3ad6f0968142525"
      }
     },
     "a6e6929d42554244a577c486f1ab87a4": {
      "model_module": "@jupyter-widgets/base",
      "model_module_version": "1.2.0",
      "model_name": "LayoutModel",
      "state": {}
     },
     "a6e8e3fed35c4b27aa78e6ba8a48ab02": {
      "model_module": "@jupyter-widgets/controls",
      "model_module_version": "1.5.0",
      "model_name": "DescriptionStyleModel",
      "state": {
       "description_width": ""
      }
     },
     "a71fe39982634486b6466f65e50b7f9b": {
      "model_module": "@jupyter-widgets/base",
      "model_module_version": "1.2.0",
      "model_name": "LayoutModel",
      "state": {}
     },
     "a72e94a959204d2cbe3332b99ae5f641": {
      "model_module": "@jupyter-widgets/base",
      "model_module_version": "1.2.0",
      "model_name": "LayoutModel",
      "state": {}
     },
     "a790344fe5e3443c8fbe70a3b29c34af": {
      "model_module": "@jupyter-widgets/base",
      "model_module_version": "1.2.0",
      "model_name": "LayoutModel",
      "state": {}
     },
     "a79acbc01dda40eb93f909d371f8fccf": {
      "model_module": "@jupyter-widgets/controls",
      "model_module_version": "1.5.0",
      "model_name": "HBoxModel",
      "state": {
       "children": [
        "IPY_MODEL_dba6824ab9f84506b73a0386c194565e",
        "IPY_MODEL_5dede2f5a58944649b61e24dc72faae8",
        "IPY_MODEL_4615a4a17afc4d7ca91f60c027b76862"
       ],
       "layout": "IPY_MODEL_f01d3506caaf4bbeb173201c979556d6"
      }
     },
     "a7ac1cf4aa8b4bed83e0e2242aaf5554": {
      "model_module": "@jupyter-widgets/base",
      "model_module_version": "1.2.0",
      "model_name": "LayoutModel",
      "state": {}
     },
     "a81808b596f3410cada0ae3329de87f4": {
      "model_module": "@jupyter-widgets/base",
      "model_module_version": "1.2.0",
      "model_name": "LayoutModel",
      "state": {}
     },
     "a823b83169f049d79e78a4de1543e5ba": {
      "model_module": "@jupyter-widgets/base",
      "model_module_version": "1.2.0",
      "model_name": "LayoutModel",
      "state": {}
     },
     "a8299ed302fe4885864ee51ad5d42cfd": {
      "model_module": "@jupyter-widgets/controls",
      "model_module_version": "1.5.0",
      "model_name": "ProgressStyleModel",
      "state": {
       "description_width": ""
      }
     },
     "a838bd4b716842fba4edcfdfbc8b2fe2": {
      "model_module": "@jupyter-widgets/controls",
      "model_module_version": "1.5.0",
      "model_name": "HTMLModel",
      "state": {
       "layout": "IPY_MODEL_163cef1a4471482397079118a7a97e68",
       "style": "IPY_MODEL_8df56cb48b0f4568ba16db4144f0f8c4",
       "value": "100%"
      }
     },
     "a840edb703e04097816c041385a067d5": {
      "model_module": "@jupyter-widgets/base",
      "model_module_version": "1.2.0",
      "model_name": "LayoutModel",
      "state": {}
     },
     "a8c3438dcd6d454f8163e20d690782f7": {
      "model_module": "@jupyter-widgets/controls",
      "model_module_version": "1.5.0",
      "model_name": "FloatProgressModel",
      "state": {
       "bar_style": "success",
       "layout": "IPY_MODEL_fcad7db3b3f54065ae029b56a25f2c4f",
       "max": 72,
       "style": "IPY_MODEL_2bb815a7a990491c9599a14fd08a4052",
       "value": 72
      }
     },
     "a9230044298543439213d2ad803edb54": {
      "model_module": "@jupyter-widgets/controls",
      "model_module_version": "1.5.0",
      "model_name": "DescriptionStyleModel",
      "state": {
       "description_width": ""
      }
     },
     "a9540761019b45e98cbebc165c55167e": {
      "model_module": "@jupyter-widgets/base",
      "model_module_version": "1.2.0",
      "model_name": "LayoutModel",
      "state": {}
     },
     "a9592202295147078de1fbfb8632a7e6": {
      "model_module": "@jupyter-widgets/controls",
      "model_module_version": "1.5.0",
      "model_name": "DescriptionStyleModel",
      "state": {
       "description_width": ""
      }
     },
     "a96b259118c84b91aeb4568d5d291836": {
      "model_module": "@jupyter-widgets/base",
      "model_module_version": "1.2.0",
      "model_name": "LayoutModel",
      "state": {}
     },
     "a98b54c80ad3452bbbca90eeb58f8716": {
      "model_module": "@jupyter-widgets/base",
      "model_module_version": "1.2.0",
      "model_name": "LayoutModel",
      "state": {}
     },
     "a99e4fac17e14b32a1f634145afe5ffc": {
      "model_module": "@jupyter-widgets/base",
      "model_module_version": "1.2.0",
      "model_name": "LayoutModel",
      "state": {}
     },
     "a9a623be89a54f0887e919c1d986f658": {
      "model_module": "@jupyter-widgets/controls",
      "model_module_version": "1.5.0",
      "model_name": "HTMLModel",
      "state": {
       "layout": "IPY_MODEL_3b04ca6b97cf466da5f9fee0efb5bee6",
       "style": "IPY_MODEL_4af5579883c74c3a987704391ad6124e",
       "value": "100%"
      }
     },
     "a9f093850ca045abac1f103fd38e72fb": {
      "model_module": "@jupyter-widgets/controls",
      "model_module_version": "1.5.0",
      "model_name": "ProgressStyleModel",
      "state": {
       "description_width": ""
      }
     },
     "aa399732e043435aabcab50588ceead1": {
      "model_module": "@jupyter-widgets/base",
      "model_module_version": "1.2.0",
      "model_name": "LayoutModel",
      "state": {}
     },
     "aa89e97c8e5d428faf469845fe0bf3d4": {
      "model_module": "@jupyter-widgets/controls",
      "model_module_version": "1.5.0",
      "model_name": "DescriptionStyleModel",
      "state": {
       "description_width": ""
      }
     },
     "ab351d2bd8634bfda78de22b9f14c2d8": {
      "model_module": "@jupyter-widgets/controls",
      "model_module_version": "1.5.0",
      "model_name": "DescriptionStyleModel",
      "state": {
       "description_width": ""
      }
     },
     "ab37d87ef4b44c13b085b8d27b219707": {
      "model_module": "@jupyter-widgets/controls",
      "model_module_version": "1.5.0",
      "model_name": "DescriptionStyleModel",
      "state": {
       "description_width": ""
      }
     },
     "abeccf32558444ffb4a6a4a19a0bc257": {
      "model_module": "@jupyter-widgets/controls",
      "model_module_version": "1.5.0",
      "model_name": "HTMLModel",
      "state": {
       "layout": "IPY_MODEL_448b405c746d456da2e8517b24b09778",
       "style": "IPY_MODEL_a9230044298543439213d2ad803edb54",
       "value": " 100/100 [00:30&lt;00:00,  1.65it/s]"
      }
     },
     "ac1f196f10924862a626ac601905ad95": {
      "model_module": "@jupyter-widgets/base",
      "model_module_version": "1.2.0",
      "model_name": "LayoutModel",
      "state": {}
     },
     "ac243b542912401d87a4ca6359d59b02": {
      "model_module": "@jupyter-widgets/base",
      "model_module_version": "1.2.0",
      "model_name": "LayoutModel",
      "state": {}
     },
     "acd4d8f73a17421fa988d82a8a32988f": {
      "model_module": "@jupyter-widgets/controls",
      "model_module_version": "1.5.0",
      "model_name": "DescriptionStyleModel",
      "state": {
       "description_width": ""
      }
     },
     "ad38c7ca8d5f49f3bc32081037fad09f": {
      "model_module": "@jupyter-widgets/controls",
      "model_module_version": "1.5.0",
      "model_name": "HTMLModel",
      "state": {
       "layout": "IPY_MODEL_32668e7823ef4843bbb9a15d92883d8b",
       "style": "IPY_MODEL_68bfe831ec36424bb9a46ebdbfff8f74",
       "value": "100%"
      }
     },
     "ad3b0e7b82c7404093737e315f883b39": {
      "model_module": "@jupyter-widgets/controls",
      "model_module_version": "1.5.0",
      "model_name": "DescriptionStyleModel",
      "state": {
       "description_width": ""
      }
     },
     "ad417db58d1e41a88b22b9269056bb6a": {
      "model_module": "@jupyter-widgets/controls",
      "model_module_version": "1.5.0",
      "model_name": "ProgressStyleModel",
      "state": {
       "description_width": ""
      }
     },
     "ad6c26699d7c4f7a89277a9a99da2cd7": {
      "model_module": "@jupyter-widgets/controls",
      "model_module_version": "1.5.0",
      "model_name": "DescriptionStyleModel",
      "state": {
       "description_width": ""
      }
     },
     "ad80c27809b24770badaf42d4521dc6f": {
      "model_module": "@jupyter-widgets/base",
      "model_module_version": "1.2.0",
      "model_name": "LayoutModel",
      "state": {}
     },
     "ad908c3d98c4452a9652187f5e928e45": {
      "model_module": "@jupyter-widgets/base",
      "model_module_version": "1.2.0",
      "model_name": "LayoutModel",
      "state": {}
     },
     "adce827c4d44406aa4cfe7d0f8684a0b": {
      "model_module": "@jupyter-widgets/controls",
      "model_module_version": "1.5.0",
      "model_name": "HTMLModel",
      "state": {
       "layout": "IPY_MODEL_6639e997b54f40cba1322145d5f56019",
       "style": "IPY_MODEL_5e71a11ea41f48388b0a202e0c7a28b5",
       "value": "100%"
      }
     },
     "adea53bc30cc4e828d80cecaeaf232a8": {
      "model_module": "@jupyter-widgets/controls",
      "model_module_version": "1.5.0",
      "model_name": "FloatProgressModel",
      "state": {
       "bar_style": "success",
       "layout": "IPY_MODEL_09d7e46482554a3daa4766472fe73f5a",
       "max": 54,
       "style": "IPY_MODEL_ecf77acdcb8d4814838ebfa9605c8dc3",
       "value": 54
      }
     },
     "ae1e550fee8e4ce2b01d84d7e010f82a": {
      "model_module": "@jupyter-widgets/base",
      "model_module_version": "1.2.0",
      "model_name": "LayoutModel",
      "state": {}
     },
     "ae2fed7f6bf34e0baf1acff09ba444aa": {
      "model_module": "@jupyter-widgets/controls",
      "model_module_version": "1.5.0",
      "model_name": "FloatProgressModel",
      "state": {
       "bar_style": "success",
       "layout": "IPY_MODEL_c5f26e2828f5452f9a06172ae1192226",
       "max": 84,
       "style": "IPY_MODEL_c8282c814ba44d188e7d2c5238def6c7",
       "value": 84
      }
     },
     "ae52c90fa6eb46f68190590a63bcefc6": {
      "model_module": "@jupyter-widgets/base",
      "model_module_version": "1.2.0",
      "model_name": "LayoutModel",
      "state": {}
     },
     "ae9f45dd8c364bcc8206b317f54a0a90": {
      "model_module": "@jupyter-widgets/controls",
      "model_module_version": "1.5.0",
      "model_name": "ProgressStyleModel",
      "state": {
       "description_width": ""
      }
     },
     "aed254244a3f416eaae2caef4cf4d80b": {
      "model_module": "@jupyter-widgets/controls",
      "model_module_version": "1.5.0",
      "model_name": "ProgressStyleModel",
      "state": {
       "description_width": ""
      }
     },
     "aed3654e378f45d6896a09e738b63b36": {
      "model_module": "@jupyter-widgets/controls",
      "model_module_version": "1.5.0",
      "model_name": "HTMLModel",
      "state": {
       "layout": "IPY_MODEL_9ffe0daf6e6047e582aaf7408158dc32",
       "style": "IPY_MODEL_2f2341bb73fe4db29a5f5fe126981c2d",
       "value": "100%"
      }
     },
     "aedc592c8c7a4999bb96d908fba5faca": {
      "model_module": "@jupyter-widgets/controls",
      "model_module_version": "1.5.0",
      "model_name": "DescriptionStyleModel",
      "state": {
       "description_width": ""
      }
     },
     "aeefdbee21794aad817ff8ab4e9d92d7": {
      "model_module": "@jupyter-widgets/controls",
      "model_module_version": "1.5.0",
      "model_name": "ProgressStyleModel",
      "state": {
       "description_width": ""
      }
     },
     "aef6d8f474ff44cd9a8e3435f4c394df": {
      "model_module": "@jupyter-widgets/controls",
      "model_module_version": "1.5.0",
      "model_name": "HTMLModel",
      "state": {
       "layout": "IPY_MODEL_91d635495eea4681aaa1c32df50fc61e",
       "style": "IPY_MODEL_c80e7e1321ce49328e15b82e1bde4535",
       "value": "100%"
      }
     },
     "af1ff78bea8147c8ab530e6bed895c41": {
      "model_module": "@jupyter-widgets/base",
      "model_module_version": "1.2.0",
      "model_name": "LayoutModel",
      "state": {}
     },
     "af4032790c2d42f3a0fe4f0da726c271": {
      "model_module": "@jupyter-widgets/base",
      "model_module_version": "1.2.0",
      "model_name": "LayoutModel",
      "state": {}
     },
     "af6e0b04dada48ca96aae6ffcf36e157": {
      "model_module": "@jupyter-widgets/controls",
      "model_module_version": "1.5.0",
      "model_name": "HTMLModel",
      "state": {
       "layout": "IPY_MODEL_a28efd392b0a4922ba2009ffc871dde8",
       "style": "IPY_MODEL_5001606e79884f688a2f8429d855589f",
       "value": " 72/72 [00:04&lt;00:00, 12.72it/s]"
      }
     },
     "af96df8333874f25a5a284c1b21f5dc2": {
      "model_module": "@jupyter-widgets/base",
      "model_module_version": "1.2.0",
      "model_name": "LayoutModel",
      "state": {}
     },
     "afad137995b24fc4982bad7b1949e695": {
      "model_module": "@jupyter-widgets/controls",
      "model_module_version": "1.5.0",
      "model_name": "HTMLModel",
      "state": {
       "layout": "IPY_MODEL_53518ccc58154797b73861ffb51ff5d8",
       "style": "IPY_MODEL_149949d2e1a84bbe80e10d7ab7997c0d",
       "value": "100%"
      }
     },
     "afae21a8784c439096a7792e609c75b1": {
      "model_module": "@jupyter-widgets/controls",
      "model_module_version": "1.5.0",
      "model_name": "HTMLModel",
      "state": {
       "layout": "IPY_MODEL_a81808b596f3410cada0ae3329de87f4",
       "style": "IPY_MODEL_d977e84a65a4417bb5af3bf252f44589",
       "value": "100%"
      }
     },
     "afb8038ad6474ceab92d92b8bb23643d": {
      "model_module": "@jupyter-widgets/controls",
      "model_module_version": "1.5.0",
      "model_name": "HTMLModel",
      "state": {
       "layout": "IPY_MODEL_e38c3b72eebc4944aae993e0101eb7fe",
       "style": "IPY_MODEL_cb783f8dcc3f4a3f8720330396bfb905",
       "value": " 80/80 [00:09&lt;00:00,  6.00it/s]"
      }
     },
     "afcb51042f244c76a9c966aa590d6a78": {
      "model_module": "@jupyter-widgets/controls",
      "model_module_version": "1.5.0",
      "model_name": "FloatProgressModel",
      "state": {
       "bar_style": "success",
       "layout": "IPY_MODEL_ffdc61fb205644d8bcc4fb22dcce024c",
       "max": 70,
       "style": "IPY_MODEL_2add138378ef4639b31c3c731db55106",
       "value": 70
      }
     },
     "b030ea7c1a0f41b3b895904ff4d38c00": {
      "model_module": "@jupyter-widgets/controls",
      "model_module_version": "1.5.0",
      "model_name": "DescriptionStyleModel",
      "state": {
       "description_width": ""
      }
     },
     "b06ba1f8dff1441793d5ac2b396aec21": {
      "model_module": "@jupyter-widgets/controls",
      "model_module_version": "1.5.0",
      "model_name": "HBoxModel",
      "state": {
       "children": [
        "IPY_MODEL_3ef7746d6af24033b12141a61c5200af",
        "IPY_MODEL_4a39cf803b494de8b9e854cfd63d5a45",
        "IPY_MODEL_dec2d355864240e390176fe6fb3fc2c5"
       ],
       "layout": "IPY_MODEL_4669759a19fa45fa97e4341e4bc8c6ce"
      }
     },
     "b06cda4042dd47858525a3ab05d1fcc6": {
      "model_module": "@jupyter-widgets/controls",
      "model_module_version": "1.5.0",
      "model_name": "FloatProgressModel",
      "state": {
       "bar_style": "success",
       "layout": "IPY_MODEL_69284e2d016647ff857cd1a26116ff39",
       "max": 68,
       "style": "IPY_MODEL_fcc31cdea5534fab8436873ae87f435b",
       "value": 68
      }
     },
     "b0a9035f9e02452a9de7a6daeef62f8b": {
      "model_module": "@jupyter-widgets/base",
      "model_module_version": "1.2.0",
      "model_name": "LayoutModel",
      "state": {}
     },
     "b15d8bba25814ad884181a081fbb05e4": {
      "model_module": "@jupyter-widgets/base",
      "model_module_version": "1.2.0",
      "model_name": "LayoutModel",
      "state": {}
     },
     "b1cf1c0f7422478cbb0ef5297fe0af69": {
      "model_module": "@jupyter-widgets/controls",
      "model_module_version": "1.5.0",
      "model_name": "FloatProgressModel",
      "state": {
       "bar_style": "success",
       "layout": "IPY_MODEL_975338a6754f464a826d5c980a18c283",
       "max": 88,
       "style": "IPY_MODEL_0db6bd5570244af7898ce57e9188c76d",
       "value": 88
      }
     },
     "b1dccd6731cd4de48602e1043e081aff": {
      "model_module": "@jupyter-widgets/controls",
      "model_module_version": "1.5.0",
      "model_name": "DescriptionStyleModel",
      "state": {
       "description_width": ""
      }
     },
     "b1f76518fc1345bcae176bb85c0a8f0f": {
      "model_module": "@jupyter-widgets/controls",
      "model_module_version": "1.5.0",
      "model_name": "DescriptionStyleModel",
      "state": {
       "description_width": ""
      }
     },
     "b257d99def2d41119a3adebbba735d58": {
      "model_module": "@jupyter-widgets/base",
      "model_module_version": "1.2.0",
      "model_name": "LayoutModel",
      "state": {}
     },
     "b35fc421e9d34854bfa9c4925b2dba5e": {
      "model_module": "@jupyter-widgets/controls",
      "model_module_version": "1.5.0",
      "model_name": "DescriptionStyleModel",
      "state": {
       "description_width": ""
      }
     },
     "b37116b0c1734746a92d56edb2abb47e": {
      "model_module": "@jupyter-widgets/base",
      "model_module_version": "1.2.0",
      "model_name": "LayoutModel",
      "state": {}
     },
     "b3f96779e3d3442693068201e5bd3de2": {
      "model_module": "@jupyter-widgets/controls",
      "model_module_version": "1.5.0",
      "model_name": "DescriptionStyleModel",
      "state": {
       "description_width": ""
      }
     },
     "b428e890e62e4ac3aaf4344f3ded449c": {
      "model_module": "@jupyter-widgets/controls",
      "model_module_version": "1.5.0",
      "model_name": "HTMLModel",
      "state": {
       "layout": "IPY_MODEL_549a36b70f8842028d16c25add4f0300",
       "style": "IPY_MODEL_387945e7ae7a46c9ae54a008695f4871",
       "value": " 64/64 [00:03&lt;00:00,  8.73it/s]"
      }
     },
     "b4364d48465e47ee9d947cb1dfa70d50": {
      "model_module": "@jupyter-widgets/controls",
      "model_module_version": "1.5.0",
      "model_name": "ProgressStyleModel",
      "state": {
       "description_width": ""
      }
     },
     "b45f508ed4234b21b743001b4615d60c": {
      "model_module": "@jupyter-widgets/base",
      "model_module_version": "1.2.0",
      "model_name": "LayoutModel",
      "state": {}
     },
     "b4edd9dfc20d4cc39b66e787b4881693": {
      "model_module": "@jupyter-widgets/controls",
      "model_module_version": "1.5.0",
      "model_name": "HBoxModel",
      "state": {
       "children": [
        "IPY_MODEL_94efa1bd272547c3947d361fa1e69417",
        "IPY_MODEL_b76e43530b934907ada338bebc5a85a3",
        "IPY_MODEL_1711c03b3e3944d5ba71eb3476607f0b"
       ],
       "layout": "IPY_MODEL_76bd0b97fc08457a880637d478715f35"
      }
     },
     "b51856ffc5a84d039ec948eef66817fd": {
      "model_module": "@jupyter-widgets/controls",
      "model_module_version": "1.5.0",
      "model_name": "FloatProgressModel",
      "state": {
       "bar_style": "success",
       "layout": "IPY_MODEL_787b226203ef4def858cc0c6bb0bfa4f",
       "max": 68,
       "style": "IPY_MODEL_b4364d48465e47ee9d947cb1dfa70d50",
       "value": 68
      }
     },
     "b6006696595046b38122aea7d2a2ed38": {
      "model_module": "@jupyter-widgets/base",
      "model_module_version": "1.2.0",
      "model_name": "LayoutModel",
      "state": {}
     },
     "b620f03c31e94b6aabc419dc2d06f96e": {
      "model_module": "@jupyter-widgets/controls",
      "model_module_version": "1.5.0",
      "model_name": "ProgressStyleModel",
      "state": {
       "description_width": ""
      }
     },
     "b630350e5d194190bfc8105d30643d29": {
      "model_module": "@jupyter-widgets/controls",
      "model_module_version": "1.5.0",
      "model_name": "HTMLModel",
      "state": {
       "layout": "IPY_MODEL_e4237a4c9afd4e18b8203efba34ffc7f",
       "style": "IPY_MODEL_674461e6b0b64e7eb70da7ec8d6445b7",
       "value": "100%"
      }
     },
     "b674ba200b7a49b7b51fcb60d7d8563e": {
      "model_module": "@jupyter-widgets/controls",
      "model_module_version": "1.5.0",
      "model_name": "ProgressStyleModel",
      "state": {
       "description_width": ""
      }
     },
     "b6a9178bc15c4f94b815981741c399a9": {
      "model_module": "@jupyter-widgets/controls",
      "model_module_version": "1.5.0",
      "model_name": "HTMLModel",
      "state": {
       "layout": "IPY_MODEL_cbc999730b154495af4c4a558c8c7c5d",
       "style": "IPY_MODEL_c4c11df4988c46f5836ae4f5d345a233",
       "value": "100%"
      }
     },
     "b6b8cdddabd64319a31c3d0148688fdf": {
      "model_module": "@jupyter-widgets/controls",
      "model_module_version": "1.5.0",
      "model_name": "HTMLModel",
      "state": {
       "layout": "IPY_MODEL_bba90dd4150d4d188d8089eceb8a5e56",
       "style": "IPY_MODEL_96358cb8cce04eed98141cf7c1c19fe1",
       "value": "100%"
      }
     },
     "b6c73f6637864ad2b5b2781a203f4efd": {
      "model_module": "@jupyter-widgets/base",
      "model_module_version": "1.2.0",
      "model_name": "LayoutModel",
      "state": {}
     },
     "b7054051fdb44ba2ad8fd766005d2fc9": {
      "model_module": "@jupyter-widgets/controls",
      "model_module_version": "1.5.0",
      "model_name": "ProgressStyleModel",
      "state": {
       "description_width": ""
      }
     },
     "b711dca16ac145c5888323e4fcfef452": {
      "model_module": "@jupyter-widgets/controls",
      "model_module_version": "1.5.0",
      "model_name": "HTMLModel",
      "state": {
       "layout": "IPY_MODEL_846fe298a5c544cdb46d182107cfda67",
       "style": "IPY_MODEL_fca4ae081dc94ac8a4fc6999fb842d32",
       "value": "100%"
      }
     },
     "b74f2daf8ea14bf1a9fc4318fcd4a827": {
      "model_module": "@jupyter-widgets/controls",
      "model_module_version": "1.5.0",
      "model_name": "HTMLModel",
      "state": {
       "layout": "IPY_MODEL_d3afeaa97c6d4fe683f0d70cba260845",
       "style": "IPY_MODEL_e96f150e8dad424e8fd0793f4473b1c9",
       "value": "100%"
      }
     },
     "b7570f336cbc4fe9b9ec01c62534b9b8": {
      "model_module": "@jupyter-widgets/controls",
      "model_module_version": "1.5.0",
      "model_name": "HBoxModel",
      "state": {
       "children": [
        "IPY_MODEL_b711dca16ac145c5888323e4fcfef452",
        "IPY_MODEL_e43aad685e6a4643b3da062aec7864e3",
        "IPY_MODEL_1b05c213bb0843aca275d1e8038ea9a3"
       ],
       "layout": "IPY_MODEL_d70e043699ff4b50852b461a03ee4e83"
      }
     },
     "b76e43530b934907ada338bebc5a85a3": {
      "model_module": "@jupyter-widgets/controls",
      "model_module_version": "1.5.0",
      "model_name": "FloatProgressModel",
      "state": {
       "bar_style": "success",
       "layout": "IPY_MODEL_5bd2206bba644231bee512d7daedf132",
       "max": 64,
       "style": "IPY_MODEL_5d606c34dc814627bac6014a3e2713cf",
       "value": 64
      }
     },
     "b7a210cdf8a343b7b4cd2b96e7d355f7": {
      "model_module": "@jupyter-widgets/controls",
      "model_module_version": "1.5.0",
      "model_name": "DescriptionStyleModel",
      "state": {
       "description_width": ""
      }
     },
     "b80d2aa3ec0c4df2bfa50cfd87758bab": {
      "model_module": "@jupyter-widgets/controls",
      "model_module_version": "1.5.0",
      "model_name": "DescriptionStyleModel",
      "state": {
       "description_width": ""
      }
     },
     "b855742b03cb4d2facd3ffe31f7226e8": {
      "model_module": "@jupyter-widgets/controls",
      "model_module_version": "1.5.0",
      "model_name": "HTMLModel",
      "state": {
       "layout": "IPY_MODEL_eed2a85a1adb4fc4a09e36bb1246da2b",
       "style": "IPY_MODEL_910334b92e3948b68414d652cc09bda6",
       "value": " 94/94 [00:33&lt;00:00,  1.75it/s]"
      }
     },
     "b8d2c2f169c54c4da219d1046e29e7e7": {
      "model_module": "@jupyter-widgets/base",
      "model_module_version": "1.2.0",
      "model_name": "LayoutModel",
      "state": {}
     },
     "b903e2eed8164868ab8b1970db3dbb57": {
      "model_module": "@jupyter-widgets/controls",
      "model_module_version": "1.5.0",
      "model_name": "ProgressStyleModel",
      "state": {
       "description_width": ""
      }
     },
     "b90e05bbaca843298ef54b5291fd1206": {
      "model_module": "@jupyter-widgets/base",
      "model_module_version": "1.2.0",
      "model_name": "LayoutModel",
      "state": {}
     },
     "b90e842cfa9f4841b6f67a591b0b8442": {
      "model_module": "@jupyter-widgets/controls",
      "model_module_version": "1.5.0",
      "model_name": "HTMLModel",
      "state": {
       "layout": "IPY_MODEL_9a055712557b4da38f276a23a548a0d0",
       "style": "IPY_MODEL_5f9f6997160143898744c7b7ebc07980",
       "value": "100%"
      }
     },
     "b928672596f44ff79d146cadeaa92cbf": {
      "model_module": "@jupyter-widgets/controls",
      "model_module_version": "1.5.0",
      "model_name": "HBoxModel",
      "state": {
       "children": [
        "IPY_MODEL_774c0ac19cc84e43a875876a73277e29",
        "IPY_MODEL_e987cbc399d44499bfa8c9632b481357",
        "IPY_MODEL_96f3597a9c9048e28af93e52288125e2"
       ],
       "layout": "IPY_MODEL_f6930bdccefe44daa8b62eefe3b048b1"
      }
     },
     "ba0b2cca6fa444c08e067ccab95ef76e": {
      "model_module": "@jupyter-widgets/controls",
      "model_module_version": "1.5.0",
      "model_name": "HTMLModel",
      "state": {
       "layout": "IPY_MODEL_ac243b542912401d87a4ca6359d59b02",
       "style": "IPY_MODEL_d1eb812584b1473db0d7f4af65ad6104",
       "value": "100%"
      }
     },
     "ba127a478f9f4039b993720569788be7": {
      "model_module": "@jupyter-widgets/controls",
      "model_module_version": "1.5.0",
      "model_name": "FloatProgressModel",
      "state": {
       "bar_style": "success",
       "layout": "IPY_MODEL_628343499ba24df28a37cc5cb155531f",
       "max": 76,
       "style": "IPY_MODEL_64922c05f3d241489a9edf55d059d2d4",
       "value": 76
      }
     },
     "ba26fbad625f4a158552504ae9e7d657": {
      "model_module": "@jupyter-widgets/base",
      "model_module_version": "1.2.0",
      "model_name": "LayoutModel",
      "state": {}
     },
     "ba29319e270e41068a15fd625fa7de50": {
      "model_module": "@jupyter-widgets/controls",
      "model_module_version": "1.5.0",
      "model_name": "HTMLModel",
      "state": {
       "layout": "IPY_MODEL_b6006696595046b38122aea7d2a2ed38",
       "style": "IPY_MODEL_5aa25b79ddf14f818890850044f542ce",
       "value": " 84/84 [00:05&lt;00:00, 11.61it/s]"
      }
     },
     "ba85c7867bd3464384598f125316140b": {
      "model_module": "@jupyter-widgets/base",
      "model_module_version": "1.2.0",
      "model_name": "LayoutModel",
      "state": {}
     },
     "baf7c35969db49e6a374ac2e29ae34d3": {
      "model_module": "@jupyter-widgets/base",
      "model_module_version": "1.2.0",
      "model_name": "LayoutModel",
      "state": {}
     },
     "bb186549ff954f31a0e6ef9800fe1245": {
      "model_module": "@jupyter-widgets/controls",
      "model_module_version": "1.5.0",
      "model_name": "DescriptionStyleModel",
      "state": {
       "description_width": ""
      }
     },
     "bb31bca0f3c244df85b0c939e89fd74d": {
      "model_module": "@jupyter-widgets/controls",
      "model_module_version": "1.5.0",
      "model_name": "ProgressStyleModel",
      "state": {
       "description_width": ""
      }
     },
     "bb37757b850a4438b4d98e8933b5fef3": {
      "model_module": "@jupyter-widgets/controls",
      "model_module_version": "1.5.0",
      "model_name": "DescriptionStyleModel",
      "state": {
       "description_width": ""
      }
     },
     "bba53da450ba4043805b2073d295bda8": {
      "model_module": "@jupyter-widgets/controls",
      "model_module_version": "1.5.0",
      "model_name": "HTMLModel",
      "state": {
       "layout": "IPY_MODEL_e0a9182af75147c28b463f1d5a646407",
       "style": "IPY_MODEL_c34c0da7013f4c8c82dd8c6992e628b4",
       "value": "100%"
      }
     },
     "bba90dd4150d4d188d8089eceb8a5e56": {
      "model_module": "@jupyter-widgets/base",
      "model_module_version": "1.2.0",
      "model_name": "LayoutModel",
      "state": {}
     },
     "bbc49366108f4555a62fcf32a6cdcded": {
      "model_module": "@jupyter-widgets/base",
      "model_module_version": "1.2.0",
      "model_name": "LayoutModel",
      "state": {}
     },
     "bbca29bfb0c64258a66fc5ed3ddcd1e2": {
      "model_module": "@jupyter-widgets/controls",
      "model_module_version": "1.5.0",
      "model_name": "FloatProgressModel",
      "state": {
       "bar_style": "success",
       "layout": "IPY_MODEL_dbb9d2d68cc840a085e061b37f091b5e",
       "max": 72,
       "style": "IPY_MODEL_9bdfdc4a0dbc43419aa7d2fead89f7c2",
       "value": 72
      }
     },
     "bbedee7815e342ddbdbd748de5de6ae4": {
      "model_module": "@jupyter-widgets/base",
      "model_module_version": "1.2.0",
      "model_name": "LayoutModel",
      "state": {}
     },
     "bbfeb2961eee4ef7880bc4b54c965a90": {
      "model_module": "@jupyter-widgets/base",
      "model_module_version": "1.2.0",
      "model_name": "LayoutModel",
      "state": {}
     },
     "bc03ae5cecdb4ef690f5ab99428748ea": {
      "model_module": "@jupyter-widgets/base",
      "model_module_version": "1.2.0",
      "model_name": "LayoutModel",
      "state": {}
     },
     "bc8c28390dbf46b3b8fa86b7352d23bd": {
      "model_module": "@jupyter-widgets/controls",
      "model_module_version": "1.5.0",
      "model_name": "HTMLModel",
      "state": {
       "layout": "IPY_MODEL_0c75690f01d64289be1dd46b786bdb7b",
       "style": "IPY_MODEL_f5a96bb733f345b3bf608a78964b2fe1",
       "value": " 72/72 [00:05&lt;00:00, 10.13it/s]"
      }
     },
     "bceb7b848e574123958279766563d74b": {
      "model_module": "@jupyter-widgets/base",
      "model_module_version": "1.2.0",
      "model_name": "LayoutModel",
      "state": {}
     },
     "bd9c65a369c14b0ea3aba8bfa0546be3": {
      "model_module": "@jupyter-widgets/controls",
      "model_module_version": "1.5.0",
      "model_name": "DescriptionStyleModel",
      "state": {
       "description_width": ""
      }
     },
     "bdc3c6da16494151ae423ce1ee59d951": {
      "model_module": "@jupyter-widgets/controls",
      "model_module_version": "1.5.0",
      "model_name": "HBoxModel",
      "state": {
       "children": [
        "IPY_MODEL_f08ea3cd055a444cad11ec86850e0681",
        "IPY_MODEL_9066bfad3e8a434e99aa5c9d67bdff04",
        "IPY_MODEL_0d1fb0c2d8614e0bbe3ab82e3c2354c7"
       ],
       "layout": "IPY_MODEL_92ade1953ba74c5e85cfbbbc9e8b49e3"
      }
     },
     "bdc7ba568295425d9b1fb4451c461801": {
      "model_module": "@jupyter-widgets/base",
      "model_module_version": "1.2.0",
      "model_name": "LayoutModel",
      "state": {}
     },
     "be125b56a48a4a409a88eda27b07882a": {
      "model_module": "@jupyter-widgets/controls",
      "model_module_version": "1.5.0",
      "model_name": "HTMLModel",
      "state": {
       "layout": "IPY_MODEL_b8d2c2f169c54c4da219d1046e29e7e7",
       "style": "IPY_MODEL_1b2d42a257e148fab54cef45760b22d9",
       "value": "100%"
      }
     },
     "be31e5eb42114c5eb8558823686d2c78": {
      "model_module": "@jupyter-widgets/base",
      "model_module_version": "1.2.0",
      "model_name": "LayoutModel",
      "state": {}
     },
     "be456e317ac4439f9e667220eccd1e14": {
      "model_module": "@jupyter-widgets/controls",
      "model_module_version": "1.5.0",
      "model_name": "DescriptionStyleModel",
      "state": {
       "description_width": ""
      }
     },
     "be4c570ed2ae46deb03cb07c1e165ef6": {
      "model_module": "@jupyter-widgets/base",
      "model_module_version": "1.2.0",
      "model_name": "LayoutModel",
      "state": {}
     },
     "be61783695034724aacc091124f84b71": {
      "model_module": "@jupyter-widgets/controls",
      "model_module_version": "1.5.0",
      "model_name": "HTMLModel",
      "state": {
       "layout": "IPY_MODEL_d89f7cadceab48bdba3b24fb53bff636",
       "style": "IPY_MODEL_2ec268e39a634afdbebbc41497e8f681",
       "value": "100%"
      }
     },
     "be7fa1f53eb64f88acf856fa9804038a": {
      "model_module": "@jupyter-widgets/base",
      "model_module_version": "1.2.0",
      "model_name": "LayoutModel",
      "state": {}
     },
     "bed7bb7fdf1c45f7a5fb0683af8da9a3": {
      "model_module": "@jupyter-widgets/base",
      "model_module_version": "1.2.0",
      "model_name": "LayoutModel",
      "state": {}
     },
     "bf0ff87e54e64bb59f0740674e79f832": {
      "model_module": "@jupyter-widgets/controls",
      "model_module_version": "1.5.0",
      "model_name": "DescriptionStyleModel",
      "state": {
       "description_width": ""
      }
     },
     "bf73daba63a04b81b4dcb812e0c83b50": {
      "model_module": "@jupyter-widgets/controls",
      "model_module_version": "1.5.0",
      "model_name": "DescriptionStyleModel",
      "state": {
       "description_width": ""
      }
     },
     "c00a3b138a214cdea3f9dba0a6decbac": {
      "model_module": "@jupyter-widgets/base",
      "model_module_version": "1.2.0",
      "model_name": "LayoutModel",
      "state": {}
     },
     "c025db36496c4729a17bb353eff6f55c": {
      "model_module": "@jupyter-widgets/base",
      "model_module_version": "1.2.0",
      "model_name": "LayoutModel",
      "state": {}
     },
     "c116456081954b98a514e85a3c699f38": {
      "model_module": "@jupyter-widgets/controls",
      "model_module_version": "1.5.0",
      "model_name": "DescriptionStyleModel",
      "state": {
       "description_width": ""
      }
     },
     "c1194aa16e694aa99b823e3be02d9d67": {
      "model_module": "@jupyter-widgets/controls",
      "model_module_version": "1.5.0",
      "model_name": "FloatProgressModel",
      "state": {
       "bar_style": "success",
       "layout": "IPY_MODEL_c7e80eec7dfd412ba59e825ce3292d39",
       "max": 44,
       "style": "IPY_MODEL_29aae152832e4ea7a106d21bc1fcfee1",
       "value": 44
      }
     },
     "c11d5ed1f610472ab6b77dd5c2229781": {
      "model_module": "@jupyter-widgets/controls",
      "model_module_version": "1.5.0",
      "model_name": "DescriptionStyleModel",
      "state": {
       "description_width": ""
      }
     },
     "c13f60e881ac4251971e446c9ff8ee3e": {
      "model_module": "@jupyter-widgets/controls",
      "model_module_version": "1.5.0",
      "model_name": "FloatProgressModel",
      "state": {
       "bar_style": "success",
       "layout": "IPY_MODEL_90e8672666a8424ca4486c974460073b",
       "max": 70,
       "style": "IPY_MODEL_d80b0a92edb8446492479f37d30da909",
       "value": 70
      }
     },
     "c18b3f74742c4a8cb1a9f9f2f3a1ce28": {
      "model_module": "@jupyter-widgets/base",
      "model_module_version": "1.2.0",
      "model_name": "LayoutModel",
      "state": {}
     },
     "c203374cc2b84e9189996eab3c268a10": {
      "model_module": "@jupyter-widgets/base",
      "model_module_version": "1.2.0",
      "model_name": "LayoutModel",
      "state": {}
     },
     "c216dfef6bd544d9a3712a466c6cb05b": {
      "model_module": "@jupyter-widgets/controls",
      "model_module_version": "1.5.0",
      "model_name": "HTMLModel",
      "state": {
       "layout": "IPY_MODEL_43e30b0a1a0844b9b14db1948017a323",
       "style": "IPY_MODEL_c307404c06be4b1194c6af2d6f04ac38",
       "value": " 70/70 [00:05&lt;00:00,  8.36it/s]"
      }
     },
     "c2f91c431fd546a688d34e347a14f4a8": {
      "model_module": "@jupyter-widgets/controls",
      "model_module_version": "1.5.0",
      "model_name": "DescriptionStyleModel",
      "state": {
       "description_width": ""
      }
     },
     "c307404c06be4b1194c6af2d6f04ac38": {
      "model_module": "@jupyter-widgets/controls",
      "model_module_version": "1.5.0",
      "model_name": "DescriptionStyleModel",
      "state": {
       "description_width": ""
      }
     },
     "c34c0da7013f4c8c82dd8c6992e628b4": {
      "model_module": "@jupyter-widgets/controls",
      "model_module_version": "1.5.0",
      "model_name": "DescriptionStyleModel",
      "state": {
       "description_width": ""
      }
     },
     "c373f2d954ec41d3928278844a5ae692": {
      "model_module": "@jupyter-widgets/base",
      "model_module_version": "1.2.0",
      "model_name": "LayoutModel",
      "state": {}
     },
     "c37a4709525043ae868351289b72b4e0": {
      "model_module": "@jupyter-widgets/base",
      "model_module_version": "1.2.0",
      "model_name": "LayoutModel",
      "state": {}
     },
     "c404fe770dff42348f1df64b9ec30b6f": {
      "model_module": "@jupyter-widgets/base",
      "model_module_version": "1.2.0",
      "model_name": "LayoutModel",
      "state": {}
     },
     "c48f0cce9dd647638479a0d7e28913c9": {
      "model_module": "@jupyter-widgets/base",
      "model_module_version": "1.2.0",
      "model_name": "LayoutModel",
      "state": {}
     },
     "c4c11df4988c46f5836ae4f5d345a233": {
      "model_module": "@jupyter-widgets/controls",
      "model_module_version": "1.5.0",
      "model_name": "DescriptionStyleModel",
      "state": {
       "description_width": ""
      }
     },
     "c5224fcc202c461987fe8ca124796eca": {
      "model_module": "@jupyter-widgets/controls",
      "model_module_version": "1.5.0",
      "model_name": "FloatProgressModel",
      "state": {
       "bar_style": "success",
       "layout": "IPY_MODEL_309b5f4d2cbf4ab0a7f2f2d5e627c2f9",
       "max": 72,
       "style": "IPY_MODEL_ebfca54540f3469cbb197e395fc85ad6",
       "value": 72
      }
     },
     "c5956e95023240c8906cc5d7aed040e6": {
      "model_module": "@jupyter-widgets/controls",
      "model_module_version": "1.5.0",
      "model_name": "HTMLModel",
      "state": {
       "layout": "IPY_MODEL_83b2c6d019d94c5c82af7066d4de1146",
       "style": "IPY_MODEL_4f035f04070a4f1e96885c383bd06321",
       "value": " 80/80 [00:09&lt;00:00,  6.02it/s]"
      }
     },
     "c5b01b4c50054ca6a074a0322116ae6a": {
      "model_module": "@jupyter-widgets/controls",
      "model_module_version": "1.5.0",
      "model_name": "ProgressStyleModel",
      "state": {
       "description_width": ""
      }
     },
     "c5f26e2828f5452f9a06172ae1192226": {
      "model_module": "@jupyter-widgets/base",
      "model_module_version": "1.2.0",
      "model_name": "LayoutModel",
      "state": {}
     },
     "c733d72073e54150906ecac084b3e9c0": {
      "model_module": "@jupyter-widgets/controls",
      "model_module_version": "1.5.0",
      "model_name": "HBoxModel",
      "state": {
       "children": [
        "IPY_MODEL_afae21a8784c439096a7792e609c75b1",
        "IPY_MODEL_11255505d59845e4913e017621ca5ba7",
        "IPY_MODEL_6f3c80b083ab49bb86e843227d2e081c"
       ],
       "layout": "IPY_MODEL_41ac15c30920419da4207bc7587aa3f5"
      }
     },
     "c7430aa406964a80b4fbe9aa84023a25": {
      "model_module": "@jupyter-widgets/controls",
      "model_module_version": "1.5.0",
      "model_name": "DescriptionStyleModel",
      "state": {
       "description_width": ""
      }
     },
     "c78ec6f60b9240f0803c38d0ea933197": {
      "model_module": "@jupyter-widgets/base",
      "model_module_version": "1.2.0",
      "model_name": "LayoutModel",
      "state": {}
     },
     "c7e80eec7dfd412ba59e825ce3292d39": {
      "model_module": "@jupyter-widgets/base",
      "model_module_version": "1.2.0",
      "model_name": "LayoutModel",
      "state": {}
     },
     "c7fe0f9a76ea4a60b7b55313dcf79ba7": {
      "model_module": "@jupyter-widgets/base",
      "model_module_version": "1.2.0",
      "model_name": "LayoutModel",
      "state": {}
     },
     "c80e7e1321ce49328e15b82e1bde4535": {
      "model_module": "@jupyter-widgets/controls",
      "model_module_version": "1.5.0",
      "model_name": "DescriptionStyleModel",
      "state": {
       "description_width": ""
      }
     },
     "c8239a8d12504756be48dedf947cf65d": {
      "model_module": "@jupyter-widgets/base",
      "model_module_version": "1.2.0",
      "model_name": "LayoutModel",
      "state": {}
     },
     "c8282c814ba44d188e7d2c5238def6c7": {
      "model_module": "@jupyter-widgets/controls",
      "model_module_version": "1.5.0",
      "model_name": "ProgressStyleModel",
      "state": {
       "description_width": ""
      }
     },
     "c8787042b5994323abb38649faf955e9": {
      "model_module": "@jupyter-widgets/controls",
      "model_module_version": "1.5.0",
      "model_name": "DescriptionStyleModel",
      "state": {
       "description_width": ""
      }
     },
     "c8d56d6f65b546a3a9506dfecfad8d0c": {
      "model_module": "@jupyter-widgets/base",
      "model_module_version": "1.2.0",
      "model_name": "LayoutModel",
      "state": {}
     },
     "c8efbe4238da4e558af18a39a38121fa": {
      "model_module": "@jupyter-widgets/controls",
      "model_module_version": "1.5.0",
      "model_name": "DescriptionStyleModel",
      "state": {
       "description_width": ""
      }
     },
     "c92b0925cd6b4ef2a3223d6e8238dd19": {
      "model_module": "@jupyter-widgets/controls",
      "model_module_version": "1.5.0",
      "model_name": "HTMLModel",
      "state": {
       "layout": "IPY_MODEL_f32e08426c944940accfe9a93c8b42fe",
       "style": "IPY_MODEL_aa89e97c8e5d428faf469845fe0bf3d4",
       "value": " 80/80 [00:05&lt;00:00, 50.49it/s]"
      }
     },
     "c954697c885f4388b402112acaa46332": {
      "model_module": "@jupyter-widgets/base",
      "model_module_version": "1.2.0",
      "model_name": "LayoutModel",
      "state": {}
     },
     "c9780b70d8f242a3add717da30af83cd": {
      "model_module": "@jupyter-widgets/base",
      "model_module_version": "1.2.0",
      "model_name": "LayoutModel",
      "state": {}
     },
     "c9ae86895723454292d7c2ade3f99ce2": {
      "model_module": "@jupyter-widgets/base",
      "model_module_version": "1.2.0",
      "model_name": "LayoutModel",
      "state": {}
     },
     "c9bb13a0e55d4ab2b76d9ce271846e62": {
      "model_module": "@jupyter-widgets/controls",
      "model_module_version": "1.5.0",
      "model_name": "HTMLModel",
      "state": {
       "layout": "IPY_MODEL_d2fe877419234ca6a7bcc860b0fbd425",
       "style": "IPY_MODEL_d63db24024f841bfa7693b6027569a35",
       "value": "100%"
      }
     },
     "c9d3bedcf039437791ae0af96f050db9": {
      "model_module": "@jupyter-widgets/controls",
      "model_module_version": "1.5.0",
      "model_name": "DescriptionStyleModel",
      "state": {
       "description_width": ""
      }
     },
     "ca1e7bd85ed14d01bbb685c0affe4601": {
      "model_module": "@jupyter-widgets/controls",
      "model_module_version": "1.5.0",
      "model_name": "HTMLModel",
      "state": {
       "layout": "IPY_MODEL_860e11df634042249507df74a8a9d4c1",
       "style": "IPY_MODEL_119432c46e9a4767861ad0f8f11d5a3a",
       "value": " 80/80 [00:09&lt;00:00,  5.93it/s]"
      }
     },
     "ca3a59fe58e14c509011a75e91c5c587": {
      "model_module": "@jupyter-widgets/base",
      "model_module_version": "1.2.0",
      "model_name": "LayoutModel",
      "state": {}
     },
     "ca814608a8ad46c1a158e4b80fb95dde": {
      "model_module": "@jupyter-widgets/controls",
      "model_module_version": "1.5.0",
      "model_name": "ProgressStyleModel",
      "state": {
       "description_width": ""
      }
     },
     "ca9f27db2d1042fea44ebead9cec9415": {
      "model_module": "@jupyter-widgets/controls",
      "model_module_version": "1.5.0",
      "model_name": "DescriptionStyleModel",
      "state": {
       "description_width": ""
      }
     },
     "caae768821ca46febbca6f0670441266": {
      "model_module": "@jupyter-widgets/controls",
      "model_module_version": "1.5.0",
      "model_name": "HTMLModel",
      "state": {
       "layout": "IPY_MODEL_f484ae92bc8a4fe59b8347f6b75c8281",
       "style": "IPY_MODEL_4f2ab6036c54477882c2b430ea288e2e",
       "value": " 80/80 [00:04&lt;00:00, 57.45it/s]"
      }
     },
     "cad2d3b532544741a2020154dc5fb63b": {
      "model_module": "@jupyter-widgets/base",
      "model_module_version": "1.2.0",
      "model_name": "LayoutModel",
      "state": {}
     },
     "caff4b39f3184ab8aa77157a72efbae5": {
      "model_module": "@jupyter-widgets/controls",
      "model_module_version": "1.5.0",
      "model_name": "ProgressStyleModel",
      "state": {
       "description_width": ""
      }
     },
     "cb38e30f36df41d28c25f6cc7ee182ec": {
      "model_module": "@jupyter-widgets/base",
      "model_module_version": "1.2.0",
      "model_name": "LayoutModel",
      "state": {}
     },
     "cb783f8dcc3f4a3f8720330396bfb905": {
      "model_module": "@jupyter-widgets/controls",
      "model_module_version": "1.5.0",
      "model_name": "DescriptionStyleModel",
      "state": {
       "description_width": ""
      }
     },
     "cb7b00990cd74aa7bd88fe8f0d9f31bf": {
      "model_module": "@jupyter-widgets/controls",
      "model_module_version": "1.5.0",
      "model_name": "HTMLModel",
      "state": {
       "layout": "IPY_MODEL_4698342da2d94144a587078ca0a4da18",
       "style": "IPY_MODEL_8a8289d7e2704ca998e3fb9043d97138",
       "value": " 86/86 [00:05&lt;00:00,  8.70it/s]"
      }
     },
     "cb92bafb48744addb88a78a7bd0f4fcb": {
      "model_module": "@jupyter-widgets/controls",
      "model_module_version": "1.5.0",
      "model_name": "DescriptionStyleModel",
      "state": {
       "description_width": ""
      }
     },
     "cbb9710ef32a4593996adb9193dde74d": {
      "model_module": "@jupyter-widgets/controls",
      "model_module_version": "1.5.0",
      "model_name": "FloatProgressModel",
      "state": {
       "bar_style": "success",
       "layout": "IPY_MODEL_6b9f2dc8221f4515a618d578852d17ae",
       "max": 55,
       "style": "IPY_MODEL_0d1f81b49f4d441fac58573b24e85441",
       "value": 55
      }
     },
     "cbc999730b154495af4c4a558c8c7c5d": {
      "model_module": "@jupyter-widgets/base",
      "model_module_version": "1.2.0",
      "model_name": "LayoutModel",
      "state": {}
     },
     "cc1e34dcd59a44cab18ffc32b6f480f1": {
      "model_module": "@jupyter-widgets/base",
      "model_module_version": "1.2.0",
      "model_name": "LayoutModel",
      "state": {}
     },
     "cc2397ac75e7471e92e09c67ef9047c4": {
      "model_module": "@jupyter-widgets/base",
      "model_module_version": "1.2.0",
      "model_name": "LayoutModel",
      "state": {}
     },
     "cd13dc3b55164aec842707a92b92f33e": {
      "model_module": "@jupyter-widgets/controls",
      "model_module_version": "1.5.0",
      "model_name": "HTMLModel",
      "state": {
       "layout": "IPY_MODEL_7e202b53a2954ce2b985f39b4cab6e7c",
       "style": "IPY_MODEL_2f179b081f6d4e69b5d6d37559562d91",
       "value": "100%"
      }
     },
     "cd40ad4b37904838a66be8e7812d1229": {
      "model_module": "@jupyter-widgets/base",
      "model_module_version": "1.2.0",
      "model_name": "LayoutModel",
      "state": {}
     },
     "cdd0a4cac02a42329976299a4fc7c0d7": {
      "model_module": "@jupyter-widgets/controls",
      "model_module_version": "1.5.0",
      "model_name": "FloatProgressModel",
      "state": {
       "bar_style": "success",
       "layout": "IPY_MODEL_6a385b4aee984bae85b0d404b78f842d",
       "max": 72,
       "style": "IPY_MODEL_467b3299d1f649dc9924bd7409e13df8",
       "value": 72
      }
     },
     "cec49089b1ac4416bb7269216722918c": {
      "model_module": "@jupyter-widgets/controls",
      "model_module_version": "1.5.0",
      "model_name": "ProgressStyleModel",
      "state": {
       "description_width": ""
      }
     },
     "ced76b29005448c684a4942a1e8258b6": {
      "model_module": "@jupyter-widgets/base",
      "model_module_version": "1.2.0",
      "model_name": "LayoutModel",
      "state": {}
     },
     "cef8c7697ceb4072834906a9aa04a4be": {
      "model_module": "@jupyter-widgets/controls",
      "model_module_version": "1.5.0",
      "model_name": "DescriptionStyleModel",
      "state": {
       "description_width": ""
      }
     },
     "cf01386d86ca49d385d423fbf4b92770": {
      "model_module": "@jupyter-widgets/controls",
      "model_module_version": "1.5.0",
      "model_name": "ProgressStyleModel",
      "state": {
       "description_width": ""
      }
     },
     "cf01d7ad9be04f3e8d4098445eadfae7": {
      "model_module": "@jupyter-widgets/controls",
      "model_module_version": "1.5.0",
      "model_name": "ProgressStyleModel",
      "state": {
       "description_width": ""
      }
     },
     "cf06dd75a7a74bab9c5a612f90cd40bd": {
      "model_module": "@jupyter-widgets/controls",
      "model_module_version": "1.5.0",
      "model_name": "FloatProgressModel",
      "state": {
       "bar_style": "success",
       "layout": "IPY_MODEL_12cc1aae662d467a9f4da77354289df4",
       "max": 74,
       "style": "IPY_MODEL_a1b5c8bf15ce4691858dad362b822e0f",
       "value": 74
      }
     },
     "cf6297a1aa0e47dba9aebb85378f31c1": {
      "model_module": "@jupyter-widgets/controls",
      "model_module_version": "1.5.0",
      "model_name": "HTMLModel",
      "state": {
       "layout": "IPY_MODEL_11c8b49eacb14868b0068574a6bcb1be",
       "style": "IPY_MODEL_82ce1a51c67c4335a278d21e6deb9232",
       "value": " 74/74 [00:04&lt;00:00, 14.59it/s]"
      }
     },
     "cfbbeaf855ff405083bac70f6fd14713": {
      "model_module": "@jupyter-widgets/base",
      "model_module_version": "1.2.0",
      "model_name": "LayoutModel",
      "state": {}
     },
     "cfda69b98b5c4a9b8c5b9d7f4d1edd6d": {
      "model_module": "@jupyter-widgets/controls",
      "model_module_version": "1.5.0",
      "model_name": "HTMLModel",
      "state": {
       "layout": "IPY_MODEL_4bcd89fe380847479df39f07ae9b219e",
       "style": "IPY_MODEL_9c957a8ad7fa4ef9955082de04a809ff",
       "value": "100%"
      }
     },
     "d09c5aec548f4bbb857baccd56bad92e": {
      "model_module": "@jupyter-widgets/controls",
      "model_module_version": "1.5.0",
      "model_name": "FloatProgressModel",
      "state": {
       "bar_style": "success",
       "layout": "IPY_MODEL_c404fe770dff42348f1df64b9ec30b6f",
       "max": 70,
       "style": "IPY_MODEL_0677ba8f4f65437e98e6af94b7ed616f",
       "value": 70
      }
     },
     "d0c1b3f346e94cbfb4372fe771ab6bef": {
      "model_module": "@jupyter-widgets/base",
      "model_module_version": "1.2.0",
      "model_name": "LayoutModel",
      "state": {}
     },
     "d15fc81ecfe44f028d30d983ed087197": {
      "model_module": "@jupyter-widgets/base",
      "model_module_version": "1.2.0",
      "model_name": "LayoutModel",
      "state": {}
     },
     "d165cd71624243439ea50deb2cc7271a": {
      "model_module": "@jupyter-widgets/controls",
      "model_module_version": "1.5.0",
      "model_name": "DescriptionStyleModel",
      "state": {
       "description_width": ""
      }
     },
     "d19eae58cd87416d9cad05d3d61d1c69": {
      "model_module": "@jupyter-widgets/base",
      "model_module_version": "1.2.0",
      "model_name": "LayoutModel",
      "state": {}
     },
     "d1ca0bd6622141a3b7fedc6c1d755d01": {
      "model_module": "@jupyter-widgets/controls",
      "model_module_version": "1.5.0",
      "model_name": "FloatProgressModel",
      "state": {
       "bar_style": "success",
       "layout": "IPY_MODEL_cfbbeaf855ff405083bac70f6fd14713",
       "max": 76,
       "style": "IPY_MODEL_4efae68ffdf8474b9534adb93dde8b6c",
       "value": 76
      }
     },
     "d1eb812584b1473db0d7f4af65ad6104": {
      "model_module": "@jupyter-widgets/controls",
      "model_module_version": "1.5.0",
      "model_name": "DescriptionStyleModel",
      "state": {
       "description_width": ""
      }
     },
     "d21218b8db624137bc1f711c7b7b8c44": {
      "model_module": "@jupyter-widgets/controls",
      "model_module_version": "1.5.0",
      "model_name": "HTMLModel",
      "state": {
       "layout": "IPY_MODEL_e07379c1e1af406cb34e1558a0cb701d",
       "style": "IPY_MODEL_79176fad29704b7c9a79dc659a6d7dae",
       "value": " 44/44 [00:03&lt;00:00,  6.96it/s]"
      }
     },
     "d23332ef2e0e4413a7efa598e693cda6": {
      "model_module": "@jupyter-widgets/controls",
      "model_module_version": "1.5.0",
      "model_name": "DescriptionStyleModel",
      "state": {
       "description_width": ""
      }
     },
     "d23b2c4689614f44a9f04b5e578a37b5": {
      "model_module": "@jupyter-widgets/controls",
      "model_module_version": "1.5.0",
      "model_name": "ProgressStyleModel",
      "state": {
       "description_width": ""
      }
     },
     "d23f53285f354a80ba04c0e127c9792b": {
      "model_module": "@jupyter-widgets/controls",
      "model_module_version": "1.5.0",
      "model_name": "HTMLModel",
      "state": {
       "layout": "IPY_MODEL_d458e40972404078b71c4c52f5598709",
       "style": "IPY_MODEL_5e3acf14a4c44ddeaadee8529043bf37",
       "value": "100%"
      }
     },
     "d29b1916ec3d45eea372dbd1c032b2e4": {
      "model_module": "@jupyter-widgets/controls",
      "model_module_version": "1.5.0",
      "model_name": "HTMLModel",
      "state": {
       "layout": "IPY_MODEL_b37116b0c1734746a92d56edb2abb47e",
       "style": "IPY_MODEL_b1dccd6731cd4de48602e1043e081aff",
       "value": " 82/82 [00:07&lt;00:00,  6.81it/s]"
      }
     },
     "d2a6168b715f4b04b6f3013e8442a7e6": {
      "model_module": "@jupyter-widgets/controls",
      "model_module_version": "1.5.0",
      "model_name": "HTMLModel",
      "state": {
       "layout": "IPY_MODEL_f33098a069a94bcfb6982f393a0d8ad9",
       "style": "IPY_MODEL_4dad0df8c9d34587a7b6f0cdc2afc156",
       "value": "100%"
      }
     },
     "d2fe877419234ca6a7bcc860b0fbd425": {
      "model_module": "@jupyter-widgets/base",
      "model_module_version": "1.2.0",
      "model_name": "LayoutModel",
      "state": {}
     },
     "d3149a557a3b4b19a777d5ce5683d217": {
      "model_module": "@jupyter-widgets/base",
      "model_module_version": "1.2.0",
      "model_name": "LayoutModel",
      "state": {}
     },
     "d3afeaa97c6d4fe683f0d70cba260845": {
      "model_module": "@jupyter-widgets/base",
      "model_module_version": "1.2.0",
      "model_name": "LayoutModel",
      "state": {}
     },
     "d3e0358ba6a547fca02433486158a9f6": {
      "model_module": "@jupyter-widgets/controls",
      "model_module_version": "1.5.0",
      "model_name": "ProgressStyleModel",
      "state": {
       "description_width": ""
      }
     },
     "d415e63d75554a28af5856fca83c73d8": {
      "model_module": "@jupyter-widgets/controls",
      "model_module_version": "1.5.0",
      "model_name": "FloatProgressModel",
      "state": {
       "bar_style": "success",
       "layout": "IPY_MODEL_04d05515091544319682b91be468ddcf",
       "max": 44,
       "style": "IPY_MODEL_7136bb9d141f49ada84c4a1020ff8125",
       "value": 44
      }
     },
     "d435e41030e748bd8443704657ad9855": {
      "model_module": "@jupyter-widgets/base",
      "model_module_version": "1.2.0",
      "model_name": "LayoutModel",
      "state": {}
     },
     "d44ccb369d464d41a06321708d24f49a": {
      "model_module": "@jupyter-widgets/controls",
      "model_module_version": "1.5.0",
      "model_name": "HTMLModel",
      "state": {
       "layout": "IPY_MODEL_5761e8f05f92485b9a6d9d643d720c48",
       "style": "IPY_MODEL_3ffb6d187e8841468d8d01a3f4af700a",
       "value": "100%"
      }
     },
     "d458e40972404078b71c4c52f5598709": {
      "model_module": "@jupyter-widgets/base",
      "model_module_version": "1.2.0",
      "model_name": "LayoutModel",
      "state": {}
     },
     "d57122ae4f2b4271acab19d288c22ee2": {
      "model_module": "@jupyter-widgets/controls",
      "model_module_version": "1.5.0",
      "model_name": "HTMLModel",
      "state": {
       "layout": "IPY_MODEL_4b80c9feb6de4091b6e41a959a2f246d",
       "style": "IPY_MODEL_a9592202295147078de1fbfb8632a7e6",
       "value": "100%"
      }
     },
     "d5f85448555a4b2390fff93cee40c476": {
      "model_module": "@jupyter-widgets/controls",
      "model_module_version": "1.5.0",
      "model_name": "DescriptionStyleModel",
      "state": {
       "description_width": ""
      }
     },
     "d61a62e1bfda46f393fdbdfb49b034f9": {
      "model_module": "@jupyter-widgets/base",
      "model_module_version": "1.2.0",
      "model_name": "LayoutModel",
      "state": {}
     },
     "d63db24024f841bfa7693b6027569a35": {
      "model_module": "@jupyter-widgets/controls",
      "model_module_version": "1.5.0",
      "model_name": "DescriptionStyleModel",
      "state": {
       "description_width": ""
      }
     },
     "d647e541e37e4b9181450768dea9f452": {
      "model_module": "@jupyter-widgets/controls",
      "model_module_version": "1.5.0",
      "model_name": "DescriptionStyleModel",
      "state": {
       "description_width": ""
      }
     },
     "d656dd6b72d84e65aa81dc2f32985e71": {
      "model_module": "@jupyter-widgets/base",
      "model_module_version": "1.2.0",
      "model_name": "LayoutModel",
      "state": {}
     },
     "d6673f06e8184a80940e5d7f30ee2aed": {
      "model_module": "@jupyter-widgets/controls",
      "model_module_version": "1.5.0",
      "model_name": "HBoxModel",
      "state": {
       "children": [
        "IPY_MODEL_552fbff773f947e5a85d9107c4527e5a",
        "IPY_MODEL_229308bc465743edb30bd4dc5ca20ba1",
        "IPY_MODEL_f5dbc5cb5523416d9ad2be0558ea3b40"
       ],
       "layout": "IPY_MODEL_074805a7dea648a1af74853ca85cf1c4"
      }
     },
     "d695cac685a8442787767ef2fb59e882": {
      "model_module": "@jupyter-widgets/controls",
      "model_module_version": "1.5.0",
      "model_name": "HBoxModel",
      "state": {
       "children": [
        "IPY_MODEL_3c909a03de9143b5aea7c271cc84e116",
        "IPY_MODEL_5252fbd861644ff6a7d6cd0f14d99895",
        "IPY_MODEL_0fc991ea7b7449bdb2356194e4c9dfd8"
       ],
       "layout": "IPY_MODEL_f59df19e13d143e18f201103754ac394"
      }
     },
     "d6e0bc0aec854014be69be6f53975a71": {
      "model_module": "@jupyter-widgets/controls",
      "model_module_version": "1.5.0",
      "model_name": "HTMLModel",
      "state": {
       "layout": "IPY_MODEL_6b672e4b97074ec38761ddf86e865289",
       "style": "IPY_MODEL_9a691b187f794818a9722e12e2104d45",
       "value": " 72/72 [00:03&lt;00:00, 13.62it/s]"
      }
     },
     "d70e043699ff4b50852b461a03ee4e83": {
      "model_module": "@jupyter-widgets/base",
      "model_module_version": "1.2.0",
      "model_name": "LayoutModel",
      "state": {}
     },
     "d7258e25ea6c483da3e5d901c043082a": {
      "model_module": "@jupyter-widgets/base",
      "model_module_version": "1.2.0",
      "model_name": "LayoutModel",
      "state": {}
     },
     "d736015de6c04b8b89e7913fc7bb32c0": {
      "model_module": "@jupyter-widgets/controls",
      "model_module_version": "1.5.0",
      "model_name": "HTMLModel",
      "state": {
       "layout": "IPY_MODEL_8d71719bc8864d52b8b5bfd7352d8d3b",
       "style": "IPY_MODEL_469cf411a0f64646a2d1167304c34e7a",
       "value": "100%"
      }
     },
     "d79c3fc106b746359a7f8c60095213b3": {
      "model_module": "@jupyter-widgets/base",
      "model_module_version": "1.2.0",
      "model_name": "LayoutModel",
      "state": {}
     },
     "d80b0a92edb8446492479f37d30da909": {
      "model_module": "@jupyter-widgets/controls",
      "model_module_version": "1.5.0",
      "model_name": "ProgressStyleModel",
      "state": {
       "description_width": ""
      }
     },
     "d81f4fedad004569b09f9883c41b5e6a": {
      "model_module": "@jupyter-widgets/controls",
      "model_module_version": "1.5.0",
      "model_name": "FloatProgressModel",
      "state": {
       "bar_style": "success",
       "layout": "IPY_MODEL_bbedee7815e342ddbdbd748de5de6ae4",
       "style": "IPY_MODEL_7a1d47178e3449f0a2392321d1a2c4ac",
       "value": 100
      }
     },
     "d8884c90d656497ba5738cb88c6c1a3c": {
      "model_module": "@jupyter-widgets/controls",
      "model_module_version": "1.5.0",
      "model_name": "FloatProgressModel",
      "state": {
       "bar_style": "success",
       "layout": "IPY_MODEL_25aef93cecbf458999b1e04db7798347",
       "max": 84,
       "style": "IPY_MODEL_3d699ee77a244bcb81a5710128fc16d4",
       "value": 84
      }
     },
     "d89f7cadceab48bdba3b24fb53bff636": {
      "model_module": "@jupyter-widgets/base",
      "model_module_version": "1.2.0",
      "model_name": "LayoutModel",
      "state": {}
     },
     "d8c7e5b66e2e44deb1eb040aa0ded231": {
      "model_module": "@jupyter-widgets/controls",
      "model_module_version": "1.5.0",
      "model_name": "HBoxModel",
      "state": {
       "children": [
        "IPY_MODEL_9fae7c3eb5934f2cb84ef822e21f953d",
        "IPY_MODEL_6e6f83d6e8754878bc657fa0cfdf4f73",
        "IPY_MODEL_96ee6b2dfd2f47f782a9ff4906907e48"
       ],
       "layout": "IPY_MODEL_25b9be95efb849f088e54b70fcc6ad99"
      }
     },
     "d96206ca69ed45c09d909c2b99c5da99": {
      "model_module": "@jupyter-widgets/controls",
      "model_module_version": "1.5.0",
      "model_name": "ProgressStyleModel",
      "state": {
       "description_width": ""
      }
     },
     "d977e84a65a4417bb5af3bf252f44589": {
      "model_module": "@jupyter-widgets/controls",
      "model_module_version": "1.5.0",
      "model_name": "DescriptionStyleModel",
      "state": {
       "description_width": ""
      }
     },
     "d97d9b0517aa4d53a7d12fdc51c66d86": {
      "model_module": "@jupyter-widgets/base",
      "model_module_version": "1.2.0",
      "model_name": "LayoutModel",
      "state": {}
     },
     "d99a7ac3d44f442dac0519cefe79383a": {
      "model_module": "@jupyter-widgets/controls",
      "model_module_version": "1.5.0",
      "model_name": "DescriptionStyleModel",
      "state": {
       "description_width": ""
      }
     },
     "d9d922fd59a141fa90b05d4490263a3d": {
      "model_module": "@jupyter-widgets/controls",
      "model_module_version": "1.5.0",
      "model_name": "HTMLModel",
      "state": {
       "layout": "IPY_MODEL_9812000dce2d4123b44be9f4ad89b49f",
       "style": "IPY_MODEL_2b80e069563443b7b1d898c87f5dd4c3",
       "value": "100%"
      }
     },
     "da1106f52e62448d9973dce051a75cdc": {
      "model_module": "@jupyter-widgets/controls",
      "model_module_version": "1.5.0",
      "model_name": "HBoxModel",
      "state": {
       "children": [
        "IPY_MODEL_2b3f30addfb24ee18d6c8381a2cc2bd3",
        "IPY_MODEL_dea026a0d07b49999dd8af6e9504982f",
        "IPY_MODEL_7e3c798986cc445da0195b14322633ec"
       ],
       "layout": "IPY_MODEL_a99e4fac17e14b32a1f634145afe5ffc"
      }
     },
     "da8382626ed546b1a52b30e2d26b376a": {
      "model_module": "@jupyter-widgets/base",
      "model_module_version": "1.2.0",
      "model_name": "LayoutModel",
      "state": {}
     },
     "dab1e954a5df4471b1b5b3bd7a9ab846": {
      "model_module": "@jupyter-widgets/controls",
      "model_module_version": "1.5.0",
      "model_name": "HBoxModel",
      "state": {
       "children": [
        "IPY_MODEL_db1cbf5b5bfd42aab1f10f3dec091906",
        "IPY_MODEL_49a3b56700f141e0841d8437a13d68c7",
        "IPY_MODEL_48440fd9f7ee4295978a47ed2ed2fa61"
       ],
       "layout": "IPY_MODEL_95a45001142b44c9b37f0eee9d0f8a55"
      }
     },
     "dab97f90c9cb43d1bdc7dfbc586850e5": {
      "model_module": "@jupyter-widgets/base",
      "model_module_version": "1.2.0",
      "model_name": "LayoutModel",
      "state": {}
     },
     "dae67cb29829419697febedbf8a3f70f": {
      "model_module": "@jupyter-widgets/base",
      "model_module_version": "1.2.0",
      "model_name": "LayoutModel",
      "state": {}
     },
     "daf49e98c4484fbda2015638f218ca74": {
      "model_module": "@jupyter-widgets/controls",
      "model_module_version": "1.5.0",
      "model_name": "HTMLModel",
      "state": {
       "layout": "IPY_MODEL_98c6469a1d65412a9efa1f8ced25f334",
       "style": "IPY_MODEL_1229599288d8484e9bc8a1bb6953d68b",
       "value": "100%"
      }
     },
     "db0cda80d3fa4972834186c2494eaa0f": {
      "model_module": "@jupyter-widgets/base",
      "model_module_version": "1.2.0",
      "model_name": "LayoutModel",
      "state": {}
     },
     "db1cbf5b5bfd42aab1f10f3dec091906": {
      "model_module": "@jupyter-widgets/controls",
      "model_module_version": "1.5.0",
      "model_name": "HTMLModel",
      "state": {
       "layout": "IPY_MODEL_2e258f7e15c94c7e85e778c3fca4b7af",
       "style": "IPY_MODEL_6e9ef415a9b14e49ab703cfa3fbc97fa",
       "value": "100%"
      }
     },
     "db231e0f90f74d9c980bb3aa31e948c0": {
      "model_module": "@jupyter-widgets/base",
      "model_module_version": "1.2.0",
      "model_name": "LayoutModel",
      "state": {}
     },
     "db466173d24f4a53a9990fd9cf1b5217": {
      "model_module": "@jupyter-widgets/controls",
      "model_module_version": "1.5.0",
      "model_name": "DescriptionStyleModel",
      "state": {
       "description_width": ""
      }
     },
     "dba5688d75264425a7e92dbf0ae58a0f": {
      "model_module": "@jupyter-widgets/controls",
      "model_module_version": "1.5.0",
      "model_name": "HBoxModel",
      "state": {
       "children": [
        "IPY_MODEL_bba53da450ba4043805b2073d295bda8",
        "IPY_MODEL_57c879c45a1141f39be50813fad966cf",
        "IPY_MODEL_5dc4b20620194710b1b85b632c5ff560"
       ],
       "layout": "IPY_MODEL_3edac915dc3f479cb339210ce075d743"
      }
     },
     "dba6824ab9f84506b73a0386c194565e": {
      "model_module": "@jupyter-widgets/controls",
      "model_module_version": "1.5.0",
      "model_name": "HTMLModel",
      "state": {
       "layout": "IPY_MODEL_83a5cbb2bea9453cb5717b69627ac23d",
       "style": "IPY_MODEL_eb02cc6c69d94581b1d8a724fda528c9",
       "value": "100%"
      }
     },
     "dbb9d2d68cc840a085e061b37f091b5e": {
      "model_module": "@jupyter-widgets/base",
      "model_module_version": "1.2.0",
      "model_name": "LayoutModel",
      "state": {}
     },
     "dbe48814da38429ca5369d3f40c9c793": {
      "model_module": "@jupyter-widgets/base",
      "model_module_version": "1.2.0",
      "model_name": "LayoutModel",
      "state": {}
     },
     "dbe5de95b7424f63b6bb2db8847262d8": {
      "model_module": "@jupyter-widgets/controls",
      "model_module_version": "1.5.0",
      "model_name": "HBoxModel",
      "state": {
       "children": [
        "IPY_MODEL_f29da511cb34467eb624c45768e41453",
        "IPY_MODEL_847579613c86424aa68514697bd67ed2",
        "IPY_MODEL_25e7880a937a47d59a28ed1394d1ed27"
       ],
       "layout": "IPY_MODEL_528b2f8763a84bba8d066cdb818a8464"
      }
     },
     "dc2440fbcfbb41a09fea74f20b93dbc7": {
      "model_module": "@jupyter-widgets/base",
      "model_module_version": "1.2.0",
      "model_name": "LayoutModel",
      "state": {}
     },
     "dce322958ec943c589b53a23261783bf": {
      "model_module": "@jupyter-widgets/controls",
      "model_module_version": "1.5.0",
      "model_name": "FloatProgressModel",
      "state": {
       "bar_style": "success",
       "layout": "IPY_MODEL_444832ab358c4efdbd624063970b5b00",
       "max": 80,
       "style": "IPY_MODEL_7efb7c87419d4f338c96f072a407344b",
       "value": 80
      }
     },
     "dd572a9ca8e34538a94d02ef082aa92f": {
      "model_module": "@jupyter-widgets/controls",
      "model_module_version": "1.5.0",
      "model_name": "ProgressStyleModel",
      "state": {
       "description_width": ""
      }
     },
     "dd80e9ddfcfd4d4ca7cb4125c428b64b": {
      "model_module": "@jupyter-widgets/controls",
      "model_module_version": "1.5.0",
      "model_name": "HTMLModel",
      "state": {
       "layout": "IPY_MODEL_1bbcb68df9c649c6b1ccf93070f5c384",
       "style": "IPY_MODEL_9215c6f6bd1847dbab6d1630b41b7f04",
       "value": "100%"
      }
     },
     "ddb7ea0d1d9347eda174e1d25ba2cc22": {
      "model_module": "@jupyter-widgets/base",
      "model_module_version": "1.2.0",
      "model_name": "LayoutModel",
      "state": {}
     },
     "dde94addc4d74862af7650e1cbad8187": {
      "model_module": "@jupyter-widgets/controls",
      "model_module_version": "1.5.0",
      "model_name": "ProgressStyleModel",
      "state": {
       "description_width": ""
      }
     },
     "dea026a0d07b49999dd8af6e9504982f": {
      "model_module": "@jupyter-widgets/controls",
      "model_module_version": "1.5.0",
      "model_name": "FloatProgressModel",
      "state": {
       "bar_style": "success",
       "layout": "IPY_MODEL_752117aba89840dd81b92b7c0c162338",
       "max": 72,
       "style": "IPY_MODEL_84c3aeaacf764ae5b7335f493c7beba4",
       "value": 72
      }
     },
     "deab7abba8fa47e4a935bdee91dfacc6": {
      "model_module": "@jupyter-widgets/controls",
      "model_module_version": "1.5.0",
      "model_name": "HTMLModel",
      "state": {
       "layout": "IPY_MODEL_a790344fe5e3443c8fbe70a3b29c34af",
       "style": "IPY_MODEL_bd9c65a369c14b0ea3aba8bfa0546be3",
       "value": " 70/70 [00:04&lt;00:00,  7.63it/s]"
      }
     },
     "dec2d355864240e390176fe6fb3fc2c5": {
      "model_module": "@jupyter-widgets/controls",
      "model_module_version": "1.5.0",
      "model_name": "HTMLModel",
      "state": {
       "layout": "IPY_MODEL_f340921752ce4d04b44c0d03606756b6",
       "style": "IPY_MODEL_8bbea39c6c1341d79c833e76a34b6506",
       "value": " 82/82 [00:04&lt;00:00, 12.87it/s]"
      }
     },
     "dedebc3e64224f6b956b637f491f9c9b": {
      "model_module": "@jupyter-widgets/controls",
      "model_module_version": "1.5.0",
      "model_name": "ProgressStyleModel",
      "state": {
       "description_width": ""
      }
     },
     "deed69e189f4451abe9a0fd75647e3ed": {
      "model_module": "@jupyter-widgets/controls",
      "model_module_version": "1.5.0",
      "model_name": "FloatProgressModel",
      "state": {
       "bar_style": "success",
       "layout": "IPY_MODEL_989bc062b55c47799043ee5e15266480",
       "max": 72,
       "style": "IPY_MODEL_9a5a6c0e3c4c45ae999f4566acc2ad63",
       "value": 72
      }
     },
     "df535e5a1e9944f9845caa81cf5954f5": {
      "model_module": "@jupyter-widgets/base",
      "model_module_version": "1.2.0",
      "model_name": "LayoutModel",
      "state": {}
     },
     "dfa61b1afc8c4383b055969dcef4b41c": {
      "model_module": "@jupyter-widgets/base",
      "model_module_version": "1.2.0",
      "model_name": "LayoutModel",
      "state": {}
     },
     "dfb00d41e48f4d6196eecb91249d480f": {
      "model_module": "@jupyter-widgets/controls",
      "model_module_version": "1.5.0",
      "model_name": "HBoxModel",
      "state": {
       "children": [
        "IPY_MODEL_7fab3a600194445ab257ae78139991b3",
        "IPY_MODEL_f450524717dd4248817e8b25b16fbcb9",
        "IPY_MODEL_56032f174b5e4a21b6df107ad15bee0a"
       ],
       "layout": "IPY_MODEL_a2232629f9b04bd3b3833291fefa401d"
      }
     },
     "dfe0c5aae86f4647acba5cfd26f83fb8": {
      "model_module": "@jupyter-widgets/base",
      "model_module_version": "1.2.0",
      "model_name": "LayoutModel",
      "state": {}
     },
     "dfec5eb100e3425cabfe2457c6e7bfd0": {
      "model_module": "@jupyter-widgets/controls",
      "model_module_version": "1.5.0",
      "model_name": "ProgressStyleModel",
      "state": {
       "description_width": ""
      }
     },
     "e0657c8d7fe14c35a288187918109c64": {
      "model_module": "@jupyter-widgets/controls",
      "model_module_version": "1.5.0",
      "model_name": "HTMLModel",
      "state": {
       "layout": "IPY_MODEL_850dae0b2068498d969035fde966a014",
       "style": "IPY_MODEL_e8dc7fcfdcd443d59075bd6ad4415fad",
       "value": " 86/86 [00:06&lt;00:00,  8.33it/s]"
      }
     },
     "e07379c1e1af406cb34e1558a0cb701d": {
      "model_module": "@jupyter-widgets/base",
      "model_module_version": "1.2.0",
      "model_name": "LayoutModel",
      "state": {}
     },
     "e0a9182af75147c28b463f1d5a646407": {
      "model_module": "@jupyter-widgets/base",
      "model_module_version": "1.2.0",
      "model_name": "LayoutModel",
      "state": {}
     },
     "e0d4426864734db681de4cbe2abcc054": {
      "model_module": "@jupyter-widgets/controls",
      "model_module_version": "1.5.0",
      "model_name": "HTMLModel",
      "state": {
       "layout": "IPY_MODEL_8a2d6011533a42ecaad8891c375bf170",
       "style": "IPY_MODEL_f86e5682fd6d4289876a0d8003fd7afa",
       "value": " 84/84 [00:05&lt;00:00, 11.57it/s]"
      }
     },
     "e104c4cccf9e47cdab004d169714c702": {
      "model_module": "@jupyter-widgets/base",
      "model_module_version": "1.2.0",
      "model_name": "LayoutModel",
      "state": {}
     },
     "e11508625383407f89872bd02ce01a83": {
      "model_module": "@jupyter-widgets/controls",
      "model_module_version": "1.5.0",
      "model_name": "HBoxModel",
      "state": {
       "children": [
        "IPY_MODEL_a14b71807e8f4c7ebf34456036555003",
        "IPY_MODEL_7a6e460894b047cfbd7be46045050e71",
        "IPY_MODEL_8093201949ee44679b2ce390deb25dbb"
       ],
       "layout": "IPY_MODEL_5525dd95edf442ceaeabb3cd72ae8ff2"
      }
     },
     "e157a2913e984a089ed731562b711e5f": {
      "model_module": "@jupyter-widgets/base",
      "model_module_version": "1.2.0",
      "model_name": "LayoutModel",
      "state": {}
     },
     "e208a432c26e4b7ca7459dbbb886c068": {
      "model_module": "@jupyter-widgets/base",
      "model_module_version": "1.2.0",
      "model_name": "LayoutModel",
      "state": {}
     },
     "e2112454853d43b19295150319d89190": {
      "model_module": "@jupyter-widgets/controls",
      "model_module_version": "1.5.0",
      "model_name": "HTMLModel",
      "state": {
       "layout": "IPY_MODEL_8c52aecc9839406bbace694b01294f68",
       "style": "IPY_MODEL_64ad99efccbe4a44a9b1100c7c9f3197",
       "value": " 94/94 [00:36&lt;00:00,  1.60it/s]"
      }
     },
     "e22643d1cd2748138bf16ed8a11839ca": {
      "model_module": "@jupyter-widgets/controls",
      "model_module_version": "1.5.0",
      "model_name": "HBoxModel",
      "state": {
       "children": [
        "IPY_MODEL_d44ccb369d464d41a06321708d24f49a",
        "IPY_MODEL_e4d3c913ec684ee2b41f8d38c95bc09d",
        "IPY_MODEL_4ce2e1889f7248798ec39f28df41894c"
       ],
       "layout": "IPY_MODEL_645631696d0549c6a2d93aabf08209e2"
      }
     },
     "e27ff4597be34f1c8c5526402fe7ef71": {
      "model_module": "@jupyter-widgets/base",
      "model_module_version": "1.2.0",
      "model_name": "LayoutModel",
      "state": {}
     },
     "e28f6febdac644f98752bcbbdc6c218e": {
      "model_module": "@jupyter-widgets/controls",
      "model_module_version": "1.5.0",
      "model_name": "HTMLModel",
      "state": {
       "layout": "IPY_MODEL_331043017a1d4ca689d6a53d01b7cf7d",
       "style": "IPY_MODEL_59e8a25c28bf45feba0753b65f018a97",
       "value": "100%"
      }
     },
     "e2c616b027b243e885381c4bb95e07e8": {
      "model_module": "@jupyter-widgets/base",
      "model_module_version": "1.2.0",
      "model_name": "LayoutModel",
      "state": {}
     },
     "e314e58bf7a548bba829442db6165743": {
      "model_module": "@jupyter-widgets/base",
      "model_module_version": "1.2.0",
      "model_name": "LayoutModel",
      "state": {}
     },
     "e357c89268cf4271ad506496e17e1376": {
      "model_module": "@jupyter-widgets/controls",
      "model_module_version": "1.5.0",
      "model_name": "HTMLModel",
      "state": {
       "layout": "IPY_MODEL_a388fbfe3c6448379c70be1f1b24794f",
       "style": "IPY_MODEL_3b4e14d5e2f94cc093d98b9db59b1f4c",
       "value": "100%"
      }
     },
     "e362bd33b94d49fbb4bfae9fb7073c0a": {
      "model_module": "@jupyter-widgets/controls",
      "model_module_version": "1.5.0",
      "model_name": "HBoxModel",
      "state": {
       "children": [
        "IPY_MODEL_ba0b2cca6fa444c08e067ccab95ef76e",
        "IPY_MODEL_45ee0c2a29dc4f479b6bee0825d4aacf",
        "IPY_MODEL_9daeec9202e9458ab2f03afb3a182f8c"
       ],
       "layout": "IPY_MODEL_6daaa557ba5a43e7a2a74a22800202ca"
      }
     },
     "e38c3b72eebc4944aae993e0101eb7fe": {
      "model_module": "@jupyter-widgets/base",
      "model_module_version": "1.2.0",
      "model_name": "LayoutModel",
      "state": {}
     },
     "e39777b0fcd5460aab2eb08c06bfbf0f": {
      "model_module": "@jupyter-widgets/base",
      "model_module_version": "1.2.0",
      "model_name": "LayoutModel",
      "state": {}
     },
     "e3c5211b220d4718b037d33c53649747": {
      "model_module": "@jupyter-widgets/base",
      "model_module_version": "1.2.0",
      "model_name": "LayoutModel",
      "state": {}
     },
     "e3f9866538624e868c3214d73d09927c": {
      "model_module": "@jupyter-widgets/controls",
      "model_module_version": "1.5.0",
      "model_name": "DescriptionStyleModel",
      "state": {
       "description_width": ""
      }
     },
     "e4237a4c9afd4e18b8203efba34ffc7f": {
      "model_module": "@jupyter-widgets/base",
      "model_module_version": "1.2.0",
      "model_name": "LayoutModel",
      "state": {}
     },
     "e43aad685e6a4643b3da062aec7864e3": {
      "model_module": "@jupyter-widgets/controls",
      "model_module_version": "1.5.0",
      "model_name": "FloatProgressModel",
      "state": {
       "bar_style": "success",
       "layout": "IPY_MODEL_c8d56d6f65b546a3a9506dfecfad8d0c",
       "max": 88,
       "style": "IPY_MODEL_3dfaaf82cc2d4a5cba8bd87060bf2cdc",
       "value": 88
      }
     },
     "e446fad8faf643dcb72bda98e18eafdb": {
      "model_module": "@jupyter-widgets/base",
      "model_module_version": "1.2.0",
      "model_name": "LayoutModel",
      "state": {}
     },
     "e46e95f6fee14bacb6a87e519bf68125": {
      "model_module": "@jupyter-widgets/base",
      "model_module_version": "1.2.0",
      "model_name": "LayoutModel",
      "state": {}
     },
     "e49238d967974ec88fd10fa3b0d171b2": {
      "model_module": "@jupyter-widgets/base",
      "model_module_version": "1.2.0",
      "model_name": "LayoutModel",
      "state": {}
     },
     "e4a94cf56dc04888946900c8e005ea64": {
      "model_module": "@jupyter-widgets/controls",
      "model_module_version": "1.5.0",
      "model_name": "DescriptionStyleModel",
      "state": {
       "description_width": ""
      }
     },
     "e4d3c913ec684ee2b41f8d38c95bc09d": {
      "model_module": "@jupyter-widgets/controls",
      "model_module_version": "1.5.0",
      "model_name": "FloatProgressModel",
      "state": {
       "bar_style": "success",
       "layout": "IPY_MODEL_96d48a9927464c9bafcdd010d251a799",
       "max": 74,
       "style": "IPY_MODEL_d23b2c4689614f44a9f04b5e578a37b5",
       "value": 74
      }
     },
     "e5122a01c7c54b4bb18189d12ed002e1": {
      "model_module": "@jupyter-widgets/controls",
      "model_module_version": "1.5.0",
      "model_name": "HTMLModel",
      "state": {
       "layout": "IPY_MODEL_6e08c25e95c845f198175c948926cef1",
       "style": "IPY_MODEL_a2fb997dc62740cab6af66b8def0395b",
       "value": " 72/72 [01:00&lt;00:00,  2.98s/it]"
      }
     },
     "e514060659084eb4a892943d2746b094": {
      "model_module": "@jupyter-widgets/controls",
      "model_module_version": "1.5.0",
      "model_name": "ProgressStyleModel",
      "state": {
       "description_width": ""
      }
     },
     "e59fa388b98b4b3ca53dbc61464eb1c9": {
      "model_module": "@jupyter-widgets/base",
      "model_module_version": "1.2.0",
      "model_name": "LayoutModel",
      "state": {}
     },
     "e5a075a25b2d493c90ba8e07e12cb7ae": {
      "model_module": "@jupyter-widgets/controls",
      "model_module_version": "1.5.0",
      "model_name": "HBoxModel",
      "state": {
       "children": [
        "IPY_MODEL_f031c1df4cd942ef866e1c9eeee6c9dc",
        "IPY_MODEL_687d1a91e4f34c349193ef13efd1e81e",
        "IPY_MODEL_91e83e787003498ea8e1ac3b08ab1a4f"
       ],
       "layout": "IPY_MODEL_881019dabb4b4461abc15a57b385c9ff"
      }
     },
     "e5ba5151053b4a5583aefdaef5fe06fa": {
      "model_module": "@jupyter-widgets/controls",
      "model_module_version": "1.5.0",
      "model_name": "HBoxModel",
      "state": {
       "children": [
        "IPY_MODEL_1196130a451d45149cb75cbaa6a4d043",
        "IPY_MODEL_33c215b0e7fb4ea19f4af102e5cd8377",
        "IPY_MODEL_d6e0bc0aec854014be69be6f53975a71"
       ],
       "layout": "IPY_MODEL_b0a9035f9e02452a9de7a6daeef62f8b"
      }
     },
     "e5f2755b09b54f4889231782d10da6dc": {
      "model_module": "@jupyter-widgets/base",
      "model_module_version": "1.2.0",
      "model_name": "LayoutModel",
      "state": {}
     },
     "e64eb3cf56f14e7e95e32e7bcf739b39": {
      "model_module": "@jupyter-widgets/base",
      "model_module_version": "1.2.0",
      "model_name": "LayoutModel",
      "state": {}
     },
     "e66bccba6d8341f5b5235e69f0071b94": {
      "model_module": "@jupyter-widgets/controls",
      "model_module_version": "1.5.0",
      "model_name": "ProgressStyleModel",
      "state": {
       "description_width": ""
      }
     },
     "e6e930854ea84b20b6333c8b5e87d29a": {
      "model_module": "@jupyter-widgets/base",
      "model_module_version": "1.2.0",
      "model_name": "LayoutModel",
      "state": {}
     },
     "e7340073efb64267a76bbfd691e69f8b": {
      "model_module": "@jupyter-widgets/base",
      "model_module_version": "1.2.0",
      "model_name": "LayoutModel",
      "state": {}
     },
     "e75afdd1d00d475a9b49a72dcbda292f": {
      "model_module": "@jupyter-widgets/base",
      "model_module_version": "1.2.0",
      "model_name": "LayoutModel",
      "state": {}
     },
     "e77077e217f244fb9428cee7e6dd63d9": {
      "model_module": "@jupyter-widgets/controls",
      "model_module_version": "1.5.0",
      "model_name": "FloatProgressModel",
      "state": {
       "bar_style": "success",
       "layout": "IPY_MODEL_fd83009a77b74433afe33f5eab85059d",
       "max": 76,
       "style": "IPY_MODEL_907b5a310de740f08bc1df8f022ad9ef",
       "value": 76
      }
     },
     "e77a975024bb40c6ada74d3ccb2b6499": {
      "model_module": "@jupyter-widgets/controls",
      "model_module_version": "1.5.0",
      "model_name": "HTMLModel",
      "state": {
       "layout": "IPY_MODEL_476d87eff4ab4343a9fb6ca447ec5557",
       "style": "IPY_MODEL_a22ff1d624d945feb85cc0d8f998e3dc",
       "value": "100%"
      }
     },
     "e7d75761ebf54b69940a6b4639974635": {
      "model_module": "@jupyter-widgets/controls",
      "model_module_version": "1.5.0",
      "model_name": "FloatProgressModel",
      "state": {
       "bar_style": "success",
       "layout": "IPY_MODEL_3496ff1fbbc844ff88e453bcd25336c2",
       "max": 72,
       "style": "IPY_MODEL_e66bccba6d8341f5b5235e69f0071b94",
       "value": 72
      }
     },
     "e7f46e51231b439ba4e902c4afea3a85": {
      "model_module": "@jupyter-widgets/controls",
      "model_module_version": "1.5.0",
      "model_name": "DescriptionStyleModel",
      "state": {
       "description_width": ""
      }
     },
     "e875049c83f64c6b94c21c443e83d042": {
      "model_module": "@jupyter-widgets/base",
      "model_module_version": "1.2.0",
      "model_name": "LayoutModel",
      "state": {}
     },
     "e8db9ae66888445c975371869c6f8102": {
      "model_module": "@jupyter-widgets/controls",
      "model_module_version": "1.5.0",
      "model_name": "DescriptionStyleModel",
      "state": {
       "description_width": ""
      }
     },
     "e8dc7fcfdcd443d59075bd6ad4415fad": {
      "model_module": "@jupyter-widgets/controls",
      "model_module_version": "1.5.0",
      "model_name": "DescriptionStyleModel",
      "state": {
       "description_width": ""
      }
     },
     "e8f9919f46d44eaabc58765512813f9b": {
      "model_module": "@jupyter-widgets/controls",
      "model_module_version": "1.5.0",
      "model_name": "DescriptionStyleModel",
      "state": {
       "description_width": ""
      }
     },
     "e907403ad3524797a0f17759420d5e00": {
      "model_module": "@jupyter-widgets/controls",
      "model_module_version": "1.5.0",
      "model_name": "ProgressStyleModel",
      "state": {
       "description_width": ""
      }
     },
     "e92b5d7383394510bf6785525ba9fe53": {
      "model_module": "@jupyter-widgets/base",
      "model_module_version": "1.2.0",
      "model_name": "LayoutModel",
      "state": {}
     },
     "e96f150e8dad424e8fd0793f4473b1c9": {
      "model_module": "@jupyter-widgets/controls",
      "model_module_version": "1.5.0",
      "model_name": "DescriptionStyleModel",
      "state": {
       "description_width": ""
      }
     },
     "e987cbc399d44499bfa8c9632b481357": {
      "model_module": "@jupyter-widgets/controls",
      "model_module_version": "1.5.0",
      "model_name": "FloatProgressModel",
      "state": {
       "bar_style": "success",
       "layout": "IPY_MODEL_c373f2d954ec41d3928278844a5ae692",
       "max": 80,
       "style": "IPY_MODEL_24b804e072a248719cddedb7162f83c6",
       "value": 80
      }
     },
     "e98a357e8b334149b37fc40077ae7305": {
      "model_module": "@jupyter-widgets/base",
      "model_module_version": "1.2.0",
      "model_name": "LayoutModel",
      "state": {}
     },
     "e9af2a9915144785a85047b6882c6fd6": {
      "model_module": "@jupyter-widgets/controls",
      "model_module_version": "1.5.0",
      "model_name": "HTMLModel",
      "state": {
       "layout": "IPY_MODEL_6be40e3068484b49b47797669e17e62e",
       "style": "IPY_MODEL_7301ddbfcb614dc78dd7e07539eef7c1",
       "value": " 44/44 [00:16&lt;00:00,  1.66it/s]"
      }
     },
     "e9b5da9c18f94e4ab8c07e6e5cd7484c": {
      "model_module": "@jupyter-widgets/controls",
      "model_module_version": "1.5.0",
      "model_name": "DescriptionStyleModel",
      "state": {
       "description_width": ""
      }
     },
     "e9fa30edb94e4a1fab78f6a95bd89943": {
      "model_module": "@jupyter-widgets/base",
      "model_module_version": "1.2.0",
      "model_name": "LayoutModel",
      "state": {}
     },
     "ea05e46fa16148a7851c4dc167a881ab": {
      "model_module": "@jupyter-widgets/base",
      "model_module_version": "1.2.0",
      "model_name": "LayoutModel",
      "state": {}
     },
     "ea656e7c391f4bcd82134ef0dd595358": {
      "model_module": "@jupyter-widgets/controls",
      "model_module_version": "1.5.0",
      "model_name": "HBoxModel",
      "state": {
       "children": [
        "IPY_MODEL_7c83030d3a5b42229ee5a8d84600d98a",
        "IPY_MODEL_d81f4fedad004569b09f9883c41b5e6a",
        "IPY_MODEL_abeccf32558444ffb4a6a4a19a0bc257"
       ],
       "layout": "IPY_MODEL_a72e94a959204d2cbe3332b99ae5f641"
      }
     },
     "eaf62448f29e44fc9e773cedc82af2ce": {
      "model_module": "@jupyter-widgets/controls",
      "model_module_version": "1.5.0",
      "model_name": "HTMLModel",
      "state": {
       "layout": "IPY_MODEL_ddb7ea0d1d9347eda174e1d25ba2cc22",
       "style": "IPY_MODEL_fd45ebd4867342d08f110fed25026f72",
       "value": " 55/55 [00:03&lt;00:00, 12.96it/s]"
      }
     },
     "eb02cc6c69d94581b1d8a724fda528c9": {
      "model_module": "@jupyter-widgets/controls",
      "model_module_version": "1.5.0",
      "model_name": "DescriptionStyleModel",
      "state": {
       "description_width": ""
      }
     },
     "ebcb6862a69f49c1a0bbafcbb8185abb": {
      "model_module": "@jupyter-widgets/controls",
      "model_module_version": "1.5.0",
      "model_name": "DescriptionStyleModel",
      "state": {
       "description_width": ""
      }
     },
     "ebe398cd567f434e9c6d650ac4b59ec7": {
      "model_module": "@jupyter-widgets/controls",
      "model_module_version": "1.5.0",
      "model_name": "DescriptionStyleModel",
      "state": {
       "description_width": ""
      }
     },
     "ebe8982a61b74db1801c427cea9c64e6": {
      "model_module": "@jupyter-widgets/controls",
      "model_module_version": "1.5.0",
      "model_name": "HTMLModel",
      "state": {
       "layout": "IPY_MODEL_78e7721df3e649088b0a4a103cddc838",
       "style": "IPY_MODEL_ab351d2bd8634bfda78de22b9f14c2d8",
       "value": " 64/64 [00:03&lt;00:00, 11.09it/s]"
      }
     },
     "ebfca54540f3469cbb197e395fc85ad6": {
      "model_module": "@jupyter-widgets/controls",
      "model_module_version": "1.5.0",
      "model_name": "ProgressStyleModel",
      "state": {
       "description_width": ""
      }
     },
     "ec90bf6617e844a6bf09eb65cd097003": {
      "model_module": "@jupyter-widgets/base",
      "model_module_version": "1.2.0",
      "model_name": "LayoutModel",
      "state": {}
     },
     "ecd2e2654e1c48aab0bbbdb3ec51f163": {
      "model_module": "@jupyter-widgets/controls",
      "model_module_version": "1.5.0",
      "model_name": "FloatProgressModel",
      "state": {
       "bar_style": "success",
       "layout": "IPY_MODEL_ced76b29005448c684a4942a1e8258b6",
       "max": 94,
       "style": "IPY_MODEL_f372ad1468f0405fabc958810eaa2978",
       "value": 94
      }
     },
     "ecf77acdcb8d4814838ebfa9605c8dc3": {
      "model_module": "@jupyter-widgets/controls",
      "model_module_version": "1.5.0",
      "model_name": "ProgressStyleModel",
      "state": {
       "description_width": ""
      }
     },
     "ed9d62eb6610427294d8b86ed3c14bbc": {
      "model_module": "@jupyter-widgets/controls",
      "model_module_version": "1.5.0",
      "model_name": "FloatProgressModel",
      "state": {
       "bar_style": "success",
       "layout": "IPY_MODEL_5470062e961e4f9897523001c29a5e12",
       "max": 88,
       "style": "IPY_MODEL_fe2b8b2a35e24b16b914418f1181b3cd",
       "value": 88
      }
     },
     "edc4ed5663c747b9b55f70c26c27d6c0": {
      "model_module": "@jupyter-widgets/controls",
      "model_module_version": "1.5.0",
      "model_name": "HTMLModel",
      "state": {
       "layout": "IPY_MODEL_ad80c27809b24770badaf42d4521dc6f",
       "style": "IPY_MODEL_9a618161335b4dc9a6f417f6ce9876da",
       "value": " 68/68 [00:04&lt;00:00, 12.35it/s]"
      }
     },
     "ee3e3c682edb468c8a2357d57c65d166": {
      "model_module": "@jupyter-widgets/controls",
      "model_module_version": "1.5.0",
      "model_name": "HBoxModel",
      "state": {
       "children": [
        "IPY_MODEL_25e4c5c14f7e444fb0ab8942796ae5ec",
        "IPY_MODEL_86553b139b3a41da8dfb985aff760482",
        "IPY_MODEL_77e310b314264345ab64afac1e047c44"
       ],
       "layout": "IPY_MODEL_bbc49366108f4555a62fcf32a6cdcded"
      }
     },
     "eeb0e375e39049908097c8df1efc1215": {
      "model_module": "@jupyter-widgets/controls",
      "model_module_version": "1.5.0",
      "model_name": "FloatProgressModel",
      "state": {
       "bar_style": "success",
       "layout": "IPY_MODEL_2c0e115a93e7422dbf08045f46d3d816",
       "max": 64,
       "style": "IPY_MODEL_cec49089b1ac4416bb7269216722918c",
       "value": 64
      }
     },
     "eec4a880f34545d794cf69f0fff1539a": {
      "model_module": "@jupyter-widgets/base",
      "model_module_version": "1.2.0",
      "model_name": "LayoutModel",
      "state": {}
     },
     "eed2a85a1adb4fc4a09e36bb1246da2b": {
      "model_module": "@jupyter-widgets/base",
      "model_module_version": "1.2.0",
      "model_name": "LayoutModel",
      "state": {}
     },
     "eeea15984adb4950babcbc26ef32dfd9": {
      "model_module": "@jupyter-widgets/base",
      "model_module_version": "1.2.0",
      "model_name": "LayoutModel",
      "state": {}
     },
     "ef7ae3121c10456880391f558aa64033": {
      "model_module": "@jupyter-widgets/controls",
      "model_module_version": "1.5.0",
      "model_name": "HTMLModel",
      "state": {
       "layout": "IPY_MODEL_ac1f196f10924862a626ac601905ad95",
       "style": "IPY_MODEL_ebe398cd567f434e9c6d650ac4b59ec7",
       "value": "100%"
      }
     },
     "efcd797ae6ff4f13b42d2ecebebe2e04": {
      "model_module": "@jupyter-widgets/controls",
      "model_module_version": "1.5.0",
      "model_name": "HBoxModel",
      "state": {
       "children": [
        "IPY_MODEL_5d1b23a58fc44caab69cc3b2b2516562",
        "IPY_MODEL_3af0b719084b4d17bd4aa89d6b6440a2",
        "IPY_MODEL_73be959e803d465c8545be818f4e3251"
       ],
       "layout": "IPY_MODEL_2d5672047618437f9fae4ec7fd6aadf1"
      }
     },
     "f01d3506caaf4bbeb173201c979556d6": {
      "model_module": "@jupyter-widgets/base",
      "model_module_version": "1.2.0",
      "model_name": "LayoutModel",
      "state": {}
     },
     "f031c1df4cd942ef866e1c9eeee6c9dc": {
      "model_module": "@jupyter-widgets/controls",
      "model_module_version": "1.5.0",
      "model_name": "HTMLModel",
      "state": {
       "layout": "IPY_MODEL_fae44533c3c14794af77ef70682f449d",
       "style": "IPY_MODEL_4d2faf7861ad4d4f975343e1272c090f",
       "value": "100%"
      }
     },
     "f08ea3cd055a444cad11ec86850e0681": {
      "model_module": "@jupyter-widgets/controls",
      "model_module_version": "1.5.0",
      "model_name": "HTMLModel",
      "state": {
       "layout": "IPY_MODEL_b90e05bbaca843298ef54b5291fd1206",
       "style": "IPY_MODEL_a2ec4ca3de7840bda41182577506c4f9",
       "value": "100%"
      }
     },
     "f0aa7b442b014e269ed8d246ae4b0a01": {
      "model_module": "@jupyter-widgets/controls",
      "model_module_version": "1.5.0",
      "model_name": "HBoxModel",
      "state": {
       "children": [
        "IPY_MODEL_290ac2732ee54130a35699569f07dac6",
        "IPY_MODEL_276bf5dfe10d48278265b43b4189566f",
        "IPY_MODEL_7f436e164cb243ee94eac9d1b429da19"
       ],
       "layout": "IPY_MODEL_8a438199ca14407480dd95d861efa1ae"
      }
     },
     "f0c2b0dce4ea4c559b0163afb530d373": {
      "model_module": "@jupyter-widgets/controls",
      "model_module_version": "1.5.0",
      "model_name": "HBoxModel",
      "state": {
       "children": [
        "IPY_MODEL_aef6d8f474ff44cd9a8e3435f4c394df",
        "IPY_MODEL_4c9841dd981a454eb70a56f84474cb5a",
        "IPY_MODEL_76ba23dc2bfe499b92b5c207679935ed"
       ],
       "layout": "IPY_MODEL_47c1e2edf6a74044b3b7c64e695f3af0"
      }
     },
     "f0e88cf5e48a48628104c95ebd8eda51": {
      "model_module": "@jupyter-widgets/controls",
      "model_module_version": "1.5.0",
      "model_name": "DescriptionStyleModel",
      "state": {
       "description_width": ""
      }
     },
     "f11a8f6d8d5e44d6a8d1ee301d77904a": {
      "model_module": "@jupyter-widgets/controls",
      "model_module_version": "1.5.0",
      "model_name": "DescriptionStyleModel",
      "state": {
       "description_width": ""
      }
     },
     "f11d725fa4ff443084296c133185a44a": {
      "model_module": "@jupyter-widgets/controls",
      "model_module_version": "1.5.0",
      "model_name": "HBoxModel",
      "state": {
       "children": [
        "IPY_MODEL_a9a623be89a54f0887e919c1d986f658",
        "IPY_MODEL_54f71cd912404e78ada9a542d1bac633",
        "IPY_MODEL_2faf7d2213a3405ea09f84d75b4102d3"
       ],
       "layout": "IPY_MODEL_3485bcc88df046fd86ad18f03dd2ebef"
      }
     },
     "f1218c4161bf44108322d3ae08b6a403": {
      "model_module": "@jupyter-widgets/controls",
      "model_module_version": "1.5.0",
      "model_name": "HBoxModel",
      "state": {
       "children": [
        "IPY_MODEL_99d54d473bd348879b6fc596b4602019",
        "IPY_MODEL_a3d612b45453489cb019bf125fcfd010",
        "IPY_MODEL_f8282c65b5a64a9592c825840ab001a1"
       ],
       "layout": "IPY_MODEL_0d8a61761a894450b37ae2733488afd9"
      }
     },
     "f17bc822ba4b404bb02751e56772d49c": {
      "model_module": "@jupyter-widgets/base",
      "model_module_version": "1.2.0",
      "model_name": "LayoutModel",
      "state": {}
     },
     "f17c6b1bc55241dbbbed76002b46e3b1": {
      "model_module": "@jupyter-widgets/controls",
      "model_module_version": "1.5.0",
      "model_name": "ProgressStyleModel",
      "state": {
       "description_width": ""
      }
     },
     "f18cc39e9ae342dd8590b9ab9e9f9a4b": {
      "model_module": "@jupyter-widgets/base",
      "model_module_version": "1.2.0",
      "model_name": "LayoutModel",
      "state": {}
     },
     "f1aaf318ec464087b3ad6f0968142525": {
      "model_module": "@jupyter-widgets/base",
      "model_module_version": "1.2.0",
      "model_name": "LayoutModel",
      "state": {}
     },
     "f2077aef63f94700b7067752fbe018e0": {
      "model_module": "@jupyter-widgets/controls",
      "model_module_version": "1.5.0",
      "model_name": "HBoxModel",
      "state": {
       "children": [
        "IPY_MODEL_adce827c4d44406aa4cfe7d0f8684a0b",
        "IPY_MODEL_8cad739c01854488afa3e8cd69566c5c",
        "IPY_MODEL_f9f2df9e49fd42e69ea42de006b34d8c"
       ],
       "layout": "IPY_MODEL_0e5658a4215247fca27d63f65c19323e"
      }
     },
     "f21af42944614b89b7b8e6ec1993d756": {
      "model_module": "@jupyter-widgets/controls",
      "model_module_version": "1.5.0",
      "model_name": "FloatProgressModel",
      "state": {
       "bar_style": "success",
       "layout": "IPY_MODEL_a7ac1cf4aa8b4bed83e0e2242aaf5554",
       "max": 82,
       "style": "IPY_MODEL_8e790a0ac8c34254aa5c5400cb750a64",
       "value": 82
      }
     },
     "f22c35a2d6fd477b9823a905097fd668": {
      "model_module": "@jupyter-widgets/base",
      "model_module_version": "1.2.0",
      "model_name": "LayoutModel",
      "state": {}
     },
     "f23bdcf365864e7283374a7effa6bb59": {
      "model_module": "@jupyter-widgets/base",
      "model_module_version": "1.2.0",
      "model_name": "LayoutModel",
      "state": {}
     },
     "f2669b4906524140aee78ff67562b7f7": {
      "model_module": "@jupyter-widgets/controls",
      "model_module_version": "1.5.0",
      "model_name": "DescriptionStyleModel",
      "state": {
       "description_width": ""
      }
     },
     "f29da511cb34467eb624c45768e41453": {
      "model_module": "@jupyter-widgets/controls",
      "model_module_version": "1.5.0",
      "model_name": "HTMLModel",
      "state": {
       "layout": "IPY_MODEL_bceb7b848e574123958279766563d74b",
       "style": "IPY_MODEL_2f300306ca5b4b2e8cb433aeb492c137",
       "value": "100%"
      }
     },
     "f32e08426c944940accfe9a93c8b42fe": {
      "model_module": "@jupyter-widgets/base",
      "model_module_version": "1.2.0",
      "model_name": "LayoutModel",
      "state": {}
     },
     "f33098a069a94bcfb6982f393a0d8ad9": {
      "model_module": "@jupyter-widgets/base",
      "model_module_version": "1.2.0",
      "model_name": "LayoutModel",
      "state": {}
     },
     "f33b2cbc9426452bbaac62e326591dbb": {
      "model_module": "@jupyter-widgets/controls",
      "model_module_version": "1.5.0",
      "model_name": "HBoxModel",
      "state": {
       "children": [
        "IPY_MODEL_311e610ecb604c908c4dde1e8ed25a0b",
        "IPY_MODEL_d8884c90d656497ba5738cb88c6c1a3c",
        "IPY_MODEL_19d7c9a1a2c34906ac541fc50098b5ab"
       ],
       "layout": "IPY_MODEL_7d5b6962ca624adca052fd3581e2648a"
      }
     },
     "f340921752ce4d04b44c0d03606756b6": {
      "model_module": "@jupyter-widgets/base",
      "model_module_version": "1.2.0",
      "model_name": "LayoutModel",
      "state": {}
     },
     "f372ad1468f0405fabc958810eaa2978": {
      "model_module": "@jupyter-widgets/controls",
      "model_module_version": "1.5.0",
      "model_name": "ProgressStyleModel",
      "state": {
       "description_width": ""
      }
     },
     "f3916ba5291a4004ba68f2f6b32edb13": {
      "model_module": "@jupyter-widgets/controls",
      "model_module_version": "1.5.0",
      "model_name": "HTMLModel",
      "state": {
       "layout": "IPY_MODEL_3a7b76823bd344a382167208be30bee1",
       "style": "IPY_MODEL_bf73daba63a04b81b4dcb812e0c83b50",
       "value": "100%"
      }
     },
     "f3a540e595f64c278f0273e705d79e3c": {
      "model_module": "@jupyter-widgets/base",
      "model_module_version": "1.2.0",
      "model_name": "LayoutModel",
      "state": {}
     },
     "f3c3a09ec32149049ae98dad18ba6535": {
      "model_module": "@jupyter-widgets/controls",
      "model_module_version": "1.5.0",
      "model_name": "ProgressStyleModel",
      "state": {
       "description_width": ""
      }
     },
     "f428069d11c8482b940f53a89aeed269": {
      "model_module": "@jupyter-widgets/controls",
      "model_module_version": "1.5.0",
      "model_name": "HTMLModel",
      "state": {
       "layout": "IPY_MODEL_0433583f2e2444a98e6110b805aa1d98",
       "style": "IPY_MODEL_d23332ef2e0e4413a7efa598e693cda6",
       "value": " 80/80 [00:08&lt;00:00,  6.50it/s]"
      }
     },
     "f450524717dd4248817e8b25b16fbcb9": {
      "model_module": "@jupyter-widgets/controls",
      "model_module_version": "1.5.0",
      "model_name": "FloatProgressModel",
      "state": {
       "bar_style": "success",
       "layout": "IPY_MODEL_be31e5eb42114c5eb8558823686d2c78",
       "max": 72,
       "style": "IPY_MODEL_aeefdbee21794aad817ff8ab4e9d92d7",
       "value": 72
      }
     },
     "f455c27c7d6a463bb7b02693b5612c2a": {
      "model_module": "@jupyter-widgets/controls",
      "model_module_version": "1.5.0",
      "model_name": "DescriptionStyleModel",
      "state": {
       "description_width": ""
      }
     },
     "f476dce866a44a3ba17cf6d028d3a083": {
      "model_module": "@jupyter-widgets/controls",
      "model_module_version": "1.5.0",
      "model_name": "HBoxModel",
      "state": {
       "children": [
        "IPY_MODEL_231434ff69e14231b675d18f27901467",
        "IPY_MODEL_16783a52dd1a4417b3cadb7c6a548567",
        "IPY_MODEL_8e886d0afa854fd594b0f38043357ab7"
       ],
       "layout": "IPY_MODEL_7f596317cf1c493cafcfef23a147e5ee"
      }
     },
     "f484ae92bc8a4fe59b8347f6b75c8281": {
      "model_module": "@jupyter-widgets/base",
      "model_module_version": "1.2.0",
      "model_name": "LayoutModel",
      "state": {}
     },
     "f49d57b7187e4172ab3d92fdf839fe68": {
      "model_module": "@jupyter-widgets/base",
      "model_module_version": "1.2.0",
      "model_name": "LayoutModel",
      "state": {}
     },
     "f501a09a47f04fb89ef6191ebe0e5732": {
      "model_module": "@jupyter-widgets/controls",
      "model_module_version": "1.5.0",
      "model_name": "DescriptionStyleModel",
      "state": {
       "description_width": ""
      }
     },
     "f59df19e13d143e18f201103754ac394": {
      "model_module": "@jupyter-widgets/base",
      "model_module_version": "1.2.0",
      "model_name": "LayoutModel",
      "state": {}
     },
     "f5a96bb733f345b3bf608a78964b2fe1": {
      "model_module": "@jupyter-widgets/controls",
      "model_module_version": "1.5.0",
      "model_name": "DescriptionStyleModel",
      "state": {
       "description_width": ""
      }
     },
     "f5dbc5cb5523416d9ad2be0558ea3b40": {
      "model_module": "@jupyter-widgets/controls",
      "model_module_version": "1.5.0",
      "model_name": "HTMLModel",
      "state": {
       "layout": "IPY_MODEL_e208a432c26e4b7ca7459dbbb886c068",
       "style": "IPY_MODEL_451b52971028488484352fc41b616cbf",
       "value": " 70/70 [00:05&lt;00:00, 10.08it/s]"
      }
     },
     "f6887fbda6884053b659da8c21f8da69": {
      "model_module": "@jupyter-widgets/controls",
      "model_module_version": "1.5.0",
      "model_name": "HBoxModel",
      "state": {
       "children": [
        "IPY_MODEL_1aa4ea8f4633430ba3dc5e578ce296f9",
        "IPY_MODEL_49d0d3f8839a4aa6ba1612c53470f3cf",
        "IPY_MODEL_2195298df40444d184ed93ff270de98a"
       ],
       "layout": "IPY_MODEL_f7c9b734758546babc13490c546bfed3"
      }
     },
     "f6930bdccefe44daa8b62eefe3b048b1": {
      "model_module": "@jupyter-widgets/base",
      "model_module_version": "1.2.0",
      "model_name": "LayoutModel",
      "state": {}
     },
     "f70cd80ea4a846809016aa9cbc724313": {
      "model_module": "@jupyter-widgets/base",
      "model_module_version": "1.2.0",
      "model_name": "LayoutModel",
      "state": {}
     },
     "f7311c2cd6024224a0e332e93d0e9496": {
      "model_module": "@jupyter-widgets/base",
      "model_module_version": "1.2.0",
      "model_name": "LayoutModel",
      "state": {}
     },
     "f733071d2db84138af888c572f8d732a": {
      "model_module": "@jupyter-widgets/base",
      "model_module_version": "1.2.0",
      "model_name": "LayoutModel",
      "state": {}
     },
     "f75cc98ecd0a4775898cbe1347207fcd": {
      "model_module": "@jupyter-widgets/controls",
      "model_module_version": "1.5.0",
      "model_name": "HBoxModel",
      "state": {
       "children": [
        "IPY_MODEL_97542fb611f84a8688b4847d121dff43",
        "IPY_MODEL_21ffade8fed34507931781ab7131e93e",
        "IPY_MODEL_710789b925954c6ebc382c6b8ae206a9"
       ],
       "layout": "IPY_MODEL_fe491d39bf4043978a2c64af89dec5c9"
      }
     },
     "f7c9b734758546babc13490c546bfed3": {
      "model_module": "@jupyter-widgets/base",
      "model_module_version": "1.2.0",
      "model_name": "LayoutModel",
      "state": {}
     },
     "f7d772815a2d461588a88c4646a55bbc": {
      "model_module": "@jupyter-widgets/controls",
      "model_module_version": "1.5.0",
      "model_name": "HTMLModel",
      "state": {
       "layout": "IPY_MODEL_c7fe0f9a76ea4a60b7b55313dcf79ba7",
       "style": "IPY_MODEL_56dd5336d719499bb7dfd6f72b3ab53c",
       "value": " 70/70 [00:04&lt;00:00,  8.18it/s]"
      }
     },
     "f8282c65b5a64a9592c825840ab001a1": {
      "model_module": "@jupyter-widgets/controls",
      "model_module_version": "1.5.0",
      "model_name": "HTMLModel",
      "state": {
       "layout": "IPY_MODEL_9405d085e6be4209bc452ebe7d00d742",
       "style": "IPY_MODEL_be456e317ac4439f9e667220eccd1e14",
       "value": " 48/48 [00:05&lt;00:00,  6.56it/s]"
      }
     },
     "f86e5682fd6d4289876a0d8003fd7afa": {
      "model_module": "@jupyter-widgets/controls",
      "model_module_version": "1.5.0",
      "model_name": "DescriptionStyleModel",
      "state": {
       "description_width": ""
      }
     },
     "f870287c0688405e8057428f49890ddf": {
      "model_module": "@jupyter-widgets/controls",
      "model_module_version": "1.5.0",
      "model_name": "FloatProgressModel",
      "state": {
       "bar_style": "success",
       "layout": "IPY_MODEL_df535e5a1e9944f9845caa81cf5954f5",
       "max": 82,
       "style": "IPY_MODEL_cf01d7ad9be04f3e8d4098445eadfae7",
       "value": 82
      }
     },
     "f8e97d934ee041caa4184e1b12c1afbd": {
      "model_module": "@jupyter-widgets/base",
      "model_module_version": "1.2.0",
      "model_name": "LayoutModel",
      "state": {}
     },
     "f9b65d161ac0402ba463f266bc7b4710": {
      "model_module": "@jupyter-widgets/controls",
      "model_module_version": "1.5.0",
      "model_name": "HTMLModel",
      "state": {
       "layout": "IPY_MODEL_ae52c90fa6eb46f68190590a63bcefc6",
       "style": "IPY_MODEL_003002c750434da89d1065d3649974f1",
       "value": " 88/88 [00:20&lt;00:00,  1.64it/s]"
      }
     },
     "f9e054d0925f472e965544b107bdad2a": {
      "model_module": "@jupyter-widgets/base",
      "model_module_version": "1.2.0",
      "model_name": "LayoutModel",
      "state": {}
     },
     "f9f2df9e49fd42e69ea42de006b34d8c": {
      "model_module": "@jupyter-widgets/controls",
      "model_module_version": "1.5.0",
      "model_name": "HTMLModel",
      "state": {
       "layout": "IPY_MODEL_fbd3ba60988c4c1faaca43bbf6682aa0",
       "style": "IPY_MODEL_3fe5e1b860ea44feaab30ce3cfbc78aa",
       "value": " 76/76 [00:04&lt;00:00, 12.25it/s]"
      }
     },
     "fa039e1ef5a24f5d8187ea3c50e462c9": {
      "model_module": "@jupyter-widgets/controls",
      "model_module_version": "1.5.0",
      "model_name": "HTMLModel",
      "state": {
       "layout": "IPY_MODEL_545a95ac189e4b53b3204d2e222ee79e",
       "style": "IPY_MODEL_f501a09a47f04fb89ef6191ebe0e5732",
       "value": "100%"
      }
     },
     "fa16155a03cd4dc4ac8639e60e31b7f0": {
      "model_module": "@jupyter-widgets/controls",
      "model_module_version": "1.5.0",
      "model_name": "ProgressStyleModel",
      "state": {
       "description_width": ""
      }
     },
     "fa39f165c9cc4ed3b5fa0caa528f27fd": {
      "model_module": "@jupyter-widgets/controls",
      "model_module_version": "1.5.0",
      "model_name": "HBoxModel",
      "state": {
       "children": [
        "IPY_MODEL_a0550a0ed7d1434b85c4a806519a32b3",
        "IPY_MODEL_0089b84183a74fc9946a80bc57173587",
        "IPY_MODEL_a1463caae9954b9d9f72efe94d7b3d2d"
       ],
       "layout": "IPY_MODEL_386300bc9b714f61afe562e5e4911c1e"
      }
     },
     "fa6c243eeb3b4a1685b4b22b2846f8cc": {
      "model_module": "@jupyter-widgets/controls",
      "model_module_version": "1.5.0",
      "model_name": "ProgressStyleModel",
      "state": {
       "description_width": ""
      }
     },
     "fa9463aa6259411e87ac0c4d4891debb": {
      "model_module": "@jupyter-widgets/controls",
      "model_module_version": "1.5.0",
      "model_name": "HTMLModel",
      "state": {
       "layout": "IPY_MODEL_112d99f76a8d416cb02670ca1a0d08c5",
       "style": "IPY_MODEL_6257403fa249438eb9f91eb1aa36a0a5",
       "value": "100%"
      }
     },
     "faa95207c2944ed8acac527e6b541868": {
      "model_module": "@jupyter-widgets/base",
      "model_module_version": "1.2.0",
      "model_name": "LayoutModel",
      "state": {}
     },
     "facb46eaf74f49eaa364be7f1e03add4": {
      "model_module": "@jupyter-widgets/controls",
      "model_module_version": "1.5.0",
      "model_name": "FloatProgressModel",
      "state": {
       "bar_style": "success",
       "layout": "IPY_MODEL_1faf8d8b14f54adc9b5bbd370e2fd1bc",
       "style": "IPY_MODEL_1b4edaf5c82a4be2bce08fe491b7f27b",
       "value": 100
      }
     },
     "fae44533c3c14794af77ef70682f449d": {
      "model_module": "@jupyter-widgets/base",
      "model_module_version": "1.2.0",
      "model_name": "LayoutModel",
      "state": {}
     },
     "faf2697440e84f38958e2495a1889248": {
      "model_module": "@jupyter-widgets/controls",
      "model_module_version": "1.5.0",
      "model_name": "DescriptionStyleModel",
      "state": {
       "description_width": ""
      }
     },
     "fb1a088260974f1382d9b5c7fc04b585": {
      "model_module": "@jupyter-widgets/base",
      "model_module_version": "1.2.0",
      "model_name": "LayoutModel",
      "state": {}
     },
     "fb3008e8b4e842a983900ace66d583ac": {
      "model_module": "@jupyter-widgets/controls",
      "model_module_version": "1.5.0",
      "model_name": "FloatProgressModel",
      "state": {
       "bar_style": "success",
       "layout": "IPY_MODEL_14ac13a100cc4b21bdcd559594bcf622",
       "max": 82,
       "style": "IPY_MODEL_ff69f3b3a8ba4b9fab6da7017ae27795",
       "value": 82
      }
     },
     "fb4d85b773a9484b87e45a43037366fa": {
      "model_module": "@jupyter-widgets/controls",
      "model_module_version": "1.5.0",
      "model_name": "DescriptionStyleModel",
      "state": {
       "description_width": ""
      }
     },
     "fbd3ba60988c4c1faaca43bbf6682aa0": {
      "model_module": "@jupyter-widgets/base",
      "model_module_version": "1.2.0",
      "model_name": "LayoutModel",
      "state": {}
     },
     "fca4ae081dc94ac8a4fc6999fb842d32": {
      "model_module": "@jupyter-widgets/controls",
      "model_module_version": "1.5.0",
      "model_name": "DescriptionStyleModel",
      "state": {
       "description_width": ""
      }
     },
     "fcad7db3b3f54065ae029b56a25f2c4f": {
      "model_module": "@jupyter-widgets/base",
      "model_module_version": "1.2.0",
      "model_name": "LayoutModel",
      "state": {}
     },
     "fcc31cdea5534fab8436873ae87f435b": {
      "model_module": "@jupyter-widgets/controls",
      "model_module_version": "1.5.0",
      "model_name": "ProgressStyleModel",
      "state": {
       "description_width": ""
      }
     },
     "fcf2a5fd77154a0fab4ffd5aad0b5fc6": {
      "model_module": "@jupyter-widgets/base",
      "model_module_version": "1.2.0",
      "model_name": "LayoutModel",
      "state": {}
     },
     "fd33fedd1d4b4b63a86f001a8c6d5771": {
      "model_module": "@jupyter-widgets/controls",
      "model_module_version": "1.5.0",
      "model_name": "FloatProgressModel",
      "state": {
       "bar_style": "success",
       "layout": "IPY_MODEL_36d544c836da40999f72bc644398b8a0",
       "max": 82,
       "style": "IPY_MODEL_5c57e46865d44022b95f0bf256da80ec",
       "value": 82
      }
     },
     "fd45ebd4867342d08f110fed25026f72": {
      "model_module": "@jupyter-widgets/controls",
      "model_module_version": "1.5.0",
      "model_name": "DescriptionStyleModel",
      "state": {
       "description_width": ""
      }
     },
     "fd83009a77b74433afe33f5eab85059d": {
      "model_module": "@jupyter-widgets/base",
      "model_module_version": "1.2.0",
      "model_name": "LayoutModel",
      "state": {}
     },
     "fe2b8b2a35e24b16b914418f1181b3cd": {
      "model_module": "@jupyter-widgets/controls",
      "model_module_version": "1.5.0",
      "model_name": "ProgressStyleModel",
      "state": {
       "description_width": ""
      }
     },
     "fe35f8c85edc47f79481f81440a94f4c": {
      "model_module": "@jupyter-widgets/controls",
      "model_module_version": "1.5.0",
      "model_name": "FloatProgressModel",
      "state": {
       "bar_style": "success",
       "layout": "IPY_MODEL_6db630c2677c4320a4ac10d963cc7c5e",
       "max": 72,
       "style": "IPY_MODEL_82927b14da0c4591b8d3c46d1e9ca429",
       "value": 72
      }
     },
     "fe434b0011bd4732b3cd8c6d2059069a": {
      "model_module": "@jupyter-widgets/controls",
      "model_module_version": "1.5.0",
      "model_name": "ProgressStyleModel",
      "state": {
       "description_width": ""
      }
     },
     "fe491d39bf4043978a2c64af89dec5c9": {
      "model_module": "@jupyter-widgets/base",
      "model_module_version": "1.2.0",
      "model_name": "LayoutModel",
      "state": {}
     },
     "fe89bff98adc499696c9194505f854db": {
      "model_module": "@jupyter-widgets/controls",
      "model_module_version": "1.5.0",
      "model_name": "DescriptionStyleModel",
      "state": {
       "description_width": ""
      }
     },
     "ff012a808e0f47c48bdc9dbfaccf6824": {
      "model_module": "@jupyter-widgets/controls",
      "model_module_version": "1.5.0",
      "model_name": "HBoxModel",
      "state": {
       "children": [
        "IPY_MODEL_3627f670362748cea31ca3e7729c99dc",
        "IPY_MODEL_14a34aed450048eb8a9af45b9573f265",
        "IPY_MODEL_5fb8fdb84a67425bbb83e5f195ca78ec"
       ],
       "layout": "IPY_MODEL_4a461cb44cfc47199daecfcff107ba98"
      }
     },
     "ff69f3b3a8ba4b9fab6da7017ae27795": {
      "model_module": "@jupyter-widgets/controls",
      "model_module_version": "1.5.0",
      "model_name": "ProgressStyleModel",
      "state": {
       "description_width": ""
      }
     },
     "ffb05f7bb29243a9b73a95a307234e29": {
      "model_module": "@jupyter-widgets/base",
      "model_module_version": "1.2.0",
      "model_name": "LayoutModel",
      "state": {}
     },
     "ffdc61fb205644d8bcc4fb22dcce024c": {
      "model_module": "@jupyter-widgets/base",
      "model_module_version": "1.2.0",
      "model_name": "LayoutModel",
      "state": {}
     },
     "ffff83af3bdc409a84c334d2083623cf": {
      "model_module": "@jupyter-widgets/controls",
      "model_module_version": "1.5.0",
      "model_name": "FloatProgressModel",
      "state": {
       "bar_style": "success",
       "layout": "IPY_MODEL_1b71a4ee3921413883eabd5a587c4344",
       "max": 76,
       "style": "IPY_MODEL_ae9f45dd8c364bcc8206b317f54a0a90",
       "value": 76
      }
     }
    },
    "version_major": 2,
    "version_minor": 0
   }
  }
 },
 "nbformat": 4,
 "nbformat_minor": 4
}
